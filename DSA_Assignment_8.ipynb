{
  "nbformat": 4,
  "nbformat_minor": 0,
  "metadata": {
    "colab": {
      "provenance": [],
      "authorship_tag": "ABX9TyMwVcCya4R9a+ztkekuwWqk",
      "include_colab_link": true
    },
    "kernelspec": {
      "name": "python3",
      "display_name": "Python 3"
    },
    "language_info": {
      "name": "python"
    }
  },
  "cells": [
    {
      "cell_type": "markdown",
      "metadata": {
        "id": "view-in-github",
        "colab_type": "text"
      },
      "source": [
        "<a href=\"https://colab.research.google.com/github/Mohitchatterjee/iNeuron-Assignment/blob/main/DSA_Assignment_8.ipynb\" target=\"_parent\"><img src=\"https://colab.research.google.com/assets/colab-badge.svg\" alt=\"Open In Colab\"/></a>"
      ]
    },
    {
      "cell_type": "markdown",
      "source": [
        "<aside>\n",
        "💡 **Question 1**\n",
        "\n",
        "Given two strings s1 and s2, return *the lowest **ASCII** sum of deleted characters to make two strings equal*.\n",
        "\n",
        "</aside>"
      ],
      "metadata": {
        "id": "zxTLFRCT7ytp"
      }
    },
    {
      "cell_type": "code",
      "source": [
        "def minimumDeleteSum(s1, s2):\n",
        "    m, n = len(s1), len(s2)\n",
        "    dp = [[0] * (n + 1) for _ in range(m + 1)]\n",
        "\n",
        "    for i in range(1, m + 1):\n",
        "        dp[i][0] = dp[i - 1][0] + ord(s1[i - 1])\n",
        "\n",
        "    for j in range(1, n + 1):\n",
        "        dp[0][j] = dp[0][j - 1] + ord(s2[j - 1])\n",
        "\n",
        "    for i in range(1, m + 1):\n",
        "        for j in range(1, n + 1):\n",
        "            if s1[i - 1] == s2[j - 1]:\n",
        "                dp[i][j] = dp[i - 1][j - 1]\n",
        "            else:\n",
        "                dp[i][j] = min(dp[i - 1][j] + ord(s1[i - 1]), dp[i][j - 1] + ord(s2[j - 1]))\n",
        "\n",
        "    return dp[m][n]\n",
        "\n",
        "\n",
        "print(minimumDeleteSum( s1 = \"sea\", s2 = \"eat\"))"
      ],
      "metadata": {
        "colab": {
          "base_uri": "https://localhost:8080/"
        },
        "id": "BAZDJj4t7pah",
        "outputId": "aeeb0044-a233-4cab-d316-d7db2ebeb249"
      },
      "execution_count": 2,
      "outputs": [
        {
          "output_type": "stream",
          "name": "stdout",
          "text": [
            "231\n"
          ]
        }
      ]
    },
    {
      "cell_type": "markdown",
      "source": [
        "<aside>\n",
        "💡 **Question 2**\n",
        "\n",
        "Given a string s containing only three types of characters: '(', ')' and '*', return true *if* s *is **valid***.\n",
        "\n",
        "The following rules define a **valid** string:\n",
        "\n",
        "- Any left parenthesis '(' must have a corresponding right parenthesis ')'.\n",
        "- Any right parenthesis ')' must have a corresponding left parenthesis '('.\n",
        "- Left parenthesis '(' must go before the corresponding right parenthesis ')'.\n",
        "- '*' could be treated as a single right parenthesis ')' or a single left parenthesis '(' or an empty string \"\".\n",
        "</aside>"
      ],
      "metadata": {
        "id": "JLmztlFt8IE2"
      }
    },
    {
      "cell_type": "code",
      "source": [
        "def checkValidString(s):\n",
        "    parentheses = []\n",
        "\n",
        "    for char in s:\n",
        "        if char == '(' or char == '*':\n",
        "            parentheses.append(char)\n",
        "        elif char == ')':\n",
        "            if parentheses:\n",
        "                parentheses.pop()\n",
        "            elif '*' in parentheses:\n",
        "                parentheses.remove('*')\n",
        "            else:\n",
        "                return False\n",
        "\n",
        "    while parentheses and '*' in parentheses:\n",
        "        parentheses.remove('*')\n",
        "\n",
        "    return len(parentheses) == 0\n",
        "\n",
        "print(checkValidString( s = \"()\"))"
      ],
      "metadata": {
        "colab": {
          "base_uri": "https://localhost:8080/"
        },
        "id": "I_Fb0aPF8EE4",
        "outputId": "f85c05bc-e1b5-46bd-9d49-8971332ea869"
      },
      "execution_count": 3,
      "outputs": [
        {
          "output_type": "stream",
          "name": "stdout",
          "text": [
            "True\n"
          ]
        }
      ]
    },
    {
      "cell_type": "markdown",
      "source": [
        "<aside>\n",
        "💡 **Question 3**\n",
        "\n",
        "Given two strings word1 and word2, return *the minimum number of **steps** required to make* word1 *and* word2 *the same*.\n",
        "\n",
        "In one **step**, you can delete exactly one character in either string.\n",
        "\n",
        "</aside>"
      ],
      "metadata": {
        "id": "28Ze8XJM8zZE"
      }
    },
    {
      "cell_type": "code",
      "source": [
        "def minDistance(word1, word2):\n",
        "    m, n = len(word1), len(word2)\n",
        "    dp = [[0] * (n + 1) for _ in range(m + 1)]\n",
        "\n",
        "    for i in range(1, m + 1):\n",
        "        for j in range(1, n + 1):\n",
        "            if word1[i - 1] == word2[j - 1]:\n",
        "                dp[i][j] = dp[i - 1][j - 1] + 1\n",
        "            else:\n",
        "                dp[i][j] = max(dp[i - 1][j], dp[i][j - 1])\n",
        "\n",
        "    lcs_length = dp[m][n]\n",
        "    return m + n - 2 * lcs_length\n",
        "print(minDistance( word1 = \"sea\", word2 = \"eat\"))"
      ],
      "metadata": {
        "colab": {
          "base_uri": "https://localhost:8080/"
        },
        "id": "zL9qVgtr8v2U",
        "outputId": "fa245155-8f68-481b-d2da-a10569038d0c"
      },
      "execution_count": 4,
      "outputs": [
        {
          "output_type": "stream",
          "name": "stdout",
          "text": [
            "2\n"
          ]
        }
      ]
    },
    {
      "cell_type": "markdown",
      "source": [
        "<aside>\n",
        "💡 **Question 5**\n",
        "\n",
        "Given an array of characters chars, compress it using the following algorithm:\n",
        "\n",
        "Begin with an empty string s. For each group of **consecutive repeating characters** in chars:\n",
        "\n",
        "- If the group's length is 1, append the character to s.\n",
        "- Otherwise, append the character followed by the group's length.\n",
        "\n",
        "The compressed string s **should not be returned separately**, but instead, be stored **in the input character array chars**. Note that group lengths that are 10 or longer will be split into multiple characters in chars.\n",
        "\n",
        "After you are done **modifying the input array,** return *the new length of the array*.\n",
        "\n",
        "You must write an algorithm that uses only constant extra space.\n",
        "\n",
        "</aside>"
      ],
      "metadata": {
        "id": "GFBPo5g3-lt5"
      }
    },
    {
      "cell_type": "code",
      "source": [
        "def compress(chars):\n",
        "    write = 0\n",
        "    count = 1\n",
        "\n",
        "    for i in range(1, len(chars)):\n",
        "        if chars[i] == chars[i - 1]:\n",
        "            count += 1\n",
        "        else:\n",
        "            chars[write] = chars[i - 1]\n",
        "            write += 1\n",
        "            if count > 1:\n",
        "                count_str = str(count)\n",
        "                for digit in count_str:\n",
        "                    chars[write] = digit\n",
        "                    write += 1\n",
        "            count = 1\n",
        "\n",
        "    chars[write] = chars[-1]\n",
        "    write += 1\n",
        "    if count > 1:\n",
        "        count_str = str(count)\n",
        "        for digit in count_str:\n",
        "            chars[write] = digit\n",
        "            write += 1\n",
        "\n",
        "    for i in range(write, len(chars)):\n",
        "        chars[i] = None\n",
        "\n",
        "    return write\n",
        "\n",
        "\n",
        "print(compress(chars = [\"a\",\"a\",\"b\",\"b\",\"c\",\"c\",\"c\"]))"
      ],
      "metadata": {
        "colab": {
          "base_uri": "https://localhost:8080/"
        },
        "id": "B8q-u9Bh9k0B",
        "outputId": "1aca3c47-2687-4e18-ec3d-a988d0c0cee9"
      },
      "execution_count": 9,
      "outputs": [
        {
          "output_type": "stream",
          "name": "stdout",
          "text": [
            "6\n"
          ]
        }
      ]
    },
    {
      "cell_type": "markdown",
      "source": [
        "<aside>\n",
        "💡 **Question 6**\n",
        "\n",
        "Given two strings s and p, return *an array of all the start indices of* p*'s anagrams in* s. You may return the answer in **any order**.\n",
        "\n",
        "An **Anagram** is a word or phrase formed by rearranging the letters of a different word or phrase, typically using all the original letters exactly once.\n",
        "\n",
        "</aside>"
      ],
      "metadata": {
        "id": "b_JtKkVg_Dh9"
      }
    },
    {
      "cell_type": "code",
      "source": [
        "from collections import Counter\n",
        "\n",
        "def findAnagrams(s, p):\n",
        "    result = []\n",
        "    counter_p = Counter(p)\n",
        "    counter_s = Counter()\n",
        "\n",
        "    left, right = 0, 0\n",
        "\n",
        "    while right < len(s):\n",
        "        counter_s[s[right]] += 1\n",
        "\n",
        "        if right - left + 1 == len(p):\n",
        "            if counter_s == counter_p:\n",
        "                result.append(left)\n",
        "\n",
        "            counter_s[s[left]] -= 1\n",
        "            if counter_s[s[left]] == 0:\n",
        "                del counter_s[s[left]]\n",
        "            left += 1\n",
        "\n",
        "        right += 1\n",
        "\n",
        "    return result\n",
        "\n",
        "\n",
        "print(findAnagrams(s = \"cbaebabacd\", p = \"abc\"))"
      ],
      "metadata": {
        "colab": {
          "base_uri": "https://localhost:8080/"
        },
        "id": "6qFxWYXh--gH",
        "outputId": "9227d225-e586-46ee-df80-aebcdd552856"
      },
      "execution_count": 10,
      "outputs": [
        {
          "output_type": "stream",
          "name": "stdout",
          "text": [
            "[0, 6]\n"
          ]
        }
      ]
    },
    {
      "cell_type": "markdown",
      "source": [
        "<aside>\n",
        "💡 **Question 7**\n",
        "\n",
        "Given an encoded string, return its decoded string.\n",
        "\n",
        "The encoding rule is: k[encoded_string], where the encoded_string inside the square brackets is being repeated exactly k times. Note that k is guaranteed to be a positive integer.\n",
        "\n",
        "You may assume that the input string is always valid; there are no extra white spaces, square brackets are well-formed, etc. Furthermore, you may assume that the original data does not contain any digits and that digits are only for those repeat numbers, k. For example, there will not be input like 3a or 2[4].\n",
        "\n",
        "The test cases are generated so that the length of the output will never exceed 105.\n",
        "\n",
        "</aside>"
      ],
      "metadata": {
        "id": "3CV4P8M9BNg3"
      }
    },
    {
      "cell_type": "code",
      "source": [
        "def decodeString(s):\n",
        "    stack = []\n",
        "    current_count = 0\n",
        "    current_string = ''\n",
        "\n",
        "    for c in s:\n",
        "        if c.isdigit():\n",
        "            current_count = current_count * 10 + int(c)\n",
        "        elif c == '[':\n",
        "            stack.append(current_string)\n",
        "            stack.append(current_count)\n",
        "            current_string = ''\n",
        "            current_count = 0\n",
        "        elif c == ']':\n",
        "            count = stack.pop()\n",
        "            prev_string = stack.pop()\n",
        "            current_string = prev_string + current_string * count\n",
        "        else:\n",
        "            current_string += c\n",
        "\n",
        "    return current_string\n",
        "\n",
        "\n",
        "print(decodeString(s = \"3[a]2[bc]\"))"
      ],
      "metadata": {
        "colab": {
          "base_uri": "https://localhost:8080/"
        },
        "id": "d9G_kzPrBK8w",
        "outputId": "4a5a8d2b-6e6f-4a02-cb50-226398907af6"
      },
      "execution_count": 11,
      "outputs": [
        {
          "output_type": "stream",
          "name": "stdout",
          "text": [
            "aaabcbc\n"
          ]
        }
      ]
    },
    {
      "cell_type": "markdown",
      "source": [
        "<aside>\n",
        "💡 **Question 8**\n",
        "\n",
        "Given two strings s and goal, return true *if you can swap two letters in* s *so the result is equal to* goal*, otherwise, return* false*.*\n",
        "\n",
        "Swapping letters is defined as taking two indices i and j (0-indexed) such that i != j and swapping the characters at s[i] and s[j].\n",
        "\n",
        "- For example, swapping at indices 0 and 2 in \"abcd\" results in \"cbad\".\n",
        "</aside>"
      ],
      "metadata": {
        "id": "W3Tj9_gEBeWw"
      }
    },
    {
      "cell_type": "code",
      "source": [
        "def buddyStrings(s, goal):\n",
        "    if len(s) != len(goal):\n",
        "        return False\n",
        "\n",
        "    diff_count = 0\n",
        "    diff_indices = [0, 0]\n",
        "\n",
        "    for i in range(len(s)):\n",
        "        if s[i] != goal[i]:\n",
        "            diff_count += 1\n",
        "            if diff_count == 1:\n",
        "                diff_indices[0] = i\n",
        "            elif diff_count == 2:\n",
        "                diff_indices[1] = i\n",
        "            elif diff_count > 2:\n",
        "                return False\n",
        "\n",
        "    if diff_count == 0:\n",
        "        return len(set(s)) < len(s)\n",
        "\n",
        "    if diff_count == 2:\n",
        "        return s[diff_indices[0]] == goal[diff_indices[1]] and s[diff_indices[1]] == goal[diff_indices[0]]\n",
        "\n",
        "    return False\n",
        "\n",
        "\n",
        "print(buddyStrings(s = \"ab\", goal = \"ba\"))"
      ],
      "metadata": {
        "colab": {
          "base_uri": "https://localhost:8080/"
        },
        "id": "q0ZXyXi5Bbu0",
        "outputId": "28d2ebea-f979-4858-ad3c-782a41d6ee8b"
      },
      "execution_count": 12,
      "outputs": [
        {
          "output_type": "stream",
          "name": "stdout",
          "text": [
            "True\n"
          ]
        }
      ]
    },
    {
      "cell_type": "code",
      "source": [],
      "metadata": {
        "id": "9VwwpC4uCFc-"
      },
      "execution_count": null,
      "outputs": []
    }
  ]
}