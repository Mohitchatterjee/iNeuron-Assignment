{
  "cells": [
    {
      "cell_type": "markdown",
      "id": "008a10cf",
      "metadata": {
        "id": "008a10cf"
      },
      "source": [
        "# Mohit Chatterjee\n",
        "#(mohitchatterjee160@gmail.com, 7999744064)\n",
        "# Assignment 18 Solutions"
      ]
    },
    {
      "cell_type": "code",
      "execution_count": null,
      "id": "ceee30c4-2e1d-4191-9069-33d032e6b72f",
      "metadata": {
        "id": "ceee30c4-2e1d-4191-9069-33d032e6b72f",
        "outputId": "4598315d-d084-4210-fcd0-a17c99a0a25e"
      },
      "outputs": [
        {
          "name": "stdout",
          "output_type": "stream",
          "text": [
            "def hours():\n",
            "    print(\"Open 9-5 daily\")\n"
          ]
        }
      ],
      "source": [
        "!type zoo.py"
      ]
    },
    {
      "cell_type": "markdown",
      "id": "4b0045ff",
      "metadata": {
        "id": "4b0045ff"
      },
      "source": [
        "#### 1. Create a zoo.py file first. Define the hours() function, which prints the string 'Open 9-5 daily'. Then, use the interactive interpreter to import the zoo module and call its hours() function."
      ]
    },
    {
      "cell_type": "code",
      "execution_count": null,
      "id": "6ccab705",
      "metadata": {
        "id": "6ccab705",
        "outputId": "69f93029-7690-4304-f758-26c01f2226a3"
      },
      "outputs": [
        {
          "name": "stdout",
          "output_type": "stream",
          "text": [
            "Open 9-5 daily\n"
          ]
        }
      ],
      "source": [
        "import zoo\n",
        "zoo.hours()"
      ]
    },
    {
      "cell_type": "markdown",
      "id": "77c06807",
      "metadata": {
        "id": "77c06807"
      },
      "source": [
        "#### 2. In the interactive interpreter, import the zoo module as menagerie and call its hours() function."
      ]
    },
    {
      "cell_type": "code",
      "execution_count": null,
      "id": "e907fa84",
      "metadata": {
        "id": "e907fa84",
        "outputId": "79252513-6771-4332-f97b-ef0dd4d06746"
      },
      "outputs": [
        {
          "name": "stdout",
          "output_type": "stream",
          "text": [
            "Open 9-5 daily\n"
          ]
        }
      ],
      "source": [
        "import zoo as menagerie\n",
        "menagerie.hours()"
      ]
    },
    {
      "cell_type": "markdown",
      "id": "7674c3cd",
      "metadata": {
        "id": "7674c3cd"
      },
      "source": [
        "#### 3. Using the interpreter, explicitly import and call the hours() function from zoo."
      ]
    },
    {
      "cell_type": "code",
      "execution_count": null,
      "id": "5cd291d4",
      "metadata": {
        "id": "5cd291d4",
        "outputId": "9e02b81c-7c94-418d-a352-931dde3fbfdc"
      },
      "outputs": [
        {
          "name": "stdout",
          "output_type": "stream",
          "text": [
            "Open 9-5 daily\n"
          ]
        }
      ],
      "source": [
        "from zoo import hours\n",
        "hours()"
      ]
    },
    {
      "cell_type": "markdown",
      "id": "1b939228",
      "metadata": {
        "id": "1b939228"
      },
      "source": [
        "#### 4. Import the hours() function as info and call it."
      ]
    },
    {
      "cell_type": "code",
      "execution_count": null,
      "id": "ad74dc37",
      "metadata": {
        "id": "ad74dc37",
        "outputId": "481b9719-2b27-4406-ee4d-0b6f0ce974df"
      },
      "outputs": [
        {
          "name": "stdout",
          "output_type": "stream",
          "text": [
            "Open 9-5 daily\n"
          ]
        }
      ],
      "source": [
        "from zoo import hours as info\n",
        "info()"
      ]
    },
    {
      "cell_type": "markdown",
      "id": "8ff06188",
      "metadata": {
        "id": "8ff06188"
      },
      "source": [
        "#### 5. Create a plain dictionary with the key-value pairs 'a': 1, 'b': 2, and 'c': 3, and print it out."
      ]
    },
    {
      "cell_type": "code",
      "execution_count": null,
      "id": "fbec4dfb",
      "metadata": {
        "id": "fbec4dfb",
        "outputId": "54549e4f-61e6-4dc8-8227-1f0136a7e707"
      },
      "outputs": [
        {
          "name": "stdout",
          "output_type": "stream",
          "text": [
            "{'a': 1, 'b': 2, 'c': 3}\n"
          ]
        }
      ],
      "source": [
        "plain_dict = {'a':1,'b':2,'c':3}\n",
        "print(plain_dict)"
      ]
    },
    {
      "cell_type": "markdown",
      "id": "096c1b21",
      "metadata": {
        "id": "096c1b21"
      },
      "source": [
        "#### 6.Make an OrderedDict called fancy from the same pairs listed in 5 and print it. Did it print in the same order as plain?"
      ]
    },
    {
      "cell_type": "code",
      "execution_count": null,
      "id": "dd606af8",
      "metadata": {
        "id": "dd606af8",
        "outputId": "0e89a989-8298-4ade-d776-53e87cde6fdb"
      },
      "outputs": [
        {
          "name": "stdout",
          "output_type": "stream",
          "text": [
            "plain_dict -> {'a': 1, 'b': 2, 'c': 3}\n",
            "fancy -> OrderedDict([('a', 1), ('b', 2), ('c', 3)])\n"
          ]
        }
      ],
      "source": [
        "from collections import OrderedDict\n",
        "fancy = OrderedDict(plain_dict)\n",
        "print(f'plain_dict -> {plain_dict}')\n",
        "print(f'fancy -> {fancy}')"
      ]
    },
    {
      "cell_type": "markdown",
      "id": "e55d1c69",
      "metadata": {
        "id": "e55d1c69"
      },
      "source": [
        "#### 7. Make a default dictionary called dict_of_lists and pass it the argument list. Make the list dict_of_lists['a'] and append the value 'something for a' to it in one assignment. Print dict_of_lists['a']."
      ]
    },
    {
      "cell_type": "code",
      "execution_count": null,
      "id": "264fc2cd",
      "metadata": {
        "id": "264fc2cd",
        "outputId": "ef721b73-aa78-4a35-acf3-1565d8dd2ba2"
      },
      "outputs": [
        {
          "name": "stdout",
          "output_type": "stream",
          "text": [
            "['something for a']\n"
          ]
        }
      ],
      "source": [
        "from collections import defaultdict\n",
        "dict_of_lists = defaultdict(list)\n",
        "dict_of_lists['a'].append('something for a')\n",
        "print(dict_of_lists['a'])"
      ]
    }
  ],
  "metadata": {
    "kernelspec": {
      "display_name": "Python 3 (ipykernel)",
      "language": "python",
      "name": "python3"
    },
    "language_info": {
      "codemirror_mode": {
        "name": "ipython",
        "version": 3
      },
      "file_extension": ".py",
      "mimetype": "text/x-python",
      "name": "python",
      "nbconvert_exporter": "python",
      "pygments_lexer": "ipython3",
      "version": "3.8.8"
    },
    "colab": {
      "provenance": []
    }
  },
  "nbformat": 4,
  "nbformat_minor": 5
}