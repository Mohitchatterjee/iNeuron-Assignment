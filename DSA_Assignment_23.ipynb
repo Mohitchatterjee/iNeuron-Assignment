{
  "nbformat": 4,
  "nbformat_minor": 0,
  "metadata": {
    "colab": {
      "provenance": [],
      "authorship_tag": "ABX9TyNjqMdfv3yoc+cU8alxBzQ+",
      "include_colab_link": true
    },
    "kernelspec": {
      "name": "python3",
      "display_name": "Python 3"
    },
    "language_info": {
      "name": "python"
    }
  },
  "cells": [
    {
      "cell_type": "markdown",
      "metadata": {
        "id": "view-in-github",
        "colab_type": "text"
      },
      "source": [
        "<a href=\"https://colab.research.google.com/github/Mohitchatterjee/iNeuron-Assignment/blob/main/DSA_Assignment_23.ipynb\" target=\"_parent\"><img src=\"https://colab.research.google.com/assets/colab-badge.svg\" alt=\"Open In Colab\"/></a>"
      ]
    },
    {
      "cell_type": "markdown",
      "source": [
        "<aside>\n",
        "💡 Question-1:\n",
        "\n",
        "Given preorder of a binary tree, calculate its **[depth(or height)](https://www.geeksforgeeks.org/write-a-c-program-to-find-the-maximum-depth-or-height-of-a-tree/)** [starting from depth 0]. The preorder is given as a string with two possible characters.\n",
        "\n",
        "1. ‘l’ denotes the leaf\n",
        "2. ‘n’ denotes internal node\n",
        "\n",
        "The given tree can be seen as a full binary tree where every node has 0 or two children. The two children of a node can ‘n’ or ‘l’ or mix of both.\n",
        "\n",
        "</aside>"
      ],
      "metadata": {
        "id": "QgPcKOFc8Rpd"
      }
    },
    {
      "cell_type": "code",
      "execution_count": 5,
      "metadata": {
        "colab": {
          "base_uri": "https://localhost:8080/"
        },
        "id": "6tBET8W48OzR",
        "outputId": "0e531407-efdd-4884-93cb-136c51d10319"
      },
      "outputs": [
        {
          "output_type": "stream",
          "name": "stdout",
          "text": [
            "2\n"
          ]
        }
      ],
      "source": [
        "def findDepthRec(tree, n, index) :\n",
        "\n",
        "\tif (index[0] >= n or tree[index[0]] == 'l'):\n",
        "\t\treturn 0\n",
        "\n",
        "\n",
        "\tindex[0] += 1\n",
        "\tleft = findDepthRec(tree, n, index)\n",
        "\n",
        "\tindex[0] += 1\n",
        "\tright = findDepthRec(tree, n, index)\n",
        "\treturn (max(left, right) + 1)\n",
        "\n",
        "def findDepth(tree, n) :\n",
        "\n",
        "\tindex = [0]\n",
        "\treturn findDepthRec(tree, n, index)\n",
        "\n",
        "\n",
        "if __name__ == '__main__':\n",
        "\ttree= \"nlnll\"\n",
        "\tn = len(tree)\n",
        "\n",
        "\tprint(findDepth(tree, n))\n",
        "\n"
      ]
    },
    {
      "cell_type": "markdown",
      "source": [
        "<aside>\n",
        "💡 Question-2:\n",
        "\n",
        "Given a Binary tree, the task is to print the **left view** of the Binary Tree. The left view of a Binary Tree is a set of leftmost nodes for every level.\n",
        "\n",
        "</aside>"
      ],
      "metadata": {
        "id": "PjIxfGaq-IPQ"
      }
    },
    {
      "cell_type": "code",
      "source": [
        "from collections import deque\n",
        "\n",
        "class Node:\n",
        "    def __init__(self, value):\n",
        "        self.value = value\n",
        "        self.left = None\n",
        "        self.right = None\n",
        "\n",
        "def printLeftView(root):\n",
        "    if root is None:\n",
        "        return\n",
        "\n",
        "    queue = deque()\n",
        "    queue.append((root, 0))\n",
        "    currentLevel = 0\n",
        "    leftView = []\n",
        "\n",
        "    while queue:\n",
        "        node, level = queue.popleft()\n",
        "\n",
        "        if level == currentLevel:\n",
        "            leftView.append(node.value)\n",
        "            currentLevel += 1\n",
        "\n",
        "        if node.left:\n",
        "            queue.append((node.left, level + 1))\n",
        "        if node.right:\n",
        "            queue.append((node.right, level + 1))\n",
        "\n",
        "    for value in leftView:\n",
        "        print(value, end=' ')\n",
        "\n",
        "\n",
        "root = Node(4)\n",
        "root.left = Node(5)\n",
        "root.right = Node(2)\n",
        "root.right.left = Node(3)\n",
        "root.right.right = Node(1)\n",
        "root.right.left.left = Node(6)\n",
        "root.right.left.right = Node(7)\n",
        "\n",
        "printLeftView(root)\n"
      ],
      "metadata": {
        "colab": {
          "base_uri": "https://localhost:8080/"
        },
        "id": "wiZAUEsO8imn",
        "outputId": "40526849-0cc0-4f57-9396-c86fbc9a22d7"
      },
      "execution_count": 9,
      "outputs": [
        {
          "output_type": "stream",
          "name": "stdout",
          "text": [
            "4 5 3 6 "
          ]
        }
      ]
    },
    {
      "cell_type": "markdown",
      "source": [
        "<aside>\n",
        "💡 Question-3:\n",
        "\n",
        "Given a Binary Tree, print the Right view of it.\n",
        "\n",
        "The right view of a Binary Tree is a set of nodes visible when the tree is visited from the Right side.\n",
        "\n",
        "</aside>"
      ],
      "metadata": {
        "id": "G9sJ8PYoA9G3"
      }
    },
    {
      "cell_type": "code",
      "source": [
        "from collections import deque\n",
        "\n",
        "class Node:\n",
        "    def __init__(self, value):\n",
        "        self.value = value\n",
        "        self.left = None\n",
        "        self.right = None\n",
        "\n",
        "def printRightView(root):\n",
        "    if root is None:\n",
        "        return\n",
        "\n",
        "    queue = deque()\n",
        "    queue.append((root, 0))\n",
        "    currentLevel = 0\n",
        "    rightView = []\n",
        "\n",
        "    while queue:\n",
        "        levelSize = len(queue)\n",
        "\n",
        "        for i in range(levelSize):\n",
        "            node, level = queue.popleft()\n",
        "\n",
        "            if i == levelSize - 1:\n",
        "                rightView.append(node.value)\n",
        "\n",
        "            if node.left:\n",
        "                queue.append((node.left, level + 1))\n",
        "            if node.right:\n",
        "                queue.append((node.right, level + 1))\n",
        "\n",
        "        currentLevel += 1\n",
        "\n",
        "    for value in rightView:\n",
        "        print(value, end=' ')\n",
        "\n",
        "\n",
        "root = Node(1)\n",
        "root.left = Node(2)\n",
        "root.right = Node(3)\n",
        "root.left.right = Node(5)\n",
        "root.right.left = Node(4)\n",
        "root.right.right = Node(6)\n",
        "root.right.right = Node(7)\n",
        "root.right.left.right = Node(8)\n",
        "\n",
        "printRightView(root)\n"
      ],
      "metadata": {
        "colab": {
          "base_uri": "https://localhost:8080/"
        },
        "id": "8VcFpTOY-niU",
        "outputId": "0ffd2ddd-46d7-4a67-f174-6ac14ca837ae"
      },
      "execution_count": 13,
      "outputs": [
        {
          "output_type": "stream",
          "name": "stdout",
          "text": [
            "1 3 7 8 "
          ]
        }
      ]
    },
    {
      "cell_type": "markdown",
      "source": [
        "<aside>\n",
        "💡 Question-4:\n",
        "\n",
        "Given a Binary Tree, The task is to print the **bottom view** from left to right. A node **x** is there in output if x is the bottommost node at its horizontal distance. The horizontal distance of the left child of a node x is equal to a horizontal distance of x minus 1, and that of a right child is the horizontal distance of x plus 1.\n",
        "\n",
        "</aside>"
      ],
      "metadata": {
        "id": "Vko-m9nvChwd"
      }
    },
    {
      "cell_type": "code",
      "source": [
        "from collections import deque\n",
        "\n",
        "\n",
        "class Node:\n",
        "\n",
        "\tdef __init__(self, key):\n",
        "\n",
        "\t\tself.data = key\n",
        "\t\tself.hd = float('inf')\n",
        "\t\tself.left = None\n",
        "\t\tself.right = None\n",
        "\n",
        "\n",
        "def bottomView(root):\n",
        "\n",
        "\tif (root == None):\n",
        "\t\treturn\n",
        "\n",
        "\n",
        "\thd = 0\n",
        "\n",
        "\n",
        "\tmin_hd, max_hd = 0, 0\n",
        "\n",
        "\thd_dict = dict()\n",
        "\n",
        "\tq = deque()\n",
        "\n",
        "\troot.hd = hd\n",
        "\tq.append(root)\n",
        "\n",
        "\twhile q:\n",
        "\t\tcurr_node = q.popleft()\n",
        "\n",
        "\t\thd = curr_node.hd\n",
        "\n",
        "\n",
        "\t\tmin_hd = min(min_hd, hd)\n",
        "\t\tmax_hd = max(max_hd, hd)\n",
        "\n",
        "\t\thd_dict[hd] = curr_node.data\n",
        "\n",
        "\t\tif curr_node.left:\n",
        "\t\t\tcurr_node.left.hd = hd - 1\n",
        "\t\t\tq.append(curr_node.left)\n",
        "\n",
        "\n",
        "\t\tif curr_node.right:\n",
        "\t\t\tcurr_node.right.hd = hd + 1\n",
        "\t\t\tq.append(curr_node.right)\n",
        "\n",
        "\n",
        "\tfor i in range(min_hd, max_hd+1):\n",
        "\t\tprint(hd_dict[i], end = ' ')\n",
        "\n",
        "\n",
        "if __name__=='__main__':\n",
        "\n",
        "\troot = Node(20)\n",
        "\troot.left = Node(8)\n",
        "\troot.right = Node(22)\n",
        "\troot.left.left = Node(5)\n",
        "\troot.left.right = Node(3)\n",
        "\troot.right.left = Node(4)\n",
        "\troot.right.right = Node(25)\n",
        "\troot.left.right.left = Node(10)\n",
        "\troot.left.right.right = Node(14)\n",
        "\n",
        "\tbottomView(root)\n",
        "\n"
      ],
      "metadata": {
        "colab": {
          "base_uri": "https://localhost:8080/"
        },
        "id": "RX_lKks_ByfX",
        "outputId": "2b5bf5c2-d14b-480a-e538-fab5b0984f0d"
      },
      "execution_count": 15,
      "outputs": [
        {
          "output_type": "stream",
          "name": "stdout",
          "text": [
            "5 10 4 14 25 "
          ]
        }
      ]
    },
    {
      "cell_type": "code",
      "source": [],
      "metadata": {
        "id": "1wQI5UanC5pt"
      },
      "execution_count": null,
      "outputs": []
    }
  ]
}