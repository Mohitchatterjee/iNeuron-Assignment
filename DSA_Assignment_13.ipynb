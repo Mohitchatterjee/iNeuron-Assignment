{
  "nbformat": 4,
  "nbformat_minor": 0,
  "metadata": {
    "colab": {
      "provenance": [],
      "authorship_tag": "ABX9TyNuhlJAfSxvRar0mt3NdVkH",
      "include_colab_link": true
    },
    "kernelspec": {
      "name": "python3",
      "display_name": "Python 3"
    },
    "language_info": {
      "name": "python"
    }
  },
  "cells": [
    {
      "cell_type": "markdown",
      "metadata": {
        "id": "view-in-github",
        "colab_type": "text"
      },
      "source": [
        "<a href=\"https://colab.research.google.com/github/Mohitchatterjee/iNeuron-Assignment/blob/main/DSA_Assignment_13.ipynb\" target=\"_parent\"><img src=\"https://colab.research.google.com/assets/colab-badge.svg\" alt=\"Open In Colab\"/></a>"
      ]
    },
    {
      "cell_type": "markdown",
      "source": [
        "<aside>\n",
        "💡 **Question 1**\n",
        "\n",
        "Given two linked list of the same size, the task is to create a new linked list using those linked lists. The condition is that the greater node among both linked list will be added to the new linked list.\n",
        "\n",
        "</aside>"
      ],
      "metadata": {
        "id": "pTjY_iWpEecy"
      }
    },
    {
      "cell_type": "code",
      "execution_count": 7,
      "metadata": {
        "colab": {
          "base_uri": "https://localhost:8080/"
        },
        "id": "Q17-zrDdEaiH",
        "outputId": "459cd174-3f90-4362-ef35-2415bf1b0598"
      },
      "outputs": [
        {
          "output_type": "stream",
          "name": "stdout",
          "text": [
            "First List:  5 -> 2 -> 3 -> 8 ->  \n",
            "Second List:  1 -> 7 -> 4 -> 5 ->  \n",
            "New List:  5 -> 7 -> 4 -> 8 ->  \n"
          ]
        }
      ],
      "source": [
        "class Node:\n",
        "\n",
        "\n",
        "\tdef __init__(self, data):\n",
        "\t\tself.data = data\n",
        "\t\tself.next = None\n",
        "\n",
        "\n",
        "def insert(root, item):\n",
        "\n",
        "\ttemp = Node(0)\n",
        "\ttemp.data = item\n",
        "\ttemp.next = None\n",
        "\n",
        "\tif (root == None):\n",
        "\t\troot = temp\n",
        "\telse :\n",
        "\t\tptr = root\n",
        "\t\twhile (ptr.next != None):\n",
        "\t\t\tptr = ptr.next\n",
        "\n",
        "\t\tptr.next = temp\n",
        "\n",
        "\treturn root\n",
        "\n",
        "\n",
        "def newList(root1, root2):\n",
        "\n",
        "\tptr1 = root1\n",
        "\tptr2 = root2\n",
        "\n",
        "\troot = None\n",
        "\twhile (ptr1 != None) :\n",
        "\t\ttemp = Node(0)\n",
        "\t\ttemp.next = None\n",
        "\n",
        "\t\tif (ptr1.data < ptr2.data):\n",
        "\t\t\ttemp.data = ptr2.data\n",
        "\t\telse:\n",
        "\t\t\ttemp.data = ptr1.data\n",
        "\n",
        "\t\tif (root == None):\n",
        "\t\t\troot = temp\n",
        "\t\telse :\n",
        "\t\t\tptr = root\n",
        "\t\t\twhile (ptr.next != None):\n",
        "\t\t\t\tptr = ptr.next\n",
        "\n",
        "\t\t\tptr.next = temp\n",
        "\n",
        "\t\tptr1 = ptr1.next\n",
        "\t\tptr2 = ptr2.next\n",
        "\n",
        "\treturn root\n",
        "\n",
        "def display(root):\n",
        "\n",
        "\twhile (root != None) :\n",
        "\t\tprint(root.data, \"->\", end = \" \")\n",
        "\t\troot = root.next\n",
        "\n",
        "\tprint(\" \");\n",
        "\n",
        "\n",
        "if __name__=='__main__':\n",
        "\n",
        "\troot1 = None\n",
        "\troot2 = None\n",
        "\troot = None\n",
        "\n",
        "\t# First linked list\n",
        "\troot1 = insert(root1, 5)\n",
        "\troot1 = insert(root1, 2)\n",
        "\troot1 = insert(root1, 3)\n",
        "\troot1 = insert(root1, 8)\n",
        "\n",
        "\tprint(\"First List: \", end = \" \")\n",
        "\tdisplay(root1)\n",
        "\n",
        "\t# Second linked list\n",
        "\troot2 = insert(root2, 1)\n",
        "\troot2 = insert(root2, 7)\n",
        "\troot2 = insert(root2, 4)\n",
        "\troot2 = insert(root2, 5)\n",
        "\n",
        "\tprint(\"Second List: \", end = \" \")\n",
        "\tdisplay(root2)\n",
        "\n",
        "\troot = newList(root1, root2)\n",
        "\tprint(\"New List: \", end = \" \")\n",
        "\tdisplay(root)\n",
        "\n"
      ]
    },
    {
      "cell_type": "markdown",
      "source": [
        "<aside>\n",
        "💡 **Question 2**\n",
        "\n",
        "Write a function that takes a list sorted in non-decreasing order and deletes any duplicate nodes from the list. The list should only be traversed once.\n",
        "\n",
        "For example if the linked list is 11->11->11->21->43->43->60 then removeDuplicates() should convert the list to 11->21->43->60.\n",
        "\n",
        "</aside>"
      ],
      "metadata": {
        "id": "wM1t3vFoG2_s"
      }
    },
    {
      "cell_type": "code",
      "source": [
        "class Node:\n",
        "    def __init__(self, data):\n",
        "        self.data = data\n",
        "        self.next = None\n",
        "\n",
        "def remove_duplicates(head):\n",
        "    if head is None:\n",
        "        return head\n",
        "\n",
        "    current = head\n",
        "\n",
        "    while current.next is not None:\n",
        "        if current.data == current.next.data:\n",
        "            current.next = current.next.next\n",
        "        else:\n",
        "            current = current.next\n",
        "\n",
        "    return head\n",
        "\n",
        "\n",
        "head = Node(11)\n",
        "head.next = Node(11)\n",
        "head.next.next = Node(11)\n",
        "head.next.next.next = Node(21)\n",
        "head.next.next.next.next = Node(43)\n",
        "head.next.next.next.next.next = Node(43)\n",
        "head.next.next.next.next.next.next = Node(60)\n",
        "\n",
        "\n",
        "new_head = remove_duplicates(head)\n",
        "\n",
        "\n",
        "current = new_head\n",
        "while current is not None:\n",
        "    print(current.data, end=\" -> \")\n",
        "    current = current.next\n",
        "print(\"None\")\n"
      ],
      "metadata": {
        "colab": {
          "base_uri": "https://localhost:8080/"
        },
        "id": "j7JaLrfvFEsp",
        "outputId": "d15673c4-5480-41c7-ba9e-cb44e1f9dc06"
      },
      "execution_count": 9,
      "outputs": [
        {
          "output_type": "stream",
          "name": "stdout",
          "text": [
            "11 -> 21 -> 43 -> 60 -> None\n"
          ]
        }
      ]
    },
    {
      "cell_type": "markdown",
      "source": [
        "<aside>\n",
        "💡 **Question 3**\n",
        "\n",
        "Given a linked list of size **N**. The task is to reverse every **k** nodes (where k is an input to the function) in the linked list. If the number of nodes is not a multiple of *k* then left-out nodes, in the end, should be considered as a group and must be reversed (See Example 2 for clarification).\n",
        "\n",
        "</aside>"
      ],
      "metadata": {
        "id": "jtxC1_4cHEJL"
      }
    },
    {
      "cell_type": "code",
      "source": [
        "class Node:\n",
        "    def __init__(self, data):\n",
        "        self.data = data\n",
        "        self.next = None\n",
        "\n",
        "def reverse_k_nodes(head, k):\n",
        "    if head is None:\n",
        "        return None\n",
        "\n",
        "    current = head\n",
        "    prev = None\n",
        "    next = None\n",
        "    count = 0\n",
        "\n",
        "    while current is not None and count < k:\n",
        "        next = current.next\n",
        "        current.next = prev\n",
        "        prev = current\n",
        "        current = next\n",
        "        count += 1\n",
        "\n",
        "\n",
        "    if next is not None:\n",
        "        head.next = reverse_k_nodes(next, k)\n",
        "\n",
        "    return prev\n",
        "\n",
        "\n",
        "head = Node(1)\n",
        "head.next = Node(2)\n",
        "head.next.next = Node(2)\n",
        "head.next.next.next = Node(4)\n",
        "head.next.next.next.next = Node(5)\n",
        "head.next.next.next.next.next = Node(6)\n",
        "head.next.next.next.next.next.next = Node(7)\n",
        "head.next.next.next.next.next.next.next = Node(8)\n",
        "\n",
        "new_head = reverse_k_nodes(head, 4)\n",
        "\n",
        "\n",
        "current = new_head\n",
        "while current is not None:\n",
        "    print(current.data, end=\" -> \")\n",
        "    current = current.next\n",
        "print(\"None\")\n"
      ],
      "metadata": {
        "colab": {
          "base_uri": "https://localhost:8080/"
        },
        "id": "sZ6u6ealG8pA",
        "outputId": "082980ba-a46e-4817-94e8-f065671b3195"
      },
      "execution_count": 12,
      "outputs": [
        {
          "output_type": "stream",
          "name": "stdout",
          "text": [
            "4 -> 2 -> 2 -> 1 -> 8 -> 7 -> 6 -> 5 -> None\n"
          ]
        }
      ]
    },
    {
      "cell_type": "markdown",
      "source": [
        "<aside>\n",
        "💡 **Question 4**\n",
        "\n",
        "Given a linked list, write a function to reverse every alternate k nodes (where k is an input to the function) in an efficient way. Give the complexity of your algorithm.\n",
        "\n",
        "</aside>"
      ],
      "metadata": {
        "id": "3n5EpryMIyg2"
      }
    },
    {
      "cell_type": "code",
      "source": [
        "class Node:\n",
        "    def __init__(self, data):\n",
        "        self.data = data\n",
        "        self.next = None\n",
        "\n",
        "def reverse_alternate_k_nodes(head, k):\n",
        "    if head is None:\n",
        "        return None\n",
        "\n",
        "    current = head\n",
        "    prev = None\n",
        "    next = None\n",
        "    count = 0\n",
        "\n",
        "\n",
        "    while current is not None and count < k:\n",
        "        next = current.next\n",
        "        current.next = prev\n",
        "        prev = current\n",
        "        current = next\n",
        "        count += 1\n",
        "\n",
        "\n",
        "    if head is not None:\n",
        "        head.next = current\n",
        "\n",
        "\n",
        "    count = 0\n",
        "    while current is not None and count < k - 1:\n",
        "        current = current.next\n",
        "        count += 1\n",
        "\n",
        "\n",
        "    if current is not None:\n",
        "        current.next = reverse_alternate_k_nodes(current.next, k)\n",
        "\n",
        "    return prev\n",
        "\n",
        "\n",
        "\n",
        "head = Node(1)\n",
        "head.next = Node(2)\n",
        "head.next.next = Node(3)\n",
        "head.next.next.next = Node(4)\n",
        "head.next.next.next.next = Node(5)\n",
        "head.next.next.next.next.next = Node(6)\n",
        "head.next.next.next.next.next.next = Node(7)\n",
        "head.next.next.next.next.next.next.next = Node(8)\n",
        "head.next.next.next.next.next.next.next.next = Node(9)\n",
        "\n",
        "\n",
        "\n",
        "new_head = reverse_alternate_k_nodes(head, 3)\n",
        "\n",
        "\n",
        "current = new_head\n",
        "while current is not None:\n",
        "    print(current.data, end=\" -> \")\n",
        "    current = current.next\n",
        "print(\"None\")\n"
      ],
      "metadata": {
        "colab": {
          "base_uri": "https://localhost:8080/"
        },
        "id": "P4iPE6BFHOFI",
        "outputId": "56ec0d76-2f2d-4796-e723-91ef28e772c5"
      },
      "execution_count": 14,
      "outputs": [
        {
          "output_type": "stream",
          "name": "stdout",
          "text": [
            "3 -> 2 -> 1 -> 4 -> 5 -> 6 -> 9 -> 8 -> 7 -> None\n"
          ]
        }
      ]
    },
    {
      "cell_type": "markdown",
      "source": [
        "<aside>\n",
        "💡 **Question 5**\n",
        "\n",
        "Given a linked list and a key to be deleted. Delete last occurrence of key from linked. The list may have duplicates.\n",
        "\n",
        "</aside>"
      ],
      "metadata": {
        "id": "2AjUskgfJb1J"
      }
    },
    {
      "cell_type": "code",
      "source": [
        "class Node:\n",
        "    def __init__(self, data):\n",
        "        self.data = data\n",
        "        self.next = None\n",
        "\n",
        "def delete_last_occurrence(head, key):\n",
        "    if head is None:\n",
        "        return None\n",
        "\n",
        "    prev = None\n",
        "    current = head\n",
        "    last_occurrence = None\n",
        "    next_node = None\n",
        "\n",
        "\n",
        "    while current is not None:\n",
        "        if current.data == key:\n",
        "            last_occurrence = current\n",
        "        current = current.next\n",
        "\n",
        "\n",
        "    if last_occurrence is not None:\n",
        "        if last_occurrence == head:\n",
        "            head = head.next\n",
        "        else:\n",
        "            current = head\n",
        "            while current.next != last_occurrence:\n",
        "                current = current.next\n",
        "            current.next = last_occurrence.next\n",
        "\n",
        "    return head\n",
        "\n",
        "\n",
        "\n",
        "head = Node(1)\n",
        "head.next = Node(2)\n",
        "head.next.next = Node(3)\n",
        "head.next.next.next = Node(5)\n",
        "head.next.next.next.next = Node(2)\n",
        "head.next.next.next.next.next = Node(10)\n",
        "\n",
        "new_head = delete_last_occurrence(head, 2)\n",
        "\n",
        "\n",
        "current = new_head\n",
        "while current is not None:\n",
        "    print(current.data, end=\" -> \")\n",
        "    current = current.next\n",
        "print(\"None\")\n"
      ],
      "metadata": {
        "colab": {
          "base_uri": "https://localhost:8080/"
        },
        "id": "n7s9MGhjJNSi",
        "outputId": "7367ecdd-b7e0-4496-ad1f-2e8dd1008f12"
      },
      "execution_count": 18,
      "outputs": [
        {
          "output_type": "stream",
          "name": "stdout",
          "text": [
            "1 -> 2 -> 3 -> 5 -> 10 -> None\n"
          ]
        }
      ]
    },
    {
      "cell_type": "markdown",
      "source": [
        "<aside>\n",
        "💡 **Question 6**\n",
        "\n",
        "Given two sorted linked lists consisting of **N** and **M** nodes respectively. The task is to merge both of the lists (in place) and return the head of the merged list.\n",
        "\n",
        "</aside>"
      ],
      "metadata": {
        "id": "eHVXwdagK-ZK"
      }
    },
    {
      "cell_type": "code",
      "source": [
        "def merge_sorted_lists(head1, head2):\n",
        "\n",
        "    if head1 is None:\n",
        "        return head2\n",
        "    if head2 is None:\n",
        "        return head1\n",
        "\n",
        "\n",
        "    if head1.data <= head2.data:\n",
        "        new_head = head1\n",
        "        current1 = head1.next\n",
        "        current2 = head2\n",
        "    else:\n",
        "        new_head = head2\n",
        "        current1 = head1\n",
        "        current2 = head2.next\n",
        "\n",
        "    current = new_head\n",
        "    while current1 is not None and current2 is not None:\n",
        "        if current1.data <= current2.data:\n",
        "            current.next = current1\n",
        "            current1 = current1.next\n",
        "        else:\n",
        "            current.next = current2\n",
        "            current2 = current2.next\n",
        "        current = current.next\n",
        "\n",
        "\n",
        "    if current1 is not None:\n",
        "        current.next = current1\n",
        "\n",
        "\n",
        "    if current2 is not None:\n",
        "        current.next = current2\n",
        "\n",
        "    return new_head\n",
        "\n",
        "\n",
        "\n",
        "\n",
        "head1 = Node(5)\n",
        "head1.next = Node(10)\n",
        "head1.next.next = Node(15)\n",
        "\n",
        "\n",
        "\n",
        "head2 = Node(2)\n",
        "head2.next = Node(3)\n",
        "head2.next.next = Node(20)\n",
        "\n",
        "\n",
        "\n",
        "new_head = merge_sorted_lists(head1, head2)\n",
        "\n",
        "current = new_head\n",
        "while current is not None:\n",
        "    print(current.data, end=\" -> \")\n",
        "    current = current.next\n",
        "print(\"None\")\n"
      ],
      "metadata": {
        "colab": {
          "base_uri": "https://localhost:8080/"
        },
        "id": "exO3ICqwKsGe",
        "outputId": "d9703297-a638-44a2-c6da-1a744fb47673"
      },
      "execution_count": 23,
      "outputs": [
        {
          "output_type": "stream",
          "name": "stdout",
          "text": [
            "2 -> 3 -> 5 -> 10 -> 15 -> 20 -> None\n"
          ]
        }
      ]
    },
    {
      "cell_type": "markdown",
      "source": [
        "<aside>\n",
        "💡 **Question 7**\n",
        "\n",
        "Given a **Doubly Linked List**, the task is to reverse the given Doubly Linked List.\n",
        "\n",
        "</aside>"
      ],
      "metadata": {
        "id": "L_JTd7hELXJi"
      }
    },
    {
      "cell_type": "code",
      "source": [
        "class Node:\n",
        "    def __init__(self, data):\n",
        "        self.data = data\n",
        "        self.prev = None\n",
        "        self.next = None\n",
        "\n",
        "def reverse_doubly_linked_list(head):\n",
        "    if head is None or head.next is None:\n",
        "        return head\n",
        "\n",
        "    current = head\n",
        "    prev = None\n",
        "\n",
        "\n",
        "    while current is not None:\n",
        "\n",
        "        prev = current.prev\n",
        "        current.prev = current.next\n",
        "        current.next = prev\n",
        "\n",
        "\n",
        "        current = current.prev\n",
        "\n",
        "    return prev.prev\n",
        "\n",
        "\n",
        "head = Node(10)\n",
        "head.next = Node(8)\n",
        "head.next.prev = head\n",
        "head.next.next = Node(4)\n",
        "head.next.next.prev = head.next\n",
        "head.next.next.next = Node(2)\n",
        "head.next.next.next.prev = head.next.next\n",
        "\n",
        "\n",
        "\n",
        "new_head = reverse_doubly_linked_list(head)\n",
        "\n",
        "\n",
        "current = new_head\n",
        "while current is not None:\n",
        "    print(current.data, end=\" <-> \")\n",
        "    current = current.next\n",
        "print(\"None\")\n"
      ],
      "metadata": {
        "colab": {
          "base_uri": "https://localhost:8080/"
        },
        "id": "I_0EYt1wLTcv",
        "outputId": "33e44e08-4b64-4f56-faaa-b64418a9e171"
      },
      "execution_count": 24,
      "outputs": [
        {
          "output_type": "stream",
          "name": "stdout",
          "text": [
            "2 <-> 4 <-> 8 <-> 10 <-> None\n"
          ]
        }
      ]
    },
    {
      "cell_type": "markdown",
      "source": [
        "Question 8\n",
        "Given a doubly linked list and a position. The task is to delete a node from given position in a doubly linked list."
      ],
      "metadata": {
        "id": "NZUDwjN5MHGa"
      }
    },
    {
      "cell_type": "code",
      "source": [
        "class Node:\n",
        "    def __init__(self, data):\n",
        "        self.data = data\n",
        "        self.prev = None\n",
        "        self.next = None\n",
        "\n",
        "\n",
        "def delete_node_at_position(head, position):\n",
        "    if head is None:\n",
        "        return None\n",
        "\n",
        "\n",
        "    if position == 1:\n",
        "        next_node = head.next\n",
        "        if next_node is not None:\n",
        "            next_node.prev = None\n",
        "        return next_node\n",
        "\n",
        "    current = head\n",
        "    count = 1\n",
        "\n",
        "\n",
        "    while current is not None and count < position:\n",
        "        current = current.next\n",
        "        count += 1\n",
        "\n",
        "\n",
        "    if current is None:\n",
        "        return head\n",
        "\n",
        "\n",
        "    prev_node = current.prev\n",
        "    next_node = current.next\n",
        "\n",
        "    if prev_node is not None:\n",
        "        prev_node.next = next_node\n",
        "    if next_node is not None:\n",
        "        next_node.prev = prev_node\n",
        "\n",
        "    return head\n",
        "\n",
        "\n",
        "\n",
        "head = Node(1)\n",
        "head.next = Node(5)\n",
        "head.next.prev = head\n",
        "head.next.next = Node(2)\n",
        "head.next.next.prev = head.next\n",
        "head.next.next.next = Node(9)\n",
        "head.next.next.next.prev = head.next.next\n",
        "\n",
        "\n",
        "\n",
        "new_head = delete_node_at_position(head, 1)\n",
        "\n",
        "\n",
        "current = new_head\n",
        "while current is not None:\n",
        "    print(current.data, end=\" <-> \")\n",
        "    current = current.next\n",
        "print(\"None\")\n"
      ],
      "metadata": {
        "colab": {
          "base_uri": "https://localhost:8080/"
        },
        "id": "w4d_Jf3uLuTj",
        "outputId": "2cab808c-ecc8-43f4-ae79-d5f5e8e6cce9"
      },
      "execution_count": 27,
      "outputs": [
        {
          "output_type": "stream",
          "name": "stdout",
          "text": [
            "5 <-> 2 <-> 9 <-> None\n"
          ]
        }
      ]
    },
    {
      "cell_type": "code",
      "source": [],
      "metadata": {
        "id": "gLTZvvT7McM0"
      },
      "execution_count": null,
      "outputs": []
    }
  ]
}