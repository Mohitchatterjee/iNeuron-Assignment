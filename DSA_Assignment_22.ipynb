{
  "nbformat": 4,
  "nbformat_minor": 0,
  "metadata": {
    "colab": {
      "provenance": [],
      "authorship_tag": "ABX9TyNC4VCC9Up1tfVxJZJfVuCB",
      "include_colab_link": true
    },
    "kernelspec": {
      "name": "python3",
      "display_name": "Python 3"
    },
    "language_info": {
      "name": "python"
    }
  },
  "cells": [
    {
      "cell_type": "markdown",
      "metadata": {
        "id": "view-in-github",
        "colab_type": "text"
      },
      "source": [
        "<a href=\"https://colab.research.google.com/github/Mohitchatterjee/iNeuron-Assignment/blob/main/DSA_Assignment_22.ipynb\" target=\"_parent\"><img src=\"https://colab.research.google.com/assets/colab-badge.svg\" alt=\"Open In Colab\"/></a>"
      ]
    },
    {
      "cell_type": "markdown",
      "source": [
        "<aside>\n",
        "💡 Question-1:\n",
        "\n",
        "Given a Binary Tree (Bt), convert it to a Doubly Linked List(DLL). The left and right pointers in nodes are to be used as previous and next pointers respectively in converted DLL. The order of nodes in DLL must be the same as in Inorder for the given Binary Tree. The first node of Inorder traversal (leftmost node in BT) must be the head node of the DLL.\n",
        "\n",
        "</aside>"
      ],
      "metadata": {
        "id": "wvfJRCa3gvIO"
      }
    },
    {
      "cell_type": "code",
      "source": [
        "\n",
        "class Node:\n",
        "\tdef __init__(self, val):\n",
        "\t\tself.right = None\n",
        "\t\tself.data = val\n",
        "\t\tself.left = None\n",
        "\n",
        "prev = None\n",
        "\n",
        "def BinaryTree2DoubleLinkedList(root):\n",
        "\n",
        "\n",
        "\tif root is None:\n",
        "\t\treturn root\n",
        "\n",
        "\n",
        "\thead = BinaryTree2DoubleLinkedList(root.left);\n",
        "\n",
        "\n",
        "\tglobal prev\n",
        "\n",
        "\tif prev is None :\n",
        "\t\thead = root\n",
        "\n",
        "\telse:\n",
        "\t\troot.left = prev\n",
        "\t\tprev.right = root\n",
        "\n",
        "\n",
        "\tprev = root;\n",
        "\n",
        "\tBinaryTree2DoubleLinkedList(root.right);\n",
        "\n",
        "\treturn head\n",
        "\n",
        "def print_dll(head):\n",
        "\n",
        "\n",
        "\twhile head is not None:\n",
        "\t\tprint(head.data, end=\" \")\n",
        "\t\thead = head.right\n",
        "\n",
        "if __name__ == '__main__':\n",
        "\troot = Node(10)\n",
        "\troot.left = Node(12)\n",
        "\troot.right = Node(15)\n",
        "\troot.left.left = Node(25)\n",
        "\troot.left.right = Node(30)\n",
        "\troot.right.left = Node(36)\n",
        "\n",
        "\thead = BinaryTree2DoubleLinkedList(root)\n",
        "\n",
        "\tprint_dll(head)\n",
        "\n"
      ],
      "metadata": {
        "colab": {
          "base_uri": "https://localhost:8080/"
        },
        "id": "j0vbgw43gyNu",
        "outputId": "713c9398-ae03-417d-9677-4021dfdb4c59"
      },
      "execution_count": 3,
      "outputs": [
        {
          "output_type": "stream",
          "name": "stdout",
          "text": [
            "25 12 30 10 36 15 "
          ]
        }
      ]
    },
    {
      "cell_type": "markdown",
      "source": [
        "<aside>\n",
        "💡 Question-2\n",
        "\n",
        "A Given a binary tree, the task is to flip the binary tree towards the right direction that is clockwise. See the below examples to see the transformation.\n",
        "\n",
        "In the flip operation, the leftmost node becomes the root of the flipped tree and its parent becomes its right child and the right sibling becomes its left child and the same should be done for all left most nodes recursively.\n",
        "\n",
        "</aside>"
      ],
      "metadata": {
        "id": "UG93wpZaiblN"
      }
    },
    {
      "cell_type": "code",
      "source": [
        "\n",
        "class Node:\n",
        "\n",
        "\tdef __init__(self, data):\n",
        "\n",
        "\t\tself.data = data\n",
        "\t\tself.right = None\n",
        "\t\tself.left = None\n",
        "\n",
        "def flipBinaryTree(root):\n",
        "\n",
        "\n",
        "\tif root is None:\n",
        "\t\treturn root\n",
        "\n",
        "\tif (root.left is None and\n",
        "\t\troot.right is None):\n",
        "\t\treturn root\n",
        "\n",
        "\n",
        "\tflippedRoot = flipBinaryTree(root.left)\n",
        "\n",
        "\n",
        "\troot.left.left = root.right\n",
        "\troot.left.right = root\n",
        "\troot.left = root.right = None\n",
        "\n",
        "\treturn flippedRoot\n",
        "\n",
        "\n",
        "def printLevelOrder(root):\n",
        "\n",
        "\n",
        "\tif root is None:\n",
        "\t\treturn\n",
        "\n",
        "\tfrom queue import Queue\n",
        "\tq = Queue()\n",
        "\n",
        "\tq.put(root)\n",
        "\n",
        "\twhile(True):\n",
        "\n",
        "\t\tnodeCount = q.qsize()\n",
        "\t\tif nodeCount == 0:\n",
        "\t\t\tbreak\n",
        "\n",
        "\t\twhile nodeCount > 0:\n",
        "\t\t\tnode = q.get()\n",
        "\t\t\tprint(node.data, end=\" \")\n",
        "\t\t\tif node.left is not None:\n",
        "\t\t\t\tq.put(node.left)\n",
        "\t\t\tif node.right is not None:\n",
        "\t\t\t\tq.put(node.right)\n",
        "\t\t\tnodeCount -= 1\n",
        "\n",
        "\n",
        "\n",
        "root = Node(1)\n",
        "root.left = Node(2)\n",
        "root.right = Node(3)\n",
        "root.right.left = Node(4)\n",
        "root.right.right = Node(5)\n",
        "\n",
        "print(\"Level order traversal of given tree\")\n",
        "printLevelOrder(root)\n",
        "\n",
        "root = flipBinaryTree(root)\n",
        "\n",
        "print(\"\\nLevel order traversal of the flipped tree\")\n",
        "printLevelOrder(root)\n",
        "\n"
      ],
      "metadata": {
        "colab": {
          "base_uri": "https://localhost:8080/"
        },
        "id": "cPSZVHLqg75z",
        "outputId": "b1970251-7226-4329-c4c9-72259657a5da"
      },
      "execution_count": 10,
      "outputs": [
        {
          "output_type": "stream",
          "name": "stdout",
          "text": [
            "Level order traversal of given tree\n",
            "1 2 3 4 5 \n",
            "Level order traversal of the flipped tree\n",
            "2 3 1 4 5 "
          ]
        }
      ]
    },
    {
      "cell_type": "markdown",
      "source": [
        "<aside>\n",
        "💡 Question-3:\n",
        "\n",
        "Given a binary tree, print all its root-to-leaf paths without using recursion. For example, consider the following Binary Tree.\n",
        "\n",
        "</aside>"
      ],
      "metadata": {
        "id": "xDF-ljftjqnn"
      }
    },
    {
      "cell_type": "code",
      "source": [
        "class Node:\n",
        "\n",
        "\tdef __init__(self, data):\n",
        "\t\tself.data = data\n",
        "\t\tself.left = None\n",
        "\t\tself.right = None\n",
        "\n",
        "\n",
        "def printPaths(root):\n",
        "\tpath = []\n",
        "\tprintPathsRec(root, path, 0)\n",
        "\n",
        "def printPathsRec(root, path, pathLen):\n",
        "\n",
        "\tif root is None:\n",
        "\t\treturn\n",
        "\n",
        "\tif(len(path) > pathLen):\n",
        "\t\tpath[pathLen] = root.data\n",
        "\telse:\n",
        "\t\tpath.append(root.data)\n",
        "\tpathLen = pathLen + 1\n",
        "\n",
        "\tif root.left is None and root.right is None:\n",
        "\t\tprintArray(path, pathLen)\n",
        "\telse:\n",
        "\t\tprintPathsRec(root.left, path, pathLen)\n",
        "\t\tprintPathsRec(root.right, path, pathLen)\n",
        "\n",
        "def printArray(ints, len):\n",
        "\tfor i in ints[0 : len]:\n",
        "\t\tprint(i,end=\"-->\")\n",
        "\tprint()\n",
        "\n",
        "\n",
        "root = Node(6)\n",
        "root.left = Node(3)\n",
        "root.right = Node(5)\n",
        "root.left.left = Node(2)\n",
        "root.left.right = Node(5)\n",
        "root.left.right.left = Node(7)\n",
        "root.left.right.right = Node(4)\n",
        "root.right.right = Node(4)\n",
        "printPaths(root)\n",
        "\n"
      ],
      "metadata": {
        "colab": {
          "base_uri": "https://localhost:8080/"
        },
        "id": "e9yAPTh7jGTz",
        "outputId": "222fa41c-1b71-4f98-f53b-29396509efca"
      },
      "execution_count": 14,
      "outputs": [
        {
          "output_type": "stream",
          "name": "stdout",
          "text": [
            "6-->3-->2-->\n",
            "6-->3-->5-->7-->\n",
            "6-->3-->5-->4-->\n",
            "6-->5-->4-->\n"
          ]
        }
      ]
    },
    {
      "cell_type": "markdown",
      "source": [
        "<aside>\n",
        "💡 Question-4:\n",
        "\n",
        "Given Preorder, Inorder and Postorder traversals of some tree. Write a program to check if they all are of the same tree.\n",
        "\n",
        "</aside>"
      ],
      "metadata": {
        "id": "DNdZLdKnkcxM"
      }
    },
    {
      "cell_type": "code",
      "source": [
        "\n",
        "class node:\n",
        "\n",
        "\tdef __init__(self, x):\n",
        "\n",
        "\t\tself.data = x\n",
        "\t\tself.left = None\n",
        "\t\tself.right = None\n",
        "\n",
        "preIndex = 0\n",
        "\n",
        "def search(arr, strt, end, value):\n",
        "\n",
        "\tfor i in range(strt, end + 1):\n",
        "\t\tif(arr[i] == value):\n",
        "\t\t\treturn i\n",
        "\n",
        "def buildTree(inn, pre, inStrt, inEnd):\n",
        "\n",
        "\tglobal preIndex\n",
        "\n",
        "\tif(inStrt > inEnd):\n",
        "\t\treturn None\n",
        "\n",
        "\ttNode = node(pre[preIndex])\n",
        "\tpreIndex += 1\n",
        "\n",
        "\n",
        "\tif (inStrt == inEnd):\n",
        "\t\treturn tNode\n",
        "\n",
        "\tinIndex = search(inn, inStrt,\n",
        "\t\t\t\t\tinEnd, tNode.data)\n",
        "\n",
        "\ttNode.left = buildTree(inn, pre, inStrt,\n",
        "\t\t\t\t\t\tinIndex - 1)\n",
        "\ttNode.right = buildTree(inn, pre,\n",
        "\t\t\t\t\t\t\tinIndex + 1, inEnd)\n",
        "\n",
        "\treturn tNode\n",
        "\n",
        "def checkPostorder(node, postOrder, index):\n",
        "\tif (node == None):\n",
        "\t\treturn index\n",
        "\n",
        "\n",
        "\tindex = checkPostorder(node.left,\n",
        "\t\t\t\t\t\tpostOrder,\n",
        "\t\t\t\t\t\tindex)\n",
        "\n",
        "\tindex = checkPostorder(node.right,\n",
        "\t\t\t\t\t\tpostOrder,\n",
        "\t\t\t\t\t\tindex)\n",
        "\n",
        "\tif (node.data == postOrder[index]):\n",
        "\t\tindex += 1\n",
        "\telse:\n",
        "\t\treturn - 1\n",
        "\n",
        "\treturn index\n",
        "\n",
        "\n",
        "if __name__ == '__main__':\n",
        "\n",
        "\tinOrder = [4, 2, 5, 1, 3]\n",
        "\tpreOrder = [1, 2, 4, 5, 3]\n",
        "\tpostOrder = [4, 5, 2, 3, 1]\n",
        "\tlenn = len(inOrder)\n",
        "\n",
        "\troot = buildTree(inOrder, preOrder,\n",
        "\t\t\t\t\t0, lenn - 1)\n",
        "\n",
        "\n",
        "\tindex = checkPostorder(root, postOrder, 0)\n",
        "\n",
        "\tif (index == lenn):\n",
        "\t\tprint(\"Yes\")\n",
        "\telse:\n",
        "\t\tprint(\"No\")\n",
        "\n"
      ],
      "metadata": {
        "colab": {
          "base_uri": "https://localhost:8080/"
        },
        "id": "1kP83cRsjx2J",
        "outputId": "aac4541f-c7ff-4366-85fc-d4b5165eeab5"
      },
      "execution_count": 16,
      "outputs": [
        {
          "output_type": "stream",
          "name": "stdout",
          "text": [
            "Yes\n"
          ]
        }
      ]
    },
    {
      "cell_type": "code",
      "source": [],
      "metadata": {
        "id": "FPS_wstDk1IW"
      },
      "execution_count": null,
      "outputs": []
    }
  ]
}