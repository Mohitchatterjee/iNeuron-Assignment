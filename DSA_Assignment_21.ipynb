{
  "nbformat": 4,
  "nbformat_minor": 0,
  "metadata": {
    "colab": {
      "provenance": [],
      "authorship_tag": "ABX9TyNTiYWwkuFMdRXFnV7tHEl5",
      "include_colab_link": true
    },
    "kernelspec": {
      "name": "python3",
      "display_name": "Python 3"
    },
    "language_info": {
      "name": "python"
    }
  },
  "cells": [
    {
      "cell_type": "markdown",
      "metadata": {
        "id": "view-in-github",
        "colab_type": "text"
      },
      "source": [
        "<a href=\"https://colab.research.google.com/github/Mohitchatterjee/iNeuron-Assignment/blob/main/DSA_Assignment_21.ipynb\" target=\"_parent\"><img src=\"https://colab.research.google.com/assets/colab-badge.svg\" alt=\"Open In Colab\"/></a>"
      ]
    },
    {
      "cell_type": "code",
      "execution_count": 1,
      "metadata": {
        "colab": {
          "base_uri": "https://localhost:8080/"
        },
        "id": "d2TYb8f1Zlmk",
        "outputId": "26a517f5-b8a5-4133-a5c8-2273b89a4d46"
      },
      "outputs": [
        {
          "output_type": "execute_result",
          "data": {
            "text/plain": [
              "8"
            ]
          },
          "metadata": {},
          "execution_count": 1
        }
      ],
      "source": [
        "8"
      ]
    },
    {
      "cell_type": "code",
      "source": [],
      "metadata": {
        "id": "7vgUkVYeZmx2"
      },
      "execution_count": null,
      "outputs": []
    },
    {
      "cell_type": "markdown",
      "source": [
        "<aside>\n",
        "💡 Question-1\n",
        "\n",
        "You are given a binary tree. The binary tree is represented using the TreeNode class. Each TreeNode has an integer value and left and right children, represented using the TreeNode class itself. Convert this binary tree into a binary search tree.\n",
        "\n",
        "</aside>"
      ],
      "metadata": {
        "id": "gcR63vFuZnlD"
      }
    },
    {
      "cell_type": "code",
      "source": [
        "class Node:\n",
        "\n",
        "\n",
        "\tdef __init__(self, data):\n",
        "\t\tself.data = data\n",
        "\t\tself.left = None\n",
        "\t\tself.right = None\n",
        "\n",
        "\n",
        "def storeInorder(root, inorder):\n",
        "\n",
        "\n",
        "\tif root is None:\n",
        "\t\treturn\n",
        "\n",
        "\n",
        "\tstoreInorder(root.left, inorder)\n",
        "\n",
        "\tinorder.append(root.data)\n",
        "\n",
        "\n",
        "\tstoreInorder(root.right, inorder)\n",
        "\n",
        "\n",
        "def countNodes(root):\n",
        "\tif root is None:\n",
        "\t\treturn 0\n",
        "\n",
        "\treturn countNodes(root.left) + countNodes(root.right) + 1\n",
        "\n",
        "def arrayToBST(arr, root):\n",
        "\n",
        "\n",
        "\tif root is None:\n",
        "\t\treturn\n",
        "\n",
        "\n",
        "\tarrayToBST(arr, root.left)\n",
        "\n",
        "\n",
        "\troot.data = arr[0]\n",
        "\tarr.pop(0)\n",
        "\n",
        "\n",
        "\tarrayToBST(arr, root.right)\n",
        "\n",
        "\n",
        "def binaryTreeToBST(root):\n",
        "\n",
        "\n",
        "\tif root is None:\n",
        "\t\treturn\n",
        "\n",
        "\n",
        "\tn = countNodes(root)\n",
        "\n",
        "\tarr = []\n",
        "\tstoreInorder(root, arr)\n",
        "\n",
        "\n",
        "\tarr.sort()\n",
        "\n",
        "\tarrayToBST(arr, root)\n",
        "\n",
        "def printInorder(root):\n",
        "\tif root is None:\n",
        "\t\treturn\n",
        "\tprintInorder(root.left)\n",
        "\tprint (root.data,end=\" \")\n",
        "\tprintInorder(root.right)\n",
        "\n",
        "root = Node(10)\n",
        "root.left = Node(2)\n",
        "root.right = Node(7)\n",
        "root.left.left = Node(8)\n",
        "root.right.right = Node(4)\n",
        "\n",
        "binaryTreeToBST(root)\n",
        "\n",
        "printInorder(root)\n",
        "\n"
      ],
      "metadata": {
        "colab": {
          "base_uri": "https://localhost:8080/"
        },
        "id": "fwhbsLVEZoMZ",
        "outputId": "0f7c018a-90c5-4cb7-f497-b33134014108"
      },
      "execution_count": 4,
      "outputs": [
        {
          "output_type": "stream",
          "name": "stdout",
          "text": [
            "2 4 7 8 10 "
          ]
        }
      ]
    },
    {
      "cell_type": "markdown",
      "source": [
        "<aside>\n",
        "💡 Question-2:\n",
        "\n",
        "Given a Binary Search Tree with all unique values and two keys. Find the distance between two nodes in BST. The given keys always exist in BST.\n",
        "\n",
        "</aside>"
      ],
      "metadata": {
        "id": "duid0_n0ae2R"
      }
    },
    {
      "cell_type": "code",
      "source": [
        "# Python Program to find distance between\n",
        "# n1 and n2 using one traversal\n",
        "\n",
        "class Node:\n",
        "\tdef __init__(self, data):\n",
        "\t\tself.data = data\n",
        "\t\tself.right = None\n",
        "\t\tself.left = None\n",
        "\n",
        "def pathToNode(root, path, k):\n",
        "\n",
        "\t# base case handling\n",
        "\tif root is None:\n",
        "\t\treturn False\n",
        "\n",
        "\t# append the node value in path\n",
        "\tpath.append(root.data)\n",
        "\n",
        "\t# See if the k is same as root's data\n",
        "\tif root.data == k :\n",
        "\t\treturn True\n",
        "\n",
        "\t# Check if k is found in left or right\n",
        "\t# sub-tree\n",
        "\tif ((root.left != None and pathToNode(root.left, path, k)) or\n",
        "\t\t\t(root.right!= None and pathToNode(root.right, path, k))):\n",
        "\t\treturn True\n",
        "\n",
        "\t# If not present in subtree rooted with root,\n",
        "\t# remove root from path and return False\n",
        "\tpath.pop()\n",
        "\treturn False\n",
        "\n",
        "def distance(root, data1, data2):\n",
        "\tif root:\n",
        "\n",
        "\t\tpath1 = []\n",
        "\t\tpathToNode(root, path1, data1)\n",
        "\n",
        "\n",
        "\t\tpath2 = []\n",
        "\t\tpathToNode(root, path2, data2)\n",
        "\n",
        "\n",
        "\t\ti=0\n",
        "\t\twhile i<len(path1) and i<len(path2):\n",
        "\n",
        "\t\t\tif path1[i] != path2[i]:\n",
        "\t\t\t\tbreak\n",
        "\t\t\ti = i+1\n",
        "\n",
        "\t\treturn (len(path1)+len(path2)-2*i)\n",
        "\telse:\n",
        "\t\treturn 0\n",
        "\n",
        "root = Node(8)\n",
        "root.left = Node(3)\n",
        "root.right = Node(10)\n",
        "root.left.left = Node(1)\n",
        "root.left.right = Node(6)\n",
        "root.right.right= Node(14)\n",
        "root.left.right.right = Node(7)\n",
        "root.left.right.left = Node(4)\n",
        "root.right.right.left = Node(13)\n",
        "\n",
        "dist = distance(root, 6, 14)\n",
        "print (\"Distance between node {} & {}: {}\".format(6, 14, dist))\n"
      ],
      "metadata": {
        "colab": {
          "base_uri": "https://localhost:8080/"
        },
        "id": "-ZtCKRSTZ2tN",
        "outputId": "95989a19-2601-4923-94b2-c6c512a4dcb5"
      },
      "execution_count": 9,
      "outputs": [
        {
          "output_type": "stream",
          "name": "stdout",
          "text": [
            "Distance between node 6 & 14: 4\n"
          ]
        }
      ]
    },
    {
      "cell_type": "markdown",
      "source": [
        "<aside>\n",
        "💡 Question-3:\n",
        "\n",
        "Write a program to convert a binary tree to a doubly linked list.\n",
        "\n",
        "</aside>"
      ],
      "metadata": {
        "id": "pXg62SBSchhP"
      }
    },
    {
      "cell_type": "code",
      "source": [
        "class Node:\n",
        "\tdef __init__(self, val):\n",
        "\t\tself.right = None\n",
        "\t\tself.data = val\n",
        "\t\tself.left = None\n",
        "\n",
        "\n",
        "prev = None\n",
        "\n",
        "def BinaryTree2DoubleLinkedList(root):\n",
        "\n",
        "\n",
        "\tif root is None:\n",
        "\t\treturn root\n",
        "\n",
        "\n",
        "\thead = BinaryTree2DoubleLinkedList(root.left);\n",
        "\n",
        "\tglobal prev\n",
        "\n",
        "\tif prev is None :\n",
        "\t\thead = root\n",
        "\n",
        "\telse:\n",
        "\t\troot.left = prev\n",
        "\t\tprev.right = root\n",
        "\n",
        "\n",
        "\tprev = root;\n",
        "\n",
        "\tBinaryTree2DoubleLinkedList(root.right);\n",
        "\n",
        "\treturn head\n",
        "\n",
        "def print_dll(head):\n",
        "\n",
        "\twhile head is not None:\n",
        "\t\tprint(head.data, end=\" \")\n",
        "\t\thead = head.right\n",
        "\n",
        "if __name__ == '__main__':\n",
        "\troot = Node(10)\n",
        "\troot.left = Node(5)\n",
        "\troot.right = Node(20)\n",
        "\troot.right.right = Node(35)\n",
        "\troot.right.left = Node(30)\n",
        "\n",
        "\thead = BinaryTree2DoubleLinkedList(root)\n",
        "\n",
        "\tprint_dll(head)\n",
        "\n"
      ],
      "metadata": {
        "colab": {
          "base_uri": "https://localhost:8080/"
        },
        "id": "sYAlT5kAam7m",
        "outputId": "08968bb7-dff7-433b-c535-b52d0194c0d9"
      },
      "execution_count": 12,
      "outputs": [
        {
          "output_type": "stream",
          "name": "stdout",
          "text": [
            "5 10 30 20 35 "
          ]
        }
      ]
    },
    {
      "cell_type": "markdown",
      "source": [
        "<aside>\n",
        "💡 Question-4:\n",
        "\n",
        "Write a program to connect nodes at the same level.\n",
        "\n",
        "</aside>"
      ],
      "metadata": {
        "id": "SX3qbzvadNvP"
      }
    },
    {
      "cell_type": "code",
      "source": [
        "class newnode:\n",
        "\tdef __init__(self, data):\n",
        "\t\tself.data = data\n",
        "\t\tself.left = self.right = self.nextRight = None\n",
        "\n",
        "\n",
        "def connect(root):\n",
        "\n",
        "\n",
        "\tif root is None:\n",
        "\t\treturn\n",
        "\n",
        "\n",
        "\tqueue = []\n",
        "\tqueue.append(root)\n",
        "\twhile len(queue) != 0:\n",
        "\n",
        "\n",
        "\t\tsize = len(queue)\n",
        "\n",
        "\n",
        "\t\tprev = newnode(None)\n",
        "\t\tfor i in range(size):\n",
        "\t\t\ttemp = queue.pop(0)\n",
        "\t\t\tif temp.left:\n",
        "\t\t\t\tqueue.append(temp.left)\n",
        "\t\t\tif temp.right:\n",
        "\t\t\t\tqueue.append(temp.right)\n",
        "\t\t\tif prev != None:\n",
        "\t\t\t\tprev.nextRight = temp\n",
        "\t\t\t\tprev = temp\n",
        "\t\tprev.nextRight = None\n",
        "\n",
        "\n",
        "\n",
        "if __name__ == '__main__':\n",
        "\n",
        "  root = newnode(1)\n",
        "  root.left = newnode(2)\n",
        "  root.right = newnode(3)\n",
        "  root.left.left = newnode(4)\n",
        "  root.left.right = newnode(5)\n",
        "  root.right.left = newnode(6)\n",
        "  root.right.right = newnode(7)\n",
        "  connect(root)\n",
        "\n",
        "  print(root.data, end=\"->\")\n",
        "  if root.nextRight:\n",
        "    print(root.nextRight.data)\n",
        "  else:\n",
        "    print(-1)\n",
        "  print(root.left.data, end=\"->\")\n",
        "  if root.left.nextRight:\n",
        "    print(root.left.nextRight.data)\n",
        "  else:\n",
        "    print(-1)\n",
        "  print(root.right.data, end=\"->\")\n",
        "  if root.right.nextRight:\n",
        "    print(root.right.nextRight.data)\n",
        "  else:\n",
        "    print(-1)\n",
        "  print(root.left.left.data, end=\"->\")\n",
        "  if root.left.left.nextRight:\n",
        "    print(root.left.left.nextRight.data)\n",
        "  else:\n",
        "    print(-1)\n",
        "\n",
        "\n",
        "\n"
      ],
      "metadata": {
        "colab": {
          "base_uri": "https://localhost:8080/"
        },
        "id": "vnENjmTZcjeh",
        "outputId": "88c1267b-c9ff-4c1b-c392-e9eb740e9030"
      },
      "execution_count": 24,
      "outputs": [
        {
          "output_type": "stream",
          "name": "stdout",
          "text": [
            "1->-1\n",
            "2->3\n",
            "3->-1\n",
            "4->5\n"
          ]
        }
      ]
    },
    {
      "cell_type": "code",
      "source": [],
      "metadata": {
        "id": "kqmhpJiOdX7f"
      },
      "execution_count": null,
      "outputs": []
    }
  ]
}