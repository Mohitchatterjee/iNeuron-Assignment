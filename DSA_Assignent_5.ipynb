{
  "nbformat": 4,
  "nbformat_minor": 0,
  "metadata": {
    "colab": {
      "provenance": [],
      "authorship_tag": "ABX9TyMBF2fDkg+greCUy6eL3ubb",
      "include_colab_link": true
    },
    "kernelspec": {
      "name": "python3",
      "display_name": "Python 3"
    },
    "language_info": {
      "name": "python"
    }
  },
  "cells": [
    {
      "cell_type": "markdown",
      "metadata": {
        "id": "view-in-github",
        "colab_type": "text"
      },
      "source": [
        "<a href=\"https://colab.research.google.com/github/Mohitchatterjee/iNeuron-Assignment/blob/main/DSA_Assignent_5.ipynb\" target=\"_parent\"><img src=\"https://colab.research.google.com/assets/colab-badge.svg\" alt=\"Open In Colab\"/></a>"
      ]
    },
    {
      "cell_type": "markdown",
      "source": [
        "<aside>\n",
        "💡 **Question 1**\n",
        "\n",
        "Convert 1D Array Into 2D Array\n",
        "\n",
        "You are given a **0-indexed** 1-dimensional (1D) integer array original, and two integers, m and n. You are tasked with creating a 2-dimensional (2D) array with  m rows and n columns using **all** the elements from original.\n",
        "\n",
        "The elements from indices 0 to n - 1 (**inclusive**) of original should form the first row of the constructed 2D array, the elements from indices n to 2 * n - 1 (**inclusive**) should form the second row of the constructed 2D array, and so on.\n",
        "\n",
        "Return *an* m x n *2D array constructed according to the above procedure, or an empty 2D array if it is impossible*.\n",
        "\n",
        "</aside>"
      ],
      "metadata": {
        "id": "R16dbWjzWUDr"
      }
    },
    {
      "cell_type": "code",
      "execution_count": 1,
      "metadata": {
        "colab": {
          "base_uri": "https://localhost:8080/"
        },
        "id": "pE0_AQ3wVG_N",
        "outputId": "94fc8ab6-49be-4f76-f1c0-6f2637fabcd1"
      },
      "outputs": [
        {
          "output_type": "stream",
          "name": "stdout",
          "text": [
            "[[1, 2], [3, 4]]\n"
          ]
        }
      ],
      "source": [
        "\n",
        "def construct2DArray(original, m, n):\n",
        "    ans = []\n",
        "    if len(original) == m*n:\n",
        "        for i in range(0, len(original), n):\n",
        "            ans.append(original[i:i+n])\n",
        "    return ans\n",
        "print(construct2DArray(original = [1,2,3,4], m = 2, n = 2))\n"
      ]
    },
    {
      "cell_type": "markdown",
      "source": [
        "<aside>\n",
        "💡 **Question 2**\n",
        "\n",
        "You have n coins and you want to build a staircase with these coins. The staircase consists of k rows where the ith row has exactly i coins. The last row of the staircase **may be** incomplete.\n",
        "\n",
        "Given the integer n, return *the number of **complete rows** of the staircase you will build*.\n",
        "\n",
        "</aside>"
      ],
      "metadata": {
        "id": "RVUVg1bCWW5r"
      }
    },
    {
      "cell_type": "code",
      "source": [
        "\n",
        "def arrangeCoins( n):\n",
        "    # Initialize pointers to first and last possible row lengths\n",
        "    left, right = 1, n\n",
        "\n",
        "    while left <= right:\n",
        "        # Compute the midpoint between left and right\n",
        "        mid = left + (right - left) // 2\n",
        "\n",
        "        # Compute the total number of coins needed for mid complete rows\n",
        "        coins = (mid * (mid + 1)) // 2\n",
        "\n",
        "        # If we have enough coins, look for a smaller number of rows\n",
        "        if coins <= n:\n",
        "            left = mid + 1\n",
        "        # Otherwise, look for a larger number of rows\n",
        "        else:\n",
        "            right = mid - 1\n",
        "\n",
        "    # Return the number of complete rows (i.e., right pointer)\n",
        "    return right\n",
        "\n",
        "print(arrangeCoins(n=5))"
      ],
      "metadata": {
        "colab": {
          "base_uri": "https://localhost:8080/"
        },
        "id": "pxXsCreeWLpW",
        "outputId": "2f1c3243-774f-4771-da06-a2bc4ed1cef4"
      },
      "execution_count": 3,
      "outputs": [
        {
          "output_type": "stream",
          "name": "stdout",
          "text": [
            "2\n"
          ]
        }
      ]
    },
    {
      "cell_type": "markdown",
      "source": [
        "<aside>\n",
        "💡 **Question 3**\n",
        "\n",
        "Given an integer array nums sorted in **non-decreasing** order, return *an array of **the squares of each number** sorted in non-decreasing order*.\n",
        "\n",
        "**Example 1:**\n",
        "\n",
        "**Input:** nums = [-4,-1,0,3,10]\n",
        "\n",
        "**Output:** [0,1,9,16,100]\n",
        "\n",
        "**Explanation:** After squaring, the array becomes [16,1,0,9,100].\n",
        "\n",
        "After sorting, it becomes [0,1,9,16,100].\n",
        "\n",
        "</aside>"
      ],
      "metadata": {
        "id": "QjxamkbTXPxw"
      }
    },
    {
      "cell_type": "code",
      "source": [
        "def sortedSquares(A):\n",
        "  for i in range(len(A)):\n",
        "      A[i] *= A[i]\n",
        "  A.sort()\n",
        "  return A\n",
        "\n",
        "nums = [-4,-1,0,3,10]\n",
        "print(sortedSquares(nums))"
      ],
      "metadata": {
        "colab": {
          "base_uri": "https://localhost:8080/"
        },
        "id": "ppO4n8m9XKp4",
        "outputId": "6d83af52-2246-44e0-b06b-c50349c05072"
      },
      "execution_count": 5,
      "outputs": [
        {
          "output_type": "stream",
          "name": "stdout",
          "text": [
            "[0, 1, 9, 16, 100]\n"
          ]
        }
      ]
    },
    {
      "cell_type": "markdown",
      "source": [
        "<aside>\n",
        "💡 **Question 4**\n",
        "\n",
        "Given two **0-indexed** integer arrays nums1 and nums2, return *a list* answer *of size* 2 *where:*\n",
        "\n",
        "- answer[0] *is a list of all **distinct** integers in* nums1 *which are **not** present in* nums2*.*\n",
        "- answer[1] *is a list of all **distinct** integers in* nums2 *which are **not** present in* nums1.\n",
        "\n",
        "**Note** that the integers in the lists may be returned in **any** order.\n",
        "\n",
        "</aside>"
      ],
      "metadata": {
        "id": "hVkDYbw9XtnV"
      }
    },
    {
      "cell_type": "code",
      "source": [
        "\n",
        "def findDifference(nums1, nums2):\n",
        "    n1=set(nums1)\n",
        "    n2=set(nums2)\n",
        "    r1=list(set(x for x in nums1 if x not in n2))\n",
        "    r2=list(set(x for x in nums2 if x not in n1))\n",
        "    return [r1,r2]\n",
        "\n",
        "print(findDifference(nums1 = [1,2,3], nums2 = [2,4,6]))"
      ],
      "metadata": {
        "colab": {
          "base_uri": "https://localhost:8080/"
        },
        "id": "-8_tURXIXf29",
        "outputId": "440db523-4ab6-45cd-af59-7d98c85627ad"
      },
      "execution_count": 6,
      "outputs": [
        {
          "output_type": "stream",
          "name": "stdout",
          "text": [
            "[[1, 3], [4, 6]]\n"
          ]
        }
      ]
    },
    {
      "cell_type": "markdown",
      "source": [
        "<aside>\n",
        "💡 **Question 5**\n",
        "\n",
        "Given two integer arrays arr1 and arr2, and the integer d, *return the distance value between the two arrays*.\n",
        "\n",
        "The distance value is defined as the number of elements arr1[i] such that there is not any element arr2[j] where |arr1[i]-arr2[j]| <= d.\n",
        "\n",
        "</aside>"
      ],
      "metadata": {
        "id": "0ppTGSXGYEu7"
      }
    },
    {
      "cell_type": "code",
      "source": [
        "\n",
        "def findTheDistanceValue(arr1, arr2, d):\n",
        "    x=0\n",
        "    for i in arr1:\n",
        "        c=1\n",
        "        for j in arr2:\n",
        "            if abs(i-j)<=d:\n",
        "                c=0\n",
        "                break\n",
        "        if c:\n",
        "            x+=1\n",
        "    return x\n",
        "\n",
        "print(findTheDistanceValue(arr1 = [4,5,8], arr2 = [10,9,1,8], d = 2))"
      ],
      "metadata": {
        "colab": {
          "base_uri": "https://localhost:8080/"
        },
        "id": "0fIV5O9_YDUO",
        "outputId": "982e0814-f956-4b71-ec2d-aef708a3910e"
      },
      "execution_count": 7,
      "outputs": [
        {
          "output_type": "stream",
          "name": "stdout",
          "text": [
            "2\n"
          ]
        }
      ]
    },
    {
      "cell_type": "markdown",
      "source": [
        "<aside>\n",
        "💡 **Question 6**\n",
        "\n",
        "Given an integer array nums of length n where all the integers of nums are in the range [1, n] and each integer appears **once** or **twice**, return *an array of all the integers that appears **twice***.\n",
        "\n",
        "You must write an algorithm that runs in O(n) time and uses only constant extra space.\n",
        "\n",
        "</aside>"
      ],
      "metadata": {
        "id": "i8iPb2I0Y_de"
      }
    },
    {
      "cell_type": "code",
      "source": [
        "\n",
        "def findDuplicates(nums):\n",
        "    val={}\n",
        "    for i in nums:\n",
        "        if i in val:\n",
        "            val[i]+=1\n",
        "        else:\n",
        "            val[i]=1\n",
        "    keys=[key for key,values in val.items() if values==2]\n",
        "    return keys\n",
        "\n",
        "print(findDuplicates(nums = [4,3,2,7,8,2,3,1]))"
      ],
      "metadata": {
        "colab": {
          "base_uri": "https://localhost:8080/"
        },
        "id": "TOOH8U3_Y9or",
        "outputId": "2eda1a35-e3d6-4060-f518-e8e91eacfc67"
      },
      "execution_count": 8,
      "outputs": [
        {
          "output_type": "stream",
          "name": "stdout",
          "text": [
            "[3, 2]\n"
          ]
        }
      ]
    },
    {
      "cell_type": "markdown",
      "source": [
        "<aside>\n",
        "💡 **Question 7**\n",
        "\n",
        "Suppose an array of length n sorted in ascending order is **rotated** between 1 and n times. For example, the array nums = [0,1,2,4,5,6,7] might become:\n",
        "\n",
        "- [4,5,6,7,0,1,2] if it was rotated 4 times.\n",
        "- [0,1,2,4,5,6,7] if it was rotated 7 times.\n",
        "\n",
        "Notice that **rotating** an array [a[0], a[1], a[2], ..., a[n-1]] 1 time results in the array [a[n-1], a[0], a[1], a[2], ..., a[n-2]].\n",
        "\n",
        "Given the sorted rotated array nums of **unique** elements, return *the minimum element of this array*.\n",
        "\n",
        "You must write an algorithm that runs in O(log n) time.\n",
        "\n",
        "</aside>"
      ],
      "metadata": {
        "id": "oyYDzPOZZbzE"
      }
    },
    {
      "cell_type": "code",
      "source": [
        "\n",
        "def findMin(nums) :\n",
        "    left, right = 0, len(nums) - 1\n",
        "    while left < right:\n",
        "        mid = left + (right - left) // 2\n",
        "        if nums[mid] > nums[right]:\n",
        "            left = mid + 1\n",
        "        else:\n",
        "            right = mid\n",
        "    return nums[left]\n",
        "\n",
        "print(findMin(nums = [3,4,5,1,2]))"
      ],
      "metadata": {
        "colab": {
          "base_uri": "https://localhost:8080/"
        },
        "id": "WLSDccc3ZYmM",
        "outputId": "9d3bbfa8-eaf6-45d6-f37b-51ff2aa90824"
      },
      "execution_count": 10,
      "outputs": [
        {
          "output_type": "stream",
          "name": "stdout",
          "text": [
            "1\n"
          ]
        }
      ]
    },
    {
      "cell_type": "markdown",
      "source": [
        "<aside>\n",
        "💡 **Question 8**\n",
        "\n",
        "An integer array original is transformed into a **doubled** array changed by appending **twice the value** of every element in original, and then randomly **shuffling** the resulting array.\n",
        "\n",
        "Given an array changed, return original *if* changed *is a **doubled** array. If* changed *is not a **doubled** array, return an empty array. The elements in* original *may be returned in **any** order*.\n",
        "\n",
        "</aside>"
      ],
      "metadata": {
        "id": "rL_Wfm9DZxYY"
      }
    },
    {
      "cell_type": "code",
      "source": [
        "\n",
        "def findOriginalArray(changed) :\n",
        "\n",
        "  if len(changed) % 2 != 0:\n",
        "    return []\n",
        "\n",
        "  changed = sorted(changed)\n",
        "\n",
        "  result = []\n",
        "  d = {}\n",
        "\n",
        "  for i in changed:\n",
        "    if i not in d:\n",
        "      d[i] = 1\n",
        "    else:\n",
        "      d[i] = d[i] + 1\n",
        "\n",
        "  for num in changed:\n",
        "    double  = num * 2\n",
        "\n",
        "    if num in d and double in d:\n",
        "\n",
        "      if num == 0 and d[num] >= 2:\n",
        "        d[num] = d[num] - 2\n",
        "        result.append(num)\n",
        "\n",
        "      elif num > 0 and d[num] and d[double]:\n",
        "        d[num] = d[num] - 1\n",
        "        d[double] = d[double] - 1\n",
        "\n",
        "        result.append(num)\n",
        "\n",
        "  if len(changed) // 2 == len(result):\n",
        "    return result\n",
        "  else:\n",
        "    return []\n",
        "\n",
        "print(findOriginalArray(changed = [1,3,4,2,6,8]))"
      ],
      "metadata": {
        "colab": {
          "base_uri": "https://localhost:8080/"
        },
        "id": "khpV-eZVZu57",
        "outputId": "4ee62be6-1058-4b8f-8538-b95f70051781"
      },
      "execution_count": 11,
      "outputs": [
        {
          "output_type": "stream",
          "name": "stdout",
          "text": [
            "[1, 3, 4]\n"
          ]
        }
      ]
    },
    {
      "cell_type": "code",
      "source": [],
      "metadata": {
        "id": "Nw4iv7u6ae_a"
      },
      "execution_count": null,
      "outputs": []
    }
  ]
}