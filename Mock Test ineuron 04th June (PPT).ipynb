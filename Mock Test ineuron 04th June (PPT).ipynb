{
  "nbformat": 4,
  "nbformat_minor": 0,
  "metadata": {
    "colab": {
      "provenance": [],
      "authorship_tag": "ABX9TyOG9/iXK2FJeD+eQ8quRt3Z",
      "include_colab_link": true
    },
    "kernelspec": {
      "name": "python3",
      "display_name": "Python 3"
    },
    "language_info": {
      "name": "python"
    }
  },
  "cells": [
    {
      "cell_type": "markdown",
      "metadata": {
        "id": "view-in-github",
        "colab_type": "text"
      },
      "source": [
        "<a href=\"https://colab.research.google.com/github/Mohitchatterjee/iNeuron-Assignment/blob/main/Mock%20Test%20ineuron%2004th%20June%20(PPT).ipynb\" target=\"_parent\"><img src=\"https://colab.research.google.com/assets/colab-badge.svg\" alt=\"Open In Colab\"/></a>"
      ]
    },
    {
      "cell_type": "markdown",
      "source": [
        "Given an integer array nums, move all 0's to the end of it while maintaining the relative order of the non-zero elements.\n",
        "\n",
        "Note that you must do this in-place without making a copy of the array.\n",
        "\n",
        "Example 1:\n",
        "Input: nums = [0,1,0,3,12]\n",
        "Output: [1,3,12,0,0]\n",
        "\n",
        "Example 2:\n",
        "Input: nums = [0]\n",
        "Output: [0]\n",
        "\n",
        "Constraints:\n",
        "a. 1 <= nums.length <= 10^4\n",
        "b. -2^31 <= nums[i] <= 2^31 - 1"
      ],
      "metadata": {
        "id": "yMapvdWPHTd7"
      }
    },
    {
      "cell_type": "code",
      "execution_count": null,
      "metadata": {
        "id": "wak94xPhGw-H"
      },
      "outputs": [],
      "source": [
        "def moveZerosToEnd(nums):\n",
        "  if 0 not in nums:return 'O is not present in the array'\n",
        "  count = 0 \n",
        "  for i in range(len(nums)):\n",
        "      if nums[i] != 0:\n",
        "        nums[count] = nums[i]\n",
        "        count+=1\n",
        "  while count < len(nums):\n",
        "      nums[count] = 0\n",
        "      count += 1\n",
        "\n",
        "  return nums"
      ]
    },
    {
      "cell_type": "code",
      "source": [
        "print(moveZerosToEnd([0,1,0,3,12]))"
      ],
      "metadata": {
        "colab": {
          "base_uri": "https://localhost:8080/"
        },
        "id": "eYB3GpsdG10c",
        "outputId": "f3021dfa-5ed2-4e05-ecf1-df9ade1c98ff"
      },
      "execution_count": null,
      "outputs": [
        {
          "output_type": "stream",
          "name": "stdout",
          "text": [
            "[1, 3, 12, 0, 0]\n"
          ]
        }
      ]
    },
    {
      "cell_type": "markdown",
      "source": [
        "First Unique Character in a String\n",
        "\n",
        "Given a string s, find the first non-repeating character in it and return its index. If it does not exist, return -1."
      ],
      "metadata": {
        "id": "K_RZbWWdHkTP"
      }
    },
    {
      "cell_type": "code",
      "source": [
        "def uniqueCharacter(s):\n",
        "  for i in range(0,len(s)):\n",
        "    count=1\n",
        "    for j in range(i+1,len(s)):\n",
        "      if s[i] == s[j]: count+=1\n",
        "    if count == 1:return i \n",
        "    else: return -1"
      ],
      "metadata": {
        "id": "_DDLOQDsHOrL"
      },
      "execution_count": 28,
      "outputs": []
    },
    {
      "cell_type": "code",
      "source": [
        "print(uniqueCharacter('loveleetcode'))"
      ],
      "metadata": {
        "colab": {
          "base_uri": "https://localhost:8080/"
        },
        "id": "GMP9pkNlIIxY",
        "outputId": "27c788a1-0cdd-428b-c4c7-8139ff6cc702"
      },
      "execution_count": 33,
      "outputs": [
        {
          "output_type": "stream",
          "name": "stdout",
          "text": [
            "-1\n"
          ]
        }
      ]
    },
    {
      "cell_type": "code",
      "source": [],
      "metadata": {
        "id": "qORmy0A7KekV"
      },
      "execution_count": null,
      "outputs": []
    }
  ]
}