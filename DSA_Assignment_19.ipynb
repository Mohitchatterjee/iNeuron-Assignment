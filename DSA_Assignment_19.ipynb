{
  "nbformat": 4,
  "nbformat_minor": 0,
  "metadata": {
    "colab": {
      "provenance": [],
      "authorship_tag": "ABX9TyPbdChHrwsHF10Jxb0UPSeG",
      "include_colab_link": true
    },
    "kernelspec": {
      "name": "python3",
      "display_name": "Python 3"
    },
    "language_info": {
      "name": "python"
    }
  },
  "cells": [
    {
      "cell_type": "markdown",
      "metadata": {
        "id": "view-in-github",
        "colab_type": "text"
      },
      "source": [
        "<a href=\"https://colab.research.google.com/github/Mohitchatterjee/iNeuron-Assignment/blob/main/DSA_Assignment_19.ipynb\" target=\"_parent\"><img src=\"https://colab.research.google.com/assets/colab-badge.svg\" alt=\"Open In Colab\"/></a>"
      ]
    },
    {
      "cell_type": "markdown",
      "source": [
        "<aside>\n",
        "💡 1. **Merge k Sorted Lists**\n",
        "\n",
        "You are given an array of `k` linked-lists `lists`, each linked-list is sorted in ascending order.\n",
        "\n",
        "*Merge all the linked-lists into one sorted linked-list and return it.*\n",
        "\n",
        "</aside>"
      ],
      "metadata": {
        "id": "BUkTup07FLc6"
      }
    },
    {
      "cell_type": "code",
      "source": [
        "class Node:\n",
        "\n",
        "\tdef __init__(self, x):\n",
        "\n",
        "\t\tself.data = x\n",
        "\t\tself.next = None\n",
        "\n",
        "\n",
        "def printList(node):\n",
        "\n",
        "\twhile (node != None):\n",
        "\t\tprint(node.data,\n",
        "\t\t\tend=\" \")\n",
        "\t\tnode = node.next\n",
        "\n",
        "\n",
        "def mergeKLists(arr, last):\n",
        "\n",
        "\n",
        "\tfor i in range(1, last + 1):\n",
        "\t\twhile (True):\n",
        "\n",
        "\t\t\thead_0 = arr[0]\n",
        "\t\t\thead_i = arr[i]\n",
        "\n",
        "\n",
        "\t\t\tif (head_i == None):\n",
        "\t\t\t\tbreak\n",
        "\n",
        "\n",
        "\t\t\tif (head_0.data >=\n",
        "\t\t\t\t\thead_i.data):\n",
        "\t\t\t\tarr[i] = head_i.next\n",
        "\t\t\t\thead_i.next = head_0\n",
        "\t\t\t\tarr[0] = head_i\n",
        "\t\t\telse:\n",
        "\n",
        "\t\t\t\twhile (head_0.next != None):\n",
        "\n",
        "\t\t\t\t\tif (head_0.next.data >=\n",
        "\t\t\t\t\t\t\thead_i.data):\n",
        "\t\t\t\t\t\tarr[i] = head_i.next\n",
        "\t\t\t\t\t\thead_i.next = head_0.next\n",
        "\t\t\t\t\t\thead_0.next = head_i\n",
        "\t\t\t\t\t\tbreak\n",
        "\n",
        "\t\t\t\t\thead_0 = head_0.next\n",
        "\n",
        "\t\t\t\t\tif (head_0.next == None):\n",
        "\t\t\t\t\t\tarr[i] = head_i.next\n",
        "\t\t\t\t\t\thead_i.next = None\n",
        "\t\t\t\t\t\thead_0.next = head_i\n",
        "\t\t\t\t\t\thead_0.next.next = None\n",
        "\t\t\t\t\t\tbreak\n",
        "\treturn arr[0]\n",
        "\n",
        "\n",
        "\n",
        "if __name__ == '__main__':\n",
        "\tk = 3\n",
        "\tn = 4\n",
        "\n",
        "\n",
        "\tarr = [None for i in range(k)]\n",
        "\n",
        "\tarr[0] = Node(1)\n",
        "\tarr[0].next = Node(4)\n",
        "\tarr[0].next.next = Node(5)\n",
        "\n",
        "\n",
        "\tarr[1] = Node(1)\n",
        "\tarr[1].next = Node(3)\n",
        "\tarr[1].next.next = Node(4)\n",
        "\n",
        "\n",
        "\tarr[2] = Node(2)\n",
        "\tarr[2].next = Node(6)\n",
        "\n",
        "\thead = mergeKLists(arr, k - 1)\n",
        "\n",
        "\tprintList(head)\n",
        "\n"
      ],
      "metadata": {
        "colab": {
          "base_uri": "https://localhost:8080/"
        },
        "id": "9KAvhBGREvy4",
        "outputId": "6dbc792c-1b97-46dc-823e-0f6b65a110d1"
      },
      "execution_count": 8,
      "outputs": [
        {
          "output_type": "stream",
          "name": "stdout",
          "text": [
            "1 1 2 3 4 4 5 6 "
          ]
        }
      ]
    },
    {
      "cell_type": "markdown",
      "source": [
        "<aside>\n",
        "💡 2. **Count of Smaller Numbers After Self**\n",
        "\n",
        "Given an integer array `nums`, return *an integer array* `counts` *where* `counts[i]` *is the number of smaller elements to the right of* `nums[i]`.\n",
        "\n",
        "</aside>"
      ],
      "metadata": {
        "id": "z2BVWJ75GfQA"
      }
    },
    {
      "cell_type": "code",
      "source": [
        "def count_smaller(nums):\n",
        "    n = len(nums)\n",
        "    counts = [0] * n\n",
        "    indices = list(range(n))\n",
        "\n",
        "    def merge_sort(start, end):\n",
        "        if start >= end:\n",
        "            return\n",
        "\n",
        "        mid = start + (end - start) // 2\n",
        "        merge_sort(start, mid)\n",
        "        merge_sort(mid + 1, end)\n",
        "        merge(start, mid, end)\n",
        "\n",
        "    def merge(start, mid, end):\n",
        "        left = start\n",
        "        right = mid + 1\n",
        "        merged = []\n",
        "\n",
        "        while left <= mid and right <= end:\n",
        "            if nums[indices[right]] < nums[indices[left]]:\n",
        "                merged.append(indices[right])\n",
        "                counts[indices[left]] += (end - right + 1)\n",
        "                right += 1\n",
        "            else:\n",
        "                merged.append(indices[left])\n",
        "                left += 1\n",
        "\n",
        "        while left <= mid:\n",
        "            merged.append(indices[left])\n",
        "            left += 1\n",
        "\n",
        "        while right <= end:\n",
        "            merged.append(indices[right])\n",
        "            right += 1\n",
        "\n",
        "        for i in range(start, end + 1):\n",
        "            indices[i] = merged[i - start]\n",
        "\n",
        "    merge_sort(0, n - 1)\n",
        "    return counts\n",
        "\n",
        "\n",
        "nums = [5, 2, 6, 1]\n",
        "counts = count_smaller(nums)\n",
        "print(counts)"
      ],
      "metadata": {
        "colab": {
          "base_uri": "https://localhost:8080/"
        },
        "id": "ulOJSXBPPRoc",
        "outputId": "101350a5-eeba-4f90-a8ad-d551006537c2"
      },
      "execution_count": 10,
      "outputs": [
        {
          "output_type": "stream",
          "name": "stdout",
          "text": [
            "[1, 2, 1, 0]\n"
          ]
        }
      ]
    },
    {
      "cell_type": "markdown",
      "source": [
        "<aside>\n",
        "💡 4. **Move all zeroes to end of array**\n",
        "\n",
        "Given an array of random numbers, Push all the zero’s of a given array to the end of the array. For example, if the given arrays is {1, 9, 8, 4, 0, 0, 2, 7, 0, 6, 0}, it should be changed to {1, 9, 8, 4, 2, 7, 6, 0, 0, 0, 0}. The order of all other elements should be same. Expected time complexity is O(n) and extra space is O(1).\n",
        "\n",
        "</aside>"
      ],
      "metadata": {
        "id": "7ukd5Kc-PlQg"
      }
    },
    {
      "cell_type": "code",
      "source": [
        "def move_zeros(nums):\n",
        "    n = len(nums)\n",
        "    left = 0\n",
        "    right = 0\n",
        "\n",
        "    while right < n:\n",
        "        if nums[right] != 0:\n",
        "            nums[left], nums[right] = nums[right], nums[left]\n",
        "            left += 1\n",
        "        right += 1\n",
        "\n",
        "\n",
        "nums = [1, 2, 0, 4, 3, 0, 5, 0]\n",
        "move_zeros(nums)\n",
        "print(nums)\n"
      ],
      "metadata": {
        "colab": {
          "base_uri": "https://localhost:8080/"
        },
        "id": "lveO6EpPPjfF",
        "outputId": "487c4468-2e85-444b-b9f7-abbd5287fbb2"
      },
      "execution_count": 11,
      "outputs": [
        {
          "output_type": "stream",
          "name": "stdout",
          "text": [
            "[1, 2, 4, 3, 5, 0, 0, 0]\n"
          ]
        }
      ]
    },
    {
      "cell_type": "markdown",
      "source": [
        "<aside>\n",
        "💡 5. **Rearrange array in alternating positive & negative items with O(1) extra space**\n",
        "\n",
        "Given an **array of positive** and **negative numbers**, arrange them in an **alternate** fashion such that every positive number is followed by a negative and vice-versa maintaining the **order of appearance**. The number of positive and negative numbers need not be equal. If there are more positive numbers they appear at the end of the array. If there are more negative numbers, they too appear at the end of the array.\n",
        "\n",
        "</aside>"
      ],
      "metadata": {
        "id": "oXLVttk-P27J"
      }
    },
    {
      "cell_type": "code",
      "source": [
        "def rearrange_alternate(nums):\n",
        "    n = len(nums)\n",
        "    left = 0\n",
        "    right = 0\n",
        "\n",
        "\n",
        "    while right < n:\n",
        "        if nums[right] < 0:\n",
        "            break\n",
        "        right += 1\n",
        "\n",
        "    # Rearrange the array by alternating positive and negative numbers\n",
        "    while left < right < n:\n",
        "        nums[left], nums[right] = nums[right], nums[left]\n",
        "        left += 2\n",
        "        right += 1\n",
        "\n",
        "    # Move any remaining negative numbers to the end of the array\n",
        "    neg_start = right\n",
        "    while right < n:\n",
        "        if nums[right] < 0:\n",
        "            nums[left], nums[right] = nums[right], nums[left]\n",
        "            left += 1\n",
        "        right += 1\n",
        "\n",
        "\n",
        "nums = [-5, -2, 5, 2, 4, 7, 1, 8, 0, -8]\n",
        "rearrange_alternate(nums)\n",
        "print(nums)\n"
      ],
      "metadata": {
        "colab": {
          "base_uri": "https://localhost:8080/"
        },
        "id": "97zCbkkAP0mE",
        "outputId": "86d4edbe-f75f-4581-82c2-3fe378806f80"
      },
      "execution_count": 13,
      "outputs": [
        {
          "output_type": "stream",
          "name": "stdout",
          "text": [
            "[-5, -2, -8, 2, 4, 7, 1, 8, 0, 5]\n"
          ]
        }
      ]
    },
    {
      "cell_type": "markdown",
      "source": [
        "<aside>\n",
        "💡 **6. Merge two sorted arrays**\n",
        "\n",
        "Given two sorted arrays, the task is to merge them in a sorted manner.\n",
        "\n",
        "</aside>"
      ],
      "metadata": {
        "id": "fI1BMLTrQQuR"
      }
    },
    {
      "cell_type": "code",
      "source": [
        "def merge_sorted_arrays(arr1, arr2):\n",
        "    merged = []\n",
        "    i = 0\n",
        "    j = 0\n",
        "\n",
        "    while i < len(arr1) and j < len(arr2):\n",
        "        if arr1[i] <= arr2[j]:\n",
        "            merged.append(arr1[i])\n",
        "            i += 1\n",
        "        else:\n",
        "            merged.append(arr2[j])\n",
        "            j += 1\n",
        "\n",
        "    while i < len(arr1):\n",
        "        merged.append(arr1[i])\n",
        "        i += 1\n",
        "\n",
        "    while j < len(arr2):\n",
        "        merged.append(arr2[j])\n",
        "        j += 1\n",
        "\n",
        "    return merged\n",
        "\n",
        "\n",
        "\n",
        "arr1 = [1, 3, 4, 5]\n",
        "arr2 = [2, 4, 6, 8]\n",
        "merged = merge_sorted_arrays(arr1, arr2)\n",
        "print(merged)\n"
      ],
      "metadata": {
        "colab": {
          "base_uri": "https://localhost:8080/"
        },
        "id": "hoNVCpNXQDyo",
        "outputId": "76d26e28-ece5-4cf7-a7ff-d5d0a49c732e"
      },
      "execution_count": 14,
      "outputs": [
        {
          "output_type": "stream",
          "name": "stdout",
          "text": [
            "[1, 2, 3, 4, 4, 5, 6, 8]\n"
          ]
        }
      ]
    },
    {
      "cell_type": "markdown",
      "source": [
        "<aside>\n",
        "💡 7. **Intersection of Two Arrays**\n",
        "\n",
        "Given two integer arrays `nums1` and `nums2`, return *an array of their intersection*. Each element in the result must be **unique** and you may return the result in **any order**.\n",
        "\n",
        "</aside>"
      ],
      "metadata": {
        "id": "FYFRKSK2QgRp"
      }
    },
    {
      "cell_type": "code",
      "source": [
        "def intersection(nums1, nums2):\n",
        "    set1 = set(nums1)\n",
        "    set2 = set(nums2)\n",
        "    intersection_set = set1.intersection(set2)\n",
        "    intersection_list = list(intersection_set)\n",
        "    return intersection_list\n",
        "\n",
        "\n",
        "nums1 = [1, 2, 2, 1]\n",
        "nums2 = [2, 2]\n",
        "intersection_result = intersection(nums1, nums2)\n",
        "print(intersection_result)\n"
      ],
      "metadata": {
        "colab": {
          "base_uri": "https://localhost:8080/"
        },
        "id": "IO4Njyg-QemY",
        "outputId": "83d8c457-87ee-4673-ee8b-42e5a6c1ec68"
      },
      "execution_count": 16,
      "outputs": [
        {
          "output_type": "stream",
          "name": "stdout",
          "text": [
            "[2]\n"
          ]
        }
      ]
    },
    {
      "cell_type": "markdown",
      "source": [
        "<aside>\n",
        "💡 8. **Intersection of Two Arrays II**\n",
        "\n",
        "Given two integer arrays `nums1` and `nums2`, return *an array of their intersection*. Each element in the result must appear as many times as it shows in both arrays and you may return the result in **any order**.\n",
        "\n",
        "</aside>"
      ],
      "metadata": {
        "id": "dFmgjjwUQqtx"
      }
    },
    {
      "cell_type": "code",
      "source": [
        "def intersect(nums1, nums2):\n",
        "    frequency = {}\n",
        "    intersection = []\n",
        "\n",
        "\n",
        "    for num in nums1:\n",
        "        if num in frequency:\n",
        "            frequency[num] += 1\n",
        "        else:\n",
        "            frequency[num] = 1\n",
        "\n",
        "\n",
        "    for num in nums2:\n",
        "        if num in frequency and frequency[num] > 0:\n",
        "            intersection.append(num)\n",
        "            frequency[num] -= 1\n",
        "\n",
        "    return intersection\n",
        "\n",
        "\n",
        "nums1 = [1, 2, 2, 1]\n",
        "nums2 = [2, 2]\n",
        "intersection_result = intersect(nums1, nums2)\n",
        "print(intersection_result)\n"
      ],
      "metadata": {
        "colab": {
          "base_uri": "https://localhost:8080/"
        },
        "id": "gs8KqxXmQomf",
        "outputId": "786395e6-26fc-4100-907e-161317017808"
      },
      "execution_count": 18,
      "outputs": [
        {
          "output_type": "stream",
          "name": "stdout",
          "text": [
            "[2, 2]\n"
          ]
        }
      ]
    },
    {
      "cell_type": "code",
      "source": [],
      "metadata": {
        "id": "syVxwhYUQ2FE"
      },
      "execution_count": null,
      "outputs": []
    }
  ]
}