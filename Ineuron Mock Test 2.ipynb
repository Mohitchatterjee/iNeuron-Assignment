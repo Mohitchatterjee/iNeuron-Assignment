{
  "nbformat": 4,
  "nbformat_minor": 0,
  "metadata": {
    "colab": {
      "provenance": [],
      "authorship_tag": "ABX9TyPcVC5cERDVlqZhEwpMVWK8"
    },
    "kernelspec": {
      "name": "python3",
      "display_name": "Python 3"
    },
    "language_info": {
      "name": "python"
    }
  },
  "cells": [
    {
      "cell_type": "markdown",
      "source": [
        "Given a non-negative integer x, return the square root of x rounded down to the nearest integer. The returned integer should be non-negative as well. You must not use any built-in exponent function or operator."
      ],
      "metadata": {
        "id": "4I4_nzu3F4z1"
      }
    },
    {
      "cell_type": "code",
      "execution_count": 7,
      "metadata": {
        "id": "lv--pCx1_u8m"
      },
      "outputs": [],
      "source": [
        "def sqrtFunction(x):\n",
        "    if x == 0: return 0\n",
        "\n",
        "    left, right = 1, x\n",
        "    while left <= right:\n",
        "        mid = (left + right) // 2\n",
        "        if mid * mid == x: return mid\n",
        "        elif mid * mid > x: right = mid - 1\n",
        "        else:left = mid + 1\n",
        "    return right\n",
        "\n",
        "\n"
      ]
    },
    {
      "cell_type": "code",
      "source": [
        "print(sqrtFunction(8))\n"
      ],
      "metadata": {
        "colab": {
          "base_uri": "https://localhost:8080/"
        },
        "id": "SYDiSXEw_7Bp",
        "outputId": "af187cc4-ca88-402e-b5b5-307e39446c43"
      },
      "execution_count": 8,
      "outputs": [
        {
          "output_type": "stream",
          "name": "stdout",
          "text": [
            "2\n"
          ]
        }
      ]
    },
    {
      "cell_type": "markdown",
      "source": [
        "You are given two non-empty linked lists representing two non-negative integers. The digits are stored in reverse order, and each of their nodes contains a single digit. Add the two numbers and return the sum as a linked list.\n",
        "\n",
        "You may assume the two numbers do not contain any leading zero, except the number 0 itself.\n"
      ],
      "metadata": {
        "id": "As-vDLpgGh5m"
      }
    },
    {
      "cell_type": "code",
      "source": [
        "class ListNode:\n",
        "    def __init__(self, val=0, next=None):\n",
        "        self.val = val\n",
        "        self.next = next\n",
        "\n",
        "def addTwoNumbers(l1, l2):\n",
        "    dummy = ListNode(0)\n",
        "    curr = dummy\n",
        "    carry = 0\n",
        "\n",
        "    while l1 or l2 or carry:\n",
        "        sum_val = carry\n",
        "        if l1:\n",
        "            sum_val += l1.val\n",
        "            l1 = l1.next\n",
        "        if l2:\n",
        "            sum_val += l2.val\n",
        "            l2 = l2.next\n",
        "\n",
        "        carry = sum_val // 10\n",
        "        curr.next = ListNode(sum_val % 10)\n",
        "        curr = curr.next\n",
        "\n",
        "    return dummy.next\n",
        "\n",
        "\n",
        "l1 = ListNode(2)\n",
        "l1.next = ListNode(4)\n",
        "l1.next.next = ListNode(3)\n",
        "\n",
        "l2 = ListNode(5)\n",
        "l2.next = ListNode(6)\n",
        "l2.next.next = ListNode(4)\n",
        "\n",
        "result = addTwoNumbers(l1, l2)\n",
        "\n",
        "while result:\n",
        "    print(result.val,end=' ')\n",
        "    result = result.next"
      ],
      "metadata": {
        "colab": {
          "base_uri": "https://localhost:8080/"
        },
        "id": "rtvZUGa8AbPC",
        "outputId": "ef278211-36d8-41be-8fcb-69b349708327"
      },
      "execution_count": 11,
      "outputs": [
        {
          "output_type": "stream",
          "name": "stdout",
          "text": [
            "7 0 8 "
          ]
        }
      ]
    },
    {
      "cell_type": "code",
      "source": [],
      "metadata": {
        "id": "HJW7N_8wGtbT"
      },
      "execution_count": null,
      "outputs": []
    }
  ]
}