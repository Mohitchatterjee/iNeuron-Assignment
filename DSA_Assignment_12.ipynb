{
  "nbformat": 4,
  "nbformat_minor": 0,
  "metadata": {
    "colab": {
      "provenance": [],
      "authorship_tag": "ABX9TyP4hHm/NodHZ+KAweHEKeDK",
      "include_colab_link": true
    },
    "kernelspec": {
      "name": "python3",
      "display_name": "Python 3"
    },
    "language_info": {
      "name": "python"
    }
  },
  "cells": [
    {
      "cell_type": "markdown",
      "metadata": {
        "id": "view-in-github",
        "colab_type": "text"
      },
      "source": [
        "<a href=\"https://colab.research.google.com/github/Mohitchatterjee/iNeuron-Assignment/blob/main/DSA_Assignment_12.ipynb\" target=\"_parent\"><img src=\"https://colab.research.google.com/assets/colab-badge.svg\" alt=\"Open In Colab\"/></a>"
      ]
    },
    {
      "cell_type": "markdown",
      "source": [
        "<aside>\n",
        "💡 **Question 1**\n",
        "\n",
        "Given a singly linked list, delete **middle** of the linked list. For example, if given linked list is 1->2->**3**->4->5 then linked list should be modified to 1->2->4->5.If there are **even** nodes, then there would be **two middle** nodes, we need to delete the second middle element. For example, if given linked list is 1->2->3->4->5->6 then it should be modified to 1->2->3->5->6.If the input linked list is NULL or has 1 node, then it should return NULL\n",
        "\n",
        "</aside>"
      ],
      "metadata": {
        "id": "PH7BLMzER7uU"
      }
    },
    {
      "cell_type": "code",
      "execution_count": 1,
      "metadata": {
        "id": "FEePHhaNR3X_"
      },
      "outputs": [],
      "source": [
        "class ListNode:\n",
        "    def __init__(self, val=0, next=None):\n",
        "        self.val = val\n",
        "        self.next = next\n",
        "\n",
        "def delete_middle_node(head):\n",
        "    if not head or not head.next:\n",
        "        return None\n",
        "\n",
        "    slow = head\n",
        "    fast = head\n",
        "    prev = None\n",
        "\n",
        "    while fast and fast.next:\n",
        "        prev = slow\n",
        "        slow = slow.next\n",
        "        fast = fast.next.next\n",
        "\n",
        "    prev.next = slow.next\n",
        "\n",
        "    return head\n"
      ]
    },
    {
      "cell_type": "code",
      "source": [
        "# Create a linked list: 1 -> 2 -> 3 -> 4 -> 5\n",
        "head = ListNode(1)\n",
        "head.next = ListNode(2)\n",
        "head.next.next = ListNode(3)\n",
        "head.next.next.next = ListNode(4)\n",
        "head.next.next.next.next = ListNode(5)\n",
        "\n",
        "new_head = delete_middle_node(head)\n",
        "\n",
        "\n",
        "current = new_head\n",
        "while current:\n",
        "    print(current.val, end=\" -> \")\n",
        "    current = current.next\n"
      ],
      "metadata": {
        "colab": {
          "base_uri": "https://localhost:8080/"
        },
        "id": "u9IwCpfxR89K",
        "outputId": "fae160ad-dada-4404-b161-6ff5b8c7e7d4"
      },
      "execution_count": 2,
      "outputs": [
        {
          "output_type": "stream",
          "name": "stdout",
          "text": [
            "1 -> 2 -> 4 -> 5 -> "
          ]
        }
      ]
    },
    {
      "cell_type": "markdown",
      "source": [
        "<aside>\n",
        "💡 **Question 2**\n",
        "\n",
        "Given a linked list of **N** nodes. The task is to check if the linked list has a loop. Linked list can contain self loop.\n",
        "\n",
        "</aside>"
      ],
      "metadata": {
        "id": "IzgbWNCHSfCq"
      }
    },
    {
      "cell_type": "code",
      "source": [
        "class ListNode:\n",
        "    def __init__(self, val=0, next=None):\n",
        "        self.val = val\n",
        "        self.next = next\n",
        "\n",
        "def has_cycle(head):\n",
        "    if not head or not head.next:\n",
        "        return False\n",
        "\n",
        "    slow = head\n",
        "    fast = head.next\n",
        "\n",
        "    while slow != fast:\n",
        "        if not fast or not fast.next:\n",
        "            return False\n",
        "        slow = slow.next\n",
        "        fast = fast.next.next\n",
        "\n",
        "    return True\n",
        "\n",
        "\n",
        "\n",
        "head = ListNode(1)\n",
        "head.next = ListNode(3)\n",
        "head.next.next = ListNode(4)\n",
        "head.next.next.next = head.next\n",
        "has_loop = has_cycle(head)\n",
        "print(has_loop)\n"
      ],
      "metadata": {
        "colab": {
          "base_uri": "https://localhost:8080/"
        },
        "id": "JhG44D4qSYHl",
        "outputId": "ccc965a3-c420-45ab-aee5-efd51c8a3cc4"
      },
      "execution_count": 9,
      "outputs": [
        {
          "output_type": "stream",
          "name": "stdout",
          "text": [
            "True\n"
          ]
        }
      ]
    },
    {
      "cell_type": "markdown",
      "source": [
        "<aside>\n",
        "💡 **Question 3**\n",
        "\n",
        "Given a linked list consisting of **L** nodes and given a number **N**. The task is to find the **N**th node from the end of the linked list.\n",
        "\n",
        "</aside>"
      ],
      "metadata": {
        "id": "BqjZkolMThhq"
      }
    },
    {
      "cell_type": "code",
      "source": [
        "class ListNode:\n",
        "    def __init__(self, val=0, next=None):\n",
        "        self.val = val\n",
        "        self.next = next\n",
        "\n",
        "def find_nth_from_end(head, n):\n",
        "    if not head:\n",
        "        return None\n",
        "\n",
        "    slow = head\n",
        "    fast = head\n",
        "\n",
        "    # Move the fast pointer N nodes ahead\n",
        "    for _ in range(n-1):\n",
        "        if not fast:\n",
        "            return None\n",
        "        fast = fast.next\n",
        "\n",
        "    # Move both pointers until the fast pointer reaches the end\n",
        "    while fast and fast.next:\n",
        "        slow = slow.next\n",
        "        fast = fast.next\n",
        "\n",
        "    return slow\n",
        "\n",
        "\n",
        "# Create a linked list: 1 -> 2 -> 3 -> 4 -> 5 -> 6\n",
        "head = ListNode(1)\n",
        "head.next = ListNode(2)\n",
        "head.next.next = ListNode(3)\n",
        "head.next.next.next = ListNode(4)\n",
        "head.next.next.next.next = ListNode(5)\n",
        "head.next.next.next.next.next = ListNode(6)\n",
        "head.next.next.next.next.next.next = ListNode(7)\n",
        "head.next.next.next.next.next.next.next = ListNode(8)\n",
        "head.next.next.next.next.next.next.next.next = ListNode(9)\n",
        "n = 2\n",
        "nth_from_end = find_nth_from_end(head, n)\n",
        "if nth_from_end:\n",
        "    print(nth_from_end.val)\n",
        "else:\n",
        "    print(\"N is larger than the length of the linked list.\")\n"
      ],
      "metadata": {
        "colab": {
          "base_uri": "https://localhost:8080/"
        },
        "id": "HLJKvu7wS4Pp",
        "outputId": "70c6aaf3-a770-4fe5-c228-7b5e4393239b"
      },
      "execution_count": 16,
      "outputs": [
        {
          "output_type": "stream",
          "name": "stdout",
          "text": [
            "8\n"
          ]
        }
      ]
    },
    {
      "cell_type": "markdown",
      "source": [
        "<aside>\n",
        "💡 **Question 4**\n",
        "\n",
        "Given a singly linked list of characters, write a function that returns true if the given list is a palindrome, else false.\n",
        "\n",
        "</aside>"
      ],
      "metadata": {
        "id": "G1703NcjVa5b"
      }
    },
    {
      "cell_type": "code",
      "source": [
        "class ListNode:\n",
        "    def __init__(self, val=0, next=None):\n",
        "        self.val = val\n",
        "        self.next = next\n",
        "\n",
        "def is_palindrome(head):\n",
        "    if not head or not head.next:\n",
        "        return True\n",
        "\n",
        "\n",
        "    slow = head\n",
        "    fast = head\n",
        "\n",
        "    while fast and fast.next:\n",
        "        slow = slow.next\n",
        "        fast = fast.next.next\n",
        "\n",
        "\n",
        "    second_half = reverse_linked_list(slow)\n",
        "\n",
        "\n",
        "    first_half = head\n",
        "\n",
        "    while second_half:\n",
        "        if first_half.val != second_half.val:\n",
        "            return False\n",
        "        first_half = first_half.next\n",
        "        second_half = second_half.next\n",
        "\n",
        "    return True\n",
        "\n",
        "def reverse_linked_list(head):\n",
        "    prev = None\n",
        "    current = head\n",
        "\n",
        "    while current:\n",
        "        next_node = current.next\n",
        "        current.next = prev\n",
        "        prev = current\n",
        "        current = next_node\n",
        "\n",
        "    return prev\n",
        "\n",
        "\n",
        "\n",
        "# Example 1: Palindrome\n",
        "head1 = ListNode('a')\n",
        "head1.next = ListNode('b')\n",
        "head1.next.next = ListNode('c')\n",
        "head1.next.next.next = ListNode('b')\n",
        "head1.next.next.next.next = ListNode('a')\n",
        "\n",
        "print(is_palindrome(head1))\n",
        "\n",
        "# Example 2: Not a palindrome\n",
        "head2 = ListNode('a')\n",
        "head2.next = ListNode('b')\n",
        "head2.next.next = ListNode('c')\n",
        "head2.next.next.next = ListNode('d')\n",
        "head2.next.next.next.next = ListNode('e')\n",
        "\n",
        "print(is_palindrome(head2))"
      ],
      "metadata": {
        "colab": {
          "base_uri": "https://localhost:8080/"
        },
        "id": "aZBOIv8fTw4Y",
        "outputId": "6eff8a3f-326f-4f6d-fb15-3adb2bdff31f"
      },
      "execution_count": 18,
      "outputs": [
        {
          "output_type": "stream",
          "name": "stdout",
          "text": [
            "True\n",
            "False\n"
          ]
        }
      ]
    },
    {
      "cell_type": "markdown",
      "source": [
        "<aside>\n",
        "💡 **Question 6**\n",
        "\n",
        "Given a linked list and two integers M and N. Traverse the linked list such that you retain M nodes then delete next N nodes, continue the same till end of the linked list.\n",
        "\n",
        "</aside>"
      ],
      "metadata": {
        "id": "X28c-558Wbob"
      }
    },
    {
      "cell_type": "code",
      "source": [
        "\n",
        "class Node:\n",
        "\n",
        "\n",
        "\tdef __init__(self, data):\n",
        "\t\tself.data = data\n",
        "\t\tself.next = None\n",
        "\n",
        "class LinkedList:\n",
        "\n",
        "\n",
        "\tdef __init__(self):\n",
        "\t\tself.head = None\n",
        "\n",
        "\n",
        "\tdef push(self, new_data):\n",
        "\t\tnew_node = Node(new_data)\n",
        "\t\tnew_node.next = self.head\n",
        "\t\tself.head = new_node\n",
        "\n",
        "\n",
        "\tdef printList(self):\n",
        "\t\ttemp = self.head\n",
        "\t\twhile(temp):\n",
        "\t\t\tprint (temp.data,end=\"->\")\n",
        "\t\t\ttemp = temp.next\n",
        "\n",
        "\tdef skipMdeleteN(self, M, N):\n",
        "\t\tcurr = self.head\n",
        "\n",
        "\n",
        "\t\twhile(curr):\n",
        "\n",
        "\t\t\tfor count in range(1, M):\n",
        "\t\t\t\tif curr is None:\n",
        "\t\t\t\t\treturn\n",
        "\t\t\t\tcurr = curr.next\n",
        "\n",
        "\t\t\tif curr is None :\n",
        "\t\t\t\treturn\n",
        "\n",
        "\n",
        "\t\t\tt = curr.next\n",
        "\t\t\tfor count in range(1, N+1):\n",
        "\t\t\t\tif t is None:\n",
        "\t\t\t\t\tbreak\n",
        "\t\t\t\tt = t.next\n",
        "\n",
        "\n",
        "\t\t\tcurr.next = t\n",
        "\n",
        "\t\t\tcurr = t\n",
        "\n",
        "# 1->2->3->4->5->6->7->8->9->10\n",
        "llist = LinkedList()\n",
        "M = 2\n",
        "N = 2\n",
        "\n",
        "llist.push(8)\n",
        "llist.push(7)\n",
        "llist.push(6)\n",
        "llist.push(5)\n",
        "llist.push(4)\n",
        "llist.push(3)\n",
        "llist.push(2)\n",
        "llist.push(1)\n",
        "\n",
        "print (\"M = %d, N = %d\\nGiven Linked List is:\" %(M, N))\n",
        "llist.printList()\n",
        "print()\n",
        "\n",
        "llist.skipMdeleteN(M, N)\n",
        "\n",
        "print (\"\\nLinked list after deletion is\")\n",
        "llist.printList()\n",
        "\n"
      ],
      "metadata": {
        "colab": {
          "base_uri": "https://localhost:8080/"
        },
        "id": "E6ATF-GIWJmQ",
        "outputId": "17733b1a-56d7-48e3-909b-7c1798d59c7e"
      },
      "execution_count": 27,
      "outputs": [
        {
          "output_type": "stream",
          "name": "stdout",
          "text": [
            "M = 2, N = 2\n",
            "Given Linked List is:\n",
            "1->2->3->4->5->6->7->8->\n",
            "\n",
            "Linked list after deletion is\n",
            "1->2->5->6->"
          ]
        }
      ]
    },
    {
      "cell_type": "markdown",
      "source": [
        "<aside>\n",
        "💡 **Question 7**\n",
        "\n",
        "Given two linked lists, insert nodes of second list into first list at alternate positions of first list.\n",
        "For example, if first list is 5->7->17->13->11 and second is 12->10->2->4->6, the first list should become 5->12->7->10->17->2->13->4->11->6 and second list should become empty. The nodes of second list should only be inserted when there are positions available. For example, if the first list is 1->2->3 and second list is 4->5->6->7->8, then first list should become 1->4->2->5->3->6 and second list to 7->8.\n",
        "\n",
        "Use of extra space is not allowed (Not allowed to create additional nodes), i.e., insertion must be done in-place. Expected time complexity is O(n) where n is number of nodes in first list.\n",
        "\n",
        "</aside>"
      ],
      "metadata": {
        "id": "J7HZV8FYXqca"
      }
    },
    {
      "cell_type": "code",
      "source": [
        "class ListNode:\n",
        "    def __init__(self, val=0, next=None):\n",
        "        self.val = val\n",
        "        self.next = next\n",
        "\n",
        "def merge_lists(first, second):\n",
        "    if not first:\n",
        "        return second\n",
        "\n",
        "    current1 = first\n",
        "    current2 = second\n",
        "\n",
        "    while current1 and current2:\n",
        "        next1 = current1.next\n",
        "        next2 = current2.next\n",
        "\n",
        "        current1.next = current2\n",
        "        current2.next = next1\n",
        "\n",
        "        current1 = next1\n",
        "        current2 = next2\n",
        "\n",
        "    return first\n",
        "\n",
        "\n",
        "\n",
        "# Create the first linked list: 5 -> 7 -> 17 -> 13 -> 11\n",
        "first = ListNode(5)\n",
        "first.next = ListNode(7)\n",
        "first.next.next = ListNode(17)\n",
        "first.next.next.next = ListNode(13)\n",
        "first.next.next.next.next = ListNode(11)\n",
        "\n",
        "# Create the second linked list: 12 -> 10 -> 2 -> 4 -> 6\n",
        "second = ListNode(12)\n",
        "second.next = ListNode(10)\n",
        "second.next.next = ListNode(2)\n",
        "second.next.next.next = ListNode(4)\n",
        "second.next.next.next.next = ListNode(6)\n",
        "\n",
        "merged = merge_lists(first, second)\n",
        "\n",
        "# Print the modified first linked list\n",
        "current = merged\n",
        "while current:\n",
        "    print(current.val, end=\" -> \")\n",
        "    current = current.next\n",
        "\n",
        "print(second)  # Output: None\n"
      ],
      "metadata": {
        "colab": {
          "base_uri": "https://localhost:8080/"
        },
        "id": "H91P5rJ4Wz8e",
        "outputId": "d20e0d24-805b-4d84-84db-1ea2dc8f7a45"
      },
      "execution_count": 28,
      "outputs": [
        {
          "output_type": "stream",
          "name": "stdout",
          "text": [
            "5 -> 12 -> 7 -> 10 -> 17 -> 2 -> 13 -> 4 -> 11 -> 6 -> <__main__.ListNode object at 0x7fe10e1abf70>\n"
          ]
        }
      ]
    },
    {
      "cell_type": "markdown",
      "source": [
        "<aside>\n",
        "💡 **Question 8**\n",
        "\n",
        "Given a singly linked list, find if the linked list is [circular](https://www.geeksforgeeks.org/circular-linked-list/amp/) or not.\n",
        "\n",
        "> A linked list is called circular if it is not NULL-terminated and all nodes are connected in the form of a cycle. Below is an example of a circular linked list.\n",
        ">\n",
        "</aside>"
      ],
      "metadata": {
        "id": "xyj5qRn9Zk6S"
      }
    },
    {
      "cell_type": "code",
      "source": [
        "class ListNode:\n",
        "    def __init__(self, val=0, next=None):\n",
        "        self.val = val\n",
        "        self.next = next\n",
        "\n",
        "def is_circular(head):\n",
        "    if not head:\n",
        "        return False\n",
        "\n",
        "    slow = head\n",
        "    fast = head.next\n",
        "\n",
        "    while fast and fast.next:\n",
        "        if slow == fast:\n",
        "            return True\n",
        "        slow = slow.next\n",
        "        fast = fast.next.next\n",
        "\n",
        "    return False\n",
        "\n",
        "\n",
        "# Create a circular linked list: 1 -> 2 -> 3 -> 4 -> 5 -> 2 (loop)\n",
        "head = ListNode(1)\n",
        "head.next = ListNode(2)\n",
        "head.next.next = ListNode(3)\n",
        "head.next.next.next = ListNode(4)\n",
        "head.next.next.next.next = ListNode(5)\n",
        "head.next.next.next.next.next = head.next\n",
        "\n",
        "print(is_circular(head))\n"
      ],
      "metadata": {
        "colab": {
          "base_uri": "https://localhost:8080/"
        },
        "id": "a63Udra4Zd9E",
        "outputId": "ecf09c9a-ed3a-47a3-f094-07be36f78ac6"
      },
      "execution_count": 29,
      "outputs": [
        {
          "output_type": "stream",
          "name": "stdout",
          "text": [
            "True\n"
          ]
        }
      ]
    },
    {
      "cell_type": "code",
      "source": [],
      "metadata": {
        "id": "I8wYxh4BZ9Ez"
      },
      "execution_count": null,
      "outputs": []
    }
  ]
}