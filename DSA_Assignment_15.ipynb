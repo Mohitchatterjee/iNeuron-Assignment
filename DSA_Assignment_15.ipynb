{
  "nbformat": 4,
  "nbformat_minor": 0,
  "metadata": {
    "colab": {
      "provenance": [],
      "authorship_tag": "ABX9TyP9CvTken4RsclGsjzyCUZ9",
      "include_colab_link": true
    },
    "kernelspec": {
      "name": "python3",
      "display_name": "Python 3"
    },
    "language_info": {
      "name": "python"
    }
  },
  "cells": [
    {
      "cell_type": "markdown",
      "metadata": {
        "id": "view-in-github",
        "colab_type": "text"
      },
      "source": [
        "<a href=\"https://colab.research.google.com/github/Mohitchatterjee/iNeuron-Assignment/blob/main/DSA_Assignment_15.ipynb\" target=\"_parent\"><img src=\"https://colab.research.google.com/assets/colab-badge.svg\" alt=\"Open In Colab\"/></a>"
      ]
    },
    {
      "cell_type": "markdown",
      "source": [
        "<aside>\n",
        "💡 **Question 1**\n",
        "\n",
        "Given an array **arr[ ]** of size **N** having elements, the task is to find the next greater element for each element of the array in order of their appearance in the array.Next greater element of an element in the array is the nearest element on the right which is greater than the current element.If there does not exist next greater of current element, then next greater element for current element is -1. For example, next greater of the last element is always -1.\n",
        "\n",
        "</aside>"
      ],
      "metadata": {
        "id": "gBh2vLKyNeip"
      }
    },
    {
      "cell_type": "code",
      "execution_count": 3,
      "metadata": {
        "colab": {
          "base_uri": "https://localhost:8080/"
        },
        "id": "0JKLTvuDNV9A",
        "outputId": "3cfb2d7f-2b39-4e81-b220-5b7537e92eef"
      },
      "outputs": [
        {
          "output_type": "stream",
          "name": "stdout",
          "text": [
            "[3, 4, 4, -1]\n"
          ]
        }
      ],
      "source": [
        "def find_next_greater_elements(N,arr):\n",
        "    stack = []\n",
        "    result = [-1] * N\n",
        "\n",
        "    for i in range(N - 1, -1, -1):\n",
        "        while stack and stack[-1] <= arr[i]:\n",
        "            stack.pop()\n",
        "\n",
        "        if stack:\n",
        "            result[i] = stack[-1]\n",
        "\n",
        "        stack.append(arr[i])\n",
        "\n",
        "    return result\n",
        "\n",
        "\n",
        "print(find_next_greater_elements(N=4,arr=[1, 3, 2, 4]))"
      ]
    },
    {
      "cell_type": "markdown",
      "source": [
        "<aside>\n",
        "💡 **Question 2**\n",
        "\n",
        "Given an array **a** of integers of length **n**, find the nearest smaller number for every element such that the smaller element is on left side.If no small element present on the left print -1.\n",
        "\n",
        "</aside>"
      ],
      "metadata": {
        "id": "veWbBuivPjNM"
      }
    },
    {
      "cell_type": "code",
      "source": [
        "def find_nearest_smaller_numbers(n,arr):\n",
        "    stack = []\n",
        "    result = [-1] * n\n",
        "\n",
        "    for i in range(n):\n",
        "        while stack and stack[-1] >= arr[i]:\n",
        "            stack.pop()\n",
        "\n",
        "        if stack:\n",
        "            result[i] = stack[-1]\n",
        "\n",
        "        stack.append(arr[i])\n",
        "\n",
        "    return result\n",
        "\n",
        "\n",
        "print(find_nearest_smaller_numbers(n=3, arr = [1, 6, 2]))"
      ],
      "metadata": {
        "colab": {
          "base_uri": "https://localhost:8080/"
        },
        "id": "lWu2Ykl3O2ZN",
        "outputId": "14d59589-7ef0-40be-9cac-8874569abfeb"
      },
      "execution_count": 4,
      "outputs": [
        {
          "output_type": "stream",
          "name": "stdout",
          "text": [
            "[-1, 1, 1]\n"
          ]
        }
      ]
    },
    {
      "cell_type": "markdown",
      "source": [
        "\n",
        "<aside>\n",
        "💡 **Question 3**\n",
        "\n",
        "Implement a Stack using two queues **q1** and **q2**.\n",
        "\n",
        "</aside>"
      ],
      "metadata": {
        "id": "Sy_PMohMU0NR"
      }
    },
    {
      "cell_type": "code",
      "source": [
        "class Stack:\n",
        "    def __init__(self):\n",
        "        self.q1 = []\n",
        "        self.q2 = []\n",
        "\n",
        "    def push(self, element):\n",
        "        self.q1.append(element)\n",
        "\n",
        "    def pop(self):\n",
        "        if not self.q1 and not self.q2:\n",
        "            return \"Error: Stack is empty\"\n",
        "\n",
        "        if not self.q2:\n",
        "            while len(self.q1) > 1:\n",
        "                self.q2.append(self.q1.pop(0))\n",
        "\n",
        "            return self.q1.pop(0)\n",
        "\n",
        "        return self.q2.pop(0)\n",
        "\n",
        "    def top(self):\n",
        "        if not self.q1 and not self.q2:\n",
        "            return \"Error: Stack is empty\"\n",
        "\n",
        "        if not self.q2:\n",
        "            while len(self.q1) > 1:\n",
        "                self.q2.append(self.q1.pop(0))\n",
        "\n",
        "            return self.q1[0]\n",
        "\n",
        "        return self.q2[0]\n",
        "\n",
        "\n",
        "\n",
        "stack = Stack()\n",
        "stack.push(2)\n",
        "stack.push(3)\n",
        "print(stack.pop())\n",
        "stack.push(4)\n",
        "print(stack.pop())\n",
        "print(stack.top())\n",
        "\n"
      ],
      "metadata": {
        "colab": {
          "base_uri": "https://localhost:8080/"
        },
        "id": "kKoavQZDQEH2",
        "outputId": "d1e975f8-b1fa-4fb4-f58f-034b257a8b05"
      },
      "execution_count": 16,
      "outputs": [
        {
          "output_type": "stream",
          "name": "stdout",
          "text": [
            "3\n",
            "2\n",
            "4\n"
          ]
        }
      ]
    },
    {
      "cell_type": "markdown",
      "source": [
        "<aside>\n",
        "💡 **Question 4**\n",
        "\n",
        "You are given a stack **St**. You have to reverse the stack using recursion.\n",
        "\n",
        "</aside>"
      ],
      "metadata": {
        "id": "80lGK1_zdsig"
      }
    },
    {
      "cell_type": "code",
      "source": [
        "def reverse_stack(stack):\n",
        "    if len(stack) <= 1:\n",
        "        return\n",
        "\n",
        "    top_element = stack.pop()\n",
        "    reverse_stack(stack)\n",
        "    insert_at_bottom(stack, top_element)\n",
        "\n",
        "\n",
        "def insert_at_bottom(stack, element):\n",
        "    if len(stack) == 0:\n",
        "        stack.append(element)\n",
        "        return\n",
        "\n",
        "    top_element = stack.pop()\n",
        "    insert_at_bottom(stack, element)\n",
        "    stack.append(top_element)\n",
        "\n",
        "\n",
        "\n",
        "stack = [3,2,1,7,6]\n",
        "print(\"Original Stack:\", stack)\n",
        "\n",
        "reverse_stack(stack)\n",
        "print(\"Reversed Stack:\", stack)\n"
      ],
      "metadata": {
        "colab": {
          "base_uri": "https://localhost:8080/"
        },
        "id": "2XWwNG8tVp8V",
        "outputId": "d4597cae-4511-4ad6-8f06-be9362c33c4c"
      },
      "execution_count": 19,
      "outputs": [
        {
          "output_type": "stream",
          "name": "stdout",
          "text": [
            "Original Stack: [3, 2, 1, 7, 6]\n",
            "Reversed Stack: [6, 7, 1, 2, 3]\n"
          ]
        }
      ]
    },
    {
      "cell_type": "markdown",
      "source": [
        "<aside>\n",
        "💡 **Question 5**\n",
        "\n",
        "You are given a string **S**, the task is to reverse the string using stack.\n",
        "\n",
        "</aside>"
      ],
      "metadata": {
        "id": "oc0RcDg6d_vJ"
      }
    },
    {
      "cell_type": "code",
      "source": [
        "def reverse_string(string):\n",
        "    stack = []\n",
        "\n",
        "\n",
        "    for char in string:\n",
        "        stack.append(char)\n",
        "\n",
        "    reversed_string = \"\"\n",
        "\n",
        "\n",
        "    while stack:\n",
        "        reversed_string += stack.pop()\n",
        "\n",
        "    return reversed_string\n",
        "\n",
        "\n",
        "string = \"GeeksforGeeks\"\n",
        "reversed_str = reverse_string(string)\n",
        "print(reversed_str)\n"
      ],
      "metadata": {
        "colab": {
          "base_uri": "https://localhost:8080/"
        },
        "id": "TqV0JCYhd388",
        "outputId": "2b2b1d69-eeff-44b6-b0eb-8a6220e297e1"
      },
      "execution_count": 22,
      "outputs": [
        {
          "output_type": "stream",
          "name": "stdout",
          "text": [
            "skeeGrofskeeG\n"
          ]
        }
      ]
    },
    {
      "cell_type": "markdown",
      "source": [
        "<aside>\n",
        "💡 **Question 6**\n",
        "\n",
        "Given string **S** representing a postfix expression, the task is to evaluate the expression and find the final value. Operators will only include the basic arithmetic operators like ***, /, + and -**.\n",
        "\n",
        "</aside>\n"
      ],
      "metadata": {
        "id": "48KuUrhReX4k"
      }
    },
    {
      "cell_type": "code",
      "source": [
        "def evaluate_postfix(expression):\n",
        "    stack = []\n",
        "\n",
        "    for char in expression:\n",
        "        if char.isdigit():\n",
        "            stack.append(int(char))\n",
        "        else:\n",
        "            operand2 = stack.pop()\n",
        "            operand1 = stack.pop()\n",
        "\n",
        "            if char == '*':\n",
        "                result = operand1 * operand2\n",
        "            elif char == '/':\n",
        "                result = operand1 / operand2\n",
        "            elif char == '+':\n",
        "                result = operand1 + operand2\n",
        "            elif char == '-':\n",
        "                result = operand1 - operand2\n",
        "\n",
        "            stack.append(result)\n",
        "\n",
        "    return stack.pop()\n",
        "\n",
        "\n",
        "expression =  \"231*+9-\"\n",
        "result = evaluate_postfix(expression)\n",
        "print(result)\n"
      ],
      "metadata": {
        "colab": {
          "base_uri": "https://localhost:8080/"
        },
        "id": "cT3x6SuYeRgV",
        "outputId": "a0afaf17-28a3-4407-a5f6-edc311e64452"
      },
      "execution_count": 1,
      "outputs": [
        {
          "output_type": "stream",
          "name": "stdout",
          "text": [
            "-4\n"
          ]
        }
      ]
    },
    {
      "cell_type": "markdown",
      "source": [
        "<aside>\n",
        "💡 **Question 8**\n",
        "\n",
        "Given `n` non-negative integers representing an elevation map where the width of each bar is `1`, compute how much water it can trap after raining.\n",
        "\n",
        "</aside>"
      ],
      "metadata": {
        "id": "Fp77zcrXzx5k"
      }
    },
    {
      "cell_type": "code",
      "source": [
        "def trap_water(elevation_map):\n",
        "    left = 0\n",
        "    right = len(elevation_map) - 1\n",
        "    left_max = right_max = total_water = 0\n",
        "\n",
        "    while left <= right:\n",
        "        if elevation_map[left] <= elevation_map[right]:\n",
        "            if elevation_map[left] > left_max:\n",
        "                left_max = elevation_map[left]\n",
        "            else:\n",
        "                total_water += left_max - elevation_map[left]\n",
        "            left += 1\n",
        "        else:\n",
        "            if elevation_map[right] > right_max:\n",
        "                right_max = elevation_map[right]\n",
        "            else:\n",
        "                total_water += right_max - elevation_map[right]\n",
        "            right -= 1\n",
        "\n",
        "    return total_water\n",
        "\n",
        "\n",
        "elevation_map = [0,1,0,2,1,0,1,3,2,1,2,1]\n",
        "water_trapped = trap_water(elevation_map)\n",
        "print(water_trapped)\n"
      ],
      "metadata": {
        "colab": {
          "base_uri": "https://localhost:8080/"
        },
        "id": "53EqfCkdzV9x",
        "outputId": "57df0b0d-4b1a-442e-e7d3-005307de436d"
      },
      "execution_count": 3,
      "outputs": [
        {
          "output_type": "stream",
          "name": "stdout",
          "text": [
            "6\n"
          ]
        }
      ]
    },
    {
      "cell_type": "code",
      "source": [],
      "metadata": {
        "id": "Cq8ouUz_0leN"
      },
      "execution_count": null,
      "outputs": []
    }
  ]
}