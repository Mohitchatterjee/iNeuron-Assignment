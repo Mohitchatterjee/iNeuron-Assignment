{
  "nbformat": 4,
  "nbformat_minor": 0,
  "metadata": {
    "colab": {
      "provenance": [],
      "authorship_tag": "ABX9TyNSfU0GQyKT9mJCJrPwpeEL",
      "include_colab_link": true
    },
    "kernelspec": {
      "name": "python3",
      "display_name": "Python 3"
    },
    "language_info": {
      "name": "python"
    }
  },
  "cells": [
    {
      "cell_type": "markdown",
      "metadata": {
        "id": "view-in-github",
        "colab_type": "text"
      },
      "source": [
        "<a href=\"https://colab.research.google.com/github/Mohitchatterjee/iNeuron-Assignment/blob/main/DSA_Assignment_24.ipynb\" target=\"_parent\"><img src=\"https://colab.research.google.com/assets/colab-badge.svg\" alt=\"Open In Colab\"/></a>"
      ]
    },
    {
      "cell_type": "markdown",
      "source": [
        "<aside>\n",
        "💡 1. **Roman to Integer**\n",
        "\n",
        "Roman numerals are represented by seven different symbols: `I`, `V`, `X`, `L`, `C`, `D` and `M`.\n",
        "\n",
        "</aside>"
      ],
      "metadata": {
        "id": "51Eax2pGFthc"
      }
    },
    {
      "cell_type": "code",
      "execution_count": 4,
      "metadata": {
        "colab": {
          "base_uri": "https://localhost:8080/"
        },
        "id": "7IHAZW3OFgD-",
        "outputId": "591b6fc4-97a6-450b-debd-b511951e3e97"
      },
      "outputs": [
        {
          "output_type": "stream",
          "name": "stdout",
          "text": [
            "58\n"
          ]
        }
      ],
      "source": [
        "def romanToInt(s):\n",
        "    romanToIntMap = {\n",
        "        'I': 1,\n",
        "        'V': 5,\n",
        "        'X': 10,\n",
        "        'L': 50,\n",
        "        'C': 100,\n",
        "        'D': 500,\n",
        "        'M': 1000\n",
        "    }\n",
        "\n",
        "    total = 0\n",
        "    n = len(s)\n",
        "\n",
        "    for i in range(n):\n",
        "        if i < n - 1 and romanToIntMap[s[i]] < romanToIntMap[s[i + 1]]:\n",
        "            total -= romanToIntMap[s[i]]\n",
        "        else:\n",
        "            total += romanToIntMap[s[i]]\n",
        "\n",
        "    return total\n",
        "\n",
        "roman_numeral = \"LVIII\"\n",
        "result = romanToInt(roman_numeral)\n",
        "print(result)\n"
      ]
    },
    {
      "cell_type": "markdown",
      "source": [
        "<aside>\n",
        "💡 2. **Longest Substring Without Repeating Characters**\n",
        "\n",
        "Given a string `s`, find the length of the **longest substring** without repeating characters.\n",
        "\n",
        "</aside>"
      ],
      "metadata": {
        "id": "Zc13ZawJGzqa"
      }
    },
    {
      "cell_type": "code",
      "source": [
        "def lengthOfLongestSubstring(s):\n",
        "    n = len(s)\n",
        "    start = 0\n",
        "    end = 0\n",
        "    uniqueChars = set()\n",
        "    maxLength = 0\n",
        "\n",
        "    while end < n:\n",
        "        if s[end] not in uniqueChars:\n",
        "            uniqueChars.add(s[end])\n",
        "            maxLength = max(maxLength, end - start + 1)\n",
        "            end += 1\n",
        "        else:\n",
        "            uniqueChars.remove(s[start])\n",
        "            start += 1\n",
        "\n",
        "    return maxLength\n",
        "\n",
        "\n",
        "string = \"abcabcbb\"\n",
        "result = lengthOfLongestSubstring(string)\n",
        "print(result)\n"
      ],
      "metadata": {
        "colab": {
          "base_uri": "https://localhost:8080/"
        },
        "id": "N4tPgm4LGJL0",
        "outputId": "9fbd0156-24cc-4da7-eac2-d6828c9e5651"
      },
      "execution_count": 6,
      "outputs": [
        {
          "output_type": "stream",
          "name": "stdout",
          "text": [
            "3\n"
          ]
        }
      ]
    },
    {
      "cell_type": "markdown",
      "source": [
        "<aside>\n",
        "💡 3. **Majority Element**\n",
        "\n",
        "Given an array `nums` of size `n`, return *the majority element*.\n",
        "\n",
        "The majority element is the element that appears more than `⌊n / 2⌋` times. You may assume that the majority element always exists in the array.\n",
        "\n",
        "</aside>"
      ],
      "metadata": {
        "id": "6wC-t6CuHsQ6"
      }
    },
    {
      "cell_type": "code",
      "source": [
        "def majorityElement(nums):\n",
        "    candidate = None\n",
        "    count = 0\n",
        "\n",
        "    for num in nums:\n",
        "        if count == 0:\n",
        "            candidate = num\n",
        "            count = 1\n",
        "        elif num == candidate:\n",
        "            count += 1\n",
        "        else:\n",
        "            count -= 1\n",
        "\n",
        "    count = 0\n",
        "    n = len(nums)\n",
        "    for num in nums:\n",
        "        if num == candidate:\n",
        "            count += 1\n",
        "\n",
        "    if count > n // 2:\n",
        "        return candidate\n",
        "    return None\n",
        "\n",
        "array = [2, 2, 1, 1, 1, 2, 2]\n",
        "result = majorityElement(array)\n",
        "print(result)\n"
      ],
      "metadata": {
        "colab": {
          "base_uri": "https://localhost:8080/"
        },
        "id": "aO5Z0NurHHWD",
        "outputId": "55afa8ad-373a-4d28-ca9a-7965e28877b5"
      },
      "execution_count": 7,
      "outputs": [
        {
          "output_type": "stream",
          "name": "stdout",
          "text": [
            "2\n"
          ]
        }
      ]
    },
    {
      "cell_type": "markdown",
      "source": [
        "<aside>\n",
        "💡 4. **Group Anagram**\n",
        "\n",
        "Given an array of strings `strs`, group **the anagrams** together. You can return the answer in **any order**.\n",
        "\n",
        "An **Anagram** is a word or phrase formed by rearranging the letters of a different word or phrase, typically using all the original letters exactly once.\n",
        "\n",
        "</aside>"
      ],
      "metadata": {
        "id": "baTaYuNUIops"
      }
    },
    {
      "cell_type": "code",
      "source": [
        "def groupAnagrams(strs):\n",
        "    anagramGroups = {}\n",
        "\n",
        "    for s in strs:\n",
        "        sorted_s = ''.join(sorted(s))\n",
        "        if sorted_s not in anagramGroups:\n",
        "            anagramGroups[sorted_s] = []\n",
        "        anagramGroups[sorted_s].append(s)\n",
        "\n",
        "    return list(anagramGroups.values())\n",
        "\n",
        "\n",
        "strings = [\"eat\", \"tea\", \"tan\", \"ate\", \"nat\", \"bat\"]\n",
        "result = groupAnagrams(strings)\n",
        "print(result)\n"
      ],
      "metadata": {
        "colab": {
          "base_uri": "https://localhost:8080/"
        },
        "id": "agk4Mk8HIjRY",
        "outputId": "1759bcad-1a0e-46a6-a0d9-477d603b1de5"
      },
      "execution_count": 9,
      "outputs": [
        {
          "output_type": "stream",
          "name": "stdout",
          "text": [
            "[['eat', 'tea', 'ate'], ['tan', 'nat'], ['bat']]\n"
          ]
        }
      ]
    },
    {
      "cell_type": "markdown",
      "source": [
        "<aside>\n",
        "💡 5. **Ugly Numbers**\n",
        "\n",
        "An **ugly number** is a positive integer whose prime factors are limited to `2`, `3`, and `5`.\n",
        "\n",
        "Given an integer `n`, return *the* `nth` ***ugly number***.\n",
        "\n",
        "</aside>"
      ],
      "metadata": {
        "id": "3l3AkLg_JpwP"
      }
    },
    {
      "cell_type": "code",
      "source": [
        "def nthUglyNumber(n):\n",
        "    uglyNumbers = [0] * n\n",
        "    uglyNumbers[0] = 1\n",
        "    index2 = 0\n",
        "    index3 = 0\n",
        "    index5 = 0\n",
        "    nextMultipleOf2 = 2\n",
        "    nextMultipleOf3 = 3\n",
        "    nextMultipleOf5 = 5\n",
        "\n",
        "    for i in range(1, n):\n",
        "        uglyNumbers[i] = min(nextMultipleOf2, nextMultipleOf3, nextMultipleOf5)\n",
        "\n",
        "        if uglyNumbers[i] == nextMultipleOf2:\n",
        "            index2 += 1\n",
        "            nextMultipleOf2 = uglyNumbers[index2] * 2\n",
        "        if uglyNumbers[i] == nextMultipleOf3:\n",
        "            index3 += 1\n",
        "            nextMultipleOf3 = uglyNumbers[index3] * 3\n",
        "        if uglyNumbers[i] == nextMultipleOf5:\n",
        "            index5 += 1\n",
        "            nextMultipleOf5 = uglyNumbers[index5] * 5\n",
        "\n",
        "    return uglyNumbers[n - 1]\n",
        "\n",
        "\n",
        "n = 10\n",
        "result = nthUglyNumber(n)\n",
        "print(result)\n"
      ],
      "metadata": {
        "colab": {
          "base_uri": "https://localhost:8080/"
        },
        "id": "WWkPqpEPJIJ8",
        "outputId": "e8fa745f-ad62-4691-b278-90444a69cd3e"
      },
      "execution_count": 10,
      "outputs": [
        {
          "output_type": "stream",
          "name": "stdout",
          "text": [
            "12\n"
          ]
        }
      ]
    },
    {
      "cell_type": "markdown",
      "source": [
        "<aside>\n",
        "💡 6. **Top K Frequent Words**\n",
        "\n",
        "Given an array of strings `words` and an integer `k`, return *the* `k` *most frequent strings*.\n",
        "\n",
        "Return the answer **sorted** by **the frequency** from highest to lowest. Sort the words with the same frequency by their **lexicographical order**.\n",
        "\n",
        "</aside>"
      ],
      "metadata": {
        "id": "aTE9eWU7J_Vw"
      }
    },
    {
      "cell_type": "code",
      "source": [
        "from collections import Counter\n",
        "\n",
        "def topKFrequent(words, k) :\n",
        "    words = sorted(words)\n",
        "    c = Counter(words)\n",
        "    return [word for word, _ in c.most_common(k)]\n",
        "\n",
        "print(topKFrequent(words=[\"i\",\"love\",\"leetcode\",\"i\",\"love\",\"coding\"],k=2))"
      ],
      "metadata": {
        "colab": {
          "base_uri": "https://localhost:8080/"
        },
        "id": "uQikThIJJ0xT",
        "outputId": "25d71409-e4cd-4cf9-f90c-256f16539f4b"
      },
      "execution_count": 15,
      "outputs": [
        {
          "output_type": "stream",
          "name": "stdout",
          "text": [
            "['i', 'love']\n"
          ]
        }
      ]
    },
    {
      "cell_type": "markdown",
      "source": [
        "<aside>\n",
        "💡 7. **Sliding Window Maximum**\n",
        "\n",
        "You are given an array of integers `nums`, there is a sliding window of size `k` which is moving from the very left of the array to the very right. You can only see the `k` numbers in the window. Each time the sliding window moves right by one position.\n",
        "\n",
        "Return *the max sliding window*.\n",
        "\n",
        "</aside>"
      ],
      "metadata": {
        "id": "bStTaaBXMU4Y"
      }
    },
    {
      "cell_type": "code",
      "source": [
        "from collections import deque\n",
        "\n",
        "def maxSlidingWindow(nums, k):\n",
        "    window = deque()\n",
        "    result = []\n",
        "\n",
        "    for i in range(len(nums)):\n",
        "        while window and nums[i] >= nums[window[-1]]:\n",
        "            window.pop()\n",
        "\n",
        "        window.append(i)\n",
        "\n",
        "        if window[0] <= i - k:\n",
        "            window.popleft()\n",
        "\n",
        "        if i >= k - 1:\n",
        "            result.append(nums[window[0]])\n",
        "\n",
        "    return result\n",
        "\n",
        "nums = [1, 3, -1, -3, 5, 3, 6, 7]\n",
        "k = 3\n",
        "result = maxSlidingWindow(nums, k)\n",
        "print(result)\n"
      ],
      "metadata": {
        "colab": {
          "base_uri": "https://localhost:8080/"
        },
        "id": "l8EG8YAAKigA",
        "outputId": "6fbd14f4-dd31-4dca-c7d7-56bbff74aad7"
      },
      "execution_count": 17,
      "outputs": [
        {
          "output_type": "stream",
          "name": "stdout",
          "text": [
            "[3, 3, 5, 5, 6, 7]\n"
          ]
        }
      ]
    },
    {
      "cell_type": "markdown",
      "source": [
        "<aside>\n",
        "💡 8. **Find K Closest Elements**\n",
        "\n",
        "Given a **sorted** integer array `arr`, two integers `k` and `x`, return the `k` closest integers to `x` in the array. The result should also be sorted in ascending order.\n",
        "\n",
        "An integer `a` is closer to `x` than an integer `b` if:\n",
        "\n",
        "- `|a - x| < |b - x|`, or\n",
        "- `|a - x| == |b - x|` and `a < b`\n",
        "</aside>\n"
      ],
      "metadata": {
        "id": "OXPg0QcuNCIE"
      }
    },
    {
      "cell_type": "code",
      "source": [
        "def findClosestElements(arr, k, x):\n",
        "    left = 0\n",
        "    right = len(arr) - 1\n",
        "\n",
        "    while right - left + 1 > k:\n",
        "        if abs(arr[left] - x) <= abs(arr[right] - x):\n",
        "            right -= 1\n",
        "        else:\n",
        "            left += 1\n",
        "\n",
        "    return arr[left:right+1]\n",
        "\n",
        "\n",
        "arr = [1,2,3,4,5]\n",
        "k = 4\n",
        "x = 3\n",
        "result = findClosestElements(arr, k, x)\n",
        "print(result)\n"
      ],
      "metadata": {
        "colab": {
          "base_uri": "https://localhost:8080/"
        },
        "id": "4obPVG_kM2iR",
        "outputId": "8930d150-da02-45d8-8240-3fb139fcb711"
      },
      "execution_count": 20,
      "outputs": [
        {
          "output_type": "stream",
          "name": "stdout",
          "text": [
            "[1, 2, 3, 4]\n"
          ]
        }
      ]
    },
    {
      "cell_type": "code",
      "source": [],
      "metadata": {
        "id": "JXPQFTmsNUx4"
      },
      "execution_count": null,
      "outputs": []
    }
  ]
}