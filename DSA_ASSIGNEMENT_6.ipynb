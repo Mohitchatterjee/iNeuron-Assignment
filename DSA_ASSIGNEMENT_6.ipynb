{
  "nbformat": 4,
  "nbformat_minor": 0,
  "metadata": {
    "colab": {
      "provenance": [],
      "authorship_tag": "ABX9TyPRxf3rJfZZ4XipBe8VZ3nB",
      "include_colab_link": true
    },
    "kernelspec": {
      "name": "python3",
      "display_name": "Python 3"
    },
    "language_info": {
      "name": "python"
    }
  },
  "cells": [
    {
      "cell_type": "markdown",
      "metadata": {
        "id": "view-in-github",
        "colab_type": "text"
      },
      "source": [
        "<a href=\"https://colab.research.google.com/github/Mohitchatterjee/iNeuron-Assignment/blob/main/DSA_ASSIGNEMENT_6.ipynb\" target=\"_parent\"><img src=\"https://colab.research.google.com/assets/colab-badge.svg\" alt=\"Open In Colab\"/></a>"
      ]
    },
    {
      "cell_type": "markdown",
      "source": [
        "<aside>\n",
        "💡 **Question 1**\n",
        "\n",
        "A permutation perm of n + 1 integers of all the integers in the range [0, n] can be represented as a string s of length n where:\n",
        "\n",
        "- s[i] == 'I' if perm[i] < perm[i + 1], and\n",
        "- s[i] == 'D' if perm[i] > perm[i + 1].\n",
        "\n",
        "Given a string s, reconstruct the permutation perm and return it. If there are multiple valid permutations perm, return **any of them**.\n",
        "\n",
        "</aside>"
      ],
      "metadata": {
        "id": "xkjpKq7NxG4k"
      }
    },
    {
      "cell_type": "code",
      "execution_count": 2,
      "metadata": {
        "colab": {
          "base_uri": "https://localhost:8080/"
        },
        "id": "TaEFAk-Cw8Tj",
        "outputId": "bb4d2b92-2ee8-4e93-cfeb-4ff9821a2d56"
      },
      "outputs": [
        {
          "output_type": "stream",
          "name": "stdout",
          "text": [
            "[0, 4, 1, 3, 2]\n"
          ]
        }
      ],
      "source": [
        "\n",
        "def diStringMatch(s):\n",
        "    L,ic,dc=[],0,len(s)\n",
        "    for i in s:\n",
        "        if i=='I':\n",
        "            L.append(ic)\n",
        "            ic+=1\n",
        "        else:\n",
        "            L.append(dc)\n",
        "            dc-=1\n",
        "    if s[-1]=='I':L.append(ic)\n",
        "    else:L.append(dc)\n",
        "    return L\n",
        "print(diStringMatch(s='IDID'))"
      ]
    },
    {
      "cell_type": "markdown",
      "source": [
        "<aside>\n",
        "💡 **Question 2**\n",
        "\n",
        "You are given an m x n integer matrix matrix with the following two properties:\n",
        "\n",
        "- Each row is sorted in non-decreasing order.\n",
        "- The first integer of each row is greater than the last integer of the previous row.\n",
        "\n",
        "Given an integer target, return true *if* target *is in* matrix *or* false *otherwise*.\n",
        "\n",
        "You must write a solution in O(log(m * n)) time complexity.\n",
        "\n",
        "</aside>"
      ],
      "metadata": {
        "id": "DwXS14yzyYgx"
      }
    },
    {
      "cell_type": "code",
      "source": [
        "def searchMatrix(matrix, target):\n",
        "    m = len(matrix)\n",
        "    n = len(matrix[0])\n",
        "    left = 0\n",
        "    right = m * n - 1\n",
        "\n",
        "    while left <= right:\n",
        "        middle = (left + right) // 2\n",
        "        row = middle // n\n",
        "        col = middle % n\n",
        "        value = matrix[row][col]\n",
        "\n",
        "        if value == target:\n",
        "            return True\n",
        "        elif value < target:\n",
        "            left = middle + 1\n",
        "        else:\n",
        "            right = middle - 1\n",
        "\n",
        "    return False\n",
        "\n",
        "\n",
        "print(searchMatrix(matrix = [[1,3,5,7],[10,11,16,20],[23,30,34,60]], target = 3))"
      ],
      "metadata": {
        "colab": {
          "base_uri": "https://localhost:8080/"
        },
        "id": "caFAc4D-xebo",
        "outputId": "7f17c324-e600-46d4-fd9f-74ab2b2a3339"
      },
      "execution_count": 3,
      "outputs": [
        {
          "output_type": "stream",
          "name": "stdout",
          "text": [
            "True\n"
          ]
        }
      ]
    },
    {
      "cell_type": "markdown",
      "source": [
        "<aside>\n",
        "💡 **Question 3**\n",
        "\n",
        "Given an array of integers arr, return *true if and only if it is a valid mountain array*.\n",
        "\n",
        "Recall that arr is a mountain array if and only if:\n",
        "\n",
        "- arr.length >= 3\n",
        "- There exists some i with 0 < i < arr.length - 1 such that:\n",
        "    - arr[0] < arr[1] < ... < arr[i - 1] < arr[i]\n",
        "    - arr[i] > arr[i + 1] > ... > arr[arr.length - 1]\n",
        "</aside>"
      ],
      "metadata": {
        "id": "7FhUfJQZyleO"
      }
    },
    {
      "cell_type": "code",
      "source": [
        "def validMountainArray(arr):\n",
        "    n = len(arr)\n",
        "    peak = 0\n",
        "\n",
        "    if n < 3:\n",
        "        return False\n",
        "\n",
        "    while peak + 1 < n and arr[peak] < arr[peak + 1]:\n",
        "        peak += 1\n",
        "\n",
        "    if peak == 0 or peak == n - 1:\n",
        "        return False\n",
        "\n",
        "    while peak + 1 < n and arr[peak] > arr[peak + 1]:\n",
        "        peak += 1\n",
        "\n",
        "    return peak == n - 1\n",
        "\n",
        "print(validMountainArray( arr = [2,1]))"
      ],
      "metadata": {
        "colab": {
          "base_uri": "https://localhost:8080/"
        },
        "id": "KqCbldBJyi0v",
        "outputId": "0625039f-0c02-497d-ee6f-96c813188661"
      },
      "execution_count": 4,
      "outputs": [
        {
          "output_type": "stream",
          "name": "stdout",
          "text": [
            "False\n"
          ]
        }
      ]
    },
    {
      "cell_type": "markdown",
      "source": [
        "<aside>\n",
        "💡 **Question 4**\n",
        "\n",
        "Given a binary array nums, return *the maximum length of a contiguous subarray with an equal number of* 0 *and* 1.\n",
        "\n",
        "</aside>"
      ],
      "metadata": {
        "id": "4U65hCu5y2z0"
      }
    },
    {
      "cell_type": "code",
      "source": [
        "def findMaxLength(nums):\n",
        "    max_length = 0\n",
        "    count = 0\n",
        "    count_map = {0: -1}\n",
        "\n",
        "    for i in range(len(nums)):\n",
        "        if nums[i] == 0:\n",
        "            count += 1\n",
        "        else:\n",
        "            count -= 1\n",
        "\n",
        "        if count in count_map:\n",
        "            subarray_length = i - count_map[count]\n",
        "            max_length = max(max_length, subarray_length)\n",
        "        else:\n",
        "            count_map[count] = i\n",
        "\n",
        "    return max_length\n",
        "\n",
        "\n",
        "print(findMaxLength(nums = [0,1]))"
      ],
      "metadata": {
        "colab": {
          "base_uri": "https://localhost:8080/"
        },
        "id": "KsHBR27Gy0aZ",
        "outputId": "1aaccd13-bc66-4b96-9399-0157e6901c79"
      },
      "execution_count": 5,
      "outputs": [
        {
          "output_type": "stream",
          "name": "stdout",
          "text": [
            "2\n"
          ]
        }
      ]
    },
    {
      "cell_type": "markdown",
      "source": [
        "<aside>\n",
        "💡 **Question 5**\n",
        "\n",
        "The **product sum** of two equal-length arrays a and b is equal to the sum of a[i] * b[i] for all 0 <= i < a.length (**0-indexed**).\n",
        "\n",
        "- For example, if a = [1,2,3,4] and b = [5,2,3,1], the **product sum** would be 1*5 + 2*2 + 3*3 + 4*1 = 22.\n",
        "\n",
        "Given two arrays nums1 and nums2 of length n, return *the **minimum product sum** if you are allowed to **rearrange** the **order** of the elements in* nums1.\n",
        "\n",
        "</aside>\n",
        "\n",
        "\n",
        "\n"
      ],
      "metadata": {
        "id": "rMKebr0BzEr7"
      }
    },
    {
      "cell_type": "code",
      "source": [
        "def minProductSum(nums1, nums2):\n",
        "  nums1.sort()\n",
        "  nums2.sort(reverse=True)\n",
        "  min_product_sum = 0\n",
        "\n",
        "  for i in range(len(nums1)):\n",
        "      min_product_sum += nums1[i] * nums2[i]\n",
        "\n",
        "  return min_product_sum\n",
        "\n",
        "\n",
        "print(minProductSum( nums1 = [5,3,4,2], nums2 = [4,2,2,5]))"
      ],
      "metadata": {
        "colab": {
          "base_uri": "https://localhost:8080/"
        },
        "id": "yBTE3Dl5zCFz",
        "outputId": "87585bd4-fd5c-4927-d527-db9fd47d456b"
      },
      "execution_count": 6,
      "outputs": [
        {
          "output_type": "stream",
          "name": "stdout",
          "text": [
            "40\n"
          ]
        }
      ]
    },
    {
      "cell_type": "markdown",
      "source": [
        "<aside>\n",
        "💡 **Question 6**\n",
        "\n",
        "An integer array original is transformed into a **doubled** array changed by appending **twice the value** of every element in original, and then randomly **shuffling** the resulting array.\n",
        "\n",
        "Given an array changed, return original *if* changed *is a **doubled** array. If* changed *is not a **doubled** array, return an empty array. The elements in* original *may be returned in **any** order*.\n",
        "\n",
        "</aside>"
      ],
      "metadata": {
        "id": "EYL7SXQ7zbYI"
      }
    },
    {
      "cell_type": "code",
      "source": [
        "from collections import Counter\n",
        "def findOriginalArray(changed):\n",
        "    c = Counter(changed)\n",
        "\n",
        "    zeros, m = divmod(c[0], 2)\n",
        "    if m: return []\n",
        "    ans = [0]*zeros\n",
        "\n",
        "    for n in sorted(c.keys()):\n",
        "        if c[n] > c[2*n]: return []\n",
        "        c[2*n]-= c[n]\n",
        "        ans.extend([n]*c[n])\n",
        "\n",
        "    return ans\n",
        "\n",
        "print(findOriginalArray(changed = [1,3,4,2,6,8]))"
      ],
      "metadata": {
        "colab": {
          "base_uri": "https://localhost:8080/"
        },
        "id": "86fXbof9zYoh",
        "outputId": "37fce6fb-45fc-4e92-ac5d-5b65d89848b9"
      },
      "execution_count": 14,
      "outputs": [
        {
          "output_type": "stream",
          "name": "stdout",
          "text": [
            "[1, 3, 4]\n"
          ]
        }
      ]
    },
    {
      "cell_type": "markdown",
      "source": [
        "<aside>\n",
        "💡 **Question 7**\n",
        "\n",
        "Given a positive integer n, generate an n x n matrix filled with elements from 1 to n2 in spiral order.\n",
        "\n",
        "</aside>"
      ],
      "metadata": {
        "id": "_bsPWGtH2Dsu"
      }
    },
    {
      "cell_type": "code",
      "source": [
        "def generateMatrix(n):\n",
        "    matrix = [[0] * n for _ in range(n)]\n",
        "    row_start = 0\n",
        "    row_end = n - 1\n",
        "    col_start = 0\n",
        "    col_end = n - 1\n",
        "    num = 1\n",
        "\n",
        "    while num <= n * n:\n",
        "        # Traverse top row\n",
        "        for col in range(col_start, col_end + 1):\n",
        "            matrix[row_start][col] = num\n",
        "            num += 1\n",
        "        row_start += 1\n",
        "\n",
        "        # Traverse right column\n",
        "        for row in range(row_start, row_end + 1):\n",
        "            matrix[row][col_end] = num\n",
        "            num += 1\n",
        "        col_end -= 1\n",
        "\n",
        "        # Traverse bottom row\n",
        "        for col in range(col_end, col_start - 1, -1):\n",
        "            matrix[row_end][col] = num\n",
        "            num += 1\n",
        "        row_end -= 1\n",
        "\n",
        "        # Traverse left column\n",
        "        for row in range(row_end, row_start - 1, -1):\n",
        "            matrix[row][col_start] = num\n",
        "            num += 1\n",
        "        col_start += 1\n",
        "\n",
        "    return matrix\n",
        "\n",
        "\n",
        "print(generateMatrix(n = 3))"
      ],
      "metadata": {
        "colab": {
          "base_uri": "https://localhost:8080/"
        },
        "id": "LJtHVE15znpe",
        "outputId": "0cdf2d08-1a2d-4a90-e72b-f8630e31518c"
      },
      "execution_count": 16,
      "outputs": [
        {
          "output_type": "stream",
          "name": "stdout",
          "text": [
            "[[1, 2, 3], [8, 9, 4], [7, 6, 5]]\n"
          ]
        }
      ]
    },
    {
      "cell_type": "markdown",
      "source": [
        "<aside>\n",
        "💡 **Question 8**\n",
        "\n",
        "Given two [sparse matrices](https://en.wikipedia.org/wiki/Sparse_matrix) mat1 of size m x k and mat2 of size k x n, return the result of mat1 x mat2. You may assume that multiplication is always possible.\n",
        "\n",
        "</aside>"
      ],
      "metadata": {
        "id": "ooUjBh_r2OKU"
      }
    },
    {
      "cell_type": "code",
      "source": [
        "def multiply(mat1, mat2):\n",
        "    m = len(mat1)\n",
        "    k = len(mat1[0])\n",
        "    n = len(mat2[0])\n",
        "\n",
        "    result = [[0] * n for _ in range(m)]\n",
        "\n",
        "    for i in range(m):\n",
        "        for j in range(n):\n",
        "            temp = 0\n",
        "            for p in range(k):\n",
        "                if mat1[i][p] != 0 and mat2[p][j] != 0:\n",
        "                    temp += mat1[i][p] * mat2[p][j]\n",
        "            result[i][j] = temp\n",
        "\n",
        "    return result\n",
        "\n",
        "print(multiply( mat1 = [[1,0,0],[-1,0,3]], mat2 = [[7,0,0],[0,0,0],[0,0,1]]))"
      ],
      "metadata": {
        "colab": {
          "base_uri": "https://localhost:8080/"
        },
        "id": "7QDmE1sO2GJt",
        "outputId": "6a9faa58-2a6a-4b90-a9c7-4e12509b6325"
      },
      "execution_count": 17,
      "outputs": [
        {
          "output_type": "stream",
          "name": "stdout",
          "text": [
            "[[7, 0, 0], [-7, 0, 3]]\n"
          ]
        }
      ]
    },
    {
      "cell_type": "code",
      "source": [],
      "metadata": {
        "id": "NhDhN7OP2ctR"
      },
      "execution_count": null,
      "outputs": []
    }
  ]
}