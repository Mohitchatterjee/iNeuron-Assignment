{
  "nbformat": 4,
  "nbformat_minor": 0,
  "metadata": {
    "colab": {
      "provenance": [],
      "authorship_tag": "ABX9TyNx4B/uOwsDgoX8me4Xyjgo",
      "include_colab_link": true
    },
    "kernelspec": {
      "name": "python3",
      "display_name": "Python 3"
    },
    "language_info": {
      "name": "python"
    }
  },
  "cells": [
    {
      "cell_type": "markdown",
      "metadata": {
        "id": "view-in-github",
        "colab_type": "text"
      },
      "source": [
        "<a href=\"https://colab.research.google.com/github/Mohitchatterjee/iNeuron-Assignment/blob/main/DSA_Assignment_14.ipynb\" target=\"_parent\"><img src=\"https://colab.research.google.com/assets/colab-badge.svg\" alt=\"Open In Colab\"/></a>"
      ]
    },
    {
      "cell_type": "markdown",
      "source": [
        "A number N is represented in Linked List such that each digit corresponds to a node in linked list. You need to add 1 to it.[link text](https:// [link text](https://))"
      ],
      "metadata": {
        "id": "YLn94ltASMbw"
      }
    },
    {
      "cell_type": "code",
      "source": [
        "class Node:\n",
        "    def __init__(self, data):\n",
        "        self.data = data\n",
        "        self.next = None\n",
        "\n",
        "\n",
        "def add_one(head):\n",
        "\n",
        "    head = reverse_linked_list(head)\n",
        "\n",
        "\n",
        "    current = head\n",
        "    carry = 1\n",
        "\n",
        "    while current is not None:\n",
        "        current.data += carry\n",
        "        carry = current.data // 10\n",
        "        current.data = current.data % 10\n",
        "\n",
        "        if carry == 0:\n",
        "            break\n",
        "\n",
        "        current = current.next\n",
        "\n",
        "    if carry > 0:\n",
        "        new_node = Node(carry)\n",
        "        new_node.next = head\n",
        "        head = new_node\n",
        "\n",
        "    head = reverse_linked_list(head)\n",
        "\n",
        "    return head\n",
        "\n",
        "\n",
        "\n",
        "def reverse_linked_list(head):\n",
        "    if head is None or head.next is None:\n",
        "        return head\n",
        "\n",
        "    prev = None\n",
        "    current = head\n",
        "\n",
        "    while current is not None:\n",
        "        next_node = current.next\n",
        "        current.next = prev\n",
        "        prev = current\n",
        "        current = next_node\n",
        "\n",
        "    return prev\n",
        "\n",
        "\n",
        "head = Node(1)\n",
        "head.next = Node(2)\n",
        "head.next.next = Node(9)\n",
        "\n",
        "\n",
        "new_head = add_one(head)\n",
        "\n",
        "\n",
        "current = new_head\n",
        "while current is not None:\n",
        "    print(current.data, end=\" -> \")\n",
        "    current = current.next\n",
        "print(\"None\")\n"
      ],
      "metadata": {
        "colab": {
          "base_uri": "https://localhost:8080/"
        },
        "id": "5n5chspQN0ch",
        "outputId": "5f813192-2f51-470a-a9fb-ea14cd709be8"
      },
      "execution_count": 13,
      "outputs": [
        {
          "output_type": "stream",
          "name": "stdout",
          "text": [
            "1 -> 3 -> 0 -> None\n"
          ]
        }
      ]
    },
    {
      "cell_type": "markdown",
      "source": [
        "Given a Linked List of size N, where every node represents a sub-linked-list and contains two pointers:(i) a next pointer to the next node,(ii) a bottom pointer to a linked list where this node is head.Each of the sub-linked-list is in sorted order.Flatten the Link List such that all the nodes appear in a single level while maintaining the sorted order. Note: The flattened list will be printed using the bottom pointer instead of next pointer."
      ],
      "metadata": {
        "id": "bhT0uR6kToXZ"
      }
    },
    {
      "cell_type": "code",
      "source": [
        "class Node:\n",
        "    def __init__(self, data):\n",
        "        self.data = data\n",
        "        self.next = None\n",
        "        self.bottom = None\n",
        "\n",
        "\n",
        "def flatten_linked_list(head):\n",
        "    if head is None or head.next is None:\n",
        "        return head\n",
        "\n",
        "\n",
        "    def merge_lists(list1, list2):\n",
        "        if list1 is None:\n",
        "            return list2\n",
        "        if list2 is None:\n",
        "            return list1\n",
        "\n",
        "        merged_head = None\n",
        "        if list1.data <= list2.data:\n",
        "            merged_head = list1\n",
        "            list1 = list1.bottom\n",
        "        else:\n",
        "            merged_head = list2\n",
        "            list2 = list2.bottom\n",
        "\n",
        "        merged_current = merged_head\n",
        "\n",
        "        while list1 is not None and list2 is not None:\n",
        "            if list1.data <= list2.data:\n",
        "                merged_current.bottom = list1\n",
        "                list1 = list1.bottom\n",
        "            else:\n",
        "                merged_current.bottom = list2\n",
        "                list2 = list2.bottom\n",
        "\n",
        "            merged_current = merged_current.bottom\n",
        "\n",
        "        if list1 is not None:\n",
        "            merged_current.bottom = list1\n",
        "        else:\n",
        "            merged_current.bottom = list2\n",
        "\n",
        "        return merged_head\n",
        "\n",
        "\n",
        "    def flatten_util(current):\n",
        "        if current is None or current.next is None:\n",
        "            return current\n",
        "\n",
        "        current.next = flatten_util(current.next)\n",
        "\n",
        "        current = merge_lists(current, current.next)\n",
        "\n",
        "        return current\n",
        "\n",
        "    return flatten_util(head)\n",
        "\n",
        "\n",
        "\n",
        "\n",
        "\n",
        "head = Node(5)\n",
        "head.next = Node(7)\n",
        "head.next.bottom = Node(10)\n",
        "head.next.next = Node(8)\n",
        "head.next.next.bottom = Node(20)\n",
        "head.next.next.next = Node(30)\n",
        "head.next.next.next.bottom = Node(19)\n",
        "head.next.next.next.bottom.bottom = Node(50)\n",
        "head.next.next.next.next = Node(22)\n",
        "head.next.next.next.next.bottom = Node(28)\n",
        "\n",
        "flattened_head = flatten_linked_list(head)\n",
        "\n",
        "\n",
        "current = flattened_head\n",
        "while current is not None:\n",
        "    print(current.data, end=\" -> \")\n",
        "    current = current.bottom\n",
        "print(\"None\")\n"
      ],
      "metadata": {
        "colab": {
          "base_uri": "https://localhost:8080/"
        },
        "id": "XPQvJ4_zSfC5",
        "outputId": "b02980f5-2714-473d-9327-1dd58b14fa05"
      },
      "execution_count": 14,
      "outputs": [
        {
          "output_type": "stream",
          "name": "stdout",
          "text": [
            "5 -> 7 -> 8 -> 10 -> 20 -> 22 -> 28 -> 30 -> 19 -> 50 -> None\n"
          ]
        }
      ]
    },
    {
      "cell_type": "markdown",
      "source": [
        "You are given a special linked list with **N** nodes where each node has a next pointer pointing to its next node. You are also given **M** random pointers, where you will be given **M** number of pairs denoting two nodes **a** and **b**  **i.e. a->arb = b** (arb is pointer to random node)**.**\n",
        "\n",
        "Construct a copy of the given list. The copy should consist of exactly **N** new nodes, where each new node has its value set to the value of its corresponding original node. Both the next and random pointer of the new nodes should point to new nodes in the copied list such that the pointers in the original list and copied list represent the same list state. None of the pointers in the new list should point to nodes in the original list.\n",
        "\n",
        "For example, if there are two nodes **X** and **Y** in the original list, where **X.arb** **-->** **Y**, then for the corresponding two nodes **x** and **y** in the copied list, **x.arb --> y.**"
      ],
      "metadata": {
        "id": "CXTSQblPUbwA"
      }
    },
    {
      "cell_type": "code",
      "source": [
        "\n",
        "class Node:\n",
        "\tdef __init__(self, val):\n",
        "\t\tself.val = val\n",
        "\t\tself.next = None\n",
        "\t\tself.arbit = None\n",
        "\n",
        "\n",
        "def cloneLinkedList(head):\n",
        "\n",
        "\tmp = {}\n",
        "\ttemp = head\n",
        "\tnhead = Node(temp.val)\n",
        "\tmp[temp] = nhead\n",
        "\n",
        "\n",
        "\twhile temp.next:\n",
        "\t\tnhead.next = Node(temp.next.val)\n",
        "\t\ttemp = temp.next\n",
        "\t\tnhead = nhead.next\n",
        "\t\tmp[temp] = nhead\n",
        "\n",
        "\ttemp = head\n",
        "\n",
        "\twhile temp:\n",
        "\t\tmp[temp].arbit = mp[temp.arbit]\n",
        "\t\ttemp = temp.next\n",
        "\n",
        "\n",
        "\treturn mp[head]\n",
        "\n",
        "\n",
        "def printList(head):\n",
        "\tresult = []\n",
        "\twhile head:\n",
        "\t\tresult.append(f\"{head.val}({head.arbit.val})\")\n",
        "\t\thead = head.next\n",
        "\tprint(\" -> \".join(result))\n",
        "\n",
        "\n",
        "head = Node(1)\n",
        "head.next = Node(2)\n",
        "head.next.next = Node(3)\n",
        "head.next.next.next = Node(4)\n",
        "head.next.next.next.next = Node(5)\n",
        "head.arbit = head.next.next\n",
        "head.next.arbit = head\n",
        "head.next.next.arbit = head.next.next.next.next\n",
        "head.next.next.next.arbit = head.next.next\n",
        "head.next.next.next.next.arbit = head.next\n",
        "\n",
        "\n",
        "print(\"The original linked list:\")\n",
        "printList(head)\n",
        "\n",
        "\n",
        "sol = cloneLinkedList(head)\n",
        "\n",
        "print(\"The cloned linked list:\")\n",
        "printList(sol)\n"
      ],
      "metadata": {
        "colab": {
          "base_uri": "https://localhost:8080/"
        },
        "id": "HKm1iVLuUWFm",
        "outputId": "7e906f9f-4fb9-4bb5-ddd3-1268e938f2dd"
      },
      "execution_count": 19,
      "outputs": [
        {
          "output_type": "stream",
          "name": "stdout",
          "text": [
            "The original linked list:\n",
            "1(3) -> 2(1) -> 3(5) -> 4(3) -> 5(2)\n",
            "The cloned linked list:\n",
            "1(3) -> 2(1) -> 3(5) -> 4(3) -> 5(2)\n"
          ]
        }
      ]
    },
    {
      "cell_type": "markdown",
      "source": [
        "Given the `head` of a singly linked list, group all the nodes with odd indices together followed by the nodes with even indices, and return *the reordered list*.\n",
        "\n",
        "The **first** node is considered **odd**, and the **second** node is **even**, and so on.\n",
        "\n",
        "Note that the relative order inside both the even and odd groups should remain as it was in the input.\n",
        "\n",
        "You must solve the problem in `O(1)` extra space complexity and `O(n)` time complexity."
      ],
      "metadata": {
        "id": "4cXhS5epWfH5"
      }
    },
    {
      "cell_type": "code",
      "source": [
        "class Node:\n",
        "    def __init__(self, data):\n",
        "        self.data = data\n",
        "        self.next = None\n",
        "\n",
        "def group_odd_even(head):\n",
        "    if head is None or head.next is None:\n",
        "        return head\n",
        "\n",
        "\n",
        "    odd_head = head\n",
        "    even_head = head.next\n",
        "    odd = odd_head\n",
        "    even = even_head\n",
        "\n",
        "\n",
        "    while even is not None and even.next is not None:\n",
        "        odd.next = even.next\n",
        "        odd = odd.next\n",
        "        even.next = odd.next\n",
        "        even = even.next\n",
        "\n",
        "\n",
        "    odd.next = even_head\n",
        "\n",
        "    return odd_head\n",
        "\n",
        "\n",
        "head = Node(1)\n",
        "head.next = Node(2)\n",
        "head.next.next = Node(3)\n",
        "head.next.next.next = Node(4)\n",
        "head.next.next.next.next = Node(5)\n",
        "\n",
        "reordered_head = group_odd_even(head)\n",
        "\n",
        "current = reordered_head\n",
        "while current is not None:\n",
        "    print(current.data, end=\" -> \")\n",
        "    current = current.next\n",
        "print(\"None\")\n"
      ],
      "metadata": {
        "colab": {
          "base_uri": "https://localhost:8080/"
        },
        "id": "a4cQgXNtVPZo",
        "outputId": "d29e0917-a0d1-491b-87e9-65955ce17886"
      },
      "execution_count": 20,
      "outputs": [
        {
          "output_type": "stream",
          "name": "stdout",
          "text": [
            "1 -> 3 -> 5 -> 2 -> 4 -> None\n"
          ]
        }
      ]
    },
    {
      "cell_type": "markdown",
      "source": [
        "Given a singly linked list of size N. The task is to left-shift the linked list by k nodes, where k is a given positive integer smaller than or equal to length of the linked list."
      ],
      "metadata": {
        "id": "OA9UGHyZWwXz"
      }
    },
    {
      "cell_type": "code",
      "source": [
        "class Node:\n",
        "    def __init__(self, data):\n",
        "        self.data = data\n",
        "        self.next = None\n",
        "\n",
        "\n",
        "def left_shift_linked_list(head, k):\n",
        "    if head is None or k == 0:\n",
        "        return head\n",
        "\n",
        "\n",
        "    length = 0\n",
        "    current = head\n",
        "    while current is not None:\n",
        "        length += 1\n",
        "        current = current.next\n",
        "\n",
        "\n",
        "    k = k % length\n",
        "\n",
        "    if k == 0:\n",
        "        return head\n",
        "\n",
        "    new_head = head\n",
        "    new_tail = None\n",
        "    current = head\n",
        "    count = 1\n",
        "\n",
        "    while count < k and current is not None:\n",
        "        current = current.next\n",
        "        count += 1\n",
        "\n",
        "    if current is None:\n",
        "        return head\n",
        "\n",
        "    new_tail = current\n",
        "\n",
        "    while current.next is not None:\n",
        "        current = current.next\n",
        "\n",
        "    current.next = new_head\n",
        "    new_head = new_tail.next\n",
        "    new_tail.next = None\n",
        "\n",
        "    return new_head\n",
        "\n",
        "\n",
        "\n",
        "head = Node(1)\n",
        "head.next = Node(2)\n",
        "head.next.next = Node(3)\n",
        "head.next.next.next = Node(4)\n",
        "head.next.next.next.next = Node(5)\n",
        "\n",
        "\n",
        "shifted_head = left_shift_linked_list(head, 2)\n",
        "\n",
        "\n",
        "current = shifted_head\n",
        "while current is not None:\n",
        "    print(current.data, end=\" -> \")\n",
        "    current = current.next\n",
        "print(\"None\")\n"
      ],
      "metadata": {
        "colab": {
          "base_uri": "https://localhost:8080/"
        },
        "id": "DqT69f0WWt5L",
        "outputId": "62fb8622-5520-4ca5-fafd-24fe544b6184"
      },
      "execution_count": 21,
      "outputs": [
        {
          "output_type": "stream",
          "name": "stdout",
          "text": [
            "3 -> 4 -> 5 -> 1 -> 2 -> None\n"
          ]
        }
      ]
    },
    {
      "cell_type": "markdown",
      "source": [
        "Given the `head` of a linked list, we repeatedly delete consecutive sequences of nodes that sum to `0` until there are no such sequences.\n",
        "\n",
        "After doing so, return the head of the final linked list.  You may return any such answer.\n",
        "\n",
        "(Note that in the examples below, all sequences are serializations of `ListNode` objects.)"
      ],
      "metadata": {
        "id": "9dJOK8-1XRJs"
      }
    },
    {
      "cell_type": "code",
      "source": [
        "class ListNode:\n",
        "    def __init__(self, val):\n",
        "        self.val = val\n",
        "        self.next = None\n",
        "\n",
        "\n",
        "def remove_zero_sum_sublists(head):\n",
        "\n",
        "    dummy = ListNode(0)\n",
        "    dummy.next = head\n",
        "\n",
        "    prefix_sum = 0\n",
        "    sum_map = {}\n",
        "    current = dummy\n",
        "\n",
        "    while current is not None:\n",
        "        prefix_sum += current.val\n",
        "\n",
        "        if prefix_sum in sum_map:\n",
        "\n",
        "            prev = sum_map[prefix_sum].next\n",
        "            node_sum = prefix_sum + prev.val\n",
        "\n",
        "            while prev != current:\n",
        "                del sum_map[node_sum]\n",
        "                prev = prev.next\n",
        "                node_sum += prev.val\n",
        "\n",
        "            sum_map[prefix_sum].next = current.next\n",
        "        else:\n",
        "            sum_map[prefix_sum] = current\n",
        "\n",
        "        current = current.next\n",
        "\n",
        "    return dummy.next\n",
        "\n",
        "\n",
        "\n",
        "head = ListNode(1)\n",
        "head.next = ListNode(2)\n",
        "head.next.next = ListNode(3)\n",
        "head.next.next.next = ListNode(-3)\n",
        "head.next.next.next.next = ListNode(4)\n",
        "\n",
        "\n",
        "final_head = remove_zero_sum_sublists(head)\n",
        "\n",
        "\n",
        "current = final_head\n",
        "while current is not None:\n",
        "    print(current.val, end=\" -> \")\n",
        "    current = current.next\n",
        "print(\"None\")\n"
      ],
      "metadata": {
        "colab": {
          "base_uri": "https://localhost:8080/"
        },
        "id": "taqKQFyNW7f9",
        "outputId": "5e4f3912-26e1-46ab-d5ab-25d3ec8d2aaf"
      },
      "execution_count": 23,
      "outputs": [
        {
          "output_type": "stream",
          "name": "stdout",
          "text": [
            "1 -> 2 -> 4 -> None\n"
          ]
        }
      ]
    },
    {
      "cell_type": "code",
      "source": [],
      "metadata": {
        "id": "4d_8_c06XgGP"
      },
      "execution_count": null,
      "outputs": []
    }
  ]
}