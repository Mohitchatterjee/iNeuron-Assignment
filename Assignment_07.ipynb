{
  "cells": [
    {
      "cell_type": "markdown",
      "metadata": {
        "id": "Ks7O6R29az6L"
      },
      "source": [
        "# Mohit Chatterjee\n",
        "# (mohitchatterjee160@gmail.com, 7999744064)\n",
        "# Assignment 7 Solutions"
      ]
    },
    {
      "cell_type": "markdown",
      "metadata": {
        "id": "M9aDMgMTaz6N"
      },
      "source": [
        "#### 1. What is the name of the feature responsible for generating Regex objects?\n",
        "**Ans:** **`re.compile()`** is the feature responsible for  generation of Regex objects."
      ]
    },
    {
      "cell_type": "code",
      "execution_count": null,
      "metadata": {
        "id": "du5IaWabaz6P",
        "outputId": "df1b2138-d9be-46ab-8f3f-355b088f15ae"
      },
      "outputs": [
        {
          "name": "stdout",
          "output_type": "stream",
          "text": [
            "re.compile('some_random_pattern')\n"
          ]
        }
      ],
      "source": [
        "import re\n",
        "x = re.compile(\"some_random_pattern\")\n",
        "type(x)\n",
        "print(x)"
      ]
    },
    {
      "cell_type": "markdown",
      "metadata": {
        "id": "xcmlOhNVaz6R"
      },
      "source": [
        "#### 2. Why do raw strings often appear in Regex objects?\n",
        "**Ans:** Regular expressions use the backslash character `('\\')` to indicate special forms `(Metacharacters)` or to allow special characters `(speical sequences)` to be used  without invoking their special meaning. This collides with Python’s usage of the same character for the same purpose in string literals. Hence, Raw strings are used (e.g. r\"\\n\") so that backslashes do not have to be escaped."
      ]
    },
    {
      "cell_type": "markdown",
      "metadata": {
        "id": "Wv6VLwpIaz6b"
      },
      "source": [
        "#### 3. What is the return value of the search() method?\n",
        "**Ans:** The return value of `re.search(pattern,string)` method is a match object if the pattern is observed in the string else it returns a None"
      ]
    },
    {
      "cell_type": "code",
      "execution_count": null,
      "metadata": {
        "id": "vjfPARcpaz6b",
        "outputId": "382b3fec-65cd-40a3-e5ef-80ec63c58d48"
      },
      "outputs": [
        {
          "name": "stdout",
          "output_type": "stream",
          "text": [
            "Output: <re.Match object; span=(0, 1), match='I'>\n",
            "Output: None\n"
          ]
        }
      ],
      "source": [
        "import re\n",
        "match = re.search('i','Ineuron Full Stack Data Science Program', flags=re.IGNORECASE)\n",
        "print('Output:',match)\n",
        "match = re.search('X','Ineuron Full Stack Data Science Program', flags=re.IGNORECASE)\n",
        "print('Output:',match)"
      ]
    },
    {
      "cell_type": "markdown",
      "metadata": {
        "id": "N6k9Vkraaz6c"
      },
      "source": [
        "#### 4. From a Match item, how do you get the actual strings that match the pattern?\n",
        "**Ans:** For Matched items `group()` methods returns actual strings that match the pattern"
      ]
    },
    {
      "cell_type": "code",
      "execution_count": null,
      "metadata": {
        "id": "4BbINs6Daz6c",
        "outputId": "93758ce7-a6da-4a47-ef11-fb3485b7f2fe"
      },
      "outputs": [
        {
          "name": "stdout",
          "output_type": "stream",
          "text": [
            "Output: Ineuron\n"
          ]
        }
      ],
      "source": [
        "import re\n",
        "match = re.search('ineuron','Ineuron Full Stack Data Science Program', flags=re.IGNORECASE)\n",
        "print('Output:',match.group())"
      ]
    },
    {
      "cell_type": "markdown",
      "metadata": {
        "id": "i1N9Bmeqaz6d"
      },
      "source": [
        "#### 5. In the regex which created from the r'(\\d\\d\\d)-(\\d\\d\\d-\\d\\d\\d\\d)', what does group zero cover? Group 2? Group 1?\n",
        "**Ans:** In the Regex **`r'(\\d\\d\\d)-(\\d\\d\\d-\\d\\d\\d\\d)'`** the zero group covers the entire pattern match where as the first group cover **`(\\d\\d\\d)`** and the second group cover **`(\\d\\d\\d-\\d\\d\\d\\d)`**"
      ]
    },
    {
      "cell_type": "code",
      "execution_count": null,
      "metadata": {
        "id": "KQrCueMxaz6d",
        "outputId": "79ae7d46-b3d1-4bde-ef29-fa083b8f259a"
      },
      "outputs": [
        {
          "name": "stdout",
          "output_type": "stream",
          "text": [
            "('415', '555-4242')\n",
            "415-555-4242\n",
            "415\n",
            "555-4242\n"
          ]
        }
      ],
      "source": [
        "# Example Program\n",
        "import re\n",
        "phoneNumRegex = re.compile(r'(\\d\\d\\d)-(\\d\\d\\d-\\d\\d\\d\\d)')\n",
        "mo = phoneNumRegex.search('My number is 415-555-4242.')\n",
        "print(mo.groups()) # Prints all groups in a tuple format\n",
        "print(mo.group()) # Always returns the fully matched string \n",
        "print(mo.group(1)) # Returns the first group\n",
        "print(mo.group(2)) # Returns the second group"
      ]
    },
    {
      "cell_type": "markdown",
      "metadata": {
        "id": "1Eul_hB6az6e"
      },
      "source": [
        "#### 6. In standard expression syntax, parentheses and intervals have distinct meanings. How can you tell a regex that you want it to fit real parentheses and periods?\n",
        "**Ans:** The **`\\.`** **`\\(`** and **`\\)`** escape characters in the raw string passed to re.compile() will match actual parenthesis characters."
      ]
    },
    {
      "cell_type": "code",
      "execution_count": null,
      "metadata": {
        "id": "JKa73FWTaz6e",
        "outputId": "79d31422-35d4-46f0-cf13-6931acc75648"
      },
      "outputs": [
        {
          "name": "stdout",
          "output_type": "stream",
          "text": [
            "(415) 555-4242\n"
          ]
        }
      ],
      "source": [
        "# Example Program\n",
        "import re\n",
        "phoneNumRegex = re.compile(r'(\\(\\d\\d\\d\\)) (\\d\\d\\d-\\d\\d\\d\\d)')\n",
        "mo = phoneNumRegex.search('My phone number is (415) 555-4242.')\n",
        "print(mo.group())"
      ]
    },
    {
      "cell_type": "markdown",
      "metadata": {
        "id": "xA8zJJNkaz6e"
      },
      "source": [
        "#### 7. The findall() method returns a string list or a list of string tuples. What causes it to return one of the two options?\n",
        "**Ans:** If the regex pattern has no groups, a list of strings matched is returned. if the regex pattern has groups, a list of tuple of strings is returned."
      ]
    },
    {
      "cell_type": "code",
      "execution_count": null,
      "metadata": {
        "id": "VWpSNhz1az6f",
        "outputId": "6f4525d6-1b40-46d2-8656-fa957db0433b"
      },
      "outputs": [
        {
          "name": "stdout",
          "output_type": "stream",
          "text": [
            "[('(415)', '555-4242')]\n",
            "['415-555-4242']\n"
          ]
        }
      ],
      "source": [
        "# Example Program\n",
        "import re\n",
        "phoneNumRegex = re.compile(r'(\\(\\d\\d\\d\\)) (\\d\\d\\d-\\d\\d\\d\\d)')\n",
        "mo = phoneNumRegex.findall('My phone number is (415) 555-4242.')\n",
        "print(mo)\n",
        "\n",
        "# Example Program\n",
        "import re\n",
        "phoneNumRegex = re.compile(r'\\d{3}-\\d{3}-\\d{4}')\n",
        "mo = phoneNumRegex.findall('My number is 415-555-4242.')\n",
        "print(mo) # Prints all groups in a tuple format"
      ]
    },
    {
      "cell_type": "markdown",
      "metadata": {
        "id": "Ddw2JTYHaz6g"
      },
      "source": [
        "#### 8. In standard expressions, what does the | character mean?\n",
        "**Ans:** In Standard Expressions `|` means `OR` operator."
      ]
    },
    {
      "cell_type": "markdown",
      "metadata": {
        "id": "F5I4qEjeaz6g"
      },
      "source": [
        "#### 9. In regular expressions, what does the `?` character stand for?\n",
        "**Ans:** In regular Expressions, `?` characters represents zero or one match of the preceeding group."
      ]
    },
    {
      "cell_type": "code",
      "execution_count": null,
      "metadata": {
        "id": "AhLOFcD_az6h",
        "outputId": "4a2b70f5-7249-4b57-bcff-e367a309e664"
      },
      "outputs": [
        {
          "name": "stdout",
          "output_type": "stream",
          "text": [
            "<re.Match object; span=(0, 6), match='Batman'>\n",
            "<re.Match object; span=(0, 8), match='Batwoman'>\n"
          ]
        }
      ],
      "source": [
        "# Example Program\n",
        "import re\n",
        "match_1 = re.search(\"Bat(wo)?man\",\"Batman returns\")\n",
        "print(match_1)\n",
        "match_2 = re.search(\"Bat(wo)?man\",\"Batwoman returns\")\n",
        "print(match_2)"
      ]
    },
    {
      "cell_type": "markdown",
      "metadata": {
        "id": "gNo_zQQLaz6h"
      },
      "source": [
        "#### 10.In regular expressions, what is the difference between the + and * characters?\n",
        "**Ans:** In Regular Expressions, `*` Represents Zero ore more occurances of the preceeding group, whereas `+` represents one or more occurances of the preceeding group."
      ]
    },
    {
      "cell_type": "code",
      "execution_count": null,
      "metadata": {
        "id": "wjCC_SNWaz6h",
        "outputId": "6a89b4d1-cdc6-4e10-e56a-07843f22dc0d"
      },
      "outputs": [
        {
          "name": "stdout",
          "output_type": "stream",
          "text": [
            "<re.Match object; span=(0, 6), match='Batman'>\n",
            "None\n"
          ]
        }
      ],
      "source": [
        "import re\n",
        "match_1 = re.search(\"Bat(wo)*man\",\"Batman returns\")\n",
        "print(match_1)\n",
        "match_2 = re.search(\"Bat(wo)+man\",\"Batman returns\")\n",
        "print(match_2)"
      ]
    },
    {
      "cell_type": "markdown",
      "metadata": {
        "id": "zJIuTCrjaz6i"
      },
      "source": [
        "#### 11. What is the difference between {4} and {4,5} in regular expression?\n",
        "**Ans:** `{4}` means that its preceeding group should repeat 4 times. where as `{4,5}` means that its preceeding group should repeat mininum 4 times and maximum 5 times inclusively"
      ]
    },
    {
      "cell_type": "code",
      "execution_count": null,
      "metadata": {
        "id": "Zs4jS8Lfaz6i",
        "outputId": "c5cfb706-3b76-4106-e6c0-5ab9b53acd93"
      },
      "outputs": [
        {
          "name": "stdout",
          "output_type": "stream",
          "text": [
            "HaHaHa\n",
            "None\n"
          ]
        }
      ],
      "source": [
        "import re\n",
        "haRegex = re.compile(r'(Ha){3}')\n",
        "mo1 = haRegex.search('HaHaHa')\n",
        "mo2 = haRegex.search('Ha')\n",
        "print(mo1.group())\n",
        "print(mo2)"
      ]
    },
    {
      "cell_type": "markdown",
      "metadata": {
        "id": "n0tDQ6RIaz6j"
      },
      "source": [
        "#### 12. What do you mean by the \\d, \\w, and \\s shorthand character classes signify in regular expressions?\n",
        "**Ans:** \\d, \\w and \\s are special sequences in regular expresssions in python:\n",
        "1. **`\\w`** – Matches a word character equivalent to [a-zA-Z0-9_]\n",
        "2. **`\\d`** – Matches digit character equivalent to [0-9]\n",
        "3. **`\\s`** – Matches whitespace character (space, tab, newline, etc.)"
      ]
    },
    {
      "cell_type": "markdown",
      "metadata": {
        "id": "qC96F_2haz6j"
      },
      "source": [
        "#### 13. What do means by \\D, \\W, and \\S shorthand character classes signify in regular expressions?\n",
        "**Ans:** \\D, \\W and \\S are special sequences in regular expresssions in python:\n",
        "1. **`\\W`** – Matches any non-alphanumeric character equivalent to [^a-zA-Z0-9_]\n",
        "2. **`\\D`** – Matches any non-digit character, this is equivalent to the set class [^0-9]\n",
        "3. **`\\S`** – Matches any non-whitespace character"
      ]
    },
    {
      "cell_type": "markdown",
      "metadata": {
        "id": "q9oTkNI6az6j"
      },
      "source": [
        "#### 14. What is the difference between `.*?` and `.*`?\n",
        "**Ans:** **`.*`** is a Greedy mode, which returns the longest string that meets the condition. Whereas **`.*?`** is a non greedy mode which returns the shortest string that meets the condition."
      ]
    },
    {
      "cell_type": "markdown",
      "metadata": {
        "id": "RCR1fmemaz6k"
      },
      "source": [
        "#### 15. What is the syntax for matching both numbers and lowercase letters with a character class?\n",
        "**Ans:** The Synatax is Either **`[a-z0-9]`** or **`[0-9a-z]`**"
      ]
    },
    {
      "cell_type": "markdown",
      "metadata": {
        "id": "kPvuWWaHaz6k"
      },
      "source": [
        "#### 16. What is the procedure for making a normal expression in regax case insensitive?\n",
        "**Ans:** We can pass **`re.IGNORECASE`** as a flag to make a noraml expression case insensitive"
      ]
    },
    {
      "cell_type": "markdown",
      "metadata": {
        "id": "o6z2vWtlaz6k"
      },
      "source": [
        "#### 17. What does the . character normally match? What does it match if re.DOTALL is passed as 2nd argument in re.compile()?\n",
        "**Ans:** \n",
        "Dot **`.`** character matches everything in input except newline character **`.`**. By passing **`re.DOTALL`** as a flag to **`re.compile()`**, you can make the dot character match all characters, including the newline character."
      ]
    },
    {
      "cell_type": "markdown",
      "metadata": {
        "id": "vCPT6Rquaz6k"
      },
      "source": [
        "#### 18. If numReg = re.compile(r'\\d+'), what will numRegex.sub('X', '11 drummers, 10 pipers, five rings, 4 hen') return?\n",
        "**Ans:** The Ouput will be **`'X drummers, X pipers, five rings, X hen'`**"
      ]
    },
    {
      "cell_type": "code",
      "execution_count": null,
      "metadata": {
        "id": "o8wna3S7az6l",
        "outputId": "ba8dc25c-2e26-4330-d001-87ada8614c50"
      },
      "outputs": [
        {
          "data": {
            "text/plain": [
              "'X drummers, X pipers, five rings, X hen'"
            ]
          },
          "execution_count": 10,
          "metadata": {},
          "output_type": "execute_result"
        }
      ],
      "source": [
        "import re\n",
        "numReg = re.compile(r'\\d+')\n",
        "numReg.sub('X', '11 drummers, 10 pipers, five rings, 4 hen')"
      ]
    },
    {
      "cell_type": "markdown",
      "metadata": {
        "id": "GxXQ7ytMaz6l"
      },
      "source": [
        "#### 19. What does passing re.VERBOSE as the 2nd argument to re.compile() allow to do?\n",
        "**Ans:** **`re.VERBOSE`** will allow to add whitespace and comments to string passed to **`re.compile()`**."
      ]
    },
    {
      "cell_type": "code",
      "execution_count": null,
      "metadata": {
        "id": "EUmo--nhaz6l"
      },
      "outputs": [],
      "source": [
        "# Without Using VERBOSE\n",
        "regex_email = re.compile(r'^([a-z0-9_\\.-]+)@([0-9a-z\\.-]+)\\.([a-z\\.]{2, 6})$', re.IGNORECASE)\n",
        " \n",
        "# Using VERBOSE\n",
        "regex_email = re.compile(r\"\"\"\n",
        "                            ^([a-z0-9_\\.-]+)              # local Part like username\n",
        "                            @                             # single @ sign \n",
        "                            ([0-9a-z\\.-]+)                # Domain name like google\n",
        "                            \\.                            # single Dot .\n",
        "                            ([a-z]{2,6})$                 # Top level Domain  like com/in/org\n",
        "                         \"\"\",re.VERBOSE | re.IGNORECASE)   "
      ]
    },
    {
      "cell_type": "markdown",
      "metadata": {
        "id": "MiK6yqccaz6m"
      },
      "source": [
        "#### 20. How would you write a regex that match a number with comma for every three digits? It must match the given following:\n",
        "`'42','1,234', '6,368,745'`but not the following: `'12,34,567'` (which has only two digits between the commas) `'1234'` (which lacks commas)"
      ]
    },
    {
      "cell_type": "code",
      "execution_count": null,
      "metadata": {
        "id": "6-cFOgLjaz6m",
        "outputId": "c0f9d856-9b1e-4c62-f722-dc0acd0ddbb7"
      },
      "outputs": [
        {
          "name": "stdout",
          "output_type": "stream",
          "text": [
            "Output: 42 -> <re.Match object; span=(0, 2), match='42'>\n",
            "Output: 1,234 -> <re.Match object; span=(0, 5), match='1,234'>\n",
            "Output: 6,368,745 -> <re.Match object; span=(0, 9), match='6,368,745'>\n",
            "Output: 12,34,567 -> None\n",
            "Output: 1234 -> None\n"
          ]
        }
      ],
      "source": [
        "import re\n",
        "pattern = r'^\\d{1,3}(,\\d{3})*$'\n",
        "pagex = re.compile(pattern)\n",
        "for ele in ['42','1,234', '6,368,745','12,34,567','1234']:\n",
        "    print('Output:',ele, '->', pagex.search(ele))"
      ]
    },
    {
      "cell_type": "markdown",
      "metadata": {
        "id": "1PkdNajRaz6m"
      },
      "source": [
        "#### 21. How would you write a regex that matches the full name of someone whose last name is Watanabe? You can assume that the first name that comes before it will always be one word that begins with a capital letter. The regex must match the following:\n",
        "`'Haruto Watanabe'`  \n",
        "`'Alice Watanabe'`  \n",
        "`'RoboCop Watanabe'`  \n",
        "\n",
        "but not the following:\n",
        "\n",
        "`'haruto Watanabe'` (where the first name is not capitalized)  \n",
        "`'Mr. Watanabe'` (where the preceding word has a nonletter character)  \n",
        "`'Watanabe'` (which has no first name)  \n",
        "`'Haruto watanabe'` (where Watanabe is not capitalized)  \n",
        "\n",
        "**Ans:** **`pattern = r'[A-Z]{1}[a-z]*\\sWatanabe'`**"
      ]
    },
    {
      "cell_type": "code",
      "execution_count": null,
      "metadata": {
        "id": "RvuCtYLtaz6n",
        "outputId": "5f4cb240-b470-4e71-c083-95c4624501e3"
      },
      "outputs": [
        {
          "name": "stdout",
          "output_type": "stream",
          "text": [
            "Output:  Haruto Watanabe -> <re.Match object; span=(0, 15), match='Haruto Watanabe'>\n",
            "Output:  Alice Watanabe -> <re.Match object; span=(0, 14), match='Alice Watanabe'>\n",
            "Output:  RoboCop Watanabe -> <re.Match object; span=(4, 16), match='Cop Watanabe'>\n",
            "Output:  haruto Watanabe -> None\n",
            "Output:  Mr. Watanabe -> None\n",
            "Output:  Watanabe -> None\n",
            "Output:  Haruto watanabe -> None\n"
          ]
        }
      ],
      "source": [
        "import re\n",
        "pattern = r'[A-Z]{1}[a-z]*\\sWatanabe'\n",
        "namex = re.compile(pattern)\n",
        "for name in ['Haruto Watanabe','Alice Watanabe','RoboCop Watanabe','haruto Watanabe','Mr. Watanabe','Watanabe','Haruto watanabe']:\n",
        "    print('Output: ',name,'->',namex.search(name))"
      ]
    },
    {
      "cell_type": "markdown",
      "metadata": {
        "id": "DrEK3Fmvaz6n"
      },
      "source": [
        "#### 22. How would you write a regex that matches a sentence where the first word is either Alice, Bob,or Carol; the second word is either eats, pets, or throws; the third word is apples, cats, or baseballs; and the sentence ends with a period? This regex should be case-insensitive. It must match the following:\n",
        "`'Alice eats apples.'`  \n",
        "`'Bob pets cats.'`  \n",
        "`'Carol throws baseballs.'`  \n",
        "`'Alice throws Apples.'`  \n",
        "`'BOB EATS CATS.'`  \n",
        "\n",
        "but not the following:  \n",
        "\n",
        "`'RoboCop eats apples.'`  \n",
        "`'ALICE THROWS FOOTBALLS.'`   \n",
        "`'Carol eats 7 cats.'`  \n",
        "\n",
        "**Ans:** pattern = **`r'(Alice|Bob|Carol)\\s(eats|pets|throws)\\s(apples|cats|baseballs)\\.'`**"
      ]
    },
    {
      "cell_type": "code",
      "execution_count": null,
      "metadata": {
        "id": "oq48UAW1az6n",
        "outputId": "2c438bed-a498-483b-d7a3-a5070fb1b359"
      },
      "outputs": [
        {
          "name": "stdout",
          "output_type": "stream",
          "text": [
            "Output:  Alice eats apples. -> <re.Match object; span=(0, 18), match='Alice eats apples.'>\n",
            "Output:  Bob pets cats. -> <re.Match object; span=(0, 14), match='Bob pets cats.'>\n",
            "Output:  Carol throws baseballs. -> <re.Match object; span=(0, 23), match='Carol throws baseballs.'>\n",
            "Output:  Alice throws Apples. -> <re.Match object; span=(0, 20), match='Alice throws Apples.'>\n",
            "Output:  BOB EATS CATS. -> <re.Match object; span=(0, 14), match='BOB EATS CATS.'>\n",
            "Output:  RoboCop eats apples. -> None\n",
            "Output:  ALICE THROWS FOOTBALLS. -> None\n",
            "Output:  Carol eats 7 cats. -> None\n"
          ]
        }
      ],
      "source": [
        "import re\n",
        "pattern = r'(Alice|Bob|Carol)\\s(eats|pets|throws)\\s(apples|cats|baseballs)\\.'\n",
        "casex = re.compile(pattern,re.IGNORECASE)\n",
        "for ele in ['Alice eats apples.','Bob pets cats.','Carol throws baseballs.','Alice throws Apples.','BOB EATS CATS.','RoboCop eats apples.'\n",
        ",'ALICE THROWS FOOTBALLS.','Carol eats 7 cats.']:\n",
        "    print('Output: ',ele,'->',casex.search(ele))"
      ]
    }
  ],
  "metadata": {
    "kernelspec": {
      "display_name": "Python 3",
      "language": "python",
      "name": "python3"
    },
    "language_info": {
      "codemirror_mode": {
        "name": "ipython",
        "version": 3
      },
      "file_extension": ".py",
      "mimetype": "text/x-python",
      "name": "python",
      "nbconvert_exporter": "python",
      "pygments_lexer": "ipython3",
      "version": "3.8.8"
    },
    "colab": {
      "provenance": []
    }
  },
  "nbformat": 4,
  "nbformat_minor": 0
}