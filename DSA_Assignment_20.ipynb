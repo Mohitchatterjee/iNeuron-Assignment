{
  "nbformat": 4,
  "nbformat_minor": 0,
  "metadata": {
    "colab": {
      "provenance": [],
      "authorship_tag": "ABX9TyPcY6OE1cRkiIsSedfagnEJ",
      "include_colab_link": true
    },
    "kernelspec": {
      "name": "python3",
      "display_name": "Python 3"
    },
    "language_info": {
      "name": "python"
    }
  },
  "cells": [
    {
      "cell_type": "markdown",
      "metadata": {
        "id": "view-in-github",
        "colab_type": "text"
      },
      "source": [
        "<a href=\"https://colab.research.google.com/github/Mohitchatterjee/iNeuron-Assignment/blob/main/DSA_Assignment_20.ipynb\" target=\"_parent\"><img src=\"https://colab.research.google.com/assets/colab-badge.svg\" alt=\"Open In Colab\"/></a>"
      ]
    },
    {
      "cell_type": "markdown",
      "source": [
        "<aside>\n",
        "💡 Question-1\n",
        "\n",
        "Given a binary tree, your task is to find subtree with maximum sum in tree.\n",
        "\n",
        "</aside>"
      ],
      "metadata": {
        "id": "-LtkVCg1RwKh"
      }
    },
    {
      "cell_type": "code",
      "execution_count": null,
      "metadata": {
        "colab": {
          "base_uri": "https://localhost:8080/"
        },
        "id": "41bykCLvRV8f",
        "outputId": "69ff719b-9620-4fcd-fde5-29311e76056b"
      },
      "outputs": [
        {
          "output_type": "stream",
          "name": "stdout",
          "text": [
            "7\n"
          ]
        }
      ],
      "source": [
        "class TreeNode:\n",
        "    def __init__(self, val):\n",
        "        self.val = val\n",
        "        self.left = None\n",
        "        self.right = None\n",
        "\n",
        "def find_max_subtree_sum(root):\n",
        "    max_sum = float('-inf')\n",
        "\n",
        "    def subtree_sum(node):\n",
        "        nonlocal max_sum\n",
        "\n",
        "        if node is None:\n",
        "            return 0\n",
        "\n",
        "        left_sum = subtree_sum(node.left)\n",
        "        right_sum = subtree_sum(node.right)\n",
        "\n",
        "        current_sum = node.val + left_sum + right_sum\n",
        "        max_sum = max(max_sum, current_sum)\n",
        "\n",
        "        return current_sum\n",
        "\n",
        "    subtree_sum(root)\n",
        "    return max_sum\n",
        "\n",
        "\n",
        "\n",
        "# Create the binary tree\n",
        "root = TreeNode(1)\n",
        "root.left = TreeNode(-2)\n",
        "root.right = TreeNode(3)\n",
        "root.left.left = TreeNode(4)\n",
        "root.left.right = TreeNode(5)\n",
        "root.right.left = TreeNode(-6)\n",
        "root.right.right = TreeNode(2)\n",
        "\n",
        "# Find the subtree with maximum sum\n",
        "max_sum = find_max_subtree_sum(root)\n",
        "print(max_sum)  # Output: 7\n"
      ]
    },
    {
      "cell_type": "markdown",
      "source": [
        "<aside>\n",
        "💡 Question-2\n",
        "\n",
        "Construct the BST (Binary Search Tree) from its given level order traversal.\n",
        "\n",
        "</aside>"
      ],
      "metadata": {
        "id": "2Yh0HnoVW7ze"
      }
    },
    {
      "cell_type": "code",
      "source": [
        "\n",
        "import math\n",
        "\n",
        "\n",
        "\n",
        "\n",
        "class Node:\n",
        "\tdef __init__(self, data):\n",
        "\t\tself.data = data\n",
        "\t\tself.left = None\n",
        "\t\tself.right = None\n",
        "\n",
        "\n",
        "\n",
        "def getNode(data):\n",
        "\n",
        "\tnewNode = Node(data)\n",
        "\n",
        "\n",
        "\tnewNode.data = data\n",
        "\tnewNode.left = None\n",
        "\tnewNode.right = None\n",
        "\treturn newNode\n",
        "\n",
        "\n",
        "def LevelOrder(root, data):\n",
        "\tif(root == None):\n",
        "\t\troot = getNode(data)\n",
        "\t\treturn root\n",
        "\n",
        "\tif(data <= root.data):\n",
        "\t\troot.left = LevelOrder(root.left, data)\n",
        "\telse:\n",
        "\t\troot.right = LevelOrder(root.right, data)\n",
        "\treturn root\n",
        "\n",
        "\n",
        "def constructBst(arr, n):\n",
        "\tif(n == 0):\n",
        "\t\treturn None\n",
        "\troot = None\n",
        "\n",
        "\tfor i in range(0, n):\n",
        "\t\troot = LevelOrder(root, arr[i])\n",
        "\n",
        "\treturn root\n",
        "\n",
        "\n",
        "\n",
        "def inorderTraversal(root):\n",
        "\tif (root == None):\n",
        "\t\treturn None\n",
        "\n",
        "\tinorderTraversal(root.left)\n",
        "\tprint(root.data, end=\" \")\n",
        "\tinorderTraversal(root.right)\n",
        "\n",
        "\n",
        "if __name__ == '__main__':\n",
        "\n",
        "\tarr = [7, 4, 12, 3, 6, 8, 1, 5, 10]\n",
        "\tn = len(arr)\n",
        "\n",
        "\troot = constructBst(arr, n)\n",
        "\n",
        "\tprint(\"Inorder Traversal: \", end=\"\")\n",
        "\troot = inorderTraversal(root)\n",
        "\n",
        "\n"
      ],
      "metadata": {
        "id": "mfYFrwPjR3Rk",
        "colab": {
          "base_uri": "https://localhost:8080/"
        },
        "outputId": "0fa06a23-2701-49da-835a-c74894d7caa8"
      },
      "execution_count": 3,
      "outputs": [
        {
          "output_type": "stream",
          "name": "stdout",
          "text": [
            "Inorder Traversal: 1 3 4 5 6 7 8 10 12 "
          ]
        }
      ]
    },
    {
      "cell_type": "markdown",
      "source": [
        "<aside>\n",
        "💡 Question-3\n",
        "\n",
        "Given an array of size n. The problem is to check whether the given array can represent the level order traversal of a Binary Search Tree or not\n",
        "\n",
        "</aside>"
      ],
      "metadata": {
        "id": "js9T13nzYG0A"
      }
    },
    {
      "cell_type": "code",
      "source": [
        "INT_MIN, INT_MAX = float('-inf'), float('inf')\n",
        "\n",
        "class NodeDetails:\n",
        "\n",
        "\tdef __init__(self, data, min, max):\n",
        "\t\tself.data = data\n",
        "\t\tself.min = min\n",
        "\t\tself.max = max\n",
        "\n",
        "def levelOrderIsOfBST(arr, n):\n",
        "\n",
        "\n",
        "\tif n == 0:\n",
        "\t\treturn True\n",
        "\n",
        "\tq = []\n",
        "\n",
        "\n",
        "\ti = 0\n",
        "\n",
        "\tnewNode = NodeDetails(arr[i], INT_MIN, INT_MAX)\n",
        "\ti += 1\n",
        "\tq.append(newNode)\n",
        "\n",
        "\twhile i != n and len(q) != 0:\n",
        "\n",
        "\t\ttemp = q.pop(0)\n",
        "\n",
        "\n",
        "\t\tif i < n and (arr[i] < temp.data and\n",
        "\t\t\t\t\tarr[i] > temp.min):\n",
        "\n",
        "\n",
        "\t\t\tnewNode = NodeDetails(arr[i], temp.min, temp.data)\n",
        "\t\t\ti += 1\n",
        "\t\t\tq.append(newNode)\n",
        "\n",
        "\n",
        "\t\tif i < n and (arr[i] > temp.data and\n",
        "\t\t\t\t\tarr[i] < temp.max):\n",
        "\n",
        "\n",
        "\t\t\tnewNode = NodeDetails(arr[i], temp.data, temp.max)\n",
        "\t\t\ti += 1\n",
        "\t\t\tq.append(newNode)\n",
        "\n",
        "\n",
        "\tif i == n:\n",
        "\t\treturn True\n",
        "\n",
        "\treturn False\n",
        "\n",
        "\n",
        "if __name__ == \"__main__\":\n",
        "\n",
        "\tarr = [7, 4, 12, 3, 6, 8, 1, 5, 10]\n",
        "\tn = len(arr)\n",
        "\tif levelOrderIsOfBST(arr, n):\n",
        "\t\tprint(\"Yes\")\n",
        "\telse:\n",
        "\t\tprint(\"No\")\n",
        "\n"
      ],
      "metadata": {
        "colab": {
          "base_uri": "https://localhost:8080/"
        },
        "id": "8MSlwD5XXivf",
        "outputId": "38e843fa-732a-4f3e-d26b-28a8bd59f345"
      },
      "execution_count": 6,
      "outputs": [
        {
          "output_type": "stream",
          "name": "stdout",
          "text": [
            "Yes\n"
          ]
        }
      ]
    },
    {
      "cell_type": "markdown",
      "source": [],
      "metadata": {
        "id": "NR9QxtFTY1NM"
      }
    },
    {
      "cell_type": "code",
      "source": [],
      "metadata": {
        "id": "7pRVeKWIYTgW"
      },
      "execution_count": null,
      "outputs": []
    }
  ]
}