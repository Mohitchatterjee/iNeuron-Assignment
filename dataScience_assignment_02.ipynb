{
  "nbformat": 4,
  "nbformat_minor": 0,
  "metadata": {
    "colab": {
      "provenance": [],
      "authorship_tag": "ABX9TyNUYheT+v8ebmi0CX2DUPfc",
      "include_colab_link": true
    },
    "kernelspec": {
      "name": "python3",
      "display_name": "Python 3"
    },
    "language_info": {
      "name": "python"
    }
  },
  "cells": [
    {
      "cell_type": "markdown",
      "metadata": {
        "id": "view-in-github",
        "colab_type": "text"
      },
      "source": [
        "<a href=\"https://colab.research.google.com/github/Mohitchatterjee/iNeuron-Assignment/blob/main/dataScience_assignment_02.ipynb\" target=\"_parent\"><img src=\"https://colab.research.google.com/assets/colab-badge.svg\" alt=\"Open In Colab\"/></a>"
      ]
    },
    {
      "cell_type": "markdown",
      "source": [
        "1. Scenario: A company wants to analyze the sales performance of its products in different regions. They have collected the following data:\n",
        "   Region A: [10, 15, 12, 8, 14]\n",
        "   Region B: [18, 20, 16, 22, 25]\n",
        "   Calculate the mean sales for each region.\n"
      ],
      "metadata": {
        "id": "Ywu0l8ooQxTm"
      }
    },
    {
      "cell_type": "markdown",
      "source": [
        "For Region A:\n",
        "\n",
        "Sum up all the sales values in Region A: 10 + 15 + 12 + 8 + 14 = 59.\n",
        "Divide the sum by the number of sales values in Region A (which is 5): 59 / 5 = 11.8.\n",
        "The mean sales for Region A is 11.8.\n",
        "\n",
        "For Region B:\n",
        "\n",
        "Sum up all the sales values in Region B: 18 + 20 + 16 + 22 + 25 = 101.\n",
        "Divide the sum by the number of sales values in Region B (which is 5): 101 / 5 = 20.2.\n",
        "The mean sales for Region B is 20.2.\n",
        "\n",
        "So, the mean sales for Region A is 11.8 and the mean sales for Region B is 20.2."
      ],
      "metadata": {
        "id": "k_NXt-DPRVQW"
      }
    },
    {
      "cell_type": "markdown",
      "source": [
        "2. Scenario: A survey is conducted to measure customer satisfaction on a scale of 1 to 5. The data collected is as follows:\n",
        "   [4, 5, 2, 3, 5, 4, 3, 2, 4, 5]\n",
        "   Calculate the mode of the survey responses.\n"
      ],
      "metadata": {
        "id": "dFmlVIWbRjHM"
      }
    },
    {
      "cell_type": "markdown",
      "source": [
        "Count the frequency of each response value in the data.\n",
        "1.The frequency of 2 is 2.\n",
        "2.The frequency of 3 is 2.\n",
        "3.The frequency of 4 is 3.\n",
        "4.The frequency of 5 is 3.\n",
        "Identify the value(s) with the highest frequency.\n",
        "Both 4 and 5 have the highest frequency, which is 3.\n",
        "If there is only one value with the highest frequency, it is the mode. If there are multiple values with the same highest frequency, the data is multimodal.\n",
        "In this case, both 4 and 5 have a frequency of 3, so the data is multimodal.\n",
        "The mode of the survey responses is 4 and 5, indicating that both 4 and 5 are the most frequent responses in the data."
      ],
      "metadata": {
        "id": "RNlXzgviTn6P"
      }
    },
    {
      "cell_type": "markdown",
      "source": [
        "3. Scenario: A company wants to compare the salaries of two departments. The salary data for Department A and Department B are as follows:\n",
        "   Department A: [5000, 6000, 5500, 7000]\n",
        "   Department B: [4500, 5500, 5800, 6000, 5200]\n",
        "   Calculate the median salary for each department.\n"
      ],
      "metadata": {
        "id": "IFC_7ayYTzvq"
      }
    },
    {
      "cell_type": "markdown",
      "source": [
        "For Department A:\n",
        "\n",
        "Sort the salaries in Department A in ascending order: [5000, 5500, 6000, 7000].\n",
        "Since the number of salaries in Department A is odd (4), the median is the middle value. In this case, the middle value is the second value, which is 5500.\n",
        "The median salary for Department A is 5500.\n",
        "\n",
        "For Department B:\n",
        "\n",
        "Sort the salaries in Department B in ascending order: [4500, 5200, 5500, 5800, 6000].\n",
        "Since the number of salaries in Department B is odd (5), the median is the middle value. In this case, the middle value is the third value, which is 5500.\n",
        "The median salary for Department B is 5500.\n",
        "\n",
        "So, the median salary for Department A is 5500, and the median salary for Department B is also 5500.\n",
        "\n",
        "\n",
        "\n",
        "\n",
        "\n",
        "\n"
      ],
      "metadata": {
        "id": "2i1NzxaCUHrS"
      }
    },
    {
      "cell_type": "markdown",
      "source": [
        "4. Scenario: A data analyst wants to determine the variability in the daily stock prices of a company. The data collected is as follows:\n",
        "   [25.5, 24.8, 26.1, 25.3, 24.9]\n",
        "   Calculate the range of the stock prices.\n"
      ],
      "metadata": {
        "id": "lK4tOxL2U3j9"
      }
    },
    {
      "cell_type": "markdown",
      "source": [
        "The stock prices are: [25.5, 24.8, 26.1, 25.3, 24.9].\n",
        "\n",
        "To determine the range:\n",
        "\n",
        "Find the maximum value in the data: 26.1.\n",
        "Find the minimum value in the data: 24.8.\n",
        "Calculate the difference between the maximum and minimum values: 26.1 - 24.8 = 1.3.\n",
        "The range of the stock prices is 1.3, indicating that the stock prices vary by 1.3 units between the minimum and maximum values."
      ],
      "metadata": {
        "id": "8P0cbmXTULvs"
      }
    },
    {
      "cell_type": "markdown",
      "source": [
        "5. Scenario: A study is conducted to compare the performance of two different teaching methods. The test scores of the students in each group are as follows:\n",
        "   Group A: [85, 90, 92, 88, 91]\n",
        "   Group B: [82, 88, 90, 86, 87]\n",
        "   Perform a t-test to determine if there is a significant difference in the mean scores between the two groups\n",
        "\n"
      ],
      "metadata": {
        "id": "gGzAhfHyVFyI"
      }
    },
    {
      "cell_type": "markdown",
      "source": [
        "Group A: [85, 90, 92, 88, 91]\n",
        "Group B: [82, 88, 90, 86, 87]\n",
        "\n",
        "Calculate the sample means (mean_a, mean_b) for each group.\n",
        "\n",
        "For Group A: (85 + 90 + 92 + 88 + 91) / 5 = 89.2\n",
        "For Group B: (82 + 88 + 90 + 86 + 87) / 5 = 86.6\n",
        "Calculate the sample variances (var_a, var_b) for each group.\n",
        "\n",
        "For Group A: [(85 - 89.2)^2 + (90 - 89.2)^2 + (92 - 89.2)^2 + (88 - 89.2)^2 + (91 - 89.2)^2] / 4 = 5.6\n",
        "For Group B: [(82 - 86.6)^2 + (88 - 86.6)^2 + (90 - 86.6)^2 + (86 - 86.6)^2 + (87 - 86.6)^2] / 4 = 5.04\n",
        "Calculate the standard errors (se_a, se_b) for each group.\n",
        "\n",
        "For Group A: sqrt(5.6 / 5) = 1.49\n",
        "For Group B: sqrt(5.04 / 5) = 1.12\n",
        "Calculate the t-value using the formula:\n",
        "t = (mean_a - mean_b) / sqrt((se_a^2 / n_a) + (se_b^2 / n_b))\n",
        "\n",
        "t = (89.2 - 86.6) / sqrt((1.49^2 / 5) + (1.12^2 / 5))\n",
        "t = 2.6 / sqrt(0.448 + 0.25)\n",
        "t = 2.6 / sqrt(0.698)\n",
        "t ≈ 2.6 / 0.836 ≈ 3.11\n",
        "Determine the degrees of freedom (df) using the formula:\n",
        "df = n_a + n_b - 2\n",
        "\n",
        "df = 5 + 5 - 2 = 8\n",
        "Determine the critical t-value (t_crit) for the desired significance level and degrees of freedom. For example, at a significance level of 0.05 (95% confidence level) and df = 8, the critical t-value is approximately 2.31 (obtained from a t-table).\n",
        "\n",
        "Compare the calculated t-value with the critical t-value to determine if there is a significant difference between the means.\n",
        "\n",
        "If the calculated t-value > critical t-value, there is a significant difference.\n",
        "If the calculated t-value < critical t-value, there is no significant difference.\n",
        "In this case, the calculated t-value (3.11) is greater than the critical t-value (2.31) for a significance level of 0.05 and df = 8. Therefore, we can conclude that there is a significant difference in the mean scores between the two groups."
      ],
      "metadata": {
        "id": "Jy5W4p8eWVv0"
      }
    },
    {
      "cell_type": "markdown",
      "source": [
        "6. Scenario: A company wants to analyze the relationship between advertising expenditure and sales. The data collected is as follows:\n",
        "   Advertising Expenditure (in thousands): [10, 15, 12, 8, 14]\n",
        "   Sales (in thousands): [25, 30, 28, 20, 26]\n",
        "   Calculate the correlation coefficient between advertising expenditure and sales.\n"
      ],
      "metadata": {
        "id": "qIXAd9sxWlMs"
      }
    },
    {
      "cell_type": "markdown",
      "source": [
        "Advertising Expenditure (in thousands): [10, 15, 12, 8, 14]\n",
        "Sales (in thousands): [25, 30, 28, 20, 26]\n",
        "\n",
        "Calculate the means (mean_x, mean_y) for the advertising expenditure and sales data.\n",
        "\n",
        "For Advertising Expenditure: (10 + 15 + 12 + 8 + 14) / 5 = 11.8\n",
        "For Sales: (25 + 30 + 28 + 20 + 26) / 5 = 25.8\n",
        "Calculate the standard deviations (std_x, std_y) for the advertising expenditure and sales data.\n",
        "\n",
        "For Advertising Expenditure:\n",
        "\n",
        "Calculate the squared differences from the mean: [(10 - 11.8)^2 + (15 - 11.8)^2 + (12 - 11.8)^2 + (8 - 11.8)^2 + (14 - 11.8)^2] / 4 = 5.3\n",
        "Calculate the variance: 5.3 / 4 = 1.325\n",
        "Calculate the standard deviation: sqrt(1.325) = 1.15\n",
        "For Sales:\n",
        "\n",
        "Calculate the squared differences from the mean: [(25 - 25.8)^2 + (30 - 25.8)^2 + (28 - 25.8)^2 + (20 - 25.8)^2 + (26 - 25.8)^2] / 4 = 6.8\n",
        "Calculate the variance: 6.8 / 4 = 1.7\n",
        "Calculate the standard deviation: sqrt(1.7) = 1.3\n",
        "Calculate the covariance (cov_xy) between advertising expenditure and sales.\n",
        "\n",
        "Calculate the differences from the means for each corresponding pair of data points:\n",
        "(10 - 11.8) = -1.8\n",
        "(15 - 11.8) = 3.2\n",
        "(12 - 11.8) = 0.2\n",
        "(8 - 11.8) = -3.8\n",
        "(14 - 11.8) = 2.2\n",
        "Calculate the covariance: (-1.8 * (25 - 25.8) + 3.2 * (30 - 25.8) + 0.2 * (28 - 25.8) - 3.8 * (20 - 25.8) + 2.2 * (26 - 25.8)) / 4 = -1.4\n",
        "Calculate the correlation coefficient (correlation) using the formula:\n",
        "correlation = cov_xy / (std_x * std_y)\n",
        "\n",
        "correlation = -1.4 / (1.15 * 1.3) ≈ -0.92\n",
        "The correlation coefficient between advertising expenditure and sales is approximately -0.92. This negative value indicates a strong negative correlation, suggesting that as advertising expenditure increases, sales tend to decrease."
      ],
      "metadata": {
        "id": "IaH38KCsWnct"
      }
    },
    {
      "cell_type": "markdown",
      "source": [
        "7. Scenario: A survey is conducted to measure the heights of a group of people. The data collected is as follows:\n",
        "   [160, 170, 165, 155, 175, 180, 170]\n",
        "   Calculate the standard deviation of the heights.\n",
        "\n"
      ],
      "metadata": {
        "id": "dTr13G5CXdR_"
      }
    },
    {
      "cell_type": "markdown",
      "source": [
        "The heights are: [160, 170, 165, 155, 175, 180, 170].\n",
        "\n",
        "Calculate the mean (mean) of the heights:\n",
        "\n",
        "Sum up all the heights: 160 + 170 + 165 + 155 + 175 + 180 + 170 = 1175.\n",
        "Divide the sum by the number of heights (which is 7): 1175 / 7 = 167.86 (rounded to two decimal places).\n",
        "Calculate the squared differences from the mean for each height:\n",
        "\n",
        "For each height, subtract the mean and square the result:\n",
        "(160 - 167.86)^2 = 61.1396\n",
        "(170 - 167.86)^2 = 4.6124\n",
        "(165 - 167.86)^2 = 8.2564\n",
        "(155 - 167.86)^2 = 167.1696\n",
        "(175 - 167.86)^2 = 52.6496\n",
        "(180 - 167.86)^2 = 148.0996\n",
        "(170 - 167.86)^2 = 4.6124\n",
        "Calculate the variance by summing up the squared differences and dividing by the number of heights:\n",
        "\n",
        "Sum of squared differences: 61.1396 + 4.6124 + 8.2564 + 167.1696 + 52.6496 + 148.0996 + 4.6124 = 446.54\n",
        "Variance: 446.54 / 7 = 63.7929 (rounded to four decimal places).\n",
        "Calculate the standard deviation by taking the square root of the variance:\n",
        "\n",
        "Standard deviation: sqrt(63.7929) ≈ 7.9888 (rounded to four decimal places).\n",
        "The standard deviation of the heights is approximately 7.9888. This value indicates the average amount of deviation or spread in the heights from the mean height."
      ],
      "metadata": {
        "id": "oJlB_YMhXnIQ"
      }
    },
    {
      "cell_type": "markdown",
      "source": [
        "8. Scenario: A company wants to analyze the relationship between employee tenure and job satisfaction. The data collected is as follows:\n",
        "   Employee Tenure (in years): [2, 3, 5, 4, 6, 2, 4]\n",
        "   Job Satisfaction (on a scale of 1 to 10): [7, 8, 6, 9, 5, 7, 6]\n",
        "   Perform a linear regression analysis to predict job satisfaction based on employee tenure.\n"
      ],
      "metadata": {
        "id": "abelvvdzYh9c"
      }
    },
    {
      "cell_type": "markdown",
      "source": [
        "Employee Tenure (in years): [2, 3, 5, 4, 6, 2, 4]\n",
        "Job Satisfaction (on a scale of 1 to 10): [7, 8, 6, 9, 5, 7, 6]\n",
        "\n",
        "Calculate the means (mean_x, mean_y) for employee tenure and job satisfaction.\n",
        "\n",
        "For Employee Tenure: (2 + 3 + 5 + 4 + 6 + 2 + 4) / 7 = 3.57 (rounded to two decimal places)\n",
        "For Job Satisfaction: (7 + 8 + 6 + 9 + 5 + 7 + 6) / 7 = 6.86 (rounded to two decimal places)\n",
        "Calculate the differences from the means for each corresponding pair of data points:\n",
        "\n",
        "For Employee Tenure: [-1.57, -0.57, 1.43, 0.43, 2.43, -1.57, 0.43]\n",
        "For Job Satisfaction: [0.14, 1.14, -0.86, 2.14, -1.86, 0.14, -0.86]\n",
        "Calculate the sum of the products of the differences from the means:\n",
        "\n",
        "Sum of (difference_x * difference_y) = (-1.57 * 0.14) + (-0.57 * 1.14) + (1.43 * -0.86) + (0.43 * 2.14) + (2.43 * -1.86) + (-1.57 * 0.14) + (0.43 * -0.86) ≈ -2.92 (rounded to two decimal places)\n",
        "Calculate the sum of the squared differences from the means for each variable:\n",
        "\n",
        "Sum of (difference_x^2) = ((-1.57)^2 + (-0.57)^2 + (1.43)^2 + (0.43)^2 + (2.43)^2 + (-1.57)^2 + (0.43)^2) ≈ 15.43 (rounded to two decimal places)\n",
        "Sum of (difference_y^2) = ((0.14)^2 + (1.14)^2 + (-0.86)^2 + (2.14)^2 + (-1.86)^2 + (0.14)^2 + (-0.86)^2) ≈ 12.29 (rounded to two decimal places)\n",
        "Calculate the slope (b) of the regression line:\n",
        "\n",
        "Slope (b) = sum of (difference_x * difference_y) / sum of (difference_x^2) ≈ -2.92 / 15.43 ≈ -0.189 (rounded to three decimal places)\n",
        "Calculate the y-intercept (a) of the regression line:\n",
        "\n",
        "Intercept (a) = mean_y - (b * mean_x) ≈ 6.86 - (-0.189 * 3.57) ≈ 7.51 (rounded to two decimal places)\n",
        "Write the equation of the regression line: job_satisfaction = a + b * employee_tenure\n",
        "\n",
        "Regression line: job_satisfaction = 7.51 - 0.189 * employee_tenure\n",
        "Using the regression line, you can predict job satisfaction based on employee tenure. For example, if an employee has a tenure of 4 years, you can predict their job satisfaction using the equation: job_satisfaction = 7.51 - 0.189 * 4 ≈ 6.59 (rounded to two decimal places).\n",
        "\n",
        "The linear regression analysis provides a relationship between employee tenure and job satisfaction, indicating that there is a negative correlation. As employee tenure increases, job satisfaction tends to decrease. The equation of the regression line allows for predicting job satisfaction based on employee tenure."
      ],
      "metadata": {
        "id": "mc6gFuS4YsH8"
      }
    },
    {
      "cell_type": "markdown",
      "source": [
        "9. Scenario: A study is conducted to compare the effectiveness of two different medications. The recovery times of the patients in each group are as follows:\n",
        "   Medication A: [10, 12, 14, 11, 13]\n",
        "   Medication B: [15, 17, 16, 14, 18]\n",
        "   Perform an analysis of variance (ANOVA) to determine if there is a significant difference in the mean recovery times between the two medications.\n"
      ],
      "metadata": {
        "id": "zr90iIo8ZwoS"
      }
    },
    {
      "cell_type": "markdown",
      "source": [
        "Medication A: [10, 12, 14, 11, 13]\n",
        "Medication B: [15, 17, 16, 14, 18]\n",
        "\n",
        "Calculate the means (mean_a, mean_b) for the recovery times of each medication.\n",
        "\n",
        "For Medication A: (10 + 12 + 14 + 11 + 13) / 5 = 12\n",
        "For Medication B: (15 + 17 + 16 + 14 + 18) / 5 = 16\n",
        "Calculate the sum of squares for each group:\n",
        "\n",
        "Sum of squares for Medication A (SSA):\n",
        "\n",
        "Calculate the squared differences from the mean: (10 - 12)^2 + (12 - 12)^2 + (14 - 12)^2 + (11 - 12)^2 + (13 - 12)^2 = 6\n",
        "Sum of squares for Medication B (SSB):\n",
        "\n",
        "Calculate the squared differences from the mean: (15 - 16)^2 + (17 - 16)^2 + (16 - 16)^2 + (14 - 16)^2 + (18 - 16)^2 = 10\n",
        "Calculate the total sum of squares (SST):\n",
        "\n",
        "Calculate the squared differences from the overall mean (grand mean):\n",
        "For Medication A: (10 - 14)^2 + (12 - 14)^2 + (14 - 14)^2 + (11 - 14)^2 + (13 - 14)^2 = 10\n",
        "For Medication B: (15 - 14)^2 + (17 - 14)^2 + (16 - 14)^2 + (14 - 14)^2 + (18 - 14)^2 = 20\n",
        "SST = SSA + SSB = 6 + 10 = 16\n",
        "Calculate the degrees of freedom:\n",
        "\n",
        "Degrees of freedom for SSA (dfA) = number of groups - 1 = 2 - 1 = 1\n",
        "Degrees of freedom for SST (dfT) = total number of observations - 1 = 10 - 1 = 9\n",
        "Calculate the mean sum of squares (MSA) and mean sum of squares total (MST):\n",
        "\n",
        "MSA = SSA / dfA = 6 / 1 = 6\n",
        "MST = SST / dfT = 16 / 9 ≈ 1.778 (rounded to three decimal places)\n",
        "Calculate the F-statistic:\n",
        "\n",
        "F = MSA / MST = 6 / 1.778 ≈ 3.375 (rounded to three decimal places)\n",
        "Determine the critical F-value (Fcrit) for the desired significance level and degrees of freedom for the numerator (dfA) and denominator (dfT). For example, at a significance level of 0.05 (95% confidence level) and dfA = 1, dfT = 9, the critical F-value is approximately 5.32 (obtained from an F-table).\n",
        "\n",
        "Compare the calculated F-value with the critical F-value to determine if there is a significant difference in the mean recovery times between the two medications.\n",
        "\n",
        "If the calculated F-value > critical F-value, there is a significant difference.\n",
        "If the calculated F-value < critical F-value, there is no significant difference.\n",
        "In this case, the calculated F-value (3.375) is less than the critical F-value (5.32) for a significance level of 0.05 and dfA = 1, dfT = 9. Therefore, we can conclude that there is no significant difference in the mean recovery times between the two medications."
      ],
      "metadata": {
        "id": "w8iCfjsfZPx6"
      }
    },
    {
      "cell_type": "markdown",
      "source": [
        "10. Scenario: A company wants to analyze customer feedback ratings on a scale of 1 to 10. The data collected is\n",
        "\n",
        " as follows:\n",
        "    [8, 9, 7, 6, 8, 10, 9, 8, 7, 8]\n",
        "    Calculate the 75th percentile of the feedback ratings.\n"
      ],
      "metadata": {
        "id": "m4WHsCJpZ1Vi"
      }
    },
    {
      "cell_type": "markdown",
      "source": [
        "Data: [8, 9, 7, 6, 8, 10, 9, 8, 7, 8]\n",
        "\n",
        "Sort the data in ascending order: [6, 7, 7, 8, 8, 8, 8, 9, 9, 10]\n",
        "\n",
        "Calculate the index position of the 75th percentile:\n",
        "\n",
        "Percentile = (75 / 100) * (n + 1), where n is the total number of data points.\n",
        "Percentile = (75 / 100) * (10 + 1) = 0.75 * 11 = 8.25\n",
        "Since the index position is not an integer, you need to interpolate the value.\n",
        "\n",
        "Take the integer part of the index: 8\n",
        "Take the decimal part of the index: 0.25\n",
        "Calculate the interpolated value:\n",
        "\n",
        "Interpolated value = (value at index + (decimal part * (next value - value at index)))\n",
        "Interpolated value = 8 + (0.25 * (9 - 8)) = 8 + 0.25 = 8.25\n",
        "The 75th percentile of the feedback ratings is 8.25. This means that 75% of the ratings are less than or equal to 8.25, while 25% of the ratings are greater than 8.25."
      ],
      "metadata": {
        "id": "vJun0mP-Z_tU"
      }
    },
    {
      "cell_type": "markdown",
      "source": [
        "11. Scenario: A quality control department wants to test the weight consistency of a product. The weights of a sample of products are as follows:\n",
        "    [10.2, 9.8, 10.0, 10.5, 10.3, 10.1]\n",
        "    Perform a hypothesis test to determine if the mean weight differs significantly from 10 grams.\n"
      ],
      "metadata": {
        "id": "5harp6u-anBZ"
      }
    },
    {
      "cell_type": "markdown",
      "source": [
        "Weights of the sample of products: [10.2, 9.8, 10.0, 10.5, 10.3, 10.1]\n",
        "\n",
        "State the null hypothesis (H0) and the alternative hypothesis (H1):\n",
        "\n",
        "Null hypothesis (H0): The mean weight of the products is equal to 10 grams.\n",
        "Alternative hypothesis (H1): The mean weight of the products differs significantly from 10 grams.\n",
        "Set the significance level (alpha) for the test. Let's assume a significance level of 0.05, which corresponds to a 95% confidence level.\n",
        "\n",
        "Calculate the sample mean (x̄) and sample standard deviation (s) for the weights:\n",
        "\n",
        "Sample mean (x̄) = (10.2 + 9.8 + 10.0 + 10.5 + 10.3 + 10.1) / 6 ≈ 10.17 (rounded to two decimal places)\n",
        "Sample standard deviation (s) = √[((10.2 - 10.17)^2 + (9.8 - 10.17)^2 + (10.0 - 10.17)^2 + (10.5 - 10.17)^2 + (10.3 - 10.17)^2 + (10.1 - 10.17)^2) / (6 - 1)] ≈ 0.23 (rounded to two decimal places)\n",
        "Calculate the t-value using the formula:\n",
        "\n",
        "t = (x̄ - μ) / (s / √n), where x̄ is the sample mean, μ is the hypothesized population mean (10 grams), s is the sample standard deviation, and n is the sample size.\n",
        "t = (10.17 - 10) / (0.23 / √6) ≈ 1.56 (rounded to two decimal places)\n",
        "Determine the degrees of freedom (df) for the test. In this case, df = n - 1 = 6 - 1 = 5.\n",
        "\n",
        "Determine the critical t-value for the desired significance level (alpha) and degrees of freedom (df). For a two-tailed test at a significance level of 0.05 and df = 5, the critical t-value is approximately ±2.571 (obtained from a t-table).\n",
        "\n",
        "Compare the calculated t-value with the critical t-value to determine if there is a significant difference.\n",
        "\n",
        "If the calculated t-value falls outside the critical t-value range, reject the null hypothesis and conclude that the mean weight differs significantly from 10 grams.\n",
        "If the calculated t-value falls within the critical t-value range, fail to reject the null hypothesis and conclude that there is not enough evidence to suggest a significant difference.\n",
        "In this case, the calculated t-value (1.56) falls within the range of -2.571 to 2.571. Therefore, we fail to reject the null hypothesis and conclude that there is not enough evidence to suggest a significant difference in the mean weight from 10 grams at the 0.05 significance level."
      ],
      "metadata": {
        "id": "TIM_t79hbEy4"
      }
    },
    {
      "cell_type": "code",
      "source": [],
      "metadata": {
        "id": "e8-0F7t1XcP2"
      },
      "execution_count": null,
      "outputs": []
    }
  ]
}