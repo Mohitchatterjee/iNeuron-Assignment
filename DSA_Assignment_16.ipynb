{
  "nbformat": 4,
  "nbformat_minor": 0,
  "metadata": {
    "colab": {
      "provenance": [],
      "authorship_tag": "ABX9TyNn/5xW6o96hPYXg96DZz37",
      "include_colab_link": true
    },
    "kernelspec": {
      "name": "python3",
      "display_name": "Python 3"
    },
    "language_info": {
      "name": "python"
    }
  },
  "cells": [
    {
      "cell_type": "markdown",
      "metadata": {
        "id": "view-in-github",
        "colab_type": "text"
      },
      "source": [
        "<a href=\"https://colab.research.google.com/github/Mohitchatterjee/iNeuron-Assignment/blob/main/DSA_Assignment_16.ipynb\" target=\"_parent\"><img src=\"https://colab.research.google.com/assets/colab-badge.svg\" alt=\"Open In Colab\"/></a>"
      ]
    },
    {
      "cell_type": "markdown",
      "source": [
        "<aside>\n",
        "💡 **Question 1**\n",
        "\n",
        "Given an array, for each element find the value of the nearest element to the right which is having a frequency greater than that of the current element. If there does not exist an answer for a position, then make the value ‘-1’.\n",
        "\n",
        "</aside>"
      ],
      "metadata": {
        "id": "fxExxZOmZpCk"
      }
    },
    {
      "cell_type": "code",
      "source": [
        "def nearest_element_with_greater_frequency(arr):\n",
        "    freq = {}\n",
        "    result = [-1] * len(arr)\n",
        "    stack = []\n",
        "\n",
        "    for num in arr:\n",
        "        freq[num] = freq.get(num, 0) + 1\n",
        "\n",
        "    for i in range(len(arr) - 1, -1, -1):\n",
        "        while stack and freq[arr[i]] >= freq[stack[-1]]:\n",
        "            stack.pop()\n",
        "\n",
        "        if stack:\n",
        "            result[i] = stack[-1]\n",
        "\n",
        "        stack.append(arr[i])\n",
        "\n",
        "    return result[::-1]\n",
        "\n",
        "\n",
        "arr = [1, 1, 2, 3, 4, 2, 1]\n",
        "result = nearest_element_with_greater_frequency(arr)\n",
        "print(result)\n"
      ],
      "metadata": {
        "colab": {
          "base_uri": "https://localhost:8080/"
        },
        "id": "e_RTHJADZpcb",
        "outputId": "16eee34e-2ef0-4b5e-a4e6-f8d27ff840a2"
      },
      "execution_count": 3,
      "outputs": [
        {
          "output_type": "stream",
          "name": "stdout",
          "text": [
            "[-1, 1, 2, 2, 1, -1, -1]\n"
          ]
        }
      ]
    },
    {
      "cell_type": "markdown",
      "source": [
        "<aside>\n",
        "💡 **Question 2**\n",
        "\n",
        "Given a stack of integers, sort it in ascending order using another temporary stack.\n",
        "\n",
        "</aside>"
      ],
      "metadata": {
        "id": "B_FN1rg5aDvb"
      }
    },
    {
      "cell_type": "code",
      "execution_count": 8,
      "metadata": {
        "colab": {
          "base_uri": "https://localhost:8080/"
        },
        "id": "0ofa7h9GX9VC",
        "outputId": "6be00144-176b-414f-bb53-a2083bd9ae85"
      },
      "outputs": [
        {
          "output_type": "stream",
          "name": "stdout",
          "text": [
            "[3, 23, 31, 34, 92, 98]\n"
          ]
        }
      ],
      "source": [
        "def sort_stack(stack):\n",
        "    temp_stack = []\n",
        "\n",
        "    while stack:\n",
        "        temp = stack.pop()\n",
        "\n",
        "        while temp_stack and temp_stack[-1] < temp:\n",
        "            stack.append(temp_stack.pop())\n",
        "\n",
        "        temp_stack.append(temp)\n",
        "\n",
        "    while temp_stack:\n",
        "        stack.append(temp_stack.pop())\n",
        "\n",
        "    return stack\n",
        "\n",
        "\n",
        "\n",
        "stack  = [34, 3, 31, 98, 92, 23]\n",
        "result = sort_stack(stack)\n",
        "print(result)\n",
        "\n"
      ]
    },
    {
      "cell_type": "markdown",
      "source": [
        "<aside>\n",
        "💡 **Question 3**\n",
        "\n",
        "Given a stack with **push()**, **pop()**, and **empty()** operations, The task is to delete the **middle** element ****of it without using any additional data structure.\n",
        "\n",
        "</aside>"
      ],
      "metadata": {
        "id": "-C0x6iDkayBx"
      }
    },
    {
      "cell_type": "code",
      "source": [
        "import math\n",
        "\n",
        "st = []\n",
        "st.append('1')\n",
        "st.append('2')\n",
        "st.append('3')\n",
        "st.append('4')\n",
        "st.append('5')\n",
        "\n",
        "\n",
        "v = []\n",
        "\n",
        "while(len(st) > 0):\n",
        "\tv.append(st[0])\n",
        "\tdel st[0]\n",
        "\n",
        "n = len(v)\n",
        "\n",
        "if n%2==0:\n",
        "\ttarget = math.floor(n/2)\n",
        "\tfor i in range(0, n):\n",
        "\t\tif i==target:\n",
        "\t\t\tcontinue\n",
        "\t\tst.append(v[i])\n",
        "else:\n",
        "\ttarget = math.floor(n/2)\n",
        "\tfor i in range(0, n):\n",
        "\t\tif i==target:\n",
        "\t\t\tcontinue\n",
        "\t\tst.append(v[i])\n",
        "\n",
        "\n",
        "\n",
        "while (len(st) > 0):\n",
        "\tp = st[0]\n",
        "\tdel st[0]\n",
        "\tprint(p, end = \" \")\n",
        "\n"
      ],
      "metadata": {
        "colab": {
          "base_uri": "https://localhost:8080/"
        },
        "id": "McVwmeeuaMxW",
        "outputId": "f7af18b4-574f-4311-b623-9e287137c461"
      },
      "execution_count": 12,
      "outputs": [
        {
          "output_type": "stream",
          "name": "stdout",
          "text": [
            "1 2 4 5 "
          ]
        }
      ]
    },
    {
      "cell_type": "markdown",
      "source": [
        "<aside>\n",
        "💡 **Question 4**\n",
        "\n",
        "Given a Queue consisting of first **n** natural numbers (in random order). The task is to check whether the given Queue elements can be arranged in increasing order in another Queue using a stack. The operation allowed are:\n",
        "\n",
        "1. Push and pop elements from the stack\n",
        "2. Pop (Or Dequeue) from the given Queue.\n",
        "3. Push (Or Enqueue) in the another Queue.\n",
        "</aside>"
      ],
      "metadata": {
        "id": "Bg860TO8bsf2"
      }
    },
    {
      "cell_type": "code",
      "source": [
        "def check_queue_order(queue):\n",
        "    stack = []\n",
        "    other_queue = []\n",
        "    expected = 1\n",
        "\n",
        "    while queue:\n",
        "        if queue[0] == expected:\n",
        "            queue.pop(0)\n",
        "            expected += 1\n",
        "        elif not stack or stack[-1] > queue[0]:\n",
        "            stack.append(expected)\n",
        "            expected += 1\n",
        "        else:\n",
        "            other_queue.append(queue.pop(0))\n",
        "\n",
        "    while stack:\n",
        "        if stack[-1] == expected:\n",
        "            stack.pop()\n",
        "            expected += 1\n",
        "        else:\n",
        "            break\n",
        "\n",
        "    return not stack and not queue and expected == len(other_queue) + 1\n",
        "\n",
        "\n",
        "queue = [5, 1, 2, 6, 3, 4]\n",
        "result = check_queue_order(queue)\n",
        "print(result)\n"
      ],
      "metadata": {
        "colab": {
          "base_uri": "https://localhost:8080/"
        },
        "id": "Z677NoGybC3L",
        "outputId": "7b577557-881a-4f3b-8b21-d0520b538328"
      },
      "execution_count": 15,
      "outputs": [
        {
          "output_type": "stream",
          "name": "stdout",
          "text": [
            "False\n"
          ]
        }
      ]
    },
    {
      "cell_type": "markdown",
      "source": [
        "<aside>\n",
        "💡 **Question 5**\n",
        "\n",
        "Given a number , write a program to reverse this number using stack.\n",
        "\n",
        "</aside>"
      ],
      "metadata": {
        "id": "M1xfQgPNcC1Q"
      }
    },
    {
      "cell_type": "code",
      "source": [
        "def reverse_number(number):\n",
        "    stack = []\n",
        "    number_str = str(number)\n",
        "\n",
        "    for digit in number_str:\n",
        "        stack.append(digit)\n",
        "\n",
        "    reversed_str = \"\"\n",
        "\n",
        "    while stack:\n",
        "        reversed_str += stack.pop()\n",
        "\n",
        "    reversed_number = int(reversed_str)\n",
        "    return reversed_number\n",
        "\n",
        "\n",
        "number = 365\n",
        "reversed_number = reverse_number(number)\n",
        "print(reversed_number)\n"
      ],
      "metadata": {
        "colab": {
          "base_uri": "https://localhost:8080/"
        },
        "id": "2pgN0LrOb3Wu",
        "outputId": "479d3ecb-5394-486f-9dcc-206d59a5e1d3"
      },
      "execution_count": 16,
      "outputs": [
        {
          "output_type": "stream",
          "name": "stdout",
          "text": [
            "563\n"
          ]
        }
      ]
    },
    {
      "cell_type": "markdown",
      "source": [
        "<aside>\n",
        "💡 **Question 6**\n",
        "\n",
        "Given an integer k and a **[queue](https://www.geeksforgeeks.org/queue-data-structure/)** of integers, The task is to reverse the order of the first **k** elements of the queue, leaving the other elements in the same relative order.\n",
        "\n",
        "Only following standard operations are allowed on queue.\n",
        "\n",
        "- **enqueue(x) :** Add an item x to rear of queue\n",
        "- **dequeue() :** Remove an item from front of queue\n",
        "- **size() :** Returns number of elements in queue.\n",
        "- **front() :** Finds front item.\n",
        "</aside>"
      ],
      "metadata": {
        "id": "QdR8RBmHcm2h"
      }
    },
    {
      "cell_type": "code",
      "source": [
        "from queue import Queue\n",
        "\n",
        "\n",
        "def reverse_first_k_elements(queue, k):\n",
        "    if k <= 0 or k > queue.qsize():\n",
        "        return queue\n",
        "\n",
        "    stack = []\n",
        "    for _ in range(k):\n",
        "        stack.append(queue.get())\n",
        "\n",
        "    while stack:\n",
        "        queue.put(stack.pop())\n",
        "\n",
        "    for _ in range(queue.qsize() - k):\n",
        "        queue.put(queue.get())\n",
        "\n",
        "    return queue\n",
        "\n",
        "\n",
        "queue = Queue()\n",
        "queue.put(1)\n",
        "queue.put(2)\n",
        "queue.put(3)\n",
        "queue.put(4)\n",
        "queue.put(5)\n",
        "\n",
        "k = 3\n",
        "reversed_queue = reverse_first_k_elements(queue, k)\n",
        "\n",
        "while not reversed_queue.empty():\n",
        "    print(reversed_queue.get())\n"
      ],
      "metadata": {
        "colab": {
          "base_uri": "https://localhost:8080/"
        },
        "id": "QFg9c_esclcL",
        "outputId": "ea659d37-098d-45a1-d0c3-fcc890ff92db"
      },
      "execution_count": 20,
      "outputs": [
        {
          "output_type": "stream",
          "name": "stdout",
          "text": [
            "3\n",
            "2\n",
            "1\n",
            "4\n",
            "5\n"
          ]
        }
      ]
    },
    {
      "cell_type": "markdown",
      "source": [
        "<aside>\n",
        "💡 **Question 7**\n",
        "\n",
        "Given a sequence of n strings, the task is to check if any two similar words come together and then destroy each other then print the number of words left in the sequence after this pairwise destruction.\n",
        "\n",
        "</aside>"
      ],
      "metadata": {
        "id": "NANqTUbPdZTo"
      }
    },
    {
      "cell_type": "code",
      "source": [
        "def count_remaining_words(sequence):\n",
        "    stack = []\n",
        "\n",
        "    for word in sequence:\n",
        "        if stack and stack[-1] == word:\n",
        "            stack.pop()\n",
        "        else:\n",
        "            stack.append(word)\n",
        "\n",
        "    return len(stack)\n",
        "\n",
        "\n",
        "sequence = ['ab', 'aa', 'aa', 'bcd', 'ab']\n",
        "remaining_words = count_remaining_words(sequence)\n",
        "print(remaining_words)\n"
      ],
      "metadata": {
        "colab": {
          "base_uri": "https://localhost:8080/"
        },
        "id": "rxrWcs1jc8yB",
        "outputId": "1c7ccb1e-ee03-4259-e33c-c9148259bb8e"
      },
      "execution_count": 21,
      "outputs": [
        {
          "output_type": "stream",
          "name": "stdout",
          "text": [
            "3\n"
          ]
        }
      ]
    },
    {
      "cell_type": "markdown",
      "source": [
        "<aside>\n",
        "💡 **Question 8**\n",
        "\n",
        "Given an array of integers, the task is to find the maximum absolute difference between the nearest left and the right smaller element of every element in the array.\n",
        "\n",
        "**Note:** If there is no smaller element on right side or left side of any element then we take zero as the smaller element. For example for the leftmost element, the nearest smaller element on the left side is considered as 0. Similarly, for rightmost elements, the smaller element on the right side is considered as 0.\n",
        "\n",
        "</aside>"
      ],
      "metadata": {
        "id": "v-w9VPJdd0ZR"
      }
    },
    {
      "cell_type": "code",
      "source": [
        "\n",
        "def leftsmaller(arr, n, SE):\n",
        "\n",
        "\n",
        "\tsta = []\n",
        "\n",
        "\tfor i in range(n):\n",
        "\n",
        "\n",
        "\t\twhile(sta != [] and sta[len(sta)-1] >= arr[i]):\n",
        "\t\t\tsta.pop()\n",
        "\n",
        "\t\tif(sta != []):\n",
        "\t\t\tSE[i]=sta[len(sta)-1]\n",
        "\n",
        "\t\telse:\n",
        "\t\t\tSE[i]=0\n",
        "\n",
        "\t\tsta.append(arr[i])\n",
        "\n",
        "def findMaxDiff(arr, n):\n",
        "\tls=[0]*n\n",
        "\trs=[0]*n\n",
        "\n",
        "\tleftsmaller(arr, n, ls)\n",
        "\n",
        "\n",
        "\tleftsmaller(arr[::-1], n, rs)\n",
        "\n",
        "\n",
        "\tres = -1\n",
        "\tfor i in range(n):\n",
        "\t\tres = max(res, abs(ls[i] - rs[n-1-i]))\n",
        "\n",
        "\treturn res\n",
        "\n",
        "\n",
        "\n",
        "if __name__=='__main__':\n",
        "\tarr = [2, 4, 8, 7, 7, 9, 3]\n",
        "\tprint (findMaxDiff(arr, len(arr)))\n",
        "\n",
        "\n"
      ],
      "metadata": {
        "colab": {
          "base_uri": "https://localhost:8080/"
        },
        "id": "DmNV76zbdzN0",
        "outputId": "dc956c3f-4bc5-491e-bd5e-dc9b8cc1c1b7"
      },
      "execution_count": 25,
      "outputs": [
        {
          "output_type": "stream",
          "name": "stdout",
          "text": [
            "4\n"
          ]
        }
      ]
    },
    {
      "cell_type": "code",
      "source": [],
      "metadata": {
        "id": "xWUL2zGSeKHS"
      },
      "execution_count": null,
      "outputs": []
    }
  ]
}