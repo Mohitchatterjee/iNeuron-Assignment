{
  "nbformat": 4,
  "nbformat_minor": 0,
  "metadata": {
    "colab": {
      "provenance": [],
      "authorship_tag": "ABX9TyPqfKkJGWMNAw2/st5nXH7S",
      "include_colab_link": true
    },
    "kernelspec": {
      "name": "python3",
      "display_name": "Python 3"
    },
    "language_info": {
      "name": "python"
    }
  },
  "cells": [
    {
      "cell_type": "markdown",
      "metadata": {
        "id": "view-in-github",
        "colab_type": "text"
      },
      "source": [
        "<a href=\"https://colab.research.google.com/github/Mohitchatterjee/iNeuron-Assignment/blob/main/DSA_Assignment_9.ipynb\" target=\"_parent\"><img src=\"https://colab.research.google.com/assets/colab-badge.svg\" alt=\"Open In Colab\"/></a>"
      ]
    },
    {
      "cell_type": "markdown",
      "source": [
        "<aside>\n",
        "💡 **Question 1**\n",
        "\n",
        "Given an integer `n`, return *`true` if it is a power of two. Otherwise, return `false`*.\n",
        "\n",
        "An integer `n` is a power of two, if there exists an integer `x` such that `n == 2x`.\n",
        "\n",
        "</aside>"
      ],
      "metadata": {
        "id": "yjbH-9DCC33M"
      }
    },
    {
      "cell_type": "code",
      "execution_count": 1,
      "metadata": {
        "colab": {
          "base_uri": "https://localhost:8080/"
        },
        "id": "zKixrjcjC1_f",
        "outputId": "f124906e-cfe3-4da4-f771-87a6beb80b34"
      },
      "outputs": [
        {
          "output_type": "stream",
          "name": "stdout",
          "text": [
            "True\n"
          ]
        }
      ],
      "source": [
        "def isPowerOfTwo(n):\n",
        "    if n <= 0:\n",
        "        return False\n",
        "    return n & (n - 1) == 0\n",
        "\n",
        "print(isPowerOfTwo(n=4))"
      ]
    },
    {
      "cell_type": "markdown",
      "source": [
        "<aside>\n",
        "💡 **Question 2**\n",
        "\n",
        "Given a number n, find the sum of the first natural numbers.\n",
        "\n",
        "</aside>"
      ],
      "metadata": {
        "id": "E8tCAyc3DGLK"
      }
    },
    {
      "cell_type": "code",
      "source": [
        "def sumOfFirstN(n):\n",
        "    return (n * (n + 1)) // 2\n",
        "print(sumOfFirstN(n=3))"
      ],
      "metadata": {
        "colab": {
          "base_uri": "https://localhost:8080/"
        },
        "id": "BbsfOmlEDBj6",
        "outputId": "18238a36-4d8e-4e78-f636-981626dbdf89"
      },
      "execution_count": 2,
      "outputs": [
        {
          "output_type": "stream",
          "name": "stdout",
          "text": [
            "6\n"
          ]
        }
      ]
    },
    {
      "cell_type": "markdown",
      "source": [
        "<aside>\n",
        "💡 **Question 3**\n",
        "\n",
        "****Given a positive integer, N. Find the factorial of N.\n",
        "\n",
        "</aside>"
      ],
      "metadata": {
        "id": "Y0DDzIIhDW_k"
      }
    },
    {
      "cell_type": "code",
      "source": [
        "def factorial(N):\n",
        "    factorial = 1\n",
        "    for i in range(1, N + 1):\n",
        "        factorial *= i\n",
        "    return factorial\n",
        "\n",
        "print(factorial(N=5))"
      ],
      "metadata": {
        "colab": {
          "base_uri": "https://localhost:8080/"
        },
        "id": "cgggm8unDS-j",
        "outputId": "84042b67-f038-49d3-e863-4333d21eb952"
      },
      "execution_count": 3,
      "outputs": [
        {
          "output_type": "stream",
          "name": "stdout",
          "text": [
            "120\n"
          ]
        }
      ]
    },
    {
      "cell_type": "markdown",
      "source": [
        "<aside>\n",
        "💡 **Question 4**\n",
        "\n",
        "Given a number N and a power P, the task is to find the exponent of this number raised to the given power, i.e. N^P.\n",
        "\n",
        "</aside>"
      ],
      "metadata": {
        "id": "8U3u7_4NDpuc"
      }
    },
    {
      "cell_type": "code",
      "source": [
        "def power(N, P):\n",
        "    result = N ** P\n",
        "    return result\n",
        "print(power(N = 5, P = 2))"
      ],
      "metadata": {
        "colab": {
          "base_uri": "https://localhost:8080/"
        },
        "id": "aZ6KIdgEDlle",
        "outputId": "3d2c373e-e26d-4dd2-b851-69a3995e577f"
      },
      "execution_count": 4,
      "outputs": [
        {
          "output_type": "stream",
          "name": "stdout",
          "text": [
            "25\n"
          ]
        }
      ]
    },
    {
      "cell_type": "markdown",
      "source": [
        "<aside>\n",
        "💡 **Question 5**\n",
        "\n",
        "Given an array of integers **arr**, the task is to find maximum element of that array using recursion.\n",
        "\n",
        "</aside>"
      ],
      "metadata": {
        "id": "HFbcCJwuDzdl"
      }
    },
    {
      "cell_type": "code",
      "source": [
        "def findMax(arr):\n",
        "    if len(arr) == 0:\n",
        "        return float('-inf')\n",
        "    if len(arr) == 1:\n",
        "        return arr[0]\n",
        "\n",
        "    middle = len(arr) // 2\n",
        "    left = arr[:middle]\n",
        "    right = arr[middle:]\n",
        "\n",
        "    max_left = findMax(left)\n",
        "    max_right = findMax(right)\n",
        "\n",
        "    return max(max_left, max_right)\n",
        "\n",
        "\n",
        "\n",
        "print(findMax( arr = (1, 4, 3, -5, -4, 8, 6)))"
      ],
      "metadata": {
        "colab": {
          "base_uri": "https://localhost:8080/"
        },
        "id": "Jtza9nuWDxT9",
        "outputId": "216e454e-551c-4a5f-830c-777f2af37c62"
      },
      "execution_count": 7,
      "outputs": [
        {
          "output_type": "stream",
          "name": "stdout",
          "text": [
            "8\n"
          ]
        }
      ]
    },
    {
      "cell_type": "markdown",
      "source": [
        "<aside>\n",
        "💡 **Question 6**\n",
        "\n",
        "Given first term (a), common difference (d) and a integer N of the Arithmetic Progression series, the task is to find Nth term of the series.\n",
        "\n",
        "</aside>"
      ],
      "metadata": {
        "id": "RzYqMswTEepy"
      }
    },
    {
      "cell_type": "code",
      "source": [
        "def findNthTerm(a, d, N):\n",
        "    nthTerm = a + (N - 1) * d\n",
        "    return nthTerm\n",
        "print(findNthTerm(a = 2, d = 1, N = 5))"
      ],
      "metadata": {
        "colab": {
          "base_uri": "https://localhost:8080/"
        },
        "id": "N1E4nxHjD9m7",
        "outputId": "3cd467be-bd79-4eb7-8423-f3185663cb4c"
      },
      "execution_count": 9,
      "outputs": [
        {
          "output_type": "stream",
          "name": "stdout",
          "text": [
            "6\n"
          ]
        }
      ]
    },
    {
      "cell_type": "markdown",
      "source": [
        "<aside>\n",
        "💡 **Question 7**\n",
        "\n",
        "Given a string S, the task is to write a program to print all permutations of a given string.\n",
        "\n",
        "</aside>"
      ],
      "metadata": {
        "id": "n9Fy5aoREzvE"
      }
    },
    {
      "cell_type": "code",
      "source": [
        "def permute(prefix, remaining, permutations):\n",
        "    if not remaining:\n",
        "        permutations.append(prefix)\n",
        "        return\n",
        "\n",
        "    for i in range(len(remaining)):\n",
        "        char = remaining[i]\n",
        "        permute(prefix + char, remaining[:i] + remaining[i+1:], permutations)\n",
        "\n",
        "def printPermutations(S):\n",
        "    permutations = []\n",
        "    permute(\"\", S, permutations)\n",
        "    for permutation in permutations:\n",
        "        print(permutation)\n",
        "\n",
        "\n",
        "print(printPermutations(S ='ABC'))"
      ],
      "metadata": {
        "colab": {
          "base_uri": "https://localhost:8080/"
        },
        "id": "cP79YsweEu0b",
        "outputId": "195a8ade-eee2-4067-a67e-fadb2a2b1e04"
      },
      "execution_count": 12,
      "outputs": [
        {
          "output_type": "stream",
          "name": "stdout",
          "text": [
            "ABC\n",
            "ACB\n",
            "BAC\n",
            "BCA\n",
            "CAB\n",
            "CBA\n",
            "None\n"
          ]
        }
      ]
    },
    {
      "cell_type": "markdown",
      "source": [
        "<aside>\n",
        "💡 **Question 8**\n",
        "\n",
        "Given an array, find a product of all array elements.\n",
        "\n",
        "</aside>"
      ],
      "metadata": {
        "id": "yXDGbS-PFJSd"
      }
    },
    {
      "cell_type": "code",
      "source": [
        "def productOfArray(nums):\n",
        "    product = 1\n",
        "    for num in nums:\n",
        "        product *= num\n",
        "    return product\n",
        "print(productOfArray( nums = [1, 2, 3, 4, 5]))"
      ],
      "metadata": {
        "colab": {
          "base_uri": "https://localhost:8080/"
        },
        "id": "OWhFFsJrFDEh",
        "outputId": "bde19e7a-ca34-4e86-f0fb-4bd0d32904d0"
      },
      "execution_count": 13,
      "outputs": [
        {
          "output_type": "stream",
          "name": "stdout",
          "text": [
            "120\n"
          ]
        }
      ]
    },
    {
      "cell_type": "code",
      "source": [],
      "metadata": {
        "id": "ZB_bTPysFW7n"
      },
      "execution_count": null,
      "outputs": []
    }
  ]
}