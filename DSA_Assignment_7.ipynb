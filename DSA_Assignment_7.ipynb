{
  "nbformat": 4,
  "nbformat_minor": 0,
  "metadata": {
    "colab": {
      "provenance": [],
      "authorship_tag": "ABX9TyOgrk+6nqv7RS6xh4gjGXr7",
      "include_colab_link": true
    },
    "kernelspec": {
      "name": "python3",
      "display_name": "Python 3"
    },
    "language_info": {
      "name": "python"
    }
  },
  "cells": [
    {
      "cell_type": "markdown",
      "metadata": {
        "id": "view-in-github",
        "colab_type": "text"
      },
      "source": [
        "<a href=\"https://colab.research.google.com/github/Mohitchatterjee/iNeuron-Assignment/blob/main/DSA_Assignment_7.ipynb\" target=\"_parent\"><img src=\"https://colab.research.google.com/assets/colab-badge.svg\" alt=\"Open In Colab\"/></a>"
      ]
    },
    {
      "cell_type": "markdown",
      "source": [
        "<aside>\n",
        "💡 **Question 1**\n",
        "\n",
        "Given two strings s and t, *determine if they are isomorphic*.\n",
        "\n",
        "Two strings s and t are isomorphic if the characters in s can be replaced to get t.\n",
        "\n",
        "All occurrences of a character must be replaced with another character while preserving the order of characters. No two characters may map to the same character, but a character may map to itself.\n",
        "\n",
        "</aside>"
      ],
      "metadata": {
        "id": "Kue1xUXC2-iY"
      }
    },
    {
      "cell_type": "code",
      "execution_count": 1,
      "metadata": {
        "colab": {
          "base_uri": "https://localhost:8080/"
        },
        "id": "SAIYcwS729QY",
        "outputId": "8540bd35-b6e2-4a76-f38a-3da023e8bf4d"
      },
      "outputs": [
        {
          "output_type": "stream",
          "name": "stdout",
          "text": [
            "True\n"
          ]
        }
      ],
      "source": [
        "def isIsomorphic(s, t):\n",
        "    s_to_t = {}\n",
        "    t_to_s = {}\n",
        "\n",
        "    for i in range(len(s)):\n",
        "        char_s = s[i]\n",
        "        char_t = t[i]\n",
        "\n",
        "        if char_s not in s_to_t and char_t not in t_to_s:\n",
        "            s_to_t[char_s] = char_t\n",
        "            t_to_s[char_t] = char_s\n",
        "        elif s_to_t.get(char_s) != char_t or t_to_s.get(char_t) != char_s:\n",
        "            return False\n",
        "        elif (char_s in s_to_t and char_t not in t_to_s) or (char_s not in s_to_t and char_t in t_to_s):\n",
        "            return False\n",
        "\n",
        "    return True\n",
        "\n",
        "\n",
        "print(isIsomorphic( s = \"egg\", t = \"add\"))"
      ]
    },
    {
      "cell_type": "markdown",
      "source": [
        "<aside>\n",
        "💡 **Question 2**\n",
        "\n",
        "Given a string num which represents an integer, return true *if* num *is a **strobogrammatic number***.\n",
        "\n",
        "A **strobogrammatic number** is a number that looks the same when rotated 180 degrees (looked at upside down).\n",
        "\n",
        "</aside>"
      ],
      "metadata": {
        "id": "iSh1HFhO3Qk3"
      }
    },
    {
      "cell_type": "code",
      "source": [
        "def isStrobogrammatic(num):\n",
        "    strobogrammatic_map = {'0': '0', '1': '1', '6': '9', '8': '8', '9': '6'}\n",
        "    left = 0\n",
        "    right = len(num) - 1\n",
        "\n",
        "    while left <= right:\n",
        "        if num[left] not in strobogrammatic_map or num[right] not in strobogrammatic_map or strobogrammatic_map[num[left]] != num[right]:\n",
        "            return False\n",
        "        left += 1\n",
        "        right -= 1\n",
        "\n",
        "    return True\n",
        "\n",
        "\n",
        "print(isStrobogrammatic(num = \"69\"))"
      ],
      "metadata": {
        "colab": {
          "base_uri": "https://localhost:8080/"
        },
        "id": "bHCfLkJr3Ig6",
        "outputId": "2f583074-e30b-4809-cb6d-6ed842f557e5"
      },
      "execution_count": 3,
      "outputs": [
        {
          "output_type": "stream",
          "name": "stdout",
          "text": [
            "True\n"
          ]
        }
      ]
    },
    {
      "cell_type": "markdown",
      "source": [
        "<aside>\n",
        "💡 **Question 3**\n",
        "\n",
        "Given two non-negative integers, num1 and num2 represented as string, return *the sum of* num1 *and* num2 *as a string*.\n",
        "\n",
        "You must solve the problem without using any built-in library for handling large integers (such as BigInteger). You must also not convert the inputs to integers directly.\n",
        "\n",
        "</aside>"
      ],
      "metadata": {
        "id": "rYCer2oy4NG6"
      }
    },
    {
      "cell_type": "code",
      "source": [
        "def addStrings(num1, num2):\n",
        "    result = \"\"\n",
        "    carry = 0\n",
        "    i = len(num1) - 1\n",
        "    j = len(num2) - 1\n",
        "\n",
        "    while i >= 0 or j >= 0:\n",
        "        digit_num1 = ord(num1[i]) - ord('0') if i >= 0 else 0\n",
        "        digit_num2 = ord(num2[j]) - ord('0') if j >= 0 else 0\n",
        "\n",
        "        digit_sum = carry + digit_num1 + digit_num2\n",
        "        carry = digit_sum // 10\n",
        "        result = str(digit_sum % 10) + result\n",
        "\n",
        "        i -= 1\n",
        "        j -= 1\n",
        "\n",
        "    if carry > 0:\n",
        "        result = str(carry) + result\n",
        "\n",
        "    return result\n",
        "\n",
        "print(addStrings( num1 = \"11\", num2 = \"123\"))"
      ],
      "metadata": {
        "colab": {
          "base_uri": "https://localhost:8080/"
        },
        "id": "78oqfbHn3dJv",
        "outputId": "08f744b8-95e5-4857-b4cd-802a5de186f5"
      },
      "execution_count": 4,
      "outputs": [
        {
          "output_type": "stream",
          "name": "stdout",
          "text": [
            "134\n"
          ]
        }
      ]
    },
    {
      "cell_type": "markdown",
      "source": [
        "<aside>\n",
        "💡 **Question 4**\n",
        "\n",
        "Given a string s, reverse the order of characters in each word within a sentence while still preserving whitespace and initial word order.\n",
        "\n",
        "</aside>"
      ],
      "metadata": {
        "id": "SKp1mIos5A_v"
      }
    },
    {
      "cell_type": "code",
      "source": [
        "def reverseWords(s):\n",
        "    words = s.split()\n",
        "    reversed_words = [word[::-1] for word in words]\n",
        "    reversed_sentence = ' '.join(reversed_words)\n",
        "    return reversed_sentence\n",
        "\n",
        "print(reverseWords( s = \"Let's take LeetCode contest\"))"
      ],
      "metadata": {
        "colab": {
          "base_uri": "https://localhost:8080/"
        },
        "id": "HyM3bSvb42RB",
        "outputId": "6a510984-cb62-4e4b-f63e-3e33af839fdc"
      },
      "execution_count": 5,
      "outputs": [
        {
          "output_type": "stream",
          "name": "stdout",
          "text": [
            "s'teL ekat edoCteeL tsetnoc\n"
          ]
        }
      ]
    },
    {
      "cell_type": "markdown",
      "source": [
        "<aside>\n",
        "💡 **Question 5**\n",
        "\n",
        "Given a string s and an integer k, reverse the first k characters for every 2k characters counting from the start of the string.\n",
        "\n",
        "If there are fewer than k characters left, reverse all of them. If there are less than 2k but greater than or equal to k characters, then reverse the first k characters and leave the other as original.\n",
        "\n",
        "</aside>\n",
        "\n"
      ],
      "metadata": {
        "id": "v1reENKd5_ld"
      }
    },
    {
      "cell_type": "code",
      "source": [
        "def reverseStr(s, k):\n",
        "    chars = list(s)\n",
        "    n = len(s)\n",
        "\n",
        "    for i in range(0, n, 2*k):\n",
        "        chars[i:i+k] = chars[i:i+k][::-1]\n",
        "\n",
        "    return ''.join(chars)\n",
        "\n",
        "print(reverseStr( s = \"abcdefg\", k = 2))"
      ],
      "metadata": {
        "colab": {
          "base_uri": "https://localhost:8080/"
        },
        "id": "5d7xTRaT56Pi",
        "outputId": "fc6e2763-31a0-44d4-eb77-faea04237132"
      },
      "execution_count": 7,
      "outputs": [
        {
          "output_type": "stream",
          "name": "stdout",
          "text": [
            "bacdfeg\n"
          ]
        }
      ]
    },
    {
      "cell_type": "markdown",
      "source": [
        "<aside>\n",
        "💡 **Question 6**\n",
        "\n",
        "Given two strings s and goal, return true *if and only if* s *can become* goal *after some number of **shifts** on* s.\n",
        "\n",
        "A **shift** on s consists of moving the leftmost character of s to the rightmost position.\n",
        "\n",
        "- For example, if s = \"abcde\", then it will be \"bcdea\" after one shift.\n",
        "</aside>"
      ],
      "metadata": {
        "id": "5euNOx2Z6bpn"
      }
    },
    {
      "cell_type": "code",
      "source": [
        "def rotateString(s, goal):\n",
        "    if len(s) != len(goal):\n",
        "        return False\n",
        "\n",
        "    s_concat = s + s\n",
        "    return goal in s_concat\n",
        "\n",
        "print(rotateString(s = \"abcde\", goal = \"cdeab\"))"
      ],
      "metadata": {
        "colab": {
          "base_uri": "https://localhost:8080/"
        },
        "id": "nKKeOyyI6Slc",
        "outputId": "df616f27-6cb6-49e1-dd38-ad6734aaa7f4"
      },
      "execution_count": 8,
      "outputs": [
        {
          "output_type": "stream",
          "name": "stdout",
          "text": [
            "True\n"
          ]
        }
      ]
    },
    {
      "cell_type": "markdown",
      "source": [
        "<aside>\n",
        "💡 **Question 7**\n",
        "\n",
        "Given two strings s and t, return true *if they are equal when both are typed into empty text editors*. '#' means a backspace character.\n",
        "\n",
        "Note that after backspacing an empty text, the text will continue empty.\n",
        "\n",
        "</aside>"
      ],
      "metadata": {
        "id": "9nZqNsFJ6w76"
      }
    },
    {
      "cell_type": "code",
      "source": [
        "def backspaceCompare(s, t):\n",
        "    stack_s = []\n",
        "    stack_t = []\n",
        "\n",
        "    for char in s:\n",
        "        if char != '#':\n",
        "            stack_s.append(char)\n",
        "        elif stack_s:\n",
        "            stack_s.pop()\n",
        "\n",
        "    for char in t:\n",
        "        if char != '#':\n",
        "            stack_t.append(char)\n",
        "        elif stack_t:\n",
        "            stack_t.pop()\n",
        "\n",
        "    return stack_s == stack_t\n",
        "\n",
        "\n",
        "print(backspaceCompare( s = \"ab#c\", t = \"ad#c\"))\n"
      ],
      "metadata": {
        "colab": {
          "base_uri": "https://localhost:8080/"
        },
        "id": "ebcJFKX66rRk",
        "outputId": "cf03571d-64ee-4cb7-bc41-c4aa5495437e"
      },
      "execution_count": 10,
      "outputs": [
        {
          "output_type": "stream",
          "name": "stdout",
          "text": [
            "True\n"
          ]
        }
      ]
    },
    {
      "cell_type": "markdown",
      "source": [
        "<aside>\n",
        "💡 **Question 8**\n",
        "\n",
        "You are given an array coordinates, coordinates[i] = [x, y], where [x, y] represents the coordinate of a point. Check if these points make a straight line in the XY plane.\n",
        "\n",
        "</aside>"
      ],
      "metadata": {
        "id": "d8hzXev_7BgF"
      }
    },
    {
      "cell_type": "code",
      "source": [
        "def checkStraightLine(coordinates):\n",
        "    if len(coordinates) <= 2:\n",
        "        return True\n",
        "\n",
        "    x0, y0 = coordinates[0]\n",
        "    x1, y1 = coordinates[1]\n",
        "    slope0 = (y1 - y0) / (x1 - x0)\n",
        "\n",
        "    for i in range(2, len(coordinates)):\n",
        "        x, y = coordinates[i]\n",
        "        dx = x - x0\n",
        "        dy = y - y0\n",
        "\n",
        "        if dx == 0:\n",
        "            if any(x - x0 != 0 for x, _ in coordinates[i:]):\n",
        "                return False\n",
        "        else:\n",
        "            slope = dy / dx\n",
        "            if slope != slope0:\n",
        "                return False\n",
        "\n",
        "    return True\n",
        "\n",
        "\n",
        "print(checkStraightLine(coordinates = [[1,2],[2,3],[3,4],[4,5],[5,6],[6,7]]))"
      ],
      "metadata": {
        "colab": {
          "base_uri": "https://localhost:8080/"
        },
        "id": "NxYsBDgz60JM",
        "outputId": "e375fc9b-3e31-4b37-c275-2d096d6844ed"
      },
      "execution_count": 11,
      "outputs": [
        {
          "output_type": "stream",
          "name": "stdout",
          "text": [
            "True\n"
          ]
        }
      ]
    },
    {
      "cell_type": "code",
      "source": [],
      "metadata": {
        "id": "mABBdEmc7OrJ"
      },
      "execution_count": null,
      "outputs": []
    }
  ]
}