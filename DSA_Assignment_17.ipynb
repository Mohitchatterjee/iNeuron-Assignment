{
  "nbformat": 4,
  "nbformat_minor": 0,
  "metadata": {
    "colab": {
      "provenance": [],
      "authorship_tag": "ABX9TyNnTce+8yYoU5EPj54RKdTq",
      "include_colab_link": true
    },
    "kernelspec": {
      "name": "python3",
      "display_name": "Python 3"
    },
    "language_info": {
      "name": "python"
    }
  },
  "cells": [
    {
      "cell_type": "markdown",
      "metadata": {
        "id": "view-in-github",
        "colab_type": "text"
      },
      "source": [
        "<a href=\"https://colab.research.google.com/github/Mohitchatterjee/iNeuron-Assignment/blob/main/DSA_Assignment_17.ipynb\" target=\"_parent\"><img src=\"https://colab.research.google.com/assets/colab-badge.svg\" alt=\"Open In Colab\"/></a>"
      ]
    },
    {
      "cell_type": "markdown",
      "source": [
        "<aside>\n",
        "💡 **Question 1**\n",
        "\n",
        "Given a string `s`, *find the first non-repeating character in it and return its index*. If it does not exist, return `-1`.\n",
        "\n",
        "</aside>"
      ],
      "metadata": {
        "id": "3SEc9sWi1BCz"
      }
    },
    {
      "cell_type": "code",
      "execution_count": 3,
      "metadata": {
        "colab": {
          "base_uri": "https://localhost:8080/"
        },
        "id": "vZ_NlG3w1AUv",
        "outputId": "b9ba0850-541a-464a-8eae-be2a6958754b"
      },
      "outputs": [
        {
          "output_type": "stream",
          "name": "stdout",
          "text": [
            "0\n"
          ]
        }
      ],
      "source": [
        "def first_non_repeating_char(s):\n",
        "    char_freq = {}\n",
        "\n",
        "    for char in s:\n",
        "        char_freq[char] = char_freq.get(char, 0) + 1\n",
        "\n",
        "    for i, char in enumerate(s):\n",
        "        if char_freq[char] == 1:\n",
        "            return i\n",
        "\n",
        "    return -1\n",
        "\n",
        "\n",
        "s = \"leetcode\"\n",
        "result = first_non_repeating_char(s)\n",
        "print(result)\n",
        "\n",
        "\n"
      ]
    },
    {
      "cell_type": "markdown",
      "source": [
        "<aside>\n",
        "💡 **Question 2**\n",
        "\n",
        "Given a **circular integer array** `nums` of length `n`, return *the maximum possible sum of a non-empty **subarray** of* `nums`.\n",
        "\n",
        "A **circular array** means the end of the array connects to the beginning of the array. Formally, the next element of `nums[i]` is `nums[(i + 1) % n]` and the previous element of `nums[i]` is `nums[(i - 1 + n) % n]`.\n",
        "\n",
        "A **subarray** may only include each element of the fixed buffer `nums` at most once. Formally, for a subarray `nums[i], nums[i + 1], ..., nums[j]`, there does not exist `i <= k1`, `k2 <= j` with `k1 % n == k2 % n`.\n",
        "\n",
        "</aside>"
      ],
      "metadata": {
        "id": "r4CNB7FC1rSS"
      }
    },
    {
      "cell_type": "code",
      "source": [
        "def max_subarray_sum_circular(nums):\n",
        "    def kadane(nums):\n",
        "        max_sum = float('-inf')\n",
        "        current_sum = 0\n",
        "\n",
        "        for num in nums:\n",
        "            current_sum += num\n",
        "            if current_sum < num:\n",
        "                current_sum = num\n",
        "            if current_sum > max_sum:\n",
        "                max_sum = current_sum\n",
        "\n",
        "        return max_sum\n",
        "\n",
        "\n",
        "    max_sum_linear = kadane(nums)\n",
        "\n",
        "    total_sum = sum(nums)\n",
        "    inverted_nums = [-num for num in nums]\n",
        "    max_sum_circular = total_sum - (-kadane(inverted_nums))\n",
        "\n",
        "\n",
        "    return max(max_sum_linear, max_sum_circular)\n",
        "\n",
        "\n",
        "nums = [1,-2,3,-2]\n",
        "result = max_subarray_sum_circular(nums)\n",
        "print(result)"
      ],
      "metadata": {
        "colab": {
          "base_uri": "https://localhost:8080/"
        },
        "id": "KzzSIlqQ1iz7",
        "outputId": "da0a54f2-a44b-4de8-c8e6-387ddbafca6c"
      },
      "execution_count": 5,
      "outputs": [
        {
          "output_type": "stream",
          "name": "stdout",
          "text": [
            "3\n"
          ]
        }
      ]
    },
    {
      "cell_type": "markdown",
      "source": [
        "<aside>\n",
        "💡 **Question 3**\n",
        "\n",
        "The school cafeteria offers circular and square sandwiches at lunch break, referred to by numbers `0` and `1` respectively. All students stand in a queue. Each student either prefers square or circular sandwiches.\n",
        "\n",
        "The number of sandwiches in the cafeteria is equal to the number of students. The sandwiches are placed in a **stack**. At each step:\n",
        "\n",
        "- If the student at the front of the queue **prefers** the sandwich on the top of the stack, they will **take it** and leave the queue.\n",
        "- Otherwise, they will **leave it** and go to the queue's end.\n",
        "\n",
        "This continues until none of the queue students want to take the top sandwich and are thus unable to eat.\n",
        "\n",
        "You are given two integer arrays `students` and `sandwiches` where `sandwiches[i]` is the type of the `ith` sandwich in the stack (`i = 0` is the top of the stack) and `students[j]` is the preference of the `jth` student in the initial queue (`j = 0` is the front of the queue). Return *the number of students that are unable to eat.*\n",
        "\n",
        "</aside>"
      ],
      "metadata": {
        "id": "ukFxzj1I2Fd7"
      }
    },
    {
      "cell_type": "code",
      "source": [
        "def count_students_unable_to_eat(students, sandwiches):\n",
        "    unable_to_eat = 0\n",
        "    queue = students.copy()\n",
        "    stack = sandwiches.copy()\n",
        "\n",
        "    while queue:\n",
        "        if queue[0] == stack[-1]:\n",
        "            queue.pop(0)\n",
        "            stack.pop()\n",
        "        else:\n",
        "            found_match = False\n",
        "            for i in range(len(stack) - 2, -1, -1):\n",
        "                if queue[0] == stack[i]:\n",
        "                    queue.pop(0)\n",
        "                    stack.pop(i)\n",
        "                    found_match = True\n",
        "                    break\n",
        "\n",
        "            if not found_match:\n",
        "                unable_to_eat += 1\n",
        "                queue.pop(0)\n",
        "\n",
        "    return unable_to_eat\n",
        "\n",
        "students = [1,1,0,0]\n",
        "sandwiches = [0,1,0,1]\n",
        "result = count_students_unable_to_eat(students, sandwiches)\n",
        "print(result)\n",
        "\n"
      ],
      "metadata": {
        "colab": {
          "base_uri": "https://localhost:8080/"
        },
        "id": "38I-f3Qv2AVP",
        "outputId": "48c1f6be-fe70-4d05-d2e9-72f15765286b"
      },
      "execution_count": 6,
      "outputs": [
        {
          "output_type": "stream",
          "name": "stdout",
          "text": [
            "0\n"
          ]
        }
      ]
    },
    {
      "cell_type": "markdown",
      "source": [
        "<aside>\n",
        "💡 **Question 4**\n",
        "\n",
        "You have a `RecentCounter` class which counts the number of recent requests within a certain time frame.\n",
        "\n",
        "Implement the `RecentCounter` class:\n",
        "\n",
        "- `RecentCounter()` Initializes the counter with zero recent requests.\n",
        "- `int ping(int t)` Adds a new request at time `t`, where `t` represents some time in milliseconds, and returns the number of requests that has happened in the past `3000` milliseconds (including the new request). Specifically, return the number of requests that have happened in the inclusive range `[t - 3000, t]`.\n",
        "\n",
        "It is **guaranteed** that every call to `ping` uses a strictly larger value of `t` than the previous call.\n",
        "\n",
        "</aside>"
      ],
      "metadata": {
        "id": "yvQ01K_436EU"
      }
    },
    {
      "cell_type": "code",
      "source": [
        "from collections import deque\n",
        "\n",
        "class RecentCounter:\n",
        "    def __init__(self):\n",
        "        self.requests = deque()\n",
        "\n",
        "    def ping(self, t):\n",
        "        self.requests.append(t)\n",
        "\n",
        "        while self.requests[0] < t - 3000:\n",
        "            self.requests.popleft()\n",
        "\n",
        "        return len(self.requests)\n",
        "\n",
        "\n",
        "counter = RecentCounter()\n",
        "print(counter.ping(100))\n",
        "print(counter.ping(300))\n",
        "print(counter.ping(3001))\n",
        "print(counter.ping(3002))\n"
      ],
      "metadata": {
        "colab": {
          "base_uri": "https://localhost:8080/"
        },
        "id": "vJx2-nfE34F7",
        "outputId": "e646c060-6665-449a-ab26-e7aceb1f92a2"
      },
      "execution_count": 7,
      "outputs": [
        {
          "output_type": "stream",
          "name": "stdout",
          "text": [
            "1\n",
            "2\n",
            "3\n",
            "4\n"
          ]
        }
      ]
    },
    {
      "cell_type": "markdown",
      "source": [
        "<aside>\n",
        "💡 **Question 5**\n",
        "\n",
        "There are `n` friends that are playing a game. The friends are sitting in a circle and are numbered from `1` to `n` in **clockwise order**. More formally, moving clockwise from the `ith` friend brings you to the `(i+1)th` friend for `1 <= i < n`, and moving clockwise from the `nth` friend brings you to the `1st` friend.\n",
        "\n",
        "The rules of the game are as follows:\n",
        "\n",
        "1. **Start** at the `1st` friend.\n",
        "2. Count the next `k` friends in the clockwise direction **including** the friend you started at. The counting wraps around the circle and may count some friends more than once.\n",
        "3. The last friend you counted leaves the circle and loses the game.\n",
        "4. If there is still more than one friend in the circle, go back to step `2` **starting** from the friend **immediately clockwise** of the friend who just lost and repeat.\n",
        "5. Else, the last friend in the circle wins the game.\n",
        "\n",
        "Given the number of friends, `n`, and an integer `k`, return *the winner of the game*.\n",
        "\n",
        "</aside>"
      ],
      "metadata": {
        "id": "3405Dids4fmE"
      }
    },
    {
      "cell_type": "code",
      "source": [
        "def find_winner(n, k):\n",
        "    friends = list(range(1, n + 1))\n",
        "    current = 0\n",
        "\n",
        "    while n > 1:\n",
        "        current = (current + k - 1) % n\n",
        "        friends.pop(current)\n",
        "        n -= 1\n",
        "\n",
        "    return friends[0]\n",
        "\n",
        "\n",
        "n = 5\n",
        "k = 2\n",
        "winner = find_winner(n, k)\n",
        "print(winner)\n",
        "\n",
        "\n",
        ""
      ],
      "metadata": {
        "colab": {
          "base_uri": "https://localhost:8080/"
        },
        "id": "lh-qfCD-4bt7",
        "outputId": "657460f1-2a74-49e3-8c00-f08c3991304d"
      },
      "execution_count": 8,
      "outputs": [
        {
          "output_type": "stream",
          "name": "stdout",
          "text": [
            "3\n"
          ]
        }
      ]
    },
    {
      "cell_type": "markdown",
      "source": [
        "<aside>\n",
        "💡 **Question 6**\n",
        "\n",
        "You are given an integer array `deck`. There is a deck of cards where every card has a unique integer. The integer on the `ith` card is `deck[i]`.\n",
        "\n",
        "You can order the deck in any order you want. Initially, all the cards start face down (unrevealed) in one deck.\n",
        "\n",
        "You will do the following steps repeatedly until all cards are revealed:\n",
        "\n",
        "1. Take the top card of the deck, reveal it, and take it out of the deck.\n",
        "2. If there are still cards in the deck then put the next top card of the deck at the bottom of the deck.\n",
        "3. If there are still unrevealed cards, go back to step 1. Otherwise, stop.\n",
        "\n",
        "Return *an ordering of the deck that would reveal the cards in increasing order*.\n",
        "\n",
        "**Note** that the first entry in the answer is considered to be the top of the deck.\n",
        "\n",
        "</aside>"
      ],
      "metadata": {
        "id": "Ez2r0m_D42bV"
      }
    },
    {
      "cell_type": "code",
      "source": [
        "from collections import deque\n",
        "\n",
        "def reveal_cards_increasing_order(deck):\n",
        "    n = len(deck)\n",
        "    deck.sort()\n",
        "    queue = deque(range(n))\n",
        "    result = []\n",
        "\n",
        "    while queue:\n",
        "        index = queue.popleft()\n",
        "        result.append(deck[index])\n",
        "\n",
        "        if queue:\n",
        "            index = queue.popleft()\n",
        "            queue.append(index)\n",
        "\n",
        "    return result\n",
        "\n",
        "\n",
        "deck = [17, 13, 11, 2, 3, 5, 7]\n",
        "ordering = reveal_cards_increasing_order(deck)\n",
        "print(ordering)\n"
      ],
      "metadata": {
        "colab": {
          "base_uri": "https://localhost:8080/"
        },
        "id": "OrzJKO_H40i3",
        "outputId": "7feac462-59e3-47d9-8fca-4ee035976048"
      },
      "execution_count": 9,
      "outputs": [
        {
          "output_type": "stream",
          "name": "stdout",
          "text": [
            "[2, 5, 11, 17, 7, 3, 13]\n"
          ]
        }
      ]
    },
    {
      "cell_type": "markdown",
      "source": [
        "<aside>\n",
        "💡 **Question 7**\n",
        "\n",
        "Design a queue that supports `push` and `pop` operations in the front, middle, and back.\n",
        "\n",
        "Implement the `FrontMiddleBack` class:\n",
        "\n",
        "- `FrontMiddleBack()` Initializes the queue.\n",
        "- `void pushFront(int val)` Adds `val` to the **front** of the queue.\n",
        "- `void pushMiddle(int val)` Adds `val` to the **middle** of the queue.\n",
        "- `void pushBack(int val)` Adds `val` to the **back** of the queue.\n",
        "- `int popFront()` Removes the **front** element of the queue and returns it. If the queue is empty, return `1`.\n",
        "- `int popMiddle()` Removes the **middle** element of the queue and returns it. If the queue is empty, return `1`.\n",
        "- `int popBack()` Removes the **back** element of the queue and returns it. If the queue is empty, return `1`.\n",
        "\n",
        "**Notice** that when there are **two** middle position choices, the operation is performed on the **frontmost** middle position choice. For example:\n",
        "\n",
        "- Pushing `6` into the middle of `[1, 2, 3, 4, 5]` results in `[1, 2, 6, 3, 4, 5]`.\n",
        "- Popping the middle from `[1, 2, 3, 4, 5, 6]` returns `3` and results in `[1, 2, 4, 5, 6]`.\n",
        "</aside>"
      ],
      "metadata": {
        "id": "d1cFTGQs5xrt"
      }
    },
    {
      "cell_type": "code",
      "source": [
        "class FrontMiddleBackQueue:\n",
        "    def __init__(self):\n",
        "        self.front = []\n",
        "        self.back = []\n",
        "\n",
        "    def pushFront(self, val):\n",
        "        self.front.append(val)\n",
        "\n",
        "    def pushMiddle(self, val):\n",
        "        n = len(self.front) + len(self.back)\n",
        "        mid = n // 2\n",
        "\n",
        "        if len(self.front) > len(self.back):\n",
        "            self.back.insert(0, self.front.pop())\n",
        "            self.front.append(val)\n",
        "        else:\n",
        "            self.front.append(val)\n",
        "\n",
        "    def pushBack(self, val):\n",
        "        self.back.append(val)\n",
        "\n",
        "    def popFront(self):\n",
        "        if not self.isEmpty():\n",
        "            if self.front:\n",
        "                return self.front.pop(0)\n",
        "            else:\n",
        "                val = self.back.pop(0)\n",
        "                if self.back:\n",
        "                    self.front.append(self.back.pop(0))\n",
        "                return val\n",
        "        else:\n",
        "            return -1\n",
        "\n",
        "    def popMiddle(self):\n",
        "        if not self.isEmpty():\n",
        "            if len(self.front) > len(self.back):\n",
        "                return self.front.pop()\n",
        "            else:\n",
        "                return self.back.pop(0)\n",
        "        else:\n",
        "            return -1\n",
        "\n",
        "    def popBack(self):\n",
        "        if not self.isEmpty():\n",
        "            if self.back:\n",
        "                return self.back.pop()\n",
        "            else:\n",
        "                val = self.front.pop()\n",
        "                if self.front:\n",
        "                    self.back.insert(0, self.front.pop())\n",
        "                return val\n",
        "        else:\n",
        "            return -1\n",
        "\n",
        "    def isEmpty(self):\n",
        "        return len(self.front) + len(self.back) == 0\n",
        "\n",
        "\n",
        "queue = FrontMiddleBackQueue()\n",
        "queue.pushFront(1)\n",
        "queue.pushBack(2)\n",
        "queue.pushMiddle(3)\n",
        "print(queue.popFront())\n",
        "print(queue.popMiddle())\n",
        "print(queue.popBack())\n"
      ],
      "metadata": {
        "colab": {
          "base_uri": "https://localhost:8080/"
        },
        "id": "ez78YseD5GUn",
        "outputId": "2e5ea9c7-9bc7-428e-e9bf-3b475bb07e5e"
      },
      "execution_count": 12,
      "outputs": [
        {
          "output_type": "stream",
          "name": "stdout",
          "text": [
            "1\n",
            "2\n",
            "3\n"
          ]
        }
      ]
    },
    {
      "cell_type": "markdown",
      "source": [
        "<aside>\n",
        "💡 **Question 8**\n",
        "\n",
        "For a stream of integers, implement a data structure that checks if the last `k` integers parsed in the stream are **equal** to `value`.\n",
        "\n",
        "Implement the **DataStream** class:\n",
        "\n",
        "- `DataStream(int value, int k)` Initializes the object with an empty integer stream and the two integers `value` and `k`.\n",
        "- `boolean consec(int num)` Adds `num` to the stream of integers. Returns `true` if the last `k` integers are equal to `value`, and `false` otherwise. If there are less than `k` integers, the condition does not hold true, so returns `false`.\n",
        "</aside>"
      ],
      "metadata": {
        "id": "Wdf_4a6-6uZN"
      }
    },
    {
      "cell_type": "code",
      "source": [
        "from collections import deque\n",
        "\n",
        "class DataStream:\n",
        "    def __init__(self, value, k):\n",
        "        self.stream = deque()\n",
        "        self.value = value\n",
        "        self.k = k\n",
        "        self.value_count = 0\n",
        "\n",
        "    def consec(self, num):\n",
        "        if num == self.value:\n",
        "            self.value_count += 1\n",
        "        self.stream.append(num)\n",
        "\n",
        "        if len(self.stream) > self.k:\n",
        "            removed_num = self.stream.popleft()\n",
        "            if removed_num == self.value:\n",
        "                self.value_count -= 1\n",
        "\n",
        "        return self.value_count == self.k\n",
        "\n",
        "\n",
        "ds = DataStream(4, 3)\n",
        "print(ds.consec(4))\n",
        "print(ds.consec(4))\n",
        "print(ds.consec(4))\n",
        "print(ds.consec(3))\n",
        "\n"
      ],
      "metadata": {
        "colab": {
          "base_uri": "https://localhost:8080/"
        },
        "id": "5dBAdx7c6OVt",
        "outputId": "3dcddb23-359f-4cae-b05d-d7ae2f24835b"
      },
      "execution_count": 14,
      "outputs": [
        {
          "output_type": "stream",
          "name": "stdout",
          "text": [
            "False\n",
            "False\n",
            "True\n",
            "False\n"
          ]
        }
      ]
    },
    {
      "cell_type": "code",
      "source": [],
      "metadata": {
        "id": "546W8NDM7HBS"
      },
      "execution_count": null,
      "outputs": []
    }
  ]
}