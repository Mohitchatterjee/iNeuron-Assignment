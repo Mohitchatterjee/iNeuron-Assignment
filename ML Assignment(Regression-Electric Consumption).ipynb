{
 "cells": [
  {
   "cell_type": "code",
   "execution_count": 2,
   "metadata": {},
   "outputs": [],
   "source": [
    "# import libraries & modules\n",
    "\n",
    "import pandas as pd\n",
    "import numpy as np\n",
    "import matplotlib.pyplot as plt\n",
    "from pandas_profiling import ProfileReport\n",
    "import pickle"
   ]
  },
  {
   "cell_type": "code",
   "execution_count": 3,
   "metadata": {
    "scrolled": true
   },
   "outputs": [
    {
     "name": "stderr",
     "output_type": "stream",
     "text": [
      "C:\\Users\\hp\\anaconda3\\lib\\site-packages\\IPython\\core\\interactiveshell.py:3146: DtypeWarning: Columns (2,3,4,5,6,7) have mixed types.Specify dtype option on import or set low_memory=False.\n",
      "  has_raised = await self.run_ast_nodes(code_ast.body, cell_name,\n"
     ]
    }
   ],
   "source": [
    "# Data ingestion\n",
    "\n",
    "convertTO_csv_file = pd.read_csv(r'G:\\household_power_consumption.txt',delimiter = ';') # convert text to csv\n",
    "convertTO_csv_file.to_csv(r'G:\\household_power_consumption.csv', index=None) # save csv file to my local"
   ]
  },
  {
   "cell_type": "code",
   "execution_count": 79,
   "metadata": {},
   "outputs": [
    {
     "data": {
      "text/html": [
       "<div>\n",
       "<style scoped>\n",
       "    .dataframe tbody tr th:only-of-type {\n",
       "        vertical-align: middle;\n",
       "    }\n",
       "\n",
       "    .dataframe tbody tr th {\n",
       "        vertical-align: top;\n",
       "    }\n",
       "\n",
       "    .dataframe thead th {\n",
       "        text-align: right;\n",
       "    }\n",
       "</style>\n",
       "<table border=\"1\" class=\"dataframe\">\n",
       "  <thead>\n",
       "    <tr style=\"text-align: right;\">\n",
       "      <th></th>\n",
       "      <th>Date</th>\n",
       "      <th>Time</th>\n",
       "      <th>Global_active_power</th>\n",
       "      <th>Global_reactive_power</th>\n",
       "      <th>Voltage</th>\n",
       "      <th>Global_intensity</th>\n",
       "      <th>Sub_metering_1</th>\n",
       "      <th>Sub_metering_2</th>\n",
       "      <th>Sub_metering_3</th>\n",
       "    </tr>\n",
       "  </thead>\n",
       "  <tbody>\n",
       "    <tr>\n",
       "      <th>1257652</th>\n",
       "      <td>8/5/2009</td>\n",
       "      <td>02:16:00</td>\n",
       "      <td>0.338</td>\n",
       "      <td>0.094</td>\n",
       "      <td>242.710</td>\n",
       "      <td>1.400</td>\n",
       "      <td>0.000</td>\n",
       "      <td>1.000</td>\n",
       "      <td>1.0</td>\n",
       "    </tr>\n",
       "    <tr>\n",
       "      <th>1698231</th>\n",
       "      <td>10/3/2010</td>\n",
       "      <td>01:15:00</td>\n",
       "      <td>0.384</td>\n",
       "      <td>0.112</td>\n",
       "      <td>244.250</td>\n",
       "      <td>1.600</td>\n",
       "      <td>0.000</td>\n",
       "      <td>0.000</td>\n",
       "      <td>1.0</td>\n",
       "    </tr>\n",
       "    <tr>\n",
       "      <th>228414</th>\n",
       "      <td>24/5/2007</td>\n",
       "      <td>08:18:00</td>\n",
       "      <td>3.524</td>\n",
       "      <td>0.154</td>\n",
       "      <td>231.390</td>\n",
       "      <td>15.200</td>\n",
       "      <td>36.000</td>\n",
       "      <td>0.000</td>\n",
       "      <td>17.0</td>\n",
       "    </tr>\n",
       "    <tr>\n",
       "      <th>1067616</th>\n",
       "      <td>27/12/2008</td>\n",
       "      <td>03:00:00</td>\n",
       "      <td>2.534</td>\n",
       "      <td>0.098</td>\n",
       "      <td>244.400</td>\n",
       "      <td>10.200</td>\n",
       "      <td>0.000</td>\n",
       "      <td>0.000</td>\n",
       "      <td>18.0</td>\n",
       "    </tr>\n",
       "    <tr>\n",
       "      <th>768895</th>\n",
       "      <td>2/6/2008</td>\n",
       "      <td>16:19:00</td>\n",
       "      <td>0.492</td>\n",
       "      <td>0.000</td>\n",
       "      <td>236.810</td>\n",
       "      <td>2.000</td>\n",
       "      <td>0.000</td>\n",
       "      <td>0.000</td>\n",
       "      <td>1.0</td>\n",
       "    </tr>\n",
       "    <tr>\n",
       "      <th>...</th>\n",
       "      <td>...</td>\n",
       "      <td>...</td>\n",
       "      <td>...</td>\n",
       "      <td>...</td>\n",
       "      <td>...</td>\n",
       "      <td>...</td>\n",
       "      <td>...</td>\n",
       "      <td>...</td>\n",
       "      <td>...</td>\n",
       "    </tr>\n",
       "    <tr>\n",
       "      <th>834989</th>\n",
       "      <td>18/7/2008</td>\n",
       "      <td>13:53:00</td>\n",
       "      <td>0.602</td>\n",
       "      <td>0.112</td>\n",
       "      <td>240.000</td>\n",
       "      <td>2.400</td>\n",
       "      <td>0.000</td>\n",
       "      <td>0.000</td>\n",
       "      <td>1.0</td>\n",
       "    </tr>\n",
       "    <tr>\n",
       "      <th>740687</th>\n",
       "      <td>14/5/2008</td>\n",
       "      <td>02:11:00</td>\n",
       "      <td>0.244</td>\n",
       "      <td>0.104</td>\n",
       "      <td>243.980</td>\n",
       "      <td>1.000</td>\n",
       "      <td>0.000</td>\n",
       "      <td>0.000</td>\n",
       "      <td>1.0</td>\n",
       "    </tr>\n",
       "    <tr>\n",
       "      <th>1877254</th>\n",
       "      <td>12/7/2010</td>\n",
       "      <td>08:58:00</td>\n",
       "      <td>0.350</td>\n",
       "      <td>0.216</td>\n",
       "      <td>239.970</td>\n",
       "      <td>1.600</td>\n",
       "      <td>0.000</td>\n",
       "      <td>0.000</td>\n",
       "      <td>0.0</td>\n",
       "    </tr>\n",
       "    <tr>\n",
       "      <th>1267333</th>\n",
       "      <td>14/5/2009</td>\n",
       "      <td>19:37:00</td>\n",
       "      <td>2.732</td>\n",
       "      <td>0.344</td>\n",
       "      <td>239.170</td>\n",
       "      <td>11.400</td>\n",
       "      <td>0.000</td>\n",
       "      <td>0.000</td>\n",
       "      <td>18.0</td>\n",
       "    </tr>\n",
       "    <tr>\n",
       "      <th>1970553</th>\n",
       "      <td>15/9/2010</td>\n",
       "      <td>03:57:00</td>\n",
       "      <td>0.174</td>\n",
       "      <td>0.000</td>\n",
       "      <td>241.370</td>\n",
       "      <td>0.800</td>\n",
       "      <td>0.000</td>\n",
       "      <td>0.000</td>\n",
       "      <td>1.0</td>\n",
       "    </tr>\n",
       "  </tbody>\n",
       "</table>\n",
       "<p>100000 rows × 9 columns</p>\n",
       "</div>"
      ],
      "text/plain": [
       "               Date      Time Global_active_power Global_reactive_power  \\\n",
       "1257652    8/5/2009  02:16:00               0.338                 0.094   \n",
       "1698231   10/3/2010  01:15:00               0.384                 0.112   \n",
       "228414    24/5/2007  08:18:00               3.524                 0.154   \n",
       "1067616  27/12/2008  03:00:00               2.534                 0.098   \n",
       "768895     2/6/2008  16:19:00               0.492                 0.000   \n",
       "...             ...       ...                 ...                   ...   \n",
       "834989    18/7/2008  13:53:00               0.602                 0.112   \n",
       "740687    14/5/2008  02:11:00               0.244                 0.104   \n",
       "1877254   12/7/2010  08:58:00               0.350                 0.216   \n",
       "1267333   14/5/2009  19:37:00               2.732                 0.344   \n",
       "1970553   15/9/2010  03:57:00               0.174                 0.000   \n",
       "\n",
       "         Voltage Global_intensity Sub_metering_1 Sub_metering_2  \\\n",
       "1257652  242.710            1.400          0.000          1.000   \n",
       "1698231  244.250            1.600          0.000          0.000   \n",
       "228414   231.390           15.200         36.000          0.000   \n",
       "1067616  244.400           10.200          0.000          0.000   \n",
       "768895   236.810            2.000          0.000          0.000   \n",
       "...          ...              ...            ...            ...   \n",
       "834989   240.000            2.400          0.000          0.000   \n",
       "740687   243.980            1.000          0.000          0.000   \n",
       "1877254  239.970            1.600          0.000          0.000   \n",
       "1267333  239.170           11.400          0.000          0.000   \n",
       "1970553  241.370            0.800          0.000          0.000   \n",
       "\n",
       "         Sub_metering_3  \n",
       "1257652             1.0  \n",
       "1698231             1.0  \n",
       "228414             17.0  \n",
       "1067616            18.0  \n",
       "768895              1.0  \n",
       "...                 ...  \n",
       "834989              1.0  \n",
       "740687              1.0  \n",
       "1877254             0.0  \n",
       "1267333            18.0  \n",
       "1970553             1.0  \n",
       "\n",
       "[100000 rows x 9 columns]"
      ]
     },
     "execution_count": 79,
     "metadata": {},
     "output_type": "execute_result"
    }
   ],
   "source": [
    "# select only 100000 random data\n",
    "\n",
    "df = convertTO_csv_file.sample(n = 100000) \n",
    "df"
   ]
  },
  {
   "cell_type": "code",
   "execution_count": 80,
   "metadata": {},
   "outputs": [
    {
     "data": {
      "text/html": [
       "<div>\n",
       "<style scoped>\n",
       "    .dataframe tbody tr th:only-of-type {\n",
       "        vertical-align: middle;\n",
       "    }\n",
       "\n",
       "    .dataframe tbody tr th {\n",
       "        vertical-align: top;\n",
       "    }\n",
       "\n",
       "    .dataframe thead th {\n",
       "        text-align: right;\n",
       "    }\n",
       "</style>\n",
       "<table border=\"1\" class=\"dataframe\">\n",
       "  <thead>\n",
       "    <tr style=\"text-align: right;\">\n",
       "      <th></th>\n",
       "      <th>Sub_metering_3</th>\n",
       "    </tr>\n",
       "  </thead>\n",
       "  <tbody>\n",
       "    <tr>\n",
       "      <th>count</th>\n",
       "      <td>98805.000000</td>\n",
       "    </tr>\n",
       "    <tr>\n",
       "      <th>mean</th>\n",
       "      <td>6.460240</td>\n",
       "    </tr>\n",
       "    <tr>\n",
       "      <th>std</th>\n",
       "      <td>8.432581</td>\n",
       "    </tr>\n",
       "    <tr>\n",
       "      <th>min</th>\n",
       "      <td>0.000000</td>\n",
       "    </tr>\n",
       "    <tr>\n",
       "      <th>25%</th>\n",
       "      <td>0.000000</td>\n",
       "    </tr>\n",
       "    <tr>\n",
       "      <th>50%</th>\n",
       "      <td>1.000000</td>\n",
       "    </tr>\n",
       "    <tr>\n",
       "      <th>75%</th>\n",
       "      <td>17.000000</td>\n",
       "    </tr>\n",
       "    <tr>\n",
       "      <th>max</th>\n",
       "      <td>31.000000</td>\n",
       "    </tr>\n",
       "  </tbody>\n",
       "</table>\n",
       "</div>"
      ],
      "text/plain": [
       "       Sub_metering_3\n",
       "count    98805.000000\n",
       "mean         6.460240\n",
       "std          8.432581\n",
       "min          0.000000\n",
       "25%          0.000000\n",
       "50%          1.000000\n",
       "75%         17.000000\n",
       "max         31.000000"
      ]
     },
     "execution_count": 80,
     "metadata": {},
     "output_type": "execute_result"
    }
   ],
   "source": [
    "# EDA & Preprocessing\n",
    "\n",
    "df.describe()"
   ]
  },
  {
   "cell_type": "code",
   "execution_count": 81,
   "metadata": {},
   "outputs": [
    {
     "name": "stdout",
     "output_type": "stream",
     "text": [
      "<class 'pandas.core.frame.DataFrame'>\n",
      "Int64Index: 100000 entries, 1257652 to 1970553\n",
      "Data columns (total 9 columns):\n",
      " #   Column                 Non-Null Count   Dtype  \n",
      "---  ------                 --------------   -----  \n",
      " 0   Date                   100000 non-null  object \n",
      " 1   Time                   100000 non-null  object \n",
      " 2   Global_active_power    100000 non-null  object \n",
      " 3   Global_reactive_power  100000 non-null  object \n",
      " 4   Voltage                100000 non-null  object \n",
      " 5   Global_intensity       100000 non-null  object \n",
      " 6   Sub_metering_1         100000 non-null  object \n",
      " 7   Sub_metering_2         100000 non-null  object \n",
      " 8   Sub_metering_3         98805 non-null   float64\n",
      "dtypes: float64(1), object(8)\n",
      "memory usage: 7.6+ MB\n"
     ]
    }
   ],
   "source": [
    "df.info()"
   ]
  },
  {
   "cell_type": "code",
   "execution_count": 82,
   "metadata": {},
   "outputs": [
    {
     "data": {
      "application/vnd.jupyter.widget-view+json": {
       "model_id": "98ffc04f085b4e9a9154157dd95ebbe8",
       "version_major": 2,
       "version_minor": 0
      },
      "text/plain": [
       "HBox(children=(HTML(value='Summarize dataset'), FloatProgress(value=0.0, max=5.0), HTML(value='')))"
      ]
     },
     "metadata": {},
     "output_type": "display_data"
    },
    {
     "name": "stdout",
     "output_type": "stream",
     "text": [
      "\n"
     ]
    },
    {
     "data": {
      "application/vnd.jupyter.widget-view+json": {
       "model_id": "2a572e9ac9d64328ace7729829e6af7f",
       "version_major": 2,
       "version_minor": 0
      },
      "text/plain": [
       "HBox(children=(HTML(value='Generate report structure'), FloatProgress(value=0.0, max=1.0), HTML(value='')))"
      ]
     },
     "metadata": {},
     "output_type": "display_data"
    },
    {
     "name": "stdout",
     "output_type": "stream",
     "text": [
      "\n"
     ]
    },
    {
     "data": {
      "application/vnd.jupyter.widget-view+json": {
       "model_id": "",
       "version_major": 2,
       "version_minor": 0
      },
      "text/plain": [
       "HBox(children=(HTML(value='Render widgets'), FloatProgress(value=0.0, max=1.0), HTML(value='')))"
      ]
     },
     "metadata": {},
     "output_type": "display_data"
    },
    {
     "data": {
      "application/vnd.jupyter.widget-view+json": {
       "model_id": "5a73dcd39ff940408de4cb85d84a29d5",
       "version_major": 2,
       "version_minor": 0
      },
      "text/plain": [
       "VBox(children=(Tab(children=(Tab(children=(GridBox(children=(VBox(children=(GridspecLayout(children=(HTML(valu…"
      ]
     },
     "metadata": {},
     "output_type": "display_data"
    }
   ],
   "source": [
    "pf = ProfileReport(df)\n",
    "pf.to_widgets()"
   ]
  },
  {
   "cell_type": "code",
   "execution_count": 83,
   "metadata": {},
   "outputs": [],
   "source": [
    "df2 = df.drop(['Date','Time'], axis=1)"
   ]
  },
  {
   "cell_type": "markdown",
   "metadata": {},
   "source": [
    "There is too much handling, we need to do\n",
    "1. Missing value\n",
    "2. Changing data type\n",
    "3. handle ? value\n",
    "4. Drop unrelevant col"
   ]
  },
  {
   "cell_type": "code",
   "execution_count": 84,
   "metadata": {},
   "outputs": [
    {
     "data": {
      "text/html": [
       "<div>\n",
       "<style scoped>\n",
       "    .dataframe tbody tr th:only-of-type {\n",
       "        vertical-align: middle;\n",
       "    }\n",
       "\n",
       "    .dataframe tbody tr th {\n",
       "        vertical-align: top;\n",
       "    }\n",
       "\n",
       "    .dataframe thead th {\n",
       "        text-align: right;\n",
       "    }\n",
       "</style>\n",
       "<table border=\"1\" class=\"dataframe\">\n",
       "  <thead>\n",
       "    <tr style=\"text-align: right;\">\n",
       "      <th></th>\n",
       "      <th>Date</th>\n",
       "      <th>Time</th>\n",
       "      <th>Global_active_power</th>\n",
       "      <th>Global_reactive_power</th>\n",
       "      <th>Voltage</th>\n",
       "      <th>Global_intensity</th>\n",
       "      <th>Sub_metering_1</th>\n",
       "      <th>Sub_metering_2</th>\n",
       "      <th>Sub_metering_3</th>\n",
       "    </tr>\n",
       "  </thead>\n",
       "  <tbody>\n",
       "    <tr>\n",
       "      <th>1257652</th>\n",
       "      <td>8/5/2009</td>\n",
       "      <td>02:16:00</td>\n",
       "      <td>0.338</td>\n",
       "      <td>0.094</td>\n",
       "      <td>242.710</td>\n",
       "      <td>1.400</td>\n",
       "      <td>0.000</td>\n",
       "      <td>1.000</td>\n",
       "      <td>1.0</td>\n",
       "    </tr>\n",
       "    <tr>\n",
       "      <th>1698231</th>\n",
       "      <td>10/3/2010</td>\n",
       "      <td>01:15:00</td>\n",
       "      <td>0.384</td>\n",
       "      <td>0.112</td>\n",
       "      <td>244.250</td>\n",
       "      <td>1.600</td>\n",
       "      <td>0.000</td>\n",
       "      <td>0.000</td>\n",
       "      <td>1.0</td>\n",
       "    </tr>\n",
       "    <tr>\n",
       "      <th>228414</th>\n",
       "      <td>24/5/2007</td>\n",
       "      <td>08:18:00</td>\n",
       "      <td>3.524</td>\n",
       "      <td>0.154</td>\n",
       "      <td>231.390</td>\n",
       "      <td>15.200</td>\n",
       "      <td>36.000</td>\n",
       "      <td>0.000</td>\n",
       "      <td>17.0</td>\n",
       "    </tr>\n",
       "    <tr>\n",
       "      <th>1067616</th>\n",
       "      <td>27/12/2008</td>\n",
       "      <td>03:00:00</td>\n",
       "      <td>2.534</td>\n",
       "      <td>0.098</td>\n",
       "      <td>244.400</td>\n",
       "      <td>10.200</td>\n",
       "      <td>0.000</td>\n",
       "      <td>0.000</td>\n",
       "      <td>18.0</td>\n",
       "    </tr>\n",
       "    <tr>\n",
       "      <th>768895</th>\n",
       "      <td>2/6/2008</td>\n",
       "      <td>16:19:00</td>\n",
       "      <td>0.492</td>\n",
       "      <td>0.000</td>\n",
       "      <td>236.810</td>\n",
       "      <td>2.000</td>\n",
       "      <td>0.000</td>\n",
       "      <td>0.000</td>\n",
       "      <td>1.0</td>\n",
       "    </tr>\n",
       "    <tr>\n",
       "      <th>...</th>\n",
       "      <td>...</td>\n",
       "      <td>...</td>\n",
       "      <td>...</td>\n",
       "      <td>...</td>\n",
       "      <td>...</td>\n",
       "      <td>...</td>\n",
       "      <td>...</td>\n",
       "      <td>...</td>\n",
       "      <td>...</td>\n",
       "    </tr>\n",
       "    <tr>\n",
       "      <th>834989</th>\n",
       "      <td>18/7/2008</td>\n",
       "      <td>13:53:00</td>\n",
       "      <td>0.602</td>\n",
       "      <td>0.112</td>\n",
       "      <td>240.000</td>\n",
       "      <td>2.400</td>\n",
       "      <td>0.000</td>\n",
       "      <td>0.000</td>\n",
       "      <td>1.0</td>\n",
       "    </tr>\n",
       "    <tr>\n",
       "      <th>740687</th>\n",
       "      <td>14/5/2008</td>\n",
       "      <td>02:11:00</td>\n",
       "      <td>0.244</td>\n",
       "      <td>0.104</td>\n",
       "      <td>243.980</td>\n",
       "      <td>1.000</td>\n",
       "      <td>0.000</td>\n",
       "      <td>0.000</td>\n",
       "      <td>1.0</td>\n",
       "    </tr>\n",
       "    <tr>\n",
       "      <th>1877254</th>\n",
       "      <td>12/7/2010</td>\n",
       "      <td>08:58:00</td>\n",
       "      <td>0.350</td>\n",
       "      <td>0.216</td>\n",
       "      <td>239.970</td>\n",
       "      <td>1.600</td>\n",
       "      <td>0.000</td>\n",
       "      <td>0.000</td>\n",
       "      <td>0.0</td>\n",
       "    </tr>\n",
       "    <tr>\n",
       "      <th>1267333</th>\n",
       "      <td>14/5/2009</td>\n",
       "      <td>19:37:00</td>\n",
       "      <td>2.732</td>\n",
       "      <td>0.344</td>\n",
       "      <td>239.170</td>\n",
       "      <td>11.400</td>\n",
       "      <td>0.000</td>\n",
       "      <td>0.000</td>\n",
       "      <td>18.0</td>\n",
       "    </tr>\n",
       "    <tr>\n",
       "      <th>1970553</th>\n",
       "      <td>15/9/2010</td>\n",
       "      <td>03:57:00</td>\n",
       "      <td>0.174</td>\n",
       "      <td>0.000</td>\n",
       "      <td>241.370</td>\n",
       "      <td>0.800</td>\n",
       "      <td>0.000</td>\n",
       "      <td>0.000</td>\n",
       "      <td>1.0</td>\n",
       "    </tr>\n",
       "  </tbody>\n",
       "</table>\n",
       "<p>100000 rows × 9 columns</p>\n",
       "</div>"
      ],
      "text/plain": [
       "               Date      Time Global_active_power Global_reactive_power  \\\n",
       "1257652    8/5/2009  02:16:00               0.338                 0.094   \n",
       "1698231   10/3/2010  01:15:00               0.384                 0.112   \n",
       "228414    24/5/2007  08:18:00               3.524                 0.154   \n",
       "1067616  27/12/2008  03:00:00               2.534                 0.098   \n",
       "768895     2/6/2008  16:19:00               0.492                 0.000   \n",
       "...             ...       ...                 ...                   ...   \n",
       "834989    18/7/2008  13:53:00               0.602                 0.112   \n",
       "740687    14/5/2008  02:11:00               0.244                 0.104   \n",
       "1877254   12/7/2010  08:58:00               0.350                 0.216   \n",
       "1267333   14/5/2009  19:37:00               2.732                 0.344   \n",
       "1970553   15/9/2010  03:57:00               0.174                 0.000   \n",
       "\n",
       "         Voltage Global_intensity Sub_metering_1 Sub_metering_2  \\\n",
       "1257652  242.710            1.400          0.000          1.000   \n",
       "1698231  244.250            1.600          0.000          0.000   \n",
       "228414   231.390           15.200         36.000          0.000   \n",
       "1067616  244.400           10.200          0.000          0.000   \n",
       "768895   236.810            2.000          0.000          0.000   \n",
       "...          ...              ...            ...            ...   \n",
       "834989   240.000            2.400          0.000          0.000   \n",
       "740687   243.980            1.000          0.000          0.000   \n",
       "1877254  239.970            1.600          0.000          0.000   \n",
       "1267333  239.170           11.400          0.000          0.000   \n",
       "1970553  241.370            0.800          0.000          0.000   \n",
       "\n",
       "         Sub_metering_3  \n",
       "1257652             1.0  \n",
       "1698231             1.0  \n",
       "228414             17.0  \n",
       "1067616            18.0  \n",
       "768895              1.0  \n",
       "...                 ...  \n",
       "834989              1.0  \n",
       "740687              1.0  \n",
       "1877254             0.0  \n",
       "1267333            18.0  \n",
       "1970553             1.0  \n",
       "\n",
       "[100000 rows x 9 columns]"
      ]
     },
     "execution_count": 84,
     "metadata": {},
     "output_type": "execute_result"
    }
   ],
   "source": [
    "df"
   ]
  },
  {
   "cell_type": "code",
   "execution_count": 85,
   "metadata": {},
   "outputs": [
    {
     "data": {
      "text/html": [
       "<div>\n",
       "<style scoped>\n",
       "    .dataframe tbody tr th:only-of-type {\n",
       "        vertical-align: middle;\n",
       "    }\n",
       "\n",
       "    .dataframe tbody tr th {\n",
       "        vertical-align: top;\n",
       "    }\n",
       "\n",
       "    .dataframe thead th {\n",
       "        text-align: right;\n",
       "    }\n",
       "</style>\n",
       "<table border=\"1\" class=\"dataframe\">\n",
       "  <thead>\n",
       "    <tr style=\"text-align: right;\">\n",
       "      <th></th>\n",
       "      <th>Global_active_power</th>\n",
       "      <th>Global_reactive_power</th>\n",
       "      <th>Voltage</th>\n",
       "      <th>Global_intensity</th>\n",
       "      <th>Sub_metering_1</th>\n",
       "      <th>Sub_metering_2</th>\n",
       "      <th>Sub_metering_3</th>\n",
       "    </tr>\n",
       "  </thead>\n",
       "  <tbody>\n",
       "    <tr>\n",
       "      <th>1257652</th>\n",
       "      <td>0.338</td>\n",
       "      <td>0.094</td>\n",
       "      <td>242.710</td>\n",
       "      <td>1.400</td>\n",
       "      <td>0.000</td>\n",
       "      <td>1.000</td>\n",
       "      <td>1.0</td>\n",
       "    </tr>\n",
       "    <tr>\n",
       "      <th>1698231</th>\n",
       "      <td>0.384</td>\n",
       "      <td>0.112</td>\n",
       "      <td>244.250</td>\n",
       "      <td>1.600</td>\n",
       "      <td>0.000</td>\n",
       "      <td>0.000</td>\n",
       "      <td>1.0</td>\n",
       "    </tr>\n",
       "    <tr>\n",
       "      <th>228414</th>\n",
       "      <td>3.524</td>\n",
       "      <td>0.154</td>\n",
       "      <td>231.390</td>\n",
       "      <td>15.200</td>\n",
       "      <td>36.000</td>\n",
       "      <td>0.000</td>\n",
       "      <td>17.0</td>\n",
       "    </tr>\n",
       "    <tr>\n",
       "      <th>1067616</th>\n",
       "      <td>2.534</td>\n",
       "      <td>0.098</td>\n",
       "      <td>244.400</td>\n",
       "      <td>10.200</td>\n",
       "      <td>0.000</td>\n",
       "      <td>0.000</td>\n",
       "      <td>18.0</td>\n",
       "    </tr>\n",
       "    <tr>\n",
       "      <th>768895</th>\n",
       "      <td>0.492</td>\n",
       "      <td>0.000</td>\n",
       "      <td>236.810</td>\n",
       "      <td>2.000</td>\n",
       "      <td>0.000</td>\n",
       "      <td>0.000</td>\n",
       "      <td>1.0</td>\n",
       "    </tr>\n",
       "    <tr>\n",
       "      <th>...</th>\n",
       "      <td>...</td>\n",
       "      <td>...</td>\n",
       "      <td>...</td>\n",
       "      <td>...</td>\n",
       "      <td>...</td>\n",
       "      <td>...</td>\n",
       "      <td>...</td>\n",
       "    </tr>\n",
       "    <tr>\n",
       "      <th>834989</th>\n",
       "      <td>0.602</td>\n",
       "      <td>0.112</td>\n",
       "      <td>240.000</td>\n",
       "      <td>2.400</td>\n",
       "      <td>0.000</td>\n",
       "      <td>0.000</td>\n",
       "      <td>1.0</td>\n",
       "    </tr>\n",
       "    <tr>\n",
       "      <th>740687</th>\n",
       "      <td>0.244</td>\n",
       "      <td>0.104</td>\n",
       "      <td>243.980</td>\n",
       "      <td>1.000</td>\n",
       "      <td>0.000</td>\n",
       "      <td>0.000</td>\n",
       "      <td>1.0</td>\n",
       "    </tr>\n",
       "    <tr>\n",
       "      <th>1877254</th>\n",
       "      <td>0.350</td>\n",
       "      <td>0.216</td>\n",
       "      <td>239.970</td>\n",
       "      <td>1.600</td>\n",
       "      <td>0.000</td>\n",
       "      <td>0.000</td>\n",
       "      <td>0.0</td>\n",
       "    </tr>\n",
       "    <tr>\n",
       "      <th>1267333</th>\n",
       "      <td>2.732</td>\n",
       "      <td>0.344</td>\n",
       "      <td>239.170</td>\n",
       "      <td>11.400</td>\n",
       "      <td>0.000</td>\n",
       "      <td>0.000</td>\n",
       "      <td>18.0</td>\n",
       "    </tr>\n",
       "    <tr>\n",
       "      <th>1970553</th>\n",
       "      <td>0.174</td>\n",
       "      <td>0.000</td>\n",
       "      <td>241.370</td>\n",
       "      <td>0.800</td>\n",
       "      <td>0.000</td>\n",
       "      <td>0.000</td>\n",
       "      <td>1.0</td>\n",
       "    </tr>\n",
       "  </tbody>\n",
       "</table>\n",
       "<p>100000 rows × 7 columns</p>\n",
       "</div>"
      ],
      "text/plain": [
       "        Global_active_power Global_reactive_power  Voltage Global_intensity  \\\n",
       "1257652               0.338                 0.094  242.710            1.400   \n",
       "1698231               0.384                 0.112  244.250            1.600   \n",
       "228414                3.524                 0.154  231.390           15.200   \n",
       "1067616               2.534                 0.098  244.400           10.200   \n",
       "768895                0.492                 0.000  236.810            2.000   \n",
       "...                     ...                   ...      ...              ...   \n",
       "834989                0.602                 0.112  240.000            2.400   \n",
       "740687                0.244                 0.104  243.980            1.000   \n",
       "1877254               0.350                 0.216  239.970            1.600   \n",
       "1267333               2.732                 0.344  239.170           11.400   \n",
       "1970553               0.174                 0.000  241.370            0.800   \n",
       "\n",
       "        Sub_metering_1 Sub_metering_2  Sub_metering_3  \n",
       "1257652          0.000          1.000             1.0  \n",
       "1698231          0.000          0.000             1.0  \n",
       "228414          36.000          0.000            17.0  \n",
       "1067616          0.000          0.000            18.0  \n",
       "768895           0.000          0.000             1.0  \n",
       "...                ...            ...             ...  \n",
       "834989           0.000          0.000             1.0  \n",
       "740687           0.000          0.000             1.0  \n",
       "1877254          0.000          0.000             0.0  \n",
       "1267333          0.000          0.000            18.0  \n",
       "1970553          0.000          0.000             1.0  \n",
       "\n",
       "[100000 rows x 7 columns]"
      ]
     },
     "execution_count": 85,
     "metadata": {},
     "output_type": "execute_result"
    }
   ],
   "source": [
    "df2"
   ]
  },
  {
   "cell_type": "markdown",
   "metadata": {},
   "source": [
    "Need to Identify more for missing value with rest of the features. "
   ]
  },
  {
   "cell_type": "code",
   "execution_count": 86,
   "metadata": {},
   "outputs": [],
   "source": [
    "unusedValue = {}"
   ]
  },
  {
   "cell_type": "code",
   "execution_count": 87,
   "metadata": {},
   "outputs": [],
   "source": [
    "count = 0\n",
    "# here we find how may '?' values present in each feature\n",
    "\n",
    "#'Global_active_power': ,'Global_reactive_power':,'Voltage','Global_intensity':,'Sub_metering_1':,'Sub_metering_2':,'Sub_metering_3'}\n",
    "\n",
    "for val in df2:\n",
    "    count=0\n",
    "    for val2 in df2[val]:\n",
    "        if val2 == '?':\n",
    "            count+=1\n",
    "    unusedValue.update({val: count})"
   ]
  },
  {
   "cell_type": "code",
   "execution_count": 88,
   "metadata": {},
   "outputs": [
    {
     "data": {
      "text/plain": [
       "{'Global_active_power': 1195,\n",
       " 'Global_reactive_power': 1195,\n",
       " 'Voltage': 1195,\n",
       " 'Global_intensity': 1195,\n",
       " 'Sub_metering_1': 1195,\n",
       " 'Sub_metering_2': 1195,\n",
       " 'Sub_metering_3': 0}"
      ]
     },
     "execution_count": 88,
     "metadata": {},
     "output_type": "execute_result"
    }
   ],
   "source": [
    "unusedValue"
   ]
  },
  {
   "cell_type": "markdown",
   "metadata": {},
   "source": [
    "Here we see very clearly that all of the features having '?' value equal to 1320 accept last one which have missing values\n",
    "and now I have two option either I replace all '?' value with mean value for respected feature's mean or \n",
    "I simply remove it from my df.\n",
    "I Choose option 2, simply remove it from my df, because for each row(where  '?' data present) the data will be same i.e '?'\n",
    "and replace with mean is not good option as per my understanding."
   ]
  },
  {
   "cell_type": "code",
   "execution_count": 89,
   "metadata": {},
   "outputs": [
    {
     "data": {
      "text/plain": [
       "1195"
      ]
     },
     "execution_count": 89,
     "metadata": {},
     "output_type": "execute_result"
    }
   ],
   "source": [
    "df2['Sub_metering_3'].isna().sum()\n"
   ]
  },
  {
   "cell_type": "code",
   "execution_count": 90,
   "metadata": {},
   "outputs": [
    {
     "name": "stdout",
     "output_type": "stream",
     "text": [
      "[1310291  190942 1986170 ... 1619664 1617574 1987546]\n"
     ]
    }
   ],
   "source": [
    "print(df2[df2['Sub_metering_1']== '?'].index.values)"
   ]
  },
  {
   "cell_type": "code",
   "execution_count": 91,
   "metadata": {},
   "outputs": [],
   "source": [
    "indexList=[]\n",
    "for val in df2:\n",
    "    indexList.append(df2[df2[val]== '?'].index.values)\n",
    "    break\n",
    "for iList in indexList[0]:\n",
    "    df2.drop([iList],axis=0, inplace=True)\n"
   ]
  },
  {
   "cell_type": "code",
   "execution_count": 92,
   "metadata": {},
   "outputs": [],
   "source": [
    "unusedValue1 = {}\n",
    "count = 0\n",
    "# here we find how many '?' values present in each feature\n",
    "\n",
    "#'Global_active_power': ,'Global_reactive_power':,'Voltage','Global_intensity':,'Sub_metering_1':,'Sub_metering_2':,'Sub_metering_3'}\n",
    "\n",
    "for val in df2:\n",
    "    count=0\n",
    "    for val2 in df2[val]:\n",
    "        if val2 == '?':\n",
    "            count+=1\n",
    "    unusedValue1.update({val: count})"
   ]
  },
  {
   "cell_type": "code",
   "execution_count": 93,
   "metadata": {},
   "outputs": [
    {
     "data": {
      "text/plain": [
       "{'Global_active_power': 0,\n",
       " 'Global_reactive_power': 0,\n",
       " 'Voltage': 0,\n",
       " 'Global_intensity': 0,\n",
       " 'Sub_metering_1': 0,\n",
       " 'Sub_metering_2': 0,\n",
       " 'Sub_metering_3': 0}"
      ]
     },
     "execution_count": 93,
     "metadata": {},
     "output_type": "execute_result"
    }
   ],
   "source": [
    "unusedValue1"
   ]
  },
  {
   "cell_type": "code",
   "execution_count": 94,
   "metadata": {},
   "outputs": [
    {
     "data": {
      "text/html": [
       "<div>\n",
       "<style scoped>\n",
       "    .dataframe tbody tr th:only-of-type {\n",
       "        vertical-align: middle;\n",
       "    }\n",
       "\n",
       "    .dataframe tbody tr th {\n",
       "        vertical-align: top;\n",
       "    }\n",
       "\n",
       "    .dataframe thead th {\n",
       "        text-align: right;\n",
       "    }\n",
       "</style>\n",
       "<table border=\"1\" class=\"dataframe\">\n",
       "  <thead>\n",
       "    <tr style=\"text-align: right;\">\n",
       "      <th></th>\n",
       "      <th>Global_active_power</th>\n",
       "      <th>Global_reactive_power</th>\n",
       "      <th>Voltage</th>\n",
       "      <th>Global_intensity</th>\n",
       "      <th>Sub_metering_1</th>\n",
       "      <th>Sub_metering_2</th>\n",
       "      <th>Sub_metering_3</th>\n",
       "    </tr>\n",
       "  </thead>\n",
       "  <tbody>\n",
       "    <tr>\n",
       "      <th>1257652</th>\n",
       "      <td>0.338</td>\n",
       "      <td>0.094</td>\n",
       "      <td>242.710</td>\n",
       "      <td>1.400</td>\n",
       "      <td>0.000</td>\n",
       "      <td>1.000</td>\n",
       "      <td>1.0</td>\n",
       "    </tr>\n",
       "    <tr>\n",
       "      <th>1698231</th>\n",
       "      <td>0.384</td>\n",
       "      <td>0.112</td>\n",
       "      <td>244.250</td>\n",
       "      <td>1.600</td>\n",
       "      <td>0.000</td>\n",
       "      <td>0.000</td>\n",
       "      <td>1.0</td>\n",
       "    </tr>\n",
       "    <tr>\n",
       "      <th>228414</th>\n",
       "      <td>3.524</td>\n",
       "      <td>0.154</td>\n",
       "      <td>231.390</td>\n",
       "      <td>15.200</td>\n",
       "      <td>36.000</td>\n",
       "      <td>0.000</td>\n",
       "      <td>17.0</td>\n",
       "    </tr>\n",
       "    <tr>\n",
       "      <th>1067616</th>\n",
       "      <td>2.534</td>\n",
       "      <td>0.098</td>\n",
       "      <td>244.400</td>\n",
       "      <td>10.200</td>\n",
       "      <td>0.000</td>\n",
       "      <td>0.000</td>\n",
       "      <td>18.0</td>\n",
       "    </tr>\n",
       "    <tr>\n",
       "      <th>768895</th>\n",
       "      <td>0.492</td>\n",
       "      <td>0.000</td>\n",
       "      <td>236.810</td>\n",
       "      <td>2.000</td>\n",
       "      <td>0.000</td>\n",
       "      <td>0.000</td>\n",
       "      <td>1.0</td>\n",
       "    </tr>\n",
       "    <tr>\n",
       "      <th>...</th>\n",
       "      <td>...</td>\n",
       "      <td>...</td>\n",
       "      <td>...</td>\n",
       "      <td>...</td>\n",
       "      <td>...</td>\n",
       "      <td>...</td>\n",
       "      <td>...</td>\n",
       "    </tr>\n",
       "    <tr>\n",
       "      <th>834989</th>\n",
       "      <td>0.602</td>\n",
       "      <td>0.112</td>\n",
       "      <td>240.000</td>\n",
       "      <td>2.400</td>\n",
       "      <td>0.000</td>\n",
       "      <td>0.000</td>\n",
       "      <td>1.0</td>\n",
       "    </tr>\n",
       "    <tr>\n",
       "      <th>740687</th>\n",
       "      <td>0.244</td>\n",
       "      <td>0.104</td>\n",
       "      <td>243.980</td>\n",
       "      <td>1.000</td>\n",
       "      <td>0.000</td>\n",
       "      <td>0.000</td>\n",
       "      <td>1.0</td>\n",
       "    </tr>\n",
       "    <tr>\n",
       "      <th>1877254</th>\n",
       "      <td>0.350</td>\n",
       "      <td>0.216</td>\n",
       "      <td>239.970</td>\n",
       "      <td>1.600</td>\n",
       "      <td>0.000</td>\n",
       "      <td>0.000</td>\n",
       "      <td>0.0</td>\n",
       "    </tr>\n",
       "    <tr>\n",
       "      <th>1267333</th>\n",
       "      <td>2.732</td>\n",
       "      <td>0.344</td>\n",
       "      <td>239.170</td>\n",
       "      <td>11.400</td>\n",
       "      <td>0.000</td>\n",
       "      <td>0.000</td>\n",
       "      <td>18.0</td>\n",
       "    </tr>\n",
       "    <tr>\n",
       "      <th>1970553</th>\n",
       "      <td>0.174</td>\n",
       "      <td>0.000</td>\n",
       "      <td>241.370</td>\n",
       "      <td>0.800</td>\n",
       "      <td>0.000</td>\n",
       "      <td>0.000</td>\n",
       "      <td>1.0</td>\n",
       "    </tr>\n",
       "  </tbody>\n",
       "</table>\n",
       "<p>98805 rows × 7 columns</p>\n",
       "</div>"
      ],
      "text/plain": [
       "        Global_active_power Global_reactive_power  Voltage Global_intensity  \\\n",
       "1257652               0.338                 0.094  242.710            1.400   \n",
       "1698231               0.384                 0.112  244.250            1.600   \n",
       "228414                3.524                 0.154  231.390           15.200   \n",
       "1067616               2.534                 0.098  244.400           10.200   \n",
       "768895                0.492                 0.000  236.810            2.000   \n",
       "...                     ...                   ...      ...              ...   \n",
       "834989                0.602                 0.112  240.000            2.400   \n",
       "740687                0.244                 0.104  243.980            1.000   \n",
       "1877254               0.350                 0.216  239.970            1.600   \n",
       "1267333               2.732                 0.344  239.170           11.400   \n",
       "1970553               0.174                 0.000  241.370            0.800   \n",
       "\n",
       "        Sub_metering_1 Sub_metering_2  Sub_metering_3  \n",
       "1257652          0.000          1.000             1.0  \n",
       "1698231          0.000          0.000             1.0  \n",
       "228414          36.000          0.000            17.0  \n",
       "1067616          0.000          0.000            18.0  \n",
       "768895           0.000          0.000             1.0  \n",
       "...                ...            ...             ...  \n",
       "834989           0.000          0.000             1.0  \n",
       "740687           0.000          0.000             1.0  \n",
       "1877254          0.000          0.000             0.0  \n",
       "1267333          0.000          0.000            18.0  \n",
       "1970553          0.000          0.000             1.0  \n",
       "\n",
       "[98805 rows x 7 columns]"
      ]
     },
     "execution_count": 94,
     "metadata": {},
     "output_type": "execute_result"
    }
   ],
   "source": [
    "df2"
   ]
  },
  {
   "cell_type": "code",
   "execution_count": 95,
   "metadata": {},
   "outputs": [
    {
     "name": "stdout",
     "output_type": "stream",
     "text": [
      "strType =  96745 intType =  0 floatType =  2060 --> Global_active_power\n",
      "strType =  96745 intType =  0 floatType =  2060 --> Global_reactive_power\n",
      "strType =  96745 intType =  0 floatType =  2060 --> Voltage\n",
      "strType =  96745 intType =  0 floatType =  2060 --> Global_intensity\n",
      "strType =  96745 intType =  0 floatType =  2060 --> Sub_metering_1\n",
      "strType =  96745 intType =  0 floatType =  2060 --> Sub_metering_2\n",
      "strType =  0 intType =  0 floatType =  98805 --> Sub_metering_3\n"
     ]
    }
   ],
   "source": [
    "for val in df2:\n",
    "    strCount=0 \n",
    "    intCount=0 \n",
    "    floatCount=0\n",
    "    for val2 in df2[val]:\n",
    "        if type(val2) == str:\n",
    "            strCount+=1\n",
    "        elif type(val2) == int:\n",
    "            intCount+=1\n",
    "        else:\n",
    "            floatCount+=1\n",
    "    print('strType = ',strCount,'intType = ',intCount,'floatType = ',floatCount,'-->',val)"
   ]
  },
  {
   "cell_type": "code",
   "execution_count": 96,
   "metadata": {},
   "outputs": [],
   "source": [
    "df3 = df2"
   ]
  },
  {
   "cell_type": "code",
   "execution_count": 97,
   "metadata": {},
   "outputs": [],
   "source": [
    "# Changing the DATATYPE\n",
    "df2[['Global_active_power','Global_reactive_power','Voltage','Global_intensity','Sub_metering_1','Sub_metering_2','Sub_metering_3']] = df2[['Global_active_power','Global_reactive_power','Voltage','Global_intensity','Sub_metering_1','Sub_metering_2','Sub_metering_3']].apply(pd.to_numeric)"
   ]
  },
  {
   "cell_type": "code",
   "execution_count": 98,
   "metadata": {},
   "outputs": [
    {
     "name": "stdout",
     "output_type": "stream",
     "text": [
      "strType =  0 intType =  0 floatType =  98805 --> Global_active_power\n",
      "strType =  0 intType =  0 floatType =  98805 --> Global_reactive_power\n",
      "strType =  0 intType =  0 floatType =  98805 --> Voltage\n",
      "strType =  0 intType =  0 floatType =  98805 --> Global_intensity\n",
      "strType =  0 intType =  0 floatType =  98805 --> Sub_metering_1\n",
      "strType =  0 intType =  0 floatType =  98805 --> Sub_metering_2\n",
      "strType =  0 intType =  0 floatType =  98805 --> Sub_metering_3\n"
     ]
    }
   ],
   "source": [
    "for val in df2:\n",
    "    strCount=0 \n",
    "    intCount=0 \n",
    "    floatCount=0\n",
    "    for val2 in df2[val]:\n",
    "        if type(val2) == str:\n",
    "            strCount+=1\n",
    "        elif type(val2) == int:\n",
    "            intCount+=1\n",
    "        else:\n",
    "            floatCount+=1\n",
    "    print('strType = ',strCount,'intType = ',intCount,'floatType = ',floatCount,'-->',val)"
   ]
  },
  {
   "cell_type": "code",
   "execution_count": 99,
   "metadata": {},
   "outputs": [
    {
     "data": {
      "text/plain": [
       "Global_active_power      0\n",
       "Global_reactive_power    0\n",
       "Voltage                  0\n",
       "Global_intensity         0\n",
       "Sub_metering_1           0\n",
       "Sub_metering_2           0\n",
       "Sub_metering_3           0\n",
       "dtype: int64"
      ]
     },
     "execution_count": 99,
     "metadata": {},
     "output_type": "execute_result"
    }
   ],
   "source": [
    "df2.isnull().sum()"
   ]
  },
  {
   "cell_type": "code",
   "execution_count": 100,
   "metadata": {},
   "outputs": [],
   "source": [
    "df2['Total_Energy_Consumption'] = df2['Sub_metering_1'] + df2['Sub_metering_2'] + df2['Sub_metering_3'] "
   ]
  },
  {
   "cell_type": "code",
   "execution_count": 101,
   "metadata": {},
   "outputs": [
    {
     "data": {
      "text/html": [
       "<div>\n",
       "<style scoped>\n",
       "    .dataframe tbody tr th:only-of-type {\n",
       "        vertical-align: middle;\n",
       "    }\n",
       "\n",
       "    .dataframe tbody tr th {\n",
       "        vertical-align: top;\n",
       "    }\n",
       "\n",
       "    .dataframe thead th {\n",
       "        text-align: right;\n",
       "    }\n",
       "</style>\n",
       "<table border=\"1\" class=\"dataframe\">\n",
       "  <thead>\n",
       "    <tr style=\"text-align: right;\">\n",
       "      <th></th>\n",
       "      <th>Global_active_power</th>\n",
       "      <th>Global_reactive_power</th>\n",
       "      <th>Voltage</th>\n",
       "      <th>Global_intensity</th>\n",
       "      <th>Sub_metering_1</th>\n",
       "      <th>Sub_metering_2</th>\n",
       "      <th>Sub_metering_3</th>\n",
       "      <th>Total_Energy_Consumption</th>\n",
       "    </tr>\n",
       "  </thead>\n",
       "  <tbody>\n",
       "    <tr>\n",
       "      <th>1257652</th>\n",
       "      <td>0.338</td>\n",
       "      <td>0.094</td>\n",
       "      <td>242.71</td>\n",
       "      <td>1.4</td>\n",
       "      <td>0.0</td>\n",
       "      <td>1.0</td>\n",
       "      <td>1.0</td>\n",
       "      <td>2.0</td>\n",
       "    </tr>\n",
       "    <tr>\n",
       "      <th>1698231</th>\n",
       "      <td>0.384</td>\n",
       "      <td>0.112</td>\n",
       "      <td>244.25</td>\n",
       "      <td>1.6</td>\n",
       "      <td>0.0</td>\n",
       "      <td>0.0</td>\n",
       "      <td>1.0</td>\n",
       "      <td>1.0</td>\n",
       "    </tr>\n",
       "    <tr>\n",
       "      <th>228414</th>\n",
       "      <td>3.524</td>\n",
       "      <td>0.154</td>\n",
       "      <td>231.39</td>\n",
       "      <td>15.2</td>\n",
       "      <td>36.0</td>\n",
       "      <td>0.0</td>\n",
       "      <td>17.0</td>\n",
       "      <td>53.0</td>\n",
       "    </tr>\n",
       "    <tr>\n",
       "      <th>1067616</th>\n",
       "      <td>2.534</td>\n",
       "      <td>0.098</td>\n",
       "      <td>244.40</td>\n",
       "      <td>10.2</td>\n",
       "      <td>0.0</td>\n",
       "      <td>0.0</td>\n",
       "      <td>18.0</td>\n",
       "      <td>18.0</td>\n",
       "    </tr>\n",
       "    <tr>\n",
       "      <th>768895</th>\n",
       "      <td>0.492</td>\n",
       "      <td>0.000</td>\n",
       "      <td>236.81</td>\n",
       "      <td>2.0</td>\n",
       "      <td>0.0</td>\n",
       "      <td>0.0</td>\n",
       "      <td>1.0</td>\n",
       "      <td>1.0</td>\n",
       "    </tr>\n",
       "    <tr>\n",
       "      <th>...</th>\n",
       "      <td>...</td>\n",
       "      <td>...</td>\n",
       "      <td>...</td>\n",
       "      <td>...</td>\n",
       "      <td>...</td>\n",
       "      <td>...</td>\n",
       "      <td>...</td>\n",
       "      <td>...</td>\n",
       "    </tr>\n",
       "    <tr>\n",
       "      <th>834989</th>\n",
       "      <td>0.602</td>\n",
       "      <td>0.112</td>\n",
       "      <td>240.00</td>\n",
       "      <td>2.4</td>\n",
       "      <td>0.0</td>\n",
       "      <td>0.0</td>\n",
       "      <td>1.0</td>\n",
       "      <td>1.0</td>\n",
       "    </tr>\n",
       "    <tr>\n",
       "      <th>740687</th>\n",
       "      <td>0.244</td>\n",
       "      <td>0.104</td>\n",
       "      <td>243.98</td>\n",
       "      <td>1.0</td>\n",
       "      <td>0.0</td>\n",
       "      <td>0.0</td>\n",
       "      <td>1.0</td>\n",
       "      <td>1.0</td>\n",
       "    </tr>\n",
       "    <tr>\n",
       "      <th>1877254</th>\n",
       "      <td>0.350</td>\n",
       "      <td>0.216</td>\n",
       "      <td>239.97</td>\n",
       "      <td>1.6</td>\n",
       "      <td>0.0</td>\n",
       "      <td>0.0</td>\n",
       "      <td>0.0</td>\n",
       "      <td>0.0</td>\n",
       "    </tr>\n",
       "    <tr>\n",
       "      <th>1267333</th>\n",
       "      <td>2.732</td>\n",
       "      <td>0.344</td>\n",
       "      <td>239.17</td>\n",
       "      <td>11.4</td>\n",
       "      <td>0.0</td>\n",
       "      <td>0.0</td>\n",
       "      <td>18.0</td>\n",
       "      <td>18.0</td>\n",
       "    </tr>\n",
       "    <tr>\n",
       "      <th>1970553</th>\n",
       "      <td>0.174</td>\n",
       "      <td>0.000</td>\n",
       "      <td>241.37</td>\n",
       "      <td>0.8</td>\n",
       "      <td>0.0</td>\n",
       "      <td>0.0</td>\n",
       "      <td>1.0</td>\n",
       "      <td>1.0</td>\n",
       "    </tr>\n",
       "  </tbody>\n",
       "</table>\n",
       "<p>98805 rows × 8 columns</p>\n",
       "</div>"
      ],
      "text/plain": [
       "         Global_active_power  Global_reactive_power  Voltage  \\\n",
       "1257652                0.338                  0.094   242.71   \n",
       "1698231                0.384                  0.112   244.25   \n",
       "228414                 3.524                  0.154   231.39   \n",
       "1067616                2.534                  0.098   244.40   \n",
       "768895                 0.492                  0.000   236.81   \n",
       "...                      ...                    ...      ...   \n",
       "834989                 0.602                  0.112   240.00   \n",
       "740687                 0.244                  0.104   243.98   \n",
       "1877254                0.350                  0.216   239.97   \n",
       "1267333                2.732                  0.344   239.17   \n",
       "1970553                0.174                  0.000   241.37   \n",
       "\n",
       "         Global_intensity  Sub_metering_1  Sub_metering_2  Sub_metering_3  \\\n",
       "1257652               1.4             0.0             1.0             1.0   \n",
       "1698231               1.6             0.0             0.0             1.0   \n",
       "228414               15.2            36.0             0.0            17.0   \n",
       "1067616              10.2             0.0             0.0            18.0   \n",
       "768895                2.0             0.0             0.0             1.0   \n",
       "...                   ...             ...             ...             ...   \n",
       "834989                2.4             0.0             0.0             1.0   \n",
       "740687                1.0             0.0             0.0             1.0   \n",
       "1877254               1.6             0.0             0.0             0.0   \n",
       "1267333              11.4             0.0             0.0            18.0   \n",
       "1970553               0.8             0.0             0.0             1.0   \n",
       "\n",
       "         Total_Energy_Consumption  \n",
       "1257652                       2.0  \n",
       "1698231                       1.0  \n",
       "228414                       53.0  \n",
       "1067616                      18.0  \n",
       "768895                        1.0  \n",
       "...                           ...  \n",
       "834989                        1.0  \n",
       "740687                        1.0  \n",
       "1877254                       0.0  \n",
       "1267333                      18.0  \n",
       "1970553                       1.0  \n",
       "\n",
       "[98805 rows x 8 columns]"
      ]
     },
     "execution_count": 101,
     "metadata": {},
     "output_type": "execute_result"
    }
   ],
   "source": [
    "df2"
   ]
  },
  {
   "cell_type": "code",
   "execution_count": 102,
   "metadata": {},
   "outputs": [],
   "source": [
    "df2 = df2.drop(['Sub_metering_1','Sub_metering_2','Sub_metering_3'], axis=1)"
   ]
  },
  {
   "cell_type": "code",
   "execution_count": 103,
   "metadata": {
    "scrolled": true
   },
   "outputs": [
    {
     "data": {
      "text/html": [
       "<div>\n",
       "<style scoped>\n",
       "    .dataframe tbody tr th:only-of-type {\n",
       "        vertical-align: middle;\n",
       "    }\n",
       "\n",
       "    .dataframe tbody tr th {\n",
       "        vertical-align: top;\n",
       "    }\n",
       "\n",
       "    .dataframe thead th {\n",
       "        text-align: right;\n",
       "    }\n",
       "</style>\n",
       "<table border=\"1\" class=\"dataframe\">\n",
       "  <thead>\n",
       "    <tr style=\"text-align: right;\">\n",
       "      <th></th>\n",
       "      <th>Global_active_power</th>\n",
       "      <th>Global_reactive_power</th>\n",
       "      <th>Voltage</th>\n",
       "      <th>Global_intensity</th>\n",
       "      <th>Total_Energy_Consumption</th>\n",
       "    </tr>\n",
       "  </thead>\n",
       "  <tbody>\n",
       "    <tr>\n",
       "      <th>1257652</th>\n",
       "      <td>0.338</td>\n",
       "      <td>0.094</td>\n",
       "      <td>242.71</td>\n",
       "      <td>1.4</td>\n",
       "      <td>2.0</td>\n",
       "    </tr>\n",
       "    <tr>\n",
       "      <th>1698231</th>\n",
       "      <td>0.384</td>\n",
       "      <td>0.112</td>\n",
       "      <td>244.25</td>\n",
       "      <td>1.6</td>\n",
       "      <td>1.0</td>\n",
       "    </tr>\n",
       "    <tr>\n",
       "      <th>228414</th>\n",
       "      <td>3.524</td>\n",
       "      <td>0.154</td>\n",
       "      <td>231.39</td>\n",
       "      <td>15.2</td>\n",
       "      <td>53.0</td>\n",
       "    </tr>\n",
       "    <tr>\n",
       "      <th>1067616</th>\n",
       "      <td>2.534</td>\n",
       "      <td>0.098</td>\n",
       "      <td>244.40</td>\n",
       "      <td>10.2</td>\n",
       "      <td>18.0</td>\n",
       "    </tr>\n",
       "    <tr>\n",
       "      <th>768895</th>\n",
       "      <td>0.492</td>\n",
       "      <td>0.000</td>\n",
       "      <td>236.81</td>\n",
       "      <td>2.0</td>\n",
       "      <td>1.0</td>\n",
       "    </tr>\n",
       "    <tr>\n",
       "      <th>...</th>\n",
       "      <td>...</td>\n",
       "      <td>...</td>\n",
       "      <td>...</td>\n",
       "      <td>...</td>\n",
       "      <td>...</td>\n",
       "    </tr>\n",
       "    <tr>\n",
       "      <th>834989</th>\n",
       "      <td>0.602</td>\n",
       "      <td>0.112</td>\n",
       "      <td>240.00</td>\n",
       "      <td>2.4</td>\n",
       "      <td>1.0</td>\n",
       "    </tr>\n",
       "    <tr>\n",
       "      <th>740687</th>\n",
       "      <td>0.244</td>\n",
       "      <td>0.104</td>\n",
       "      <td>243.98</td>\n",
       "      <td>1.0</td>\n",
       "      <td>1.0</td>\n",
       "    </tr>\n",
       "    <tr>\n",
       "      <th>1877254</th>\n",
       "      <td>0.350</td>\n",
       "      <td>0.216</td>\n",
       "      <td>239.97</td>\n",
       "      <td>1.6</td>\n",
       "      <td>0.0</td>\n",
       "    </tr>\n",
       "    <tr>\n",
       "      <th>1267333</th>\n",
       "      <td>2.732</td>\n",
       "      <td>0.344</td>\n",
       "      <td>239.17</td>\n",
       "      <td>11.4</td>\n",
       "      <td>18.0</td>\n",
       "    </tr>\n",
       "    <tr>\n",
       "      <th>1970553</th>\n",
       "      <td>0.174</td>\n",
       "      <td>0.000</td>\n",
       "      <td>241.37</td>\n",
       "      <td>0.8</td>\n",
       "      <td>1.0</td>\n",
       "    </tr>\n",
       "  </tbody>\n",
       "</table>\n",
       "<p>98805 rows × 5 columns</p>\n",
       "</div>"
      ],
      "text/plain": [
       "         Global_active_power  Global_reactive_power  Voltage  \\\n",
       "1257652                0.338                  0.094   242.71   \n",
       "1698231                0.384                  0.112   244.25   \n",
       "228414                 3.524                  0.154   231.39   \n",
       "1067616                2.534                  0.098   244.40   \n",
       "768895                 0.492                  0.000   236.81   \n",
       "...                      ...                    ...      ...   \n",
       "834989                 0.602                  0.112   240.00   \n",
       "740687                 0.244                  0.104   243.98   \n",
       "1877254                0.350                  0.216   239.97   \n",
       "1267333                2.732                  0.344   239.17   \n",
       "1970553                0.174                  0.000   241.37   \n",
       "\n",
       "         Global_intensity  Total_Energy_Consumption  \n",
       "1257652               1.4                       2.0  \n",
       "1698231               1.6                       1.0  \n",
       "228414               15.2                      53.0  \n",
       "1067616              10.2                      18.0  \n",
       "768895                2.0                       1.0  \n",
       "...                   ...                       ...  \n",
       "834989                2.4                       1.0  \n",
       "740687                1.0                       1.0  \n",
       "1877254               1.6                       0.0  \n",
       "1267333              11.4                      18.0  \n",
       "1970553               0.8                       1.0  \n",
       "\n",
       "[98805 rows x 5 columns]"
      ]
     },
     "execution_count": 103,
     "metadata": {},
     "output_type": "execute_result"
    }
   ],
   "source": [
    "df2"
   ]
  },
  {
   "cell_type": "code",
   "execution_count": 104,
   "metadata": {},
   "outputs": [
    {
     "data": {
      "image/png": "[encoded data removed]",
      "text/plain": [
       "<Figure size 432x288 with 2 Axes>"
      ]
     },
     "metadata": {
      "needs_background": "light"
     },
     "output_type": "display_data"
    }
   ],
   "source": [
    "import seaborn as sns\n",
    "sns.heatmap(df2.corr(), cmap='RdBu',center=0)\n",
    "plt.show()"
   ]
  },
  {
   "cell_type": "code",
   "execution_count": 105,
   "metadata": {},
   "outputs": [
    {
     "data": {
      "text/plain": [
       "<seaborn.matrix.ClusterGrid at 0x2289bbe7cd0>"
      ]
     },
     "execution_count": 105,
     "metadata": {},
     "output_type": "execute_result"
    },
    {
     "data": {
      "image/png": "[encoded data removed]",
      "text/plain": [
       "<Figure size 720x720 with 4 Axes>"
      ]
     },
     "metadata": {
      "needs_background": "light"
     },
     "output_type": "display_data"
    }
   ],
   "source": [
    "sns.clustermap(df2.corr(), cmap='RdBu',center=0)"
   ]
  },
  {
   "cell_type": "code",
   "execution_count": 106,
   "metadata": {},
   "outputs": [
    {
     "data": {
      "text/html": [
       "<div>\n",
       "<style scoped>\n",
       "    .dataframe tbody tr th:only-of-type {\n",
       "        vertical-align: middle;\n",
       "    }\n",
       "\n",
       "    .dataframe tbody tr th {\n",
       "        vertical-align: top;\n",
       "    }\n",
       "\n",
       "    .dataframe thead th {\n",
       "        text-align: right;\n",
       "    }\n",
       "</style>\n",
       "<table border=\"1\" class=\"dataframe\">\n",
       "  <thead>\n",
       "    <tr style=\"text-align: right;\">\n",
       "      <th></th>\n",
       "      <th>Global_active_power</th>\n",
       "      <th>Global_reactive_power</th>\n",
       "      <th>Voltage</th>\n",
       "      <th>Global_intensity</th>\n",
       "      <th>Total_Energy_Consumption</th>\n",
       "    </tr>\n",
       "  </thead>\n",
       "  <tbody>\n",
       "    <tr>\n",
       "      <th>1257652</th>\n",
       "      <td>0.338</td>\n",
       "      <td>0.094</td>\n",
       "      <td>242.71</td>\n",
       "      <td>1.4</td>\n",
       "      <td>2.0</td>\n",
       "    </tr>\n",
       "    <tr>\n",
       "      <th>1698231</th>\n",
       "      <td>0.384</td>\n",
       "      <td>0.112</td>\n",
       "      <td>244.25</td>\n",
       "      <td>1.6</td>\n",
       "      <td>1.0</td>\n",
       "    </tr>\n",
       "    <tr>\n",
       "      <th>228414</th>\n",
       "      <td>3.524</td>\n",
       "      <td>0.154</td>\n",
       "      <td>231.39</td>\n",
       "      <td>15.2</td>\n",
       "      <td>53.0</td>\n",
       "    </tr>\n",
       "    <tr>\n",
       "      <th>1067616</th>\n",
       "      <td>2.534</td>\n",
       "      <td>0.098</td>\n",
       "      <td>244.40</td>\n",
       "      <td>10.2</td>\n",
       "      <td>18.0</td>\n",
       "    </tr>\n",
       "    <tr>\n",
       "      <th>768895</th>\n",
       "      <td>0.492</td>\n",
       "      <td>0.000</td>\n",
       "      <td>236.81</td>\n",
       "      <td>2.0</td>\n",
       "      <td>1.0</td>\n",
       "    </tr>\n",
       "    <tr>\n",
       "      <th>...</th>\n",
       "      <td>...</td>\n",
       "      <td>...</td>\n",
       "      <td>...</td>\n",
       "      <td>...</td>\n",
       "      <td>...</td>\n",
       "    </tr>\n",
       "    <tr>\n",
       "      <th>834989</th>\n",
       "      <td>0.602</td>\n",
       "      <td>0.112</td>\n",
       "      <td>240.00</td>\n",
       "      <td>2.4</td>\n",
       "      <td>1.0</td>\n",
       "    </tr>\n",
       "    <tr>\n",
       "      <th>740687</th>\n",
       "      <td>0.244</td>\n",
       "      <td>0.104</td>\n",
       "      <td>243.98</td>\n",
       "      <td>1.0</td>\n",
       "      <td>1.0</td>\n",
       "    </tr>\n",
       "    <tr>\n",
       "      <th>1877254</th>\n",
       "      <td>0.350</td>\n",
       "      <td>0.216</td>\n",
       "      <td>239.97</td>\n",
       "      <td>1.6</td>\n",
       "      <td>0.0</td>\n",
       "    </tr>\n",
       "    <tr>\n",
       "      <th>1267333</th>\n",
       "      <td>2.732</td>\n",
       "      <td>0.344</td>\n",
       "      <td>239.17</td>\n",
       "      <td>11.4</td>\n",
       "      <td>18.0</td>\n",
       "    </tr>\n",
       "    <tr>\n",
       "      <th>1970553</th>\n",
       "      <td>0.174</td>\n",
       "      <td>0.000</td>\n",
       "      <td>241.37</td>\n",
       "      <td>0.8</td>\n",
       "      <td>1.0</td>\n",
       "    </tr>\n",
       "  </tbody>\n",
       "</table>\n",
       "<p>98805 rows × 5 columns</p>\n",
       "</div>"
      ],
      "text/plain": [
       "         Global_active_power  Global_reactive_power  Voltage  \\\n",
       "1257652                0.338                  0.094   242.71   \n",
       "1698231                0.384                  0.112   244.25   \n",
       "228414                 3.524                  0.154   231.39   \n",
       "1067616                2.534                  0.098   244.40   \n",
       "768895                 0.492                  0.000   236.81   \n",
       "...                      ...                    ...      ...   \n",
       "834989                 0.602                  0.112   240.00   \n",
       "740687                 0.244                  0.104   243.98   \n",
       "1877254                0.350                  0.216   239.97   \n",
       "1267333                2.732                  0.344   239.17   \n",
       "1970553                0.174                  0.000   241.37   \n",
       "\n",
       "         Global_intensity  Total_Energy_Consumption  \n",
       "1257652               1.4                       2.0  \n",
       "1698231               1.6                       1.0  \n",
       "228414               15.2                      53.0  \n",
       "1067616              10.2                      18.0  \n",
       "768895                2.0                       1.0  \n",
       "...                   ...                       ...  \n",
       "834989                2.4                       1.0  \n",
       "740687                1.0                       1.0  \n",
       "1877254               1.6                       0.0  \n",
       "1267333              11.4                      18.0  \n",
       "1970553               0.8                       1.0  \n",
       "\n",
       "[98805 rows x 5 columns]"
      ]
     },
     "execution_count": 106,
     "metadata": {},
     "output_type": "execute_result"
    }
   ],
   "source": [
    "df2"
   ]
  },
  {
   "cell_type": "code",
   "execution_count": 107,
   "metadata": {},
   "outputs": [],
   "source": [
    "# Create Independent and Dependent Variable\n",
    "\n",
    "X=df2.drop(\"Total_Energy_Consumption\",axis=1)\n",
    "Y = df2['Total_Energy_Consumption']"
   ]
  },
  {
   "cell_type": "code",
   "execution_count": 108,
   "metadata": {},
   "outputs": [
    {
     "data": {
      "text/html": [
       "<div>\n",
       "<style scoped>\n",
       "    .dataframe tbody tr th:only-of-type {\n",
       "        vertical-align: middle;\n",
       "    }\n",
       "\n",
       "    .dataframe tbody tr th {\n",
       "        vertical-align: top;\n",
       "    }\n",
       "\n",
       "    .dataframe thead th {\n",
       "        text-align: right;\n",
       "    }\n",
       "</style>\n",
       "<table border=\"1\" class=\"dataframe\">\n",
       "  <thead>\n",
       "    <tr style=\"text-align: right;\">\n",
       "      <th></th>\n",
       "      <th>Global_active_power</th>\n",
       "      <th>Global_reactive_power</th>\n",
       "      <th>Voltage</th>\n",
       "      <th>Global_intensity</th>\n",
       "    </tr>\n",
       "  </thead>\n",
       "  <tbody>\n",
       "    <tr>\n",
       "      <th>1257652</th>\n",
       "      <td>0.338</td>\n",
       "      <td>0.094</td>\n",
       "      <td>242.71</td>\n",
       "      <td>1.4</td>\n",
       "    </tr>\n",
       "    <tr>\n",
       "      <th>1698231</th>\n",
       "      <td>0.384</td>\n",
       "      <td>0.112</td>\n",
       "      <td>244.25</td>\n",
       "      <td>1.6</td>\n",
       "    </tr>\n",
       "    <tr>\n",
       "      <th>228414</th>\n",
       "      <td>3.524</td>\n",
       "      <td>0.154</td>\n",
       "      <td>231.39</td>\n",
       "      <td>15.2</td>\n",
       "    </tr>\n",
       "    <tr>\n",
       "      <th>1067616</th>\n",
       "      <td>2.534</td>\n",
       "      <td>0.098</td>\n",
       "      <td>244.40</td>\n",
       "      <td>10.2</td>\n",
       "    </tr>\n",
       "    <tr>\n",
       "      <th>768895</th>\n",
       "      <td>0.492</td>\n",
       "      <td>0.000</td>\n",
       "      <td>236.81</td>\n",
       "      <td>2.0</td>\n",
       "    </tr>\n",
       "    <tr>\n",
       "      <th>...</th>\n",
       "      <td>...</td>\n",
       "      <td>...</td>\n",
       "      <td>...</td>\n",
       "      <td>...</td>\n",
       "    </tr>\n",
       "    <tr>\n",
       "      <th>834989</th>\n",
       "      <td>0.602</td>\n",
       "      <td>0.112</td>\n",
       "      <td>240.00</td>\n",
       "      <td>2.4</td>\n",
       "    </tr>\n",
       "    <tr>\n",
       "      <th>740687</th>\n",
       "      <td>0.244</td>\n",
       "      <td>0.104</td>\n",
       "      <td>243.98</td>\n",
       "      <td>1.0</td>\n",
       "    </tr>\n",
       "    <tr>\n",
       "      <th>1877254</th>\n",
       "      <td>0.350</td>\n",
       "      <td>0.216</td>\n",
       "      <td>239.97</td>\n",
       "      <td>1.6</td>\n",
       "    </tr>\n",
       "    <tr>\n",
       "      <th>1267333</th>\n",
       "      <td>2.732</td>\n",
       "      <td>0.344</td>\n",
       "      <td>239.17</td>\n",
       "      <td>11.4</td>\n",
       "    </tr>\n",
       "    <tr>\n",
       "      <th>1970553</th>\n",
       "      <td>0.174</td>\n",
       "      <td>0.000</td>\n",
       "      <td>241.37</td>\n",
       "      <td>0.8</td>\n",
       "    </tr>\n",
       "  </tbody>\n",
       "</table>\n",
       "<p>98805 rows × 4 columns</p>\n",
       "</div>"
      ],
      "text/plain": [
       "         Global_active_power  Global_reactive_power  Voltage  Global_intensity\n",
       "1257652                0.338                  0.094   242.71               1.4\n",
       "1698231                0.384                  0.112   244.25               1.6\n",
       "228414                 3.524                  0.154   231.39              15.2\n",
       "1067616                2.534                  0.098   244.40              10.2\n",
       "768895                 0.492                  0.000   236.81               2.0\n",
       "...                      ...                    ...      ...               ...\n",
       "834989                 0.602                  0.112   240.00               2.4\n",
       "740687                 0.244                  0.104   243.98               1.0\n",
       "1877254                0.350                  0.216   239.97               1.6\n",
       "1267333                2.732                  0.344   239.17              11.4\n",
       "1970553                0.174                  0.000   241.37               0.8\n",
       "\n",
       "[98805 rows x 4 columns]"
      ]
     },
     "execution_count": 108,
     "metadata": {},
     "output_type": "execute_result"
    }
   ],
   "source": [
    "X"
   ]
  },
  {
   "cell_type": "code",
   "execution_count": 109,
   "metadata": {},
   "outputs": [
    {
     "data": {
      "text/plain": [
       "1257652     2.0\n",
       "1698231     1.0\n",
       "228414     53.0\n",
       "1067616    18.0\n",
       "768895      1.0\n",
       "Name: Total_Energy_Consumption, dtype: float64"
      ]
     },
     "execution_count": 109,
     "metadata": {},
     "output_type": "execute_result"
    }
   ],
   "source": [
    "Y.head()"
   ]
  },
  {
   "cell_type": "code",
   "execution_count": 110,
   "metadata": {},
   "outputs": [],
   "source": [
    "\n",
    "from sklearn.model_selection import train_test_split\n",
    "x_train, x_test, y_train, y_test = train_test_split(X, Y, test_size=0.30, random_state=50)"
   ]
  },
  {
   "cell_type": "code",
   "execution_count": 111,
   "metadata": {},
   "outputs": [
    {
     "data": {
      "text/html": [
       "<div>\n",
       "<style scoped>\n",
       "    .dataframe tbody tr th:only-of-type {\n",
       "        vertical-align: middle;\n",
       "    }\n",
       "\n",
       "    .dataframe tbody tr th {\n",
       "        vertical-align: top;\n",
       "    }\n",
       "\n",
       "    .dataframe thead th {\n",
       "        text-align: right;\n",
       "    }\n",
       "</style>\n",
       "<table border=\"1\" class=\"dataframe\">\n",
       "  <thead>\n",
       "    <tr style=\"text-align: right;\">\n",
       "      <th></th>\n",
       "      <th>Global_active_power</th>\n",
       "      <th>Global_reactive_power</th>\n",
       "      <th>Voltage</th>\n",
       "      <th>Global_intensity</th>\n",
       "    </tr>\n",
       "  </thead>\n",
       "  <tbody>\n",
       "    <tr>\n",
       "      <th>202406</th>\n",
       "      <td>3.060</td>\n",
       "      <td>0.180</td>\n",
       "      <td>234.88</td>\n",
       "      <td>13.0</td>\n",
       "    </tr>\n",
       "    <tr>\n",
       "      <th>1148555</th>\n",
       "      <td>0.240</td>\n",
       "      <td>0.046</td>\n",
       "      <td>242.75</td>\n",
       "      <td>1.0</td>\n",
       "    </tr>\n",
       "    <tr>\n",
       "      <th>1709209</th>\n",
       "      <td>1.756</td>\n",
       "      <td>0.000</td>\n",
       "      <td>243.30</td>\n",
       "      <td>7.2</td>\n",
       "    </tr>\n",
       "    <tr>\n",
       "      <th>1858059</th>\n",
       "      <td>0.780</td>\n",
       "      <td>0.324</td>\n",
       "      <td>241.34</td>\n",
       "      <td>3.4</td>\n",
       "    </tr>\n",
       "    <tr>\n",
       "      <th>188563</th>\n",
       "      <td>0.120</td>\n",
       "      <td>0.000</td>\n",
       "      <td>236.14</td>\n",
       "      <td>0.6</td>\n",
       "    </tr>\n",
       "    <tr>\n",
       "      <th>...</th>\n",
       "      <td>...</td>\n",
       "      <td>...</td>\n",
       "      <td>...</td>\n",
       "      <td>...</td>\n",
       "    </tr>\n",
       "    <tr>\n",
       "      <th>423019</th>\n",
       "      <td>3.870</td>\n",
       "      <td>0.366</td>\n",
       "      <td>233.89</td>\n",
       "      <td>16.6</td>\n",
       "    </tr>\n",
       "    <tr>\n",
       "      <th>206328</th>\n",
       "      <td>0.122</td>\n",
       "      <td>0.000</td>\n",
       "      <td>236.31</td>\n",
       "      <td>0.6</td>\n",
       "    </tr>\n",
       "    <tr>\n",
       "      <th>1356224</th>\n",
       "      <td>0.326</td>\n",
       "      <td>0.200</td>\n",
       "      <td>240.19</td>\n",
       "      <td>1.6</td>\n",
       "    </tr>\n",
       "    <tr>\n",
       "      <th>399339</th>\n",
       "      <td>0.280</td>\n",
       "      <td>0.226</td>\n",
       "      <td>240.64</td>\n",
       "      <td>1.4</td>\n",
       "    </tr>\n",
       "    <tr>\n",
       "      <th>76012</th>\n",
       "      <td>2.152</td>\n",
       "      <td>0.218</td>\n",
       "      <td>236.25</td>\n",
       "      <td>9.0</td>\n",
       "    </tr>\n",
       "  </tbody>\n",
       "</table>\n",
       "<p>69163 rows × 4 columns</p>\n",
       "</div>"
      ],
      "text/plain": [
       "         Global_active_power  Global_reactive_power  Voltage  Global_intensity\n",
       "202406                 3.060                  0.180   234.88              13.0\n",
       "1148555                0.240                  0.046   242.75               1.0\n",
       "1709209                1.756                  0.000   243.30               7.2\n",
       "1858059                0.780                  0.324   241.34               3.4\n",
       "188563                 0.120                  0.000   236.14               0.6\n",
       "...                      ...                    ...      ...               ...\n",
       "423019                 3.870                  0.366   233.89              16.6\n",
       "206328                 0.122                  0.000   236.31               0.6\n",
       "1356224                0.326                  0.200   240.19               1.6\n",
       "399339                 0.280                  0.226   240.64               1.4\n",
       "76012                  2.152                  0.218   236.25               9.0\n",
       "\n",
       "[69163 rows x 4 columns]"
      ]
     },
     "execution_count": 111,
     "metadata": {},
     "output_type": "execute_result"
    }
   ],
   "source": [
    "x_train"
   ]
  },
  {
   "cell_type": "code",
   "execution_count": 112,
   "metadata": {},
   "outputs": [
    {
     "data": {
      "text/html": [
       "<div>\n",
       "<style scoped>\n",
       "    .dataframe tbody tr th:only-of-type {\n",
       "        vertical-align: middle;\n",
       "    }\n",
       "\n",
       "    .dataframe tbody tr th {\n",
       "        vertical-align: top;\n",
       "    }\n",
       "\n",
       "    .dataframe thead th {\n",
       "        text-align: right;\n",
       "    }\n",
       "</style>\n",
       "<table border=\"1\" class=\"dataframe\">\n",
       "  <thead>\n",
       "    <tr style=\"text-align: right;\">\n",
       "      <th></th>\n",
       "      <th>Global_active_power</th>\n",
       "      <th>Global_reactive_power</th>\n",
       "      <th>Voltage</th>\n",
       "      <th>Global_intensity</th>\n",
       "    </tr>\n",
       "  </thead>\n",
       "  <tbody>\n",
       "    <tr>\n",
       "      <th>1040060</th>\n",
       "      <td>1.544</td>\n",
       "      <td>0.046</td>\n",
       "      <td>242.65</td>\n",
       "      <td>6.4</td>\n",
       "    </tr>\n",
       "    <tr>\n",
       "      <th>2001566</th>\n",
       "      <td>1.570</td>\n",
       "      <td>0.054</td>\n",
       "      <td>243.74</td>\n",
       "      <td>6.4</td>\n",
       "    </tr>\n",
       "    <tr>\n",
       "      <th>424421</th>\n",
       "      <td>1.548</td>\n",
       "      <td>0.064</td>\n",
       "      <td>238.10</td>\n",
       "      <td>6.4</td>\n",
       "    </tr>\n",
       "    <tr>\n",
       "      <th>1480712</th>\n",
       "      <td>0.424</td>\n",
       "      <td>0.270</td>\n",
       "      <td>244.89</td>\n",
       "      <td>2.0</td>\n",
       "    </tr>\n",
       "    <tr>\n",
       "      <th>324938</th>\n",
       "      <td>0.102</td>\n",
       "      <td>0.000</td>\n",
       "      <td>236.17</td>\n",
       "      <td>0.4</td>\n",
       "    </tr>\n",
       "    <tr>\n",
       "      <th>...</th>\n",
       "      <td>...</td>\n",
       "      <td>...</td>\n",
       "      <td>...</td>\n",
       "      <td>...</td>\n",
       "    </tr>\n",
       "    <tr>\n",
       "      <th>1278794</th>\n",
       "      <td>0.276</td>\n",
       "      <td>0.000</td>\n",
       "      <td>242.94</td>\n",
       "      <td>1.2</td>\n",
       "    </tr>\n",
       "    <tr>\n",
       "      <th>644094</th>\n",
       "      <td>2.630</td>\n",
       "      <td>0.000</td>\n",
       "      <td>242.98</td>\n",
       "      <td>10.8</td>\n",
       "    </tr>\n",
       "    <tr>\n",
       "      <th>129968</th>\n",
       "      <td>1.082</td>\n",
       "      <td>0.098</td>\n",
       "      <td>240.71</td>\n",
       "      <td>4.4</td>\n",
       "    </tr>\n",
       "    <tr>\n",
       "      <th>1104075</th>\n",
       "      <td>1.266</td>\n",
       "      <td>0.054</td>\n",
       "      <td>239.94</td>\n",
       "      <td>5.2</td>\n",
       "    </tr>\n",
       "    <tr>\n",
       "      <th>1817569</th>\n",
       "      <td>2.046</td>\n",
       "      <td>0.084</td>\n",
       "      <td>239.01</td>\n",
       "      <td>8.4</td>\n",
       "    </tr>\n",
       "  </tbody>\n",
       "</table>\n",
       "<p>29642 rows × 4 columns</p>\n",
       "</div>"
      ],
      "text/plain": [
       "         Global_active_power  Global_reactive_power  Voltage  Global_intensity\n",
       "1040060                1.544                  0.046   242.65               6.4\n",
       "2001566                1.570                  0.054   243.74               6.4\n",
       "424421                 1.548                  0.064   238.10               6.4\n",
       "1480712                0.424                  0.270   244.89               2.0\n",
       "324938                 0.102                  0.000   236.17               0.4\n",
       "...                      ...                    ...      ...               ...\n",
       "1278794                0.276                  0.000   242.94               1.2\n",
       "644094                 2.630                  0.000   242.98              10.8\n",
       "129968                 1.082                  0.098   240.71               4.4\n",
       "1104075                1.266                  0.054   239.94               5.2\n",
       "1817569                2.046                  0.084   239.01               8.4\n",
       "\n",
       "[29642 rows x 4 columns]"
      ]
     },
     "execution_count": 112,
     "metadata": {},
     "output_type": "execute_result"
    }
   ],
   "source": [
    "x_test"
   ]
  },
  {
   "cell_type": "code",
   "execution_count": 113,
   "metadata": {},
   "outputs": [],
   "source": [
    "y_train = np.array(y_train.ravel())"
   ]
  },
  {
   "cell_type": "code",
   "execution_count": 114,
   "metadata": {},
   "outputs": [
    {
     "data": {
      "text/plain": [
       "array([ 1.,  0., 20., ...,  1.,  1., 18.])"
      ]
     },
     "execution_count": 114,
     "metadata": {},
     "output_type": "execute_result"
    }
   ],
   "source": [
    "y_train"
   ]
  },
  {
   "cell_type": "code",
   "execution_count": 115,
   "metadata": {},
   "outputs": [
    {
     "data": {
      "text/plain": [
       "1040060    19.0\n",
       "2001566    18.0\n",
       "424421     17.0\n",
       "1480712     2.0\n",
       "324938      0.0\n",
       "           ... \n",
       "1278794     1.0\n",
       "644094     39.0\n",
       "129968      1.0\n",
       "1104075    17.0\n",
       "1817569    18.0\n",
       "Name: Total_Energy_Consumption, Length: 29642, dtype: float64"
      ]
     },
     "execution_count": 115,
     "metadata": {},
     "output_type": "execute_result"
    }
   ],
   "source": [
    "y_test "
   ]
  },
  {
   "cell_type": "code",
   "execution_count": 116,
   "metadata": {},
   "outputs": [],
   "source": [
    "# Data Standarization because all features ranging is different, so need to scaling into same scale\n",
    "\n",
    "from sklearn.preprocessing import StandardScaler\n",
    "scaler = StandardScaler()\n",
    "x_train_tf = scaler.fit_transform(x_train) \n",
    "# y_train_tf = scaler.fit_transform(y_train) "
   ]
  },
  {
   "cell_type": "code",
   "execution_count": 117,
   "metadata": {},
   "outputs": [
    {
     "data": {
      "text/plain": [
       "array([[ 1.83388499,  0.49588915, -1.83335103,  1.8545498 ],\n",
       "       [-0.80663393, -0.68793172,  0.58870268, -0.81666528],\n",
       "       [ 0.61287908, -1.09431799,  0.75796945,  0.56346251],\n",
       "       ...,\n",
       "       [-0.72610747,  0.67257883, -0.19915723, -0.68310453],\n",
       "       [-0.76917976,  0.90227542, -0.06066623, -0.72762478],\n",
       "       [ 0.98367535,  0.83159955, -1.41172288,  0.96414477]])"
      ]
     },
     "execution_count": 117,
     "metadata": {},
     "output_type": "execute_result"
    }
   ],
   "source": [
    "x_train_tf"
   ]
  },
  {
   "cell_type": "code",
   "execution_count": 172,
   "metadata": {},
   "outputs": [
    {
     "data": {
      "text/plain": [
       "array([[0., 0., 0., ..., 0., 0., 0.]])"
      ]
     },
     "execution_count": 172,
     "metadata": {},
     "output_type": "execute_result"
    }
   ],
   "source": [
    "y_train_tf"
   ]
  },
  {
   "cell_type": "code",
   "execution_count": 173,
   "metadata": {},
   "outputs": [
    {
     "data": {
      "text/plain": [
       "array([ 1.,  0., 20., ...,  1.,  1., 18.])"
      ]
     },
     "execution_count": 173,
     "metadata": {},
     "output_type": "execute_result"
    }
   ],
   "source": [
    "y_train"
   ]
  },
  {
   "cell_type": "code",
   "execution_count": 118,
   "metadata": {},
   "outputs": [
    {
     "data": {
      "text/plain": [
       "numpy.ndarray"
      ]
     },
     "execution_count": 118,
     "metadata": {},
     "output_type": "execute_result"
    }
   ],
   "source": [
    "type(y_train_tf)"
   ]
  },
  {
   "cell_type": "markdown",
   "metadata": {},
   "source": [
    "Model Creation"
   ]
  },
  {
   "cell_type": "markdown",
   "metadata": {},
   "source": [
    "1. Linear Regression"
   ]
  },
  {
   "cell_type": "code",
   "execution_count": 119,
   "metadata": {},
   "outputs": [],
   "source": [
    "from sklearn.linear_model import Lasso, Ridge, LassoCV, RidgeCV, ElasticNet, ElasticNetCV,LinearRegression"
   ]
  },
  {
   "cell_type": "code",
   "execution_count": 120,
   "metadata": {},
   "outputs": [],
   "source": [
    "linearModel = LinearRegression()"
   ]
  },
  {
   "cell_type": "code",
   "execution_count": 174,
   "metadata": {},
   "outputs": [
    {
     "data": {
      "text/plain": [
       "LinearRegression()"
      ]
     },
     "execution_count": 174,
     "metadata": {},
     "output_type": "execute_result"
    }
   ],
   "source": [
    "linearModel.fit(x_train_tf,y_train)"
   ]
  },
  {
   "cell_type": "code",
   "execution_count": 124,
   "metadata": {},
   "outputs": [],
   "source": [
    "# Model Save : Linear Regression\n",
    "\n",
    "pickle.dump(linearModel, open('ElectricConsumption_LinearModel.pickle','wb'))"
   ]
  },
  {
   "cell_type": "code",
   "execution_count": 125,
   "metadata": {},
   "outputs": [],
   "source": [
    "L_model = pickle.load(open('ElectricConsumption_LinearModel.pickle','rb'))"
   ]
  },
  {
   "cell_type": "code",
   "execution_count": 175,
   "metadata": {},
   "outputs": [
    {
     "data": {
      "text/plain": [
       "0.7203827216611616"
      ]
     },
     "execution_count": 175,
     "metadata": {},
     "output_type": "execute_result"
    }
   ],
   "source": [
    "linearModel.score(x_train_tf,y_train)"
   ]
  },
  {
   "cell_type": "code",
   "execution_count": 127,
   "metadata": {},
   "outputs": [
    {
     "data": {
      "text/plain": [
       "0.7203827216611616"
      ]
     },
     "execution_count": 127,
     "metadata": {},
     "output_type": "execute_result"
    }
   ],
   "source": [
    "L_model.score(x_train_tf,y_train)"
   ]
  },
  {
   "cell_type": "code",
   "execution_count": 191,
   "metadata": {},
   "outputs": [
    {
     "data": {
      "text/plain": [
       "array([[-0.51261871, -0.59958688, -0.80851763, -0.46050327],\n",
       "       [-0.69427143,  0.83159955,  0.39481528, -0.63858428],\n",
       "       [-0.23733056,  2.28045494,  0.23170365, -0.19338176],\n",
       "       [-0.7991431 , -0.61725585,  0.47175472, -0.81666528],\n",
       "       [ 0.15968363, -1.09431799,  0.87799499,  0.11826   ],\n",
       "       [ 0.65782408,  0.10717185, -0.71003514,  0.65250301],\n",
       "       [-0.71861664, -1.09431799, -0.58693203, -0.68310453],\n",
       "       [-0.65119913,  0.58423399,  0.50868565, -0.63858428],\n",
       "       [-0.92274186, -1.09431799, -1.47327443, -0.90570579],\n",
       "       [ 0.35444531,  0.3545374 , -1.53790356,  0.34086125]])"
      ]
     },
     "execution_count": 191,
     "metadata": {},
     "output_type": "execute_result"
    }
   ],
   "source": [
    "x_train_tf[10:20]"
   ]
  },
  {
   "cell_type": "code",
   "execution_count": 190,
   "metadata": {},
   "outputs": [
    {
     "data": {
      "text/plain": [
       "array([ 2.,  1.,  0.,  1., 18., 19.,  0.,  2.,  0., 17.])"
      ]
     },
     "execution_count": 190,
     "metadata": {},
     "output_type": "execute_result"
    }
   ],
   "source": [
    "y_train[10:20]"
   ]
  },
  {
   "cell_type": "code",
   "execution_count": 194,
   "metadata": {},
   "outputs": [
    {
     "data": {
      "text/plain": [
       "array([13.32457478])"
      ]
     },
     "execution_count": 194,
     "metadata": {},
     "output_type": "execute_result"
    }
   ],
   "source": [
    "L_model.predict([[0.35444531,  0.3545374 , -1.53790356,  0.34086125]])"
   ]
  },
  {
   "cell_type": "code",
   "execution_count": 183,
   "metadata": {},
   "outputs": [],
   "source": [
    "x_test_tf=scaler.transform(x_test)"
   ]
  },
  {
   "cell_type": "code",
   "execution_count": 129,
   "metadata": {},
   "outputs": [
    {
     "data": {
      "text/plain": [
       "array([13.83431477, 14.2682463 , 14.21674804, ...,  9.26931628,\n",
       "       11.22647888, 19.47313997])"
      ]
     },
     "execution_count": 129,
     "metadata": {},
     "output_type": "execute_result"
    }
   ],
   "source": [
    "y_predict=linearModel.predict(x_test_tf)\n",
    "y_predict"
   ]
  },
  {
   "cell_type": "code",
   "execution_count": 130,
   "metadata": {},
   "outputs": [
    {
     "data": {
      "text/plain": [
       "1040060    19.0\n",
       "2001566    18.0\n",
       "424421     17.0\n",
       "1480712     2.0\n",
       "324938      0.0\n",
       "           ... \n",
       "1278794     1.0\n",
       "644094     39.0\n",
       "129968      1.0\n",
       "1104075    17.0\n",
       "1817569    18.0\n",
       "Name: Total_Energy_Consumption, Length: 29642, dtype: float64"
      ]
     },
     "execution_count": 130,
     "metadata": {},
     "output_type": "execute_result"
    }
   ],
   "source": [
    "y_test"
   ]
  },
  {
   "cell_type": "code",
   "execution_count": 131,
   "metadata": {},
   "outputs": [
    {
     "data": {
      "text/plain": [
       "0.7175820253592958"
      ]
     },
     "execution_count": 131,
     "metadata": {},
     "output_type": "execute_result"
    }
   ],
   "source": [
    "# Evaluation of the model : R-square\n",
    "\n",
    "from sklearn.metrics import r2_score\n",
    "r2_score(y_test, y_predict)"
   ]
  },
  {
   "cell_type": "code",
   "execution_count": 132,
   "metadata": {},
   "outputs": [],
   "source": [
    "# Data Standarization because all features ranging is different, so need to scaling into same scale\n",
    "\n",
    "x_test_tf = scaler.fit_transform(x_test)"
   ]
  },
  {
   "cell_type": "code",
   "execution_count": 133,
   "metadata": {},
   "outputs": [],
   "source": [
    "# Evaluation of the model : Adj. R-square\n",
    "\n",
    "def adj_rSqr(x,y):\n",
    "    r2 = linearModel.score(x,y)\n",
    "    n = x.shape[0]  # Total number of samle\n",
    "    p = x.shape[1]  # No. of columns\n",
    "    adj_rSquare = 1-(1-r2)*(n-1)/(n-p-1)\n",
    "    return adj_rSquare"
   ]
  },
  {
   "cell_type": "code",
   "execution_count": 134,
   "metadata": {},
   "outputs": [
    {
     "name": "stdout",
     "output_type": "stream",
     "text": [
      "0.7170950608575893\n"
     ]
    }
   ],
   "source": [
    "print(adj_rSqr(x_test_tf,y_test))"
   ]
  },
  {
   "cell_type": "code",
   "execution_count": 135,
   "metadata": {},
   "outputs": [
    {
     "data": {
      "image/png": "[encoded data removed]",
      "text/plain": [
       "<Figure size 432x288 with 1 Axes>"
      ]
     },
     "metadata": {
      "needs_background": "light"
     },
     "output_type": "display_data"
    }
   ],
   "source": [
    "plt.scatter(y_test, y_predict)\n",
    "plt.show()"
   ]
  },
  {
   "cell_type": "markdown",
   "metadata": {},
   "source": [
    "2. Lasso Regression"
   ]
  },
  {
   "cell_type": "code",
   "execution_count": 136,
   "metadata": {},
   "outputs": [
    {
     "data": {
      "text/plain": [
       "LassoCV(max_iter=2000000, normalize=True)"
      ]
     },
     "execution_count": 136,
     "metadata": {},
     "output_type": "execute_result"
    }
   ],
   "source": [
    "lassocv  = LassoCV(alphas=None,max_iter=2000000,normalize=True)\n",
    "lassocv.fit(x_train_tf,y_train)"
   ]
  },
  {
   "cell_type": "code",
   "execution_count": 137,
   "metadata": {},
   "outputs": [
    {
     "name": "stderr",
     "output_type": "stream",
     "text": [
      "C:\\Users\\hp\\anaconda3\\lib\\site-packages\\sklearn\\linear_model\\_coordinate_descent.py:530: ConvergenceWarning: Objective did not converge. You might want to increase the number of iterations. Duality gap: 1606595.6451917118, tolerance: 1178.473756942295\n",
      "  model = cd_fast.enet_coordinate_descent(\n"
     ]
    },
    {
     "data": {
      "text/plain": [
       "Lasso(alpha=4.207119153647595e-05)"
      ]
     },
     "execution_count": 137,
     "metadata": {},
     "output_type": "execute_result"
    }
   ],
   "source": [
    "lasso = Lasso(alpha=lassocv.alpha_)\n",
    "lasso.fit(x_train_tf,y_train)"
   ]
  },
  {
   "cell_type": "code",
   "execution_count": 138,
   "metadata": {},
   "outputs": [],
   "source": [
    "# Model Save : Lasso\n",
    "\n",
    "pickle.dump(lasso, open('ElectricConsumption_LassoModel.pickle','wb'))"
   ]
  },
  {
   "cell_type": "code",
   "execution_count": 140,
   "metadata": {},
   "outputs": [],
   "source": [
    "Lasso_model = pickle.load(open('ElectricConsumption_LassoModel.pickle','rb'))"
   ]
  },
  {
   "cell_type": "code",
   "execution_count": 139,
   "metadata": {},
   "outputs": [
    {
     "data": {
      "text/plain": [
       "0.7171413563825504"
      ]
     },
     "execution_count": 139,
     "metadata": {},
     "output_type": "execute_result"
    }
   ],
   "source": [
    "# Evaluation of the model \n",
    "\n",
    "lasso.score(x_test_tf,y_test)"
   ]
  },
  {
   "cell_type": "code",
   "execution_count": 164,
   "metadata": {},
   "outputs": [
    {
     "name": "stdout",
     "output_type": "stream",
     "text": [
      "0.7170950608575893\n"
     ]
    }
   ],
   "source": [
    "# Evaluation of the model : Adj. R-square\n",
    "\n",
    "def adj_rSqr(x,y):\n",
    "    r2 = linearModel.score(x,y)\n",
    "    n = x.shape[0]  # Total number of samle\n",
    "    p = x.shape[1]  # No. of columns\n",
    "    adj_rSquare = 1-(1-r2)*(n-1)/(n-p-1)\n",
    "    return adj_rSquare\n",
    "print(adj_rSqr(x_test_tf,y_test))"
   ]
  },
  {
   "cell_type": "code",
   "execution_count": 141,
   "metadata": {},
   "outputs": [
    {
     "data": {
      "text/plain": [
       "0.7171413563825504"
      ]
     },
     "execution_count": 141,
     "metadata": {},
     "output_type": "execute_result"
    }
   ],
   "source": [
    "Lasso_model.score(x_test_tf,y_test)"
   ]
  },
  {
   "cell_type": "markdown",
   "metadata": {},
   "source": [
    "3. Ridge Regression"
   ]
  },
  {
   "cell_type": "code",
   "execution_count": 145,
   "metadata": {},
   "outputs": [
    {
     "data": {
      "text/plain": [
       "RidgeCV(alphas=array([ 0.1,  1. , 10. ]), cv=10, normalize=True)"
      ]
     },
     "execution_count": 145,
     "metadata": {},
     "output_type": "execute_result"
    }
   ],
   "source": [
    "ridgecv = RidgeCV(alphas=(0.1, 1.0, 10.0), normalize=True, cv = 10)\n",
    "ridgecv.fit(x_train_tf,y_train)"
   ]
  },
  {
   "cell_type": "code",
   "execution_count": 146,
   "metadata": {},
   "outputs": [
    {
     "data": {
      "text/plain": [
       "Ridge(alpha=0.1)"
      ]
     },
     "execution_count": 146,
     "metadata": {},
     "output_type": "execute_result"
    }
   ],
   "source": [
    "ridge = Ridge(alpha=ridgecv.alpha_)\n",
    "ridge.fit(x_train_tf,y_train)"
   ]
  },
  {
   "cell_type": "code",
   "execution_count": 154,
   "metadata": {},
   "outputs": [],
   "source": [
    "# Model Save : Ridge\n",
    "\n",
    "pickle.dump(ridge, open('ElectricConsumption_RidgeModel.pickle','wb'))"
   ]
  },
  {
   "cell_type": "code",
   "execution_count": 155,
   "metadata": {},
   "outputs": [
    {
     "data": {
      "text/plain": [
       "0.7171338833855758"
      ]
     },
     "execution_count": 155,
     "metadata": {},
     "output_type": "execute_result"
    }
   ],
   "source": [
    "# Evaluation of the model\n",
    "\n",
    "ridge.score(x_test_tf,y_test)"
   ]
  },
  {
   "cell_type": "code",
   "execution_count": 165,
   "metadata": {},
   "outputs": [
    {
     "name": "stdout",
     "output_type": "stream",
     "text": [
      "0.7170950608575893\n"
     ]
    }
   ],
   "source": [
    "# Evaluation of the model : Adj. R-square\n",
    "\n",
    "def adj_rSqr(x,y):\n",
    "    r2 = linearModel.score(x,y)\n",
    "    n = x.shape[0]  # Total number of samle\n",
    "    p = x.shape[1]  # No. of columns\n",
    "    adj_rSquare = 1-(1-r2)*(n-1)/(n-p-1)\n",
    "    return adj_rSquare\n",
    "print(adj_rSqr(x_test_tf,y_test))"
   ]
  },
  {
   "cell_type": "code",
   "execution_count": 156,
   "metadata": {},
   "outputs": [
    {
     "data": {
      "text/plain": [
       "0.7171338833855758"
      ]
     },
     "execution_count": 156,
     "metadata": {},
     "output_type": "execute_result"
    }
   ],
   "source": [
    "# Evaluation of the model\n",
    "\n",
    "ridge.score(x_test_tf,y_test)"
   ]
  },
  {
   "cell_type": "markdown",
   "metadata": {},
   "source": [
    "4. Elastic Net"
   ]
  },
  {
   "cell_type": "code",
   "execution_count": 157,
   "metadata": {},
   "outputs": [
    {
     "data": {
      "text/plain": [
       "ElasticNetCV(cv=10, normalize=True)"
      ]
     },
     "execution_count": 157,
     "metadata": {},
     "output_type": "execute_result"
    }
   ],
   "source": [
    "elastCV = ElasticNetCV(alphas=None,cv=10, normalize=True)\n",
    "elastCV.fit(x_train_tf,y_train)"
   ]
  },
  {
   "cell_type": "code",
   "execution_count": 158,
   "metadata": {},
   "outputs": [
    {
     "name": "stderr",
     "output_type": "stream",
     "text": [
      "C:\\Users\\hp\\anaconda3\\lib\\site-packages\\sklearn\\linear_model\\_coordinate_descent.py:530: ConvergenceWarning: Objective did not converge. You might want to increase the number of iterations. Duality gap: 1602587.3605934689, tolerance: 1178.473756942295\n",
      "  model = cd_fast.enet_coordinate_descent(\n"
     ]
    },
    {
     "data": {
      "text/plain": [
       "ElasticNet(alpha=8.414238307295191e-05)"
      ]
     },
     "execution_count": 158,
     "metadata": {},
     "output_type": "execute_result"
    }
   ],
   "source": [
    "elastinet = ElasticNet(alpha=elastCV.alpha_)\n",
    "elastinet.fit(x_train_tf,y_train)"
   ]
  },
  {
   "cell_type": "code",
   "execution_count": 159,
   "metadata": {},
   "outputs": [],
   "source": [
    "# Model Save : Elastic Net\n",
    "\n",
    "pickle.dump(elastinet, open('ElectricConsumption_ElasticNetModel.pickle','wb'))"
   ]
  },
  {
   "cell_type": "code",
   "execution_count": 160,
   "metadata": {},
   "outputs": [
    {
     "data": {
      "text/plain": [
       "0.7171302908442213"
      ]
     },
     "execution_count": 160,
     "metadata": {},
     "output_type": "execute_result"
    }
   ],
   "source": [
    "# Evaluation of the model\n",
    "\n",
    "elastinet.score(x_test_tf,y_test)"
   ]
  },
  {
   "cell_type": "code",
   "execution_count": 166,
   "metadata": {},
   "outputs": [
    {
     "name": "stdout",
     "output_type": "stream",
     "text": [
      "0.7170950608575893\n"
     ]
    }
   ],
   "source": [
    "# Evaluation of the model : Adj. R-square\n",
    "\n",
    "def adj_rSqr(x,y):\n",
    "    r2 = linearModel.score(x,y)\n",
    "    n = x.shape[0]  # Total number of samle\n",
    "    p = x.shape[1]  # No. of columns\n",
    "    adj_rSquare = 1-(1-r2)*(n-1)/(n-p-1)\n",
    "    return adj_rSquare\n",
    "print(adj_rSqr(x_test_tf,y_test))"
   ]
  },
  {
   "cell_type": "markdown",
   "metadata": {},
   "source": [
    "5. Support Vector Regression"
   ]
  },
  {
   "cell_type": "code",
   "execution_count": 73,
   "metadata": {},
   "outputs": [
    {
     "data": {
      "text/plain": [
       "SVR()"
      ]
     },
     "execution_count": 73,
     "metadata": {},
     "output_type": "execute_result"
    }
   ],
   "source": [
    "from sklearn.svm import SVR\n",
    "svr = SVR(kernel = 'rbf')\n",
    "svr.fit(x_train_tf,y_train)"
   ]
  },
  {
   "cell_type": "code",
   "execution_count": 161,
   "metadata": {},
   "outputs": [],
   "source": [
    "# Model Save : SVR\n",
    "\n",
    "pickle.dump(svr, open('ElectricConsumption_SVRModel.pickle','wb'))"
   ]
  },
  {
   "cell_type": "code",
   "execution_count": 74,
   "metadata": {},
   "outputs": [
    {
     "data": {
      "text/plain": [
       "0.7258860019148138"
      ]
     },
     "execution_count": 74,
     "metadata": {},
     "output_type": "execute_result"
    }
   ],
   "source": [
    "svr.score(x_train_tf,y_train)"
   ]
  },
  {
   "cell_type": "code",
   "execution_count": 162,
   "metadata": {},
   "outputs": [],
   "source": [
    "SVR_MODEL = pickle.load(open('ElectricConsumption_SVRModel.pickle','rb'))"
   ]
  },
  {
   "cell_type": "code",
   "execution_count": 163,
   "metadata": {},
   "outputs": [
    {
     "data": {
      "text/plain": [
       "0.7224294110998317"
      ]
     },
     "execution_count": 163,
     "metadata": {},
     "output_type": "execute_result"
    }
   ],
   "source": [
    "SVR_MODEL.score(x_train_tf,y_train)"
   ]
  },
  {
   "cell_type": "code",
   "execution_count": 167,
   "metadata": {},
   "outputs": [
    {
     "name": "stdout",
     "output_type": "stream",
     "text": [
      "0.7170950608575893\n"
     ]
    }
   ],
   "source": [
    "# Evaluation of the model : Adj. R-square\n",
    "\n",
    "def adj_rSqr(x,y):\n",
    "    r2 = linearModel.score(x,y)\n",
    "    n = x.shape[0]  # Total number of samle\n",
    "    p = x.shape[1]  # No. of columns\n",
    "    adj_rSquare = 1-(1-r2)*(n-1)/(n-p-1)\n",
    "    return adj_rSquare\n",
    "print(adj_rSqr(x_test_tf,y_test))"
   ]
  },
  {
   "cell_type": "code",
   "execution_count": 169,
   "metadata": {},
   "outputs": [
    {
     "name": "stdout",
     "output_type": "stream",
     "text": [
      "Assignment_1.docx\n",
      "Assignment_10.docx\n",
      "Assignment_11.docx\n",
      "Assignment_13.docx\n",
      "Assignment_14.docx\n",
      "Assignment_2.docx\n",
      "Assignment_3.docx\n",
      "Assignment_4.docx\n",
      "Assignment_5.docx\n",
      "Assignment_6.docx\n",
      "Assignment_7.docx\n",
      "Assignment_9.docx\n",
      "ElectricConsumption_ElasticNetModel.pickle\n",
      "ElectricConsumption_LassoModel.pickle\n",
      "ElectricConsumption_LinearModel.pickle\n",
      "ElectricConsumption_RidgeModel.pickle\n",
      "ElectricConsumption_SVRModel.pickle\n",
      "ML Assignment(Regression-Electric Consumption).ipynb\n",
      "casandra\n",
      "generally asked(ineuron class).txt\n",
      "household_power_consumption.csv\n",
      "ineuron_Notes for sql connect.txt\n",
      "ineuron_Notes.txt\n",
      "ineuron_numpy.txt\n",
      "python advance\n"
     ]
    }
   ],
   "source": [
    "!ls"
   ]
  },
  {
   "cell_type": "code",
   "execution_count": null,
   "metadata": {},
   "outputs": [],
   "source": []
  }
 ],
 "metadata": {
  "kernelspec": {
   "display_name": "Python 3",
   "language": "python",
   "name": "python3"
  },
  "language_info": {
   "codemirror_mode": {
    "name": "ipython",
    "version": 3
   },
   "file_extension": ".py",
   "mimetype": "text/x-python",
   "name": "python",
   "nbconvert_exporter": "python",
   "pygments_lexer": "ipython3",
   "version": "3.8.5"
  }
 },
 "nbformat": 4,
 "nbformat_minor": 4
}
