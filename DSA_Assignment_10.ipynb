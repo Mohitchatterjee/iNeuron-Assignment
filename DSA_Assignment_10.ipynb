{
  "nbformat": 4,
  "nbformat_minor": 0,
  "metadata": {
    "colab": {
      "provenance": [],
      "authorship_tag": "ABX9TyP1CLqqJ0qzbO3XH7EHh7OZ",
      "include_colab_link": true
    },
    "kernelspec": {
      "name": "python3",
      "display_name": "Python 3"
    },
    "language_info": {
      "name": "python"
    }
  },
  "cells": [
    {
      "cell_type": "markdown",
      "metadata": {
        "id": "view-in-github",
        "colab_type": "text"
      },
      "source": [
        "<a href=\"https://colab.research.google.com/github/Mohitchatterjee/iNeuron-Assignment/blob/main/DSA_Assignment_10.ipynb\" target=\"_parent\"><img src=\"https://colab.research.google.com/assets/colab-badge.svg\" alt=\"Open In Colab\"/></a>"
      ]
    },
    {
      "cell_type": "markdown",
      "source": [
        "<aside>\n",
        "💡 **Question 1**\n",
        "\n",
        "Given an integer `n`, return *`true` if it is a power of three. Otherwise, return `false`*.\n",
        "\n",
        "An integer `n` is a power of three, if there exists an integer `x` such that `n == 3x`.\n",
        "\n",
        "**Example 1:**\n",
        "\n",
        "</aside>"
      ],
      "metadata": {
        "id": "lZGIEgbAFu7z"
      }
    },
    {
      "cell_type": "code",
      "source": [
        "import math\n",
        "\n",
        "def is_power_of_three(n):\n",
        "    if n <= 0:\n",
        "        return False\n",
        "    x = math.log(n, 3)\n",
        "    return x.is_integer()\n",
        "\n",
        "\n",
        "print(is_power_of_three(27))\n"
      ],
      "metadata": {
        "colab": {
          "base_uri": "https://localhost:8080/"
        },
        "id": "r4Y7sIAWFVx7",
        "outputId": "165cd22f-5db0-4a54-8f3d-8e1a6ff86c45"
      },
      "execution_count": 2,
      "outputs": [
        {
          "output_type": "stream",
          "name": "stdout",
          "text": [
            "True\n"
          ]
        }
      ]
    },
    {
      "cell_type": "markdown",
      "source": [
        "<aside>\n",
        "💡 **Question 2**\n",
        "\n",
        "You have a list `arr` of all integers in the range `[1, n]` sorted in a strictly increasing order. Apply the following algorithm on `arr`:\n",
        "\n",
        "- Starting from left to right, remove the first number and every other number afterward until you reach the end of the list.\n",
        "- Repeat the previous step again, but this time from right to left, remove the rightmost number and every other number from the remaining numbers.\n",
        "- Keep repeating the steps again, alternating left to right and right to left, until a single number remains.\n",
        "\n",
        "Given the integer `n`, return *the last number that remains in* `arr`.\n",
        "\n",
        "</aside>"
      ],
      "metadata": {
        "id": "m4NCm7abGTGW"
      }
    },
    {
      "cell_type": "code",
      "source": [
        "\n",
        "def lastRemaining(n) :\n",
        "    left = True\n",
        "    remaining = n\n",
        "    step = 1\n",
        "    head = 1\n",
        "    while remaining > 1:\n",
        "\n",
        "        if left or remaining % 2 == 1:\n",
        "            head += step\n",
        "        step *= 2\n",
        "        remaining //= 2\n",
        "        left = not left\n",
        "\n",
        "    return head\n",
        "\n",
        "print(lastRemaining(9))"
      ],
      "metadata": {
        "colab": {
          "base_uri": "https://localhost:8080/"
        },
        "id": "7MjxVWC0F8Sa",
        "outputId": "25604a2e-eb88-45f3-9ae1-806712e7ce61"
      },
      "execution_count": 7,
      "outputs": [
        {
          "output_type": "stream",
          "name": "stdout",
          "text": [
            "6\n"
          ]
        }
      ]
    },
    {
      "cell_type": "markdown",
      "source": [
        "<aside>\n",
        "💡 **Question 3**\n",
        "\n",
        "****Given a set represented as a string, write a recursive code to print all subsets of it. The subsets can be printed in any order.\n",
        "\n",
        "</aside>"
      ],
      "metadata": {
        "id": "9I12njvFIH4a"
      }
    },
    {
      "cell_type": "code",
      "source": [
        "def print_subsets(s, current_subset=\"\"):\n",
        "    if len(s) == 0:\n",
        "        print(current_subset)\n",
        "    else:\n",
        "        print_subsets(s[1:], current_subset)\n",
        "        print_subsets(s[1:], current_subset + s[0])\n",
        "\n",
        "print_subsets(\"abc\")\n"
      ],
      "metadata": {
        "colab": {
          "base_uri": "https://localhost:8080/"
        },
        "id": "rVK4rHP2HMKd",
        "outputId": "5d0af0de-9f9c-4d85-dda1-aec620ba4ddf"
      },
      "execution_count": 9,
      "outputs": [
        {
          "output_type": "stream",
          "name": "stdout",
          "text": [
            "\n",
            "c\n",
            "b\n",
            "bc\n",
            "a\n",
            "ac\n",
            "ab\n",
            "abc\n"
          ]
        }
      ]
    },
    {
      "cell_type": "markdown",
      "source": [
        "<aside>\n",
        "💡 **Question 4**\n",
        "\n",
        "Given a string calculate length of the string using recursion.\n",
        "\n",
        "</aside>"
      ],
      "metadata": {
        "id": "TDjS4a4YIchi"
      }
    },
    {
      "cell_type": "code",
      "source": [
        "def calculate_length(s):\n",
        "    if s == \"\":\n",
        "        return 0\n",
        "    else:\n",
        "        return 1 + calculate_length(s[1:])\n",
        "\n",
        "print(calculate_length(\"GEEKSFORGEEKS\"))\n",
        "\n"
      ],
      "metadata": {
        "colab": {
          "base_uri": "https://localhost:8080/"
        },
        "id": "6ciiQqO5IMRG",
        "outputId": "f21bd073-4769-442d-9284-9ccf081a0438"
      },
      "execution_count": 11,
      "outputs": [
        {
          "output_type": "stream",
          "name": "stdout",
          "text": [
            "13\n"
          ]
        }
      ]
    },
    {
      "cell_type": "markdown",
      "source": [
        "<aside>\n",
        "💡 **Question 5**\n",
        "\n",
        "We are given a string S, we need to find count of all contiguous substrings starting and ending with same character.\n",
        "\n",
        "</aside>"
      ],
      "metadata": {
        "id": "j19BMsOtIu3i"
      }
    },
    {
      "cell_type": "code",
      "source": [
        "def count_contiguous_substrings(S):\n",
        "    count = 0\n",
        "\n",
        "    for i in range(len(S)):\n",
        "        for j in range(i, len(S)):\n",
        "            if S[i] == S[j]:\n",
        "                count += 1\n",
        "\n",
        "    return count\n",
        "\n",
        "print(count_contiguous_substrings(S = \"aba\"))\n"
      ],
      "metadata": {
        "colab": {
          "base_uri": "https://localhost:8080/"
        },
        "id": "wHmkDS1pIoE2",
        "outputId": "e1c6ecc5-edda-4f3f-abd2-03b3d2fff771"
      },
      "execution_count": 13,
      "outputs": [
        {
          "output_type": "stream",
          "name": "stdout",
          "text": [
            "4\n"
          ]
        }
      ]
    },
    {
      "cell_type": "markdown",
      "source": [
        "<aside>\n",
        "💡 **Question 6**\n",
        "\n",
        "The [tower of Hanoi](https://en.wikipedia.org/wiki/Tower_of_Hanoi) is a famous puzzle where we have three rods and **N** disks. The objective of the puzzle is to move the entire stack to another rod. You are given the number of discs **N**. Initially, these discs are in the rod 1. You need to print all the steps of discs movement so that all the discs reach the 3rd rod. Also, you need to find the total moves.**Note:** The discs are arranged such that the **top disc is numbered 1** and the **bottom-most disc is numbered N**. Also, all the discs have **different sizes** and a bigger disc **cannot** be put on the top of a smaller disc. Refer the provided link to get a better clarity about the puzzle.\n",
        "\n",
        "</aside>"
      ],
      "metadata": {
        "id": "sVj2zlJqI_VC"
      }
    },
    {
      "cell_type": "code",
      "source": [
        "def tower_of_hanoi(n, source, auxiliary, destination):\n",
        "    if n == 1:\n",
        "        print(f\"Move disk 1 from rod {source} to rod {destination}\")\n",
        "        return 1\n",
        "\n",
        "    moves = 0\n",
        "\n",
        "    moves += tower_of_hanoi(n - 1, source, destination, auxiliary)\n",
        "    print(f\"Move disk {n} from rod {source} to rod {destination}\")\n",
        "    moves += 1\n",
        "    moves += tower_of_hanoi(n - 1, auxiliary, source, destination)\n",
        "\n",
        "    return moves\n",
        "\n",
        "\n",
        "N = 3\n",
        "moves = tower_of_hanoi(N, 1, 2, 3)\n",
        "print(f\"Total moves: {moves}\")\n"
      ],
      "metadata": {
        "colab": {
          "base_uri": "https://localhost:8080/"
        },
        "id": "L0X9sK_9I6kG",
        "outputId": "4ff7aa8b-0e9f-41fa-9a6a-ed93b6004d5e"
      },
      "execution_count": 19,
      "outputs": [
        {
          "output_type": "stream",
          "name": "stdout",
          "text": [
            "Move disk 1 from rod 1 to rod 3\n",
            "Move disk 2 from rod 1 to rod 2\n",
            "Move disk 1 from rod 3 to rod 2\n",
            "Move disk 3 from rod 1 to rod 3\n",
            "Move disk 1 from rod 2 to rod 1\n",
            "Move disk 2 from rod 2 to rod 3\n",
            "Move disk 1 from rod 1 to rod 3\n",
            "Total moves: 7\n"
          ]
        }
      ]
    },
    {
      "cell_type": "markdown",
      "source": [
        "<aside>\n",
        "💡 **Question 7**\n",
        "\n",
        "Given a string **str**, the task is to print all the permutations of **str**. A **permutation** is an arrangement of all or part of a set of objects, with regard to the order of the arrangement. For instance, the words ‘bat’ and ‘tab’ represents two distinct permutation (or arrangements) of a similar three letter word.\n",
        "\n",
        "</aside>"
      ],
      "metadata": {
        "id": "5iGXiatfJ7Vq"
      }
    },
    {
      "cell_type": "code",
      "source": [
        "def generate_permutations(str):\n",
        "    permutations = []  # List to store the permutations\n",
        "\n",
        "    # Recursive function to generate permutations\n",
        "    def backtrack(str, current_permutation):\n",
        "        # Base case: If all characters are fixed, append the permutation to the list\n",
        "        if len(current_permutation) == len(str):\n",
        "            permutations.append(current_permutation)\n",
        "            return\n",
        "\n",
        "        for i in range(len(str)):\n",
        "            if str[i] not in current_permutation:\n",
        "                # Choose\n",
        "                current_permutation += str[i]\n",
        "\n",
        "                # Explore\n",
        "                backtrack(str, current_permutation)\n",
        "\n",
        "                # Unchoose\n",
        "                current_permutation = current_permutation[:-1]\n",
        "\n",
        "    backtrack(str, \"\")\n",
        "    return permutations\n",
        "\n",
        "\n",
        "\n",
        "permutations = generate_permutations(\"abc\")\n",
        "for permutation in permutations:\n",
        "    print(permutation)\n"
      ],
      "metadata": {
        "colab": {
          "base_uri": "https://localhost:8080/"
        },
        "id": "KaGJ0rMtJSYx",
        "outputId": "46141f2b-c489-4c6b-dbb9-1796ab5b8c54"
      },
      "execution_count": 20,
      "outputs": [
        {
          "output_type": "stream",
          "name": "stdout",
          "text": [
            "abc\n",
            "acb\n",
            "bac\n",
            "bca\n",
            "cab\n",
            "cba\n"
          ]
        }
      ]
    },
    {
      "cell_type": "markdown",
      "source": [
        "<aside>\n",
        "💡 **Question 8**\n",
        "\n",
        "Given a string, count total number of consonants in it. A consonant is an English alphabet character that is not vowel (a, e, i, o and u). Examples of constants are b, c, d, f, and g.\n",
        "\n",
        "</aside>"
      ],
      "metadata": {
        "id": "U20qEHE2KFFS"
      }
    },
    {
      "cell_type": "code",
      "source": [
        "def count_consonants(string):\n",
        "    vowels = \"aeiouAEIOU\"\n",
        "    count = 0\n",
        "\n",
        "    for char in string:\n",
        "        if char not in vowels:\n",
        "            count += 1\n",
        "\n",
        "    return count\n",
        "\n",
        "\n",
        "print(count_consonants('abcde'))"
      ],
      "metadata": {
        "colab": {
          "base_uri": "https://localhost:8080/"
        },
        "id": "erXGBNoIKDkC",
        "outputId": "99f0f77f-3a2e-4d6a-edaa-80907b89a900"
      },
      "execution_count": 23,
      "outputs": [
        {
          "output_type": "stream",
          "name": "stdout",
          "text": [
            "3\n"
          ]
        }
      ]
    },
    {
      "cell_type": "code",
      "source": [],
      "metadata": {
        "id": "TYitSFN5KbeS"
      },
      "execution_count": null,
      "outputs": []
    }
  ]
}