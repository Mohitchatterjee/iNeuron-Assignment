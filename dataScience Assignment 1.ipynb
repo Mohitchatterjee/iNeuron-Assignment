{
  "nbformat": 4,
  "nbformat_minor": 0,
  "metadata": {
    "colab": {
      "provenance": [],
      "authorship_tag": "ABX9TyM5vlZS1C/3ZEcEVn0Zfca+"
    },
    "kernelspec": {
      "name": "python3",
      "display_name": "Python 3"
    },
    "language_info": {
      "name": "python"
    }
  },
  "cells": [
    {
      "cell_type": "markdown",
      "source": [
        "1. Write a Python program to reverse a string without using any built-in string reversal functions."
      ],
      "metadata": {
        "id": "MfKK5UcGqitb"
      }
    },
    {
      "cell_type": "code",
      "execution_count": 1,
      "metadata": {
        "colab": {
          "base_uri": "https://localhost:8080/"
        },
        "id": "gZgB26F5qf34",
        "outputId": "de40ad17-ff5a-41ba-9358-23627790a9d3"
      },
      "outputs": [
        {
          "output_type": "stream",
          "name": "stdout",
          "text": [
            "Enter a string: umbrella\n",
            "Reversed string: allerbmu\n"
          ]
        }
      ],
      "source": [
        "def reverse_string(input_str):\n",
        "    reversed_str = ''\n",
        "    for char in input_str:\n",
        "        reversed_str = char + reversed_str\n",
        "    return reversed_str\n",
        "\n",
        "input_string = input(\"Enter a string: \")\n",
        "reversed_string = reverse_string(input_string)\n",
        "print(\"Reversed string:\", reversed_string)\n"
      ]
    },
    {
      "cell_type": "markdown",
      "source": [
        "2. Implement a function to check if a given string is a palindrome."
      ],
      "metadata": {
        "id": "_hTjS740q4VQ"
      }
    },
    {
      "cell_type": "code",
      "source": [
        "def is_palindrome(input_str):\n",
        "    input_str = ''.join(c.lower() for c in input_str if c.isalnum())\n",
        "    return input_str == input_str[::-1]\n",
        "\n",
        "input_string = input(\"Enter a string: \")\n",
        "if is_palindrome(input_string):\n",
        "    print(\"The string is a palindrome.\")\n",
        "else:\n",
        "    print(\"The string is not a palindrome.\")\n"
      ],
      "metadata": {
        "colab": {
          "base_uri": "https://localhost:8080/"
        },
        "id": "U16EmqkYqom7",
        "outputId": "519adfbb-a4dd-49fa-ad94-4bdd5b95e937"
      },
      "execution_count": 2,
      "outputs": [
        {
          "output_type": "stream",
          "name": "stdout",
          "text": [
            "Enter a string: mom\n",
            "The string is a palindrome.\n"
          ]
        }
      ]
    },
    {
      "cell_type": "markdown",
      "source": [
        "3. Write a program to find the largest element in a given list."
      ],
      "metadata": {
        "id": "fqN4x-uVrOyd"
      }
    },
    {
      "cell_type": "code",
      "source": [
        "def find_largest_element(input_list):\n",
        "    if len(input_list) == 0:\n",
        "        return None\n",
        "\n",
        "    largest = input_list[0]\n",
        "    for element in input_list:\n",
        "        if element > largest:\n",
        "            largest = element\n",
        "\n",
        "    return largest\n",
        "\n",
        "\n",
        "numbers = [12, 45, 67, 23, 98, 34, 56]\n",
        "largest_number = find_largest_element(numbers)\n",
        "print(\"The largest number is:\", largest_number)\n"
      ],
      "metadata": {
        "colab": {
          "base_uri": "https://localhost:8080/"
        },
        "id": "FNAfJARLrFbJ",
        "outputId": "06b72b1c-8440-4f1a-bb28-adc230369cba"
      },
      "execution_count": 3,
      "outputs": [
        {
          "output_type": "stream",
          "name": "stdout",
          "text": [
            "The largest number is: 98\n"
          ]
        }
      ]
    },
    {
      "cell_type": "markdown",
      "source": [
        "4. Implement a function to count the occurrence of each element in a list."
      ],
      "metadata": {
        "id": "7hgJ3HCHrmWI"
      }
    },
    {
      "cell_type": "code",
      "source": [
        "def count_occurrences(input_list):\n",
        "    occurrence_count = {}\n",
        "\n",
        "    for element in input_list:\n",
        "        if element in occurrence_count:\n",
        "            occurrence_count[element] += 1\n",
        "        else:\n",
        "            occurrence_count[element] = 1\n",
        "\n",
        "    return occurrence_count\n",
        "\n",
        "\n",
        "my_list = [1, 2, 3, 2, 1, 2, 4, 5, 1, 4, 2]\n",
        "occurrences = count_occurrences(my_list)\n",
        "print(\"Element occurrences:\", occurrences)\n"
      ],
      "metadata": {
        "colab": {
          "base_uri": "https://localhost:8080/"
        },
        "id": "TdAATC3Hrjix",
        "outputId": "35774355-3e23-40df-c0c7-dd1ac4d9e832"
      },
      "execution_count": 4,
      "outputs": [
        {
          "output_type": "stream",
          "name": "stdout",
          "text": [
            "Element occurrences: {1: 3, 2: 4, 3: 1, 4: 2, 5: 1}\n"
          ]
        }
      ]
    },
    {
      "cell_type": "markdown",
      "source": [
        "5. Write a Python program to find the second largest number in a list."
      ],
      "metadata": {
        "id": "Em2-PTRDr2c5"
      }
    },
    {
      "cell_type": "code",
      "source": [
        "def find_second_largest(input_list):\n",
        "    if len(input_list) < 2:\n",
        "        return None\n",
        "\n",
        "    largest = float('-inf')\n",
        "    second_largest = float('-inf')\n",
        "\n",
        "    for number in input_list:\n",
        "        if number > largest:\n",
        "            second_largest = largest\n",
        "            largest = number\n",
        "        elif number > second_largest and number != largest:\n",
        "            second_largest = number\n",
        "\n",
        "    return second_largest\n",
        "\n",
        "\n",
        "numbers = [12, 45, 67, 23, 98, 34, 56]\n",
        "second_largest_number = find_second_largest(numbers)\n",
        "print(\"The second largest number is:\", second_largest_number)\n"
      ],
      "metadata": {
        "colab": {
          "base_uri": "https://localhost:8080/"
        },
        "id": "0X1ATd0ErwJz",
        "outputId": "68b67d88-6eb0-4aef-8e4c-d32cf081a0c6"
      },
      "execution_count": 5,
      "outputs": [
        {
          "output_type": "stream",
          "name": "stdout",
          "text": [
            "The second largest number is: 67\n"
          ]
        }
      ]
    },
    {
      "cell_type": "markdown",
      "source": [
        "6. Implement a function to remove duplicate elements from a list."
      ],
      "metadata": {
        "id": "_OG_iZJZsRYA"
      }
    },
    {
      "cell_type": "code",
      "source": [
        "def remove_duplicates(input_list):\n",
        "    unique_list = []\n",
        "    for element in input_list:\n",
        "        if element not in unique_list:\n",
        "            unique_list.append(element)\n",
        "    return unique_list\n",
        "\n",
        "\n",
        "my_list = [1, 2, 3, 2, 1, 4, 5, 4, 2]\n",
        "unique_elements = remove_duplicates(my_list)\n",
        "print(\"List with duplicates removed:\", unique_elements)\n"
      ],
      "metadata": {
        "colab": {
          "base_uri": "https://localhost:8080/"
        },
        "id": "LmWVT-MYsPWT",
        "outputId": "b5028102-ee28-460a-b931-c17b4399613a"
      },
      "execution_count": 6,
      "outputs": [
        {
          "output_type": "stream",
          "name": "stdout",
          "text": [
            "List with duplicates removed: [1, 2, 3, 4, 5]\n"
          ]
        }
      ]
    },
    {
      "cell_type": "markdown",
      "source": [
        "7. Write a program to calculate the factorial of a given number.\n"
      ],
      "metadata": {
        "id": "cu3daFjGsbf2"
      }
    },
    {
      "cell_type": "code",
      "source": [
        "def factorial(number):\n",
        "    if number < 0:\n",
        "        return None\n",
        "    elif number == 0:\n",
        "        return 1\n",
        "    else:\n",
        "        result = 1\n",
        "        for i in range(1, number + 1):\n",
        "            result *= i\n",
        "        return result\n",
        "\n",
        "\n",
        "n = int(input(\"Enter a number: \"))\n",
        "fact = factorial(n)\n",
        "if fact is None:\n",
        "    print(\"Factorial cannot be calculated for negative numbers.\")\n",
        "else:\n",
        "    print(\"Factorial of\", n, \"is\", fact)\n"
      ],
      "metadata": {
        "colab": {
          "base_uri": "https://localhost:8080/"
        },
        "id": "ozR_sYjtsaKh",
        "outputId": "93d8f161-098b-4f2a-862c-db0d6fea5e84"
      },
      "execution_count": 7,
      "outputs": [
        {
          "output_type": "stream",
          "name": "stdout",
          "text": [
            "Enter a number: 8\n",
            "Factorial of 8 is 40320\n"
          ]
        }
      ]
    },
    {
      "cell_type": "markdown",
      "source": [
        "8. Implement a function to check if a given number is prime.\n"
      ],
      "metadata": {
        "id": "nIKz8J4sso9E"
      }
    },
    {
      "cell_type": "code",
      "source": [
        "def is_prime(number):\n",
        "    if number < 2:\n",
        "        return False\n",
        "\n",
        "    for i in range(2, int(number ** 0.5) + 1):\n",
        "        if number % i == 0:\n",
        "            return False\n",
        "    return True\n",
        "\n",
        "n = int(input(\"Enter a number: \"))\n",
        "if is_prime(n):\n",
        "    print(n, \"is a prime number.\")\n",
        "else:\n",
        "    print(n, \"is not a prime number.\")\n"
      ],
      "metadata": {
        "colab": {
          "base_uri": "https://localhost:8080/"
        },
        "id": "A0zreaoNsl8E",
        "outputId": "17d17965-4ec2-413b-ed9e-068ac6a47419"
      },
      "execution_count": 8,
      "outputs": [
        {
          "output_type": "stream",
          "name": "stdout",
          "text": [
            "Enter a number: 7\n",
            "7 is a prime number.\n"
          ]
        }
      ]
    },
    {
      "cell_type": "markdown",
      "source": [
        "9. Write a Python program to sort a list of integers in ascending order.\n"
      ],
      "metadata": {
        "id": "34XxOo9zs1OC"
      }
    },
    {
      "cell_type": "code",
      "source": [
        "def sort_list(input_list):\n",
        "    sorted_list = input_list[:]  # Create a copy of the input list\n",
        "    n = len(sorted_list)\n",
        "\n",
        "    for i in range(n - 1):\n",
        "        for j in range(n - i - 1):\n",
        "            if sorted_list[j] > sorted_list[j + 1]:\n",
        "                sorted_list[j], sorted_list[j + 1] = sorted_list[j + 1], sorted_list[j]\n",
        "\n",
        "    return sorted_list\n",
        "\n",
        "# Test the function\n",
        "numbers = [9, 3, 7, 1, 5, 2, 8, 4, 6]\n",
        "sorted_numbers = sort_list(numbers)\n",
        "print(\"Sorted list:\", sorted_numbers)\n"
      ],
      "metadata": {
        "colab": {
          "base_uri": "https://localhost:8080/"
        },
        "id": "HnP928E2sycp",
        "outputId": "4f1f1edc-7b21-47e2-fbf6-3f18451bdc12"
      },
      "execution_count": 9,
      "outputs": [
        {
          "output_type": "stream",
          "name": "stdout",
          "text": [
            "Sorted list: [1, 2, 3, 4, 5, 6, 7, 8, 9]\n"
          ]
        }
      ]
    },
    {
      "cell_type": "markdown",
      "source": [
        "10. Implement a function to find the sum of all numbers in a list."
      ],
      "metadata": {
        "id": "LaImXM3gs_th"
      }
    },
    {
      "cell_type": "code",
      "source": [
        "def sum_of_numbers(input_list):\n",
        "    total_sum = 0\n",
        "    for number in input_list:\n",
        "        total_sum += number\n",
        "    return total_sum\n",
        "\n",
        "# Test the function\n",
        "numbers = [1, 2, 3, 4, 5]\n",
        "sum_of_all = sum_of_numbers(numbers)\n",
        "print(\"Sum of numbers:\", sum_of_all)\n"
      ],
      "metadata": {
        "colab": {
          "base_uri": "https://localhost:8080/"
        },
        "id": "f0FLZGXbs7-P",
        "outputId": "1920aee9-63d9-4e87-f12f-7eba5fa57861"
      },
      "execution_count": 10,
      "outputs": [
        {
          "output_type": "stream",
          "name": "stdout",
          "text": [
            "Sum of numbers: 15\n"
          ]
        }
      ]
    },
    {
      "cell_type": "markdown",
      "source": [
        "11. Write a program to find the common elements between two lists.\n"
      ],
      "metadata": {
        "id": "gFSPO3_6tEh_"
      }
    },
    {
      "cell_type": "code",
      "source": [
        "def find_common_elements(list1, list2):\n",
        "    common_elements = []\n",
        "    for element in list1:\n",
        "        if element in list2:\n",
        "            common_elements.append(element)\n",
        "    return common_elements\n",
        "\n",
        "# Test the function\n",
        "list1 = [1, 2, 3, 4, 5]\n",
        "list2 = [4, 5, 6, 7, 8]\n",
        "common_elements = find_common_elements(list1, list2)\n",
        "print(\"Common elements:\", common_elements)\n"
      ],
      "metadata": {
        "colab": {
          "base_uri": "https://localhost:8080/"
        },
        "id": "828whlzetCnm",
        "outputId": "c36a47f0-10e9-4144-c320-cecd08fe0668"
      },
      "execution_count": 11,
      "outputs": [
        {
          "output_type": "stream",
          "name": "stdout",
          "text": [
            "Common elements: [4, 5]\n"
          ]
        }
      ]
    },
    {
      "cell_type": "markdown",
      "source": [
        "12. Implement a function to check if a given string is an anagram of another string.\n"
      ],
      "metadata": {
        "id": "4Qdsrq-BtMFB"
      }
    },
    {
      "cell_type": "code",
      "source": [
        "def is_anagram(str1, str2):\n",
        "    str1 = str1.lower()  # Convert both strings to lowercase\n",
        "    str2 = str2.lower()\n",
        "\n",
        "    str1 = ''.join(sorted(str1))  # Sort the characters in both strings\n",
        "    str2 = ''.join(sorted(str2))\n",
        "\n",
        "    return str1 == str2  # Compare the sorted strings\n",
        "\n",
        "# Test the function\n",
        "string1 = input(\"Enter the first string: \")\n",
        "string2 = input(\"Enter the second string: \")\n",
        "\n",
        "if is_anagram(string1, string2):\n",
        "    print(\"The strings are anagrams.\")\n",
        "else:\n",
        "    print(\"The strings are not anagrams.\")\n"
      ],
      "metadata": {
        "colab": {
          "base_uri": "https://localhost:8080/"
        },
        "id": "Q85Vq_9CtKJ0",
        "outputId": "8a291952-f43c-44fa-ff73-ff59606aa3ef"
      },
      "execution_count": 12,
      "outputs": [
        {
          "output_type": "stream",
          "name": "stdout",
          "text": [
            "Enter the first string: ineuron\n",
            "Enter the second string: pwskill\n",
            "The strings are not anagrams.\n"
          ]
        }
      ]
    },
    {
      "cell_type": "markdown",
      "source": [
        "13. Write a Python program to generate all permutations of a given string.\n"
      ],
      "metadata": {
        "id": "azMA7fFptdQc"
      }
    },
    {
      "cell_type": "code",
      "source": [
        "def generate_permutations(input_str):\n",
        "    if len(input_str) <= 1:\n",
        "        return [input_str]  # Return the input string itself as the only permutation\n",
        "\n",
        "    permutations = []  # List to store the generated permutations\n",
        "\n",
        "    for i in range(len(input_str)):\n",
        "        current_char = input_str[i]\n",
        "        remaining_chars = input_str[:i] + input_str[i+1:]\n",
        "\n",
        "        for permutation in generate_permutations(remaining_chars):\n",
        "            permutations.append(current_char + permutation)\n",
        "\n",
        "    return permutations\n",
        "\n",
        "# Test the function\n",
        "string = input(\"Enter a string: \")\n",
        "permutations = generate_permutations(string)\n",
        "print(\"Permutations:\")\n",
        "for permutation in permutations:\n",
        "    print(permutation)\n"
      ],
      "metadata": {
        "colab": {
          "base_uri": "https://localhost:8080/"
        },
        "id": "Fqrz2oWftS_3",
        "outputId": "16bda7a4-5977-49fc-ef65-a67ef90068d6"
      },
      "execution_count": 15,
      "outputs": [
        {
          "output_type": "stream",
          "name": "stdout",
          "text": [
            "Enter a string: list\n",
            "Permutations:\n",
            "list\n",
            "lits\n",
            "lsit\n",
            "lsti\n",
            "ltis\n",
            "ltsi\n",
            "ilst\n",
            "ilts\n",
            "islt\n",
            "istl\n",
            "itls\n",
            "itsl\n",
            "slit\n",
            "slti\n",
            "silt\n",
            "sitl\n",
            "stli\n",
            "stil\n",
            "tlis\n",
            "tlsi\n",
            "tils\n",
            "tisl\n",
            "tsli\n",
            "tsil\n"
          ]
        }
      ]
    },
    {
      "cell_type": "markdown",
      "source": [
        "14. Implement a function to calculate the Fibonacci sequence up to a given number of terms."
      ],
      "metadata": {
        "id": "dh6kR9Jyt903"
      }
    },
    {
      "cell_type": "code",
      "source": [
        "def fibonacci_sequence(num_terms):\n",
        "    sequence = []\n",
        "    if num_terms >= 1:\n",
        "        sequence.append(0)  # Add the first term\n",
        "\n",
        "    if num_terms >= 2:\n",
        "        sequence.append(1)  # Add the second term\n",
        "\n",
        "    for i in range(2, num_terms):\n",
        "        next_term = sequence[i - 1] + sequence[i - 2]\n",
        "        sequence.append(next_term)\n",
        "\n",
        "    return sequence\n",
        "\n",
        "# Test the function\n",
        "n = int(input(\"Enter the number of terms: \"))\n",
        "fib_sequence = fibonacci_sequence(n)\n",
        "print(\"Fibonacci sequence:\")\n",
        "print(fib_sequence)\n"
      ],
      "metadata": {
        "colab": {
          "base_uri": "https://localhost:8080/"
        },
        "id": "NxwCDeTht9qw",
        "outputId": "16926db9-4079-48a2-9752-6843179e1cd5"
      },
      "execution_count": 17,
      "outputs": [
        {
          "output_type": "stream",
          "name": "stdout",
          "text": [
            "Enter the number of terms: 10\n",
            "Fibonacci sequence:\n",
            "[0, 1, 1, 2, 3, 5, 8, 13, 21, 34]\n"
          ]
        }
      ]
    },
    {
      "cell_type": "markdown",
      "source": [
        "15. Write a program to find the median of a list of numbers."
      ],
      "metadata": {
        "id": "xpwxS5mFufJ2"
      }
    },
    {
      "cell_type": "code",
      "source": [
        "def find_median(numbers):\n",
        "    sorted_numbers = sorted(numbers)  # Sort the numbers in ascending order\n",
        "    n = len(sorted_numbers)\n",
        "\n",
        "    if n % 2 == 0:\n",
        "        # For an even number of elements, average the middle two values\n",
        "        middle_index = n // 2\n",
        "        median = (sorted_numbers[middle_index - 1] + sorted_numbers[middle_index]) / 2\n",
        "    else:\n",
        "        # For an odd number of elements, take the middle value\n",
        "        middle_index = n // 2\n",
        "        median = sorted_numbers[middle_index]\n",
        "\n",
        "    return median\n",
        "\n",
        "# Test the function\n",
        "numbers = [7, 2, 5, 1, 9, 3, 6, 4, 8]\n",
        "median = find_median(numbers)\n",
        "print(\"Median:\", median)\n"
      ],
      "metadata": {
        "colab": {
          "base_uri": "https://localhost:8080/"
        },
        "id": "7JCDVMrLtrpP",
        "outputId": "860e6924-d8be-42a6-a620-a0c482f9e144"
      },
      "execution_count": 18,
      "outputs": [
        {
          "output_type": "stream",
          "name": "stdout",
          "text": [
            "Median: 5\n"
          ]
        }
      ]
    },
    {
      "cell_type": "markdown",
      "source": [
        "16. Implement a function to check if a given list is sorted in non-decreasing order.\n"
      ],
      "metadata": {
        "id": "-bvt-_o7ukw2"
      }
    },
    {
      "cell_type": "code",
      "source": [
        "def is_sorted(numbers):\n",
        "    n = len(numbers)\n",
        "    for i in range(1, n):\n",
        "        if numbers[i] < numbers[i - 1]:\n",
        "            return False\n",
        "    return True\n",
        "\n",
        "# Test the function\n",
        "numbers1 = [1, 2, 3, 4, 5]\n",
        "numbers2 = [1, 3, 2, 4, 5]\n",
        "numbers3 = [5, 4, 3, 2, 1]\n",
        "\n",
        "print(is_sorted(numbers1))  # True\n",
        "print(is_sorted(numbers2))  # False\n",
        "print(is_sorted(numbers3))  # False\n",
        "\n",
        "\n"
      ],
      "metadata": {
        "colab": {
          "base_uri": "https://localhost:8080/"
        },
        "id": "Ie0dtQwpuhS1",
        "outputId": "f1897b87-5ad8-4cc8-8f3d-3b5916a5af1c"
      },
      "execution_count": 19,
      "outputs": [
        {
          "output_type": "stream",
          "name": "stdout",
          "text": [
            "True\n",
            "False\n",
            "False\n"
          ]
        }
      ]
    },
    {
      "cell_type": "markdown",
      "source": [
        "17. Write a Python program to find the intersection of two lists.\n"
      ],
      "metadata": {
        "id": "gIs-JyaRuzgO"
      }
    },
    {
      "cell_type": "code",
      "source": [
        "def find_intersection(list1, list2):\n",
        "    intersection = []\n",
        "    for element in list1:\n",
        "        if element in list2 and element not in intersection:\n",
        "            intersection.append(element)\n",
        "    return intersection\n",
        "\n",
        "# Test the function\n",
        "list1 = [1, 2, 3, 4, 5]\n",
        "list2 = [4, 5, 6, 7, 8]\n",
        "intersection = find_intersection(list1, list2)\n",
        "print(\"Intersection:\", intersection)\n"
      ],
      "metadata": {
        "colab": {
          "base_uri": "https://localhost:8080/"
        },
        "id": "kwH4t3RnuzRM",
        "outputId": "dd7dd664-94a4-4f85-d981-3e866a3fd952"
      },
      "execution_count": 20,
      "outputs": [
        {
          "output_type": "stream",
          "name": "stdout",
          "text": [
            "Intersection: [4, 5]\n"
          ]
        }
      ]
    },
    {
      "cell_type": "markdown",
      "source": [
        "18. Implement a function to find the maximum subarray sum in a given list."
      ],
      "metadata": {
        "id": "TajFaazMu-L7"
      }
    },
    {
      "cell_type": "code",
      "source": [
        "def find_maximum_subarray_sum(numbers):\n",
        "    current_sum = numbers[0]  # Initialize the current sum with the first element\n",
        "    max_sum = numbers[0]  # Initialize the max sum with the first element\n",
        "\n",
        "    for i in range(1, len(numbers)):\n",
        "        current_sum = max(numbers[i], current_sum + numbers[i])\n",
        "        max_sum = max(max_sum, current_sum)\n",
        "\n",
        "    return max_sum\n",
        "\n",
        "# Test the function\n",
        "numbers = [-2, 1, -3, 4, -1, 2, 1, -5, 4]\n",
        "maximum_sum = find_maximum_subarray_sum(numbers)\n",
        "print(\"Maximum subarray sum:\", maximum_sum)\n"
      ],
      "metadata": {
        "colab": {
          "base_uri": "https://localhost:8080/"
        },
        "id": "qfxouTRYutE6",
        "outputId": "2ab3f553-a378-48fb-80b2-d4747bd7cc2a"
      },
      "execution_count": 21,
      "outputs": [
        {
          "output_type": "stream",
          "name": "stdout",
          "text": [
            "Maximum subarray sum: 6\n"
          ]
        }
      ]
    },
    {
      "cell_type": "markdown",
      "source": [
        "19. Write a program to remove all vowels from a given string."
      ],
      "metadata": {
        "id": "91z3DbQFvBVE"
      }
    },
    {
      "cell_type": "code",
      "source": [
        "def remove_vowels(input_str):\n",
        "    vowels = \"aeiouAEIOU\"\n",
        "    without_vowels = \"\"\n",
        "\n",
        "    for char in input_str:\n",
        "        if char not in vowels:\n",
        "            without_vowels += char\n",
        "\n",
        "    return without_vowels\n",
        "\n",
        "# Test the function\n",
        "input_string = input(\"Enter a string: \")\n",
        "string_without_vowels = remove_vowels(input_string)\n",
        "print(\"String without vowels:\", string_without_vowels)\n"
      ],
      "metadata": {
        "colab": {
          "base_uri": "https://localhost:8080/"
        },
        "id": "n1fD1Q0fvAQZ",
        "outputId": "d220e182-5690-4cae-b1f2-770f7e12ae99"
      },
      "execution_count": 22,
      "outputs": [
        {
          "output_type": "stream",
          "name": "stdout",
          "text": [
            "Enter a string: ineuron and pwskill\n",
            "String without vowels: nrn nd pwskll\n"
          ]
        }
      ]
    },
    {
      "cell_type": "markdown",
      "source": [
        "20. Implement a function to reverse the order of words in a given sentence."
      ],
      "metadata": {
        "id": "XGequ3e6vTga"
      }
    },
    {
      "cell_type": "code",
      "source": [
        "def reverse_sentence(sentence):\n",
        "    words = sentence.split()  # Split the sentence into words\n",
        "    reversed_words = words[::-1]  # Reverse the order of the words\n",
        "    reversed_sentence = \" \".join(reversed_words)  # Join the reversed words into a sentence\n",
        "    return reversed_sentence\n",
        "\n",
        "# Test the function\n",
        "input_sentence = input(\"Enter a sentence: \")\n",
        "reversed_sentence = reverse_sentence(input_sentence)\n",
        "print(\"Reversed sentence:\", reversed_sentence)\n"
      ],
      "metadata": {
        "colab": {
          "base_uri": "https://localhost:8080/"
        },
        "id": "SX9EqjP2vVla",
        "outputId": "aaadb1eb-0ba3-4a5f-f1f8-c18db1dbf0dd"
      },
      "execution_count": 28,
      "outputs": [
        {
          "output_type": "stream",
          "name": "stdout",
          "text": [
            "Enter a sentence: Ineuron and Pw skill is best place to learn data science\n",
            "Reversed sentence: science data learn to place best is skill Pw and Ineuron\n"
          ]
        }
      ]
    },
    {
      "cell_type": "markdown",
      "source": [
        "21. Write a Python program to check if two strings are anagrams of each other."
      ],
      "metadata": {
        "id": "TzvdsllF5LX0"
      }
    },
    {
      "cell_type": "code",
      "source": [
        "\n",
        "def are_anagrams(str1, str2):\n",
        "    str1 = str1.lower()  # Convert both strings to lowercase\n",
        "    str2 = str2.lower()\n",
        "\n",
        "    str1 = ''.join(sorted(str1))  # Sort the characters in both strings\n",
        "    str2 = ''.join(sorted(str2))\n",
        "\n",
        "    return str1 == str2  # Compare the sorted strings\n",
        "\n",
        "# Test the function\n",
        "string1 = input(\"Enter the first string: \")\n",
        "string2 = input(\"Enter the second string: \")\n",
        "\n",
        "if are_anagrams(string1, string2):\n",
        "    print(\"The strings are anagrams.\")\n",
        "else:\n",
        "    print(\"The strings are not anagrams.\")\n"
      ],
      "metadata": {
        "colab": {
          "base_uri": "https://localhost:8080/"
        },
        "id": "FMsV8U7Tvf0G",
        "outputId": "c0e5a767-b7bf-4731-f3d9-d47437cdfe8f"
      },
      "execution_count": 29,
      "outputs": [
        {
          "output_type": "stream",
          "name": "stdout",
          "text": [
            "Enter the first string: ineuron\n",
            "Enter the second string: pwskill\n",
            "The strings are not anagrams.\n"
          ]
        }
      ]
    },
    {
      "cell_type": "markdown",
      "source": [
        "22. Implement a function to find the first non-repeating character in a string."
      ],
      "metadata": {
        "id": "NZjyEE-Y5cA1"
      }
    },
    {
      "cell_type": "code",
      "source": [
        "def find_first_non_repeating_char(input_str):\n",
        "    char_count = {}  # Dictionary to store the character counts\n",
        "\n",
        "    # Count the occurrences of each character\n",
        "    for char in input_str:\n",
        "        if char in char_count:\n",
        "            char_count[char] += 1\n",
        "        else:\n",
        "            char_count[char] = 1\n",
        "\n",
        "    # Find the first non-repeating character\n",
        "    for char in input_str:\n",
        "        if char_count[char] == 1:\n",
        "            return char\n",
        "\n",
        "    return None  # Return None if no non-repeating character is found\n",
        "\n",
        "# Test the function\n",
        "input_string = input(\"Enter a string: \")\n",
        "first_non_repeating_char = find_first_non_repeating_char(input_string)\n",
        "if first_non_repeating_char is not None:\n",
        "    print(\"First non-repeating character:\", first_non_repeating_char)\n",
        "else:\n",
        "    print(\"No non-repeating character found.\")\n"
      ],
      "metadata": {
        "colab": {
          "base_uri": "https://localhost:8080/"
        },
        "id": "FIgsrDHL5P2Z",
        "outputId": "c29253b3-4ff1-4fc3-91e7-6cf792ec3d9a"
      },
      "execution_count": 31,
      "outputs": [
        {
          "output_type": "stream",
          "name": "stdout",
          "text": [
            "Enter a string: himachal\n",
            "First non-repeating character: i\n"
          ]
        }
      ]
    },
    {
      "cell_type": "markdown",
      "source": [
        "23. Write a program to find the prime factors of a given number."
      ],
      "metadata": {
        "id": "p7Q5M7M75ptX"
      }
    },
    {
      "cell_type": "code",
      "source": [
        "def find_prime_factors(number):\n",
        "    prime_factors = []\n",
        "    divisor = 2  # Start with the smallest prime factor\n",
        "\n",
        "    while divisor <= number:\n",
        "        if number % divisor == 0:\n",
        "            prime_factors.append(divisor)\n",
        "            number = number // divisor\n",
        "        else:\n",
        "            divisor += 1\n",
        "\n",
        "    return prime_factors\n",
        "\n",
        "# Test the function\n",
        "n = int(input(\"Enter a number: \"))\n",
        "prime_factors = find_prime_factors(n)\n",
        "print(\"Prime factors:\", prime_factors)\n"
      ],
      "metadata": {
        "colab": {
          "base_uri": "https://localhost:8080/"
        },
        "id": "wnvTGWLF5fql",
        "outputId": "674c1d17-0931-4b9f-923e-d2aa1688a635"
      },
      "execution_count": 32,
      "outputs": [
        {
          "output_type": "stream",
          "name": "stdout",
          "text": [
            "Enter a number: 45\n",
            "Prime factors: [3, 3, 5]\n"
          ]
        }
      ]
    },
    {
      "cell_type": "markdown",
      "source": [
        "24. Implement a function to check if a given number is a power of two.\n"
      ],
      "metadata": {
        "id": "UytI1trD5y0E"
      }
    },
    {
      "cell_type": "code",
      "source": [
        "def is_power_of_two(number):\n",
        "    if number <= 0:\n",
        "        return False\n",
        "    else:\n",
        "        # A number is a power of two if and only if it has only one bit set in its binary representation.\n",
        "        # Therefore, if we perform a bitwise AND operation between the number and its predecessor, it should be zero.\n",
        "        return (number & (number - 1)) == 0\n",
        "\n",
        "# Test the function\n",
        "n = int(input(\"Enter a number: \"))\n",
        "if is_power_of_two(n):\n",
        "    print(n, \"is a power of two.\")\n",
        "else:\n",
        "    print(n, \"is not a power of two.\")\n"
      ],
      "metadata": {
        "colab": {
          "base_uri": "https://localhost:8080/"
        },
        "id": "6rMf-T605wAV",
        "outputId": "e64cb694-f375-4514-f5b8-afba84077756"
      },
      "execution_count": 34,
      "outputs": [
        {
          "output_type": "stream",
          "name": "stdout",
          "text": [
            "Enter a number: 6\n",
            "6 is not a power of two.\n"
          ]
        }
      ]
    },
    {
      "cell_type": "markdown",
      "source": [
        "25. Write a Python program to merge two sorted lists into a single sorted list.\n"
      ],
      "metadata": {
        "id": "cATN7mWd6HRP"
      }
    },
    {
      "cell_type": "code",
      "source": [
        "def merge_sorted_lists(list1, list2):\n",
        "    merged_list = []\n",
        "    i = 0  # Index for list1\n",
        "    j = 0  # Index for list2\n",
        "\n",
        "    # Merge the two lists by comparing the elements\n",
        "    while i < len(list1) and j < len(list2):\n",
        "        if list1[i] <= list2[j]:\n",
        "            merged_list.append(list1[i])\n",
        "            i += 1\n",
        "        else:\n",
        "            merged_list.append(list2[j])\n",
        "            j += 1\n",
        "\n",
        "    # Append the remaining elements of list1, if any\n",
        "    while i < len(list1):\n",
        "        merged_list.append(list1[i])\n",
        "        i += 1\n",
        "\n",
        "    # Append the remaining elements of list2, if any\n",
        "    while j < len(list2):\n",
        "        merged_list.append(list2[j])\n",
        "        j += 1\n",
        "\n",
        "    return merged_list\n",
        "\n",
        "# Test the function\n",
        "list1 = [1, 3, 5, 7, 9]\n",
        "list2 = [2, 4, 6, 8, 10]\n",
        "merged_list = merge_sorted_lists(list1, list2)\n",
        "print(\"Merged and sorted list:\", merged_list)\n"
      ],
      "metadata": {
        "colab": {
          "base_uri": "https://localhost:8080/"
        },
        "id": "tz6MzP77591E",
        "outputId": "2ffd5495-9caa-42da-8c64-1651a6cb14ad"
      },
      "execution_count": 35,
      "outputs": [
        {
          "output_type": "stream",
          "name": "stdout",
          "text": [
            "Merged and sorted list: [1, 2, 3, 4, 5, 6, 7, 8, 9, 10]\n"
          ]
        }
      ]
    },
    {
      "cell_type": "markdown",
      "source": [
        "26. Implement a function to find the mode of a list of numbers\n"
      ],
      "metadata": {
        "id": "55YphjEZ6it0"
      }
    },
    {
      "cell_type": "code",
      "source": [
        "from collections import Counter\n",
        "\n",
        "def find_mode(numbers):\n",
        "    # Count the occurrences of each number using Counter\n",
        "    counts = Counter(numbers)\n",
        "\n",
        "    # Find the number(s) with the maximum count\n",
        "    max_count = max(counts.values())\n",
        "    mode = [number for number, count in counts.items() if count == max_count]\n",
        "\n",
        "    return mode\n",
        "\n",
        "# Test the function\n",
        "numbers = [1, 2, 3, 4, 2, 2, 5, 3, 3, 4]\n",
        "mode = find_mode(numbers)\n",
        "print(\"Mode:\", mode)\n"
      ],
      "metadata": {
        "colab": {
          "base_uri": "https://localhost:8080/"
        },
        "id": "J5gMx1KU6bbp",
        "outputId": "1b0118dd-1aff-450a-beda-afa91f1f014f"
      },
      "execution_count": 36,
      "outputs": [
        {
          "output_type": "stream",
          "name": "stdout",
          "text": [
            "Mode: [2, 3]\n"
          ]
        }
      ]
    },
    {
      "cell_type": "markdown",
      "source": [
        "27. Write a program to find the greatest common divisor (GCD) of two numbers."
      ],
      "metadata": {
        "id": "mb4eSnE66tT2"
      }
    },
    {
      "cell_type": "code",
      "source": [
        "def find_gcd(a, b):\n",
        "    while b != 0:\n",
        "        a, b = b, a % b\n",
        "    return a\n",
        "\n",
        "# Test the function\n",
        "num1 = int(input(\"Enter the first number: \"))\n",
        "num2 = int(input(\"Enter the second number: \"))\n",
        "\n",
        "gcd = find_gcd(num1, num2)\n",
        "print(\"GCD:\", gcd)\n"
      ],
      "metadata": {
        "colab": {
          "base_uri": "https://localhost:8080/"
        },
        "id": "OXSLLZuv6oeE",
        "outputId": "d43aff86-0b98-4c75-89c2-1aedd30dfc29"
      },
      "execution_count": 37,
      "outputs": [
        {
          "output_type": "stream",
          "name": "stdout",
          "text": [
            "Enter the first number: 56\n",
            "Enter the second number: 32\n",
            "GCD: 8\n"
          ]
        }
      ]
    },
    {
      "cell_type": "markdown",
      "source": [
        "28. Implement a function to calculate the square root of a given number."
      ],
      "metadata": {
        "id": "-gMGjm_L6-Ki"
      }
    },
    {
      "cell_type": "code",
      "source": [
        "def calculate_square_root(number):\n",
        "    if number < 0:\n",
        "        raise ValueError(\"Square root is not defined for negative numbers.\")\n",
        "\n",
        "    # Initial guess for the square root\n",
        "    guess = number / 2\n",
        "\n",
        "    # Update the guess using the Babylonian method until convergence\n",
        "    while True:\n",
        "        new_guess = (guess + number / guess) / 2\n",
        "        if abs(new_guess - guess) < 0.0001:  # Check for convergence\n",
        "            return new_guess\n",
        "        guess = new_guess\n",
        "\n",
        "# Test the function\n",
        "n = float(input(\"Enter a number: \"))\n",
        "square_root = calculate_square_root(n)\n",
        "print(\"Square root:\", square_root)\n"
      ],
      "metadata": {
        "colab": {
          "base_uri": "https://localhost:8080/"
        },
        "id": "64-ds-U_635Q",
        "outputId": "33e7aa1f-47b9-4d28-8fa3-4b2e1f06bf5f"
      },
      "execution_count": 38,
      "outputs": [
        {
          "output_type": "stream",
          "name": "stdout",
          "text": [
            "Enter a number: 56\n",
            "Square root: 7.4833147735478915\n"
          ]
        }
      ]
    },
    {
      "cell_type": "markdown",
      "source": [
        "29. Write a Python program to check if a given string is a valid palindrome ignoring non-alphanumeric characters."
      ],
      "metadata": {
        "id": "MTfrt5gI7Xuo"
      }
    },
    {
      "cell_type": "code",
      "source": [
        "import re\n",
        "\n",
        "def is_valid_palindrome(input_str):\n",
        "    # Remove non-alphanumeric characters and convert to lowercase\n",
        "    cleaned_str = re.sub(r'[^a-zA-Z0-9]', '', input_str).lower()\n",
        "\n",
        "    # Check if the cleaned string is equal to its reverse\n",
        "    return cleaned_str == cleaned_str[::-1]\n",
        "\n",
        "# Test the function\n",
        "input_string = input(\"Enter a string: \")\n",
        "if is_valid_palindrome(input_string):\n",
        "    print(\"The string is a valid palindrome.\")\n",
        "else:\n",
        "    print(\"The string is not a valid palindrome.\")\n"
      ],
      "metadata": {
        "colab": {
          "base_uri": "https://localhost:8080/"
        },
        "id": "_Ouz1a7U7L4z",
        "outputId": "753a949b-80c8-471c-a871-7a6342cb4436"
      },
      "execution_count": 39,
      "outputs": [
        {
          "output_type": "stream",
          "name": "stdout",
          "text": [
            "Enter a string: meghalaya\n",
            "The string is not a valid palindrome.\n"
          ]
        }
      ]
    },
    {
      "cell_type": "markdown",
      "source": [
        "30. Implement a function to find the minimum element in a rotated sorted list.\n"
      ],
      "metadata": {
        "id": "nSxZuVV-7tGg"
      }
    },
    {
      "cell_type": "code",
      "source": [
        "def find_min_in_rotated_sorted_list(nums):\n",
        "    left = 0\n",
        "    right = len(nums) - 1\n",
        "\n",
        "    while left < right:\n",
        "        mid = left + (right - left) // 2\n",
        "\n",
        "        if nums[mid] > nums[right]:\n",
        "            # The minimum element is in the right half\n",
        "            left = mid + 1\n",
        "        else:\n",
        "            # The minimum element is in the left half or at mid\n",
        "            right = mid\n",
        "\n",
        "    return nums[left]\n",
        "\n",
        "# Test the function\n",
        "numbers = [4, 5, 6, 7, 0, 1, 2]\n",
        "minimum = find_min_in_rotated_sorted_list(numbers)\n",
        "print(\"Minimum element:\", minimum)\n"
      ],
      "metadata": {
        "colab": {
          "base_uri": "https://localhost:8080/"
        },
        "id": "6QSipqzX7fna",
        "outputId": "af026bbf-2d59-4ab7-d35d-eeb247e38518"
      },
      "execution_count": 40,
      "outputs": [
        {
          "output_type": "stream",
          "name": "stdout",
          "text": [
            "Minimum element: 0\n"
          ]
        }
      ]
    },
    {
      "cell_type": "markdown",
      "source": [
        "31. Write a program to find the sum of all even numbers in a list.\n"
      ],
      "metadata": {
        "id": "3zF-i_wL87Ro"
      }
    },
    {
      "cell_type": "code",
      "source": [
        "def sum_of_even_numbers(numbers):\n",
        "    sum_even = 0\n",
        "\n",
        "    for num in numbers:\n",
        "        if num % 2 == 0:\n",
        "            sum_even += num\n",
        "\n",
        "    return sum_even\n",
        "\n",
        "# Test the function\n",
        "numbers = [1, 2, 3, 4, 5, 6, 7, 8, 9, 10]\n",
        "sum_even = sum_of_even_numbers(numbers)\n",
        "print(\"Sum of even numbers:\", sum_even)\n"
      ],
      "metadata": {
        "colab": {
          "base_uri": "https://localhost:8080/"
        },
        "id": "6PhUnVCp83pq",
        "outputId": "b81915de-866e-48b3-dd11-9eb33a228f34"
      },
      "execution_count": 41,
      "outputs": [
        {
          "output_type": "stream",
          "name": "stdout",
          "text": [
            "Sum of even numbers: 30\n"
          ]
        }
      ]
    },
    {
      "cell_type": "markdown",
      "source": [
        "32. Implement a function to calculate the power of a number using recursion.\n"
      ],
      "metadata": {
        "id": "6OCSQyfT9KJs"
      }
    },
    {
      "cell_type": "code",
      "source": [
        "def power(base, exponent):\n",
        "    if exponent == 0:\n",
        "        return 1\n",
        "    elif exponent < 0:\n",
        "        return 1 / power(base, -exponent)\n",
        "    else:\n",
        "        return base * power(base, exponent - 1)\n",
        "\n",
        "# Test the function\n",
        "base = float(input(\"Enter the base: \"))\n",
        "exponent = int(input(\"Enter the exponent: \"))\n",
        "\n",
        "result = power(base, exponent)\n",
        "print(\"Result:\", result)\n"
      ],
      "metadata": {
        "colab": {
          "base_uri": "https://localhost:8080/"
        },
        "id": "6kS-fMjr9FGR",
        "outputId": "4a224ef4-ca7f-404e-cda8-9eaedb41cd21"
      },
      "execution_count": 42,
      "outputs": [
        {
          "output_type": "stream",
          "name": "stdout",
          "text": [
            "Enter the base: 8\n",
            "Enter the exponent: 4\n",
            "Result: 4096.0\n"
          ]
        }
      ]
    },
    {
      "cell_type": "markdown",
      "source": [
        "33. Write a Python program to remove duplicates from a list while preserving the order."
      ],
      "metadata": {
        "id": "1x-Pt6z69RmG"
      }
    },
    {
      "cell_type": "code",
      "source": [
        "def remove_duplicates_preserve_order(input_list):\n",
        "    seen = set()\n",
        "    result = []\n",
        "\n",
        "    for item in input_list:\n",
        "        if item not in seen:\n",
        "            seen.add(item)\n",
        "            result.append(item)\n",
        "\n",
        "    return result\n",
        "\n",
        "# Test the function\n",
        "input_list = [1, 2, 3, 2, 4, 5, 6, 4, 3, 7]\n",
        "result_list = remove_duplicates_preserve_order(input_list)\n",
        "print(\"List with duplicates removed:\", result_list)\n"
      ],
      "metadata": {
        "colab": {
          "base_uri": "https://localhost:8080/"
        },
        "id": "K20lUjhD9NQZ",
        "outputId": "c91c011b-2635-4c91-c1ee-ef8a6238d8db"
      },
      "execution_count": 43,
      "outputs": [
        {
          "output_type": "stream",
          "name": "stdout",
          "text": [
            "List with duplicates removed: [1, 2, 3, 4, 5, 6, 7]\n"
          ]
        }
      ]
    },
    {
      "cell_type": "markdown",
      "source": [
        "34. Implement a function to find the longest common prefix among a list of strings.\n"
      ],
      "metadata": {
        "id": "XepV6K-89pFx"
      }
    },
    {
      "cell_type": "code",
      "source": [
        "def longest_common_prefix(strings):\n",
        "    if not strings:\n",
        "        return \"\"\n",
        "\n",
        "    shortest_string = min(strings, key=len)\n",
        "\n",
        "    for i, char in enumerate(shortest_string):\n",
        "        for string in strings:\n",
        "            if string[i] != char:\n",
        "                return shortest_string[:i]\n",
        "\n",
        "    return shortest_string\n",
        "\n",
        "# Test the function\n",
        "input_strings = [\"flower\", \"flow\", \"flight\"]\n",
        "common_prefix = longest_common_prefix(input_strings)\n",
        "print(\"Longest common prefix:\", common_prefix)\n"
      ],
      "metadata": {
        "colab": {
          "base_uri": "https://localhost:8080/"
        },
        "id": "LmIsFvXu9ntn",
        "outputId": "8bfefc37-5608-48b2-b321-8326cf4fadb1"
      },
      "execution_count": 44,
      "outputs": [
        {
          "output_type": "stream",
          "name": "stdout",
          "text": [
            "Longest common prefix: fl\n"
          ]
        }
      ]
    },
    {
      "cell_type": "markdown",
      "source": [
        "35. Write a program to check if a given number is a perfect square.\n"
      ],
      "metadata": {
        "id": "HRP432Vw-Hkq"
      }
    },
    {
      "cell_type": "code",
      "source": [
        "def is_perfect_square(number):\n",
        "    if number < 0:\n",
        "        return False\n",
        "\n",
        "    sqrt = int(number ** 0.5)\n",
        "    return sqrt * sqrt == number\n",
        "\n",
        "# Test the function\n",
        "n = int(input(\"Enter a number: \"))\n",
        "if is_perfect_square(n):\n",
        "    print(\"The number is a perfect square.\")\n",
        "else:\n",
        "    print(\"The number is not a perfect square.\")\n"
      ],
      "metadata": {
        "colab": {
          "base_uri": "https://localhost:8080/"
        },
        "id": "HgOZJb0w9-D9",
        "outputId": "c38eb216-82ab-439b-f2ee-fab6ed9c6471"
      },
      "execution_count": 47,
      "outputs": [
        {
          "output_type": "stream",
          "name": "stdout",
          "text": [
            "Enter a number: 25\n",
            "The number is a perfect square.\n"
          ]
        }
      ]
    },
    {
      "cell_type": "markdown",
      "source": [
        "36. Implement a function to calculate the product of all elements in a list.\n"
      ],
      "metadata": {
        "id": "gg6jNt-N-U7F"
      }
    },
    {
      "cell_type": "code",
      "source": [
        "def calculate_product(numbers):\n",
        "    product = 1\n",
        "\n",
        "    for num in numbers:\n",
        "        product *= num\n",
        "\n",
        "    return product\n",
        "\n",
        "# Test the function\n",
        "numbers = [2, 3, 4, 5]\n",
        "product = calculate_product(numbers)\n",
        "print(\"Product of elements:\", product)\n"
      ],
      "metadata": {
        "colab": {
          "base_uri": "https://localhost:8080/"
        },
        "id": "F2HQrpSn-Np3",
        "outputId": "23033145-d454-4956-9f0d-8551928c4695"
      },
      "execution_count": 48,
      "outputs": [
        {
          "output_type": "stream",
          "name": "stdout",
          "text": [
            "Product of elements: 120\n"
          ]
        }
      ]
    },
    {
      "cell_type": "markdown",
      "source": [
        "37. Write a Python program to reverse the order of words in a sentence while preserving the word order."
      ],
      "metadata": {
        "id": "Kz5JNp6F-ztA"
      }
    },
    {
      "cell_type": "code",
      "source": [
        "def reverse_words(sentence):\n",
        "    words = sentence.split()  # Split the sentence into words\n",
        "    reversed_words = words[::-1]  # Reverse the order of words\n",
        "    reversed_sentence = ' '.join(reversed_words)  # Join the reversed words with spaces\n",
        "\n",
        "    return reversed_sentence\n",
        "\n",
        "# Test the function\n",
        "input_sentence = input(\"Enter a sentence: \")\n",
        "reversed_sentence = reverse_words(input_sentence)\n",
        "print(\"Reversed sentence:\", reversed_sentence)\n"
      ],
      "metadata": {
        "colab": {
          "base_uri": "https://localhost:8080/"
        },
        "id": "zBWryqAf-vCC",
        "outputId": "c24eed3e-dd53-42a4-b970-b4b0281f8d31"
      },
      "execution_count": 50,
      "outputs": [
        {
          "output_type": "stream",
          "name": "stdout",
          "text": [
            "Enter a sentence: pwskill acquire ineuron\n",
            "Reversed sentence: ineuron acquire pwskill\n"
          ]
        }
      ]
    },
    {
      "cell_type": "markdown",
      "source": [
        "38. Implement a function to find the missing number in a given list of consecutive numbers.\n"
      ],
      "metadata": {
        "id": "AI5gzYE0_-9w"
      }
    },
    {
      "cell_type": "code",
      "source": [
        "def find_missing_number(numbers):\n",
        "    n = len(numbers) + 1  # One number is missing, so the length should be n + 1\n",
        "    expected_sum = (n * (numbers[0] + numbers[-1])) // 2\n",
        "    actual_sum = sum(numbers)\n",
        "    missing_number = expected_sum - actual_sum\n",
        "    return missing_number\n",
        "numbers = [1, 2, 3, 5, 6, 7]\n",
        "missing_number = find_missing_number(numbers)\n",
        "print(missing_number)\n"
      ],
      "metadata": {
        "colab": {
          "base_uri": "https://localhost:8080/"
        },
        "id": "TiUIgqsP-4LE",
        "outputId": "f2a0bdf0-1275-4642-cae9-675435d28fd7"
      },
      "execution_count": 52,
      "outputs": [
        {
          "output_type": "stream",
          "name": "stdout",
          "text": [
            "4\n"
          ]
        }
      ]
    },
    {
      "cell_type": "markdown",
      "source": [
        "39. Write a program to find the sum of digits of a given number.\n"
      ],
      "metadata": {
        "id": "tZrqIkd_AZek"
      }
    },
    {
      "cell_type": "code",
      "source": [
        "def sum_of_digits(number):\n",
        "    # Convert the number to a string\n",
        "    number_str = str(number)\n",
        "\n",
        "    # Initialize the sum variable\n",
        "    digit_sum = 0\n",
        "\n",
        "    # Iterate over each character (digit) in the string\n",
        "    for digit in number_str:\n",
        "        # Convert the character back to an integer and add it to the sum\n",
        "        digit_sum += int(digit)\n",
        "\n",
        "    return digit_sum\n",
        "number = 12345\n",
        "digit_sum = sum_of_digits(number)\n",
        "print(digit_sum)\n"
      ],
      "metadata": {
        "colab": {
          "base_uri": "https://localhost:8080/"
        },
        "id": "SgJCDlBrAQ0g",
        "outputId": "1f456331-6381-43cb-dec8-3e3492010496"
      },
      "execution_count": 53,
      "outputs": [
        {
          "output_type": "stream",
          "name": "stdout",
          "text": [
            "15\n"
          ]
        }
      ]
    },
    {
      "cell_type": "markdown",
      "source": [
        "40. Implement a function to check if a given string is a valid palindrome considering case sensitivity.\n"
      ],
      "metadata": {
        "id": "1_N541eNAsOo"
      }
    },
    {
      "cell_type": "code",
      "source": [
        "def is_valid_palindrome(string):\n",
        "    # Remove non-alphanumeric characters and convert to lowercase\n",
        "    string = ''.join(ch.lower() for ch in string if ch.isalnum())\n",
        "\n",
        "    # Check if the string is equal to its reverse\n",
        "    return string == string[::-1]\\\n",
        "\n",
        "string = \"A man, a plan, a canal: Panama\"\n",
        "is_palindrome = is_valid_palindrome(string)\n",
        "print(is_palindrome)\n"
      ],
      "metadata": {
        "colab": {
          "base_uri": "https://localhost:8080/"
        },
        "id": "X0z835FOAp_k",
        "outputId": "f824a9ca-dce3-49be-dc28-66a5982ee5b1"
      },
      "execution_count": 55,
      "outputs": [
        {
          "output_type": "stream",
          "name": "stdout",
          "text": [
            "True\n"
          ]
        }
      ]
    },
    {
      "cell_type": "markdown",
      "source": [
        "41. Write a Python program to find the smallest missing positive integer in a list.\n"
      ],
      "metadata": {
        "id": "IGVdL_puBGdV"
      }
    },
    {
      "cell_type": "code",
      "source": [
        "def find_smallest_missing_positive(nums):\n",
        "    n = len(nums)\n",
        "\n",
        "    # Move each positive integer to its correct index if possible\n",
        "    for i in range(n):\n",
        "        while 1 <= nums[i] <= n and nums[nums[i] - 1] != nums[i]:\n",
        "            nums[nums[i] - 1], nums[i] = nums[i], nums[nums[i] - 1]\n",
        "\n",
        "    # Find the first index where the value is not correct\n",
        "    for i in range(n):\n",
        "        if nums[i] != i + 1:\n",
        "            return i + 1\n",
        "\n",
        "    # If all indices have correct values, return the next positive integer\n",
        "    return n + 1\n",
        "\n",
        "nums = [3, 4, -1, 1]\n",
        "smallest_missing = find_smallest_missing_positive(nums)\n",
        "print(smallest_missing)\n"
      ],
      "metadata": {
        "colab": {
          "base_uri": "https://localhost:8080/"
        },
        "id": "tZ5UTkoSA4BS",
        "outputId": "163d5795-f9ba-4e53-8226-9211e4c6bfb1"
      },
      "execution_count": 56,
      "outputs": [
        {
          "output_type": "stream",
          "name": "stdout",
          "text": [
            "2\n"
          ]
        }
      ]
    },
    {
      "cell_type": "markdown",
      "source": [
        "42. Implement a function to find the longest palindrome substring in a given string.\n"
      ],
      "metadata": {
        "id": "xDbMEKvTBVuk"
      }
    },
    {
      "cell_type": "code",
      "source": [
        "def longest_palindrome_substring(string):\n",
        "    if len(string) < 2:\n",
        "        return string\n",
        "\n",
        "    start = 0\n",
        "    max_length = 1\n",
        "\n",
        "    # Helper function to expand around a center\n",
        "    def expand_around_center(left, right):\n",
        "        nonlocal start, max_length\n",
        "\n",
        "        while left >= 0 and right < len(string) and string[left] == string[right]:\n",
        "            left -= 1\n",
        "            right += 1\n",
        "\n",
        "        current_length = right - left - 1\n",
        "        if current_length > max_length:\n",
        "            start = left + 1\n",
        "            max_length = current_length\n",
        "\n",
        "    # Iterate over each character as the center of a potential palindrome\n",
        "    for i in range(len(string)):\n",
        "        expand_around_center(i, i)  # Odd-length palindrome\n",
        "        expand_around_center(i, i + 1)  # Even-length palindrome\n",
        "\n",
        "    return string[start:start + max_length]\n",
        "\n",
        "\n",
        "string = \"babad\"\n",
        "longest_palindrome = longest_palindrome_substring(string)\n",
        "print(longest_palindrome)\n"
      ],
      "metadata": {
        "colab": {
          "base_uri": "https://localhost:8080/"
        },
        "id": "jub-p2f4BTsy",
        "outputId": "5043842c-afe0-4e89-ed90-8447ef6111c1"
      },
      "execution_count": 57,
      "outputs": [
        {
          "output_type": "stream",
          "name": "stdout",
          "text": [
            "bab\n"
          ]
        }
      ]
    },
    {
      "cell_type": "markdown",
      "source": [
        "43. Write a program to find the number of occurrences of a given element in a list.\n"
      ],
      "metadata": {
        "id": "ZXkfYVRUBtm7"
      }
    },
    {
      "cell_type": "code",
      "source": [
        "def count_occurrences(lst, element):\n",
        "    count = 0\n",
        "    for item in lst:\n",
        "        if item == element:\n",
        "            count += 1\n",
        "    return count\n",
        "\n",
        "my_list = [1, 2, 3, 4, 2, 2, 3, 1, 2]\n",
        "element = 2\n",
        "occurrences = count_occurrences(my_list, element)\n",
        "print(occurrences)\n"
      ],
      "metadata": {
        "colab": {
          "base_uri": "https://localhost:8080/"
        },
        "id": "ud5sI3HkBqWo",
        "outputId": "b3d76a2c-92b7-4f34-dce2-5ae35e5a85a0"
      },
      "execution_count": 58,
      "outputs": [
        {
          "output_type": "stream",
          "name": "stdout",
          "text": [
            "4\n"
          ]
        }
      ]
    },
    {
      "cell_type": "code",
      "source": [],
      "metadata": {
        "id": "Ztt4bsahCNlt"
      },
      "execution_count": null,
      "outputs": []
    },
    {
      "cell_type": "markdown",
      "source": [
        "44. Implement a function to check if a given number is a perfect number.\n"
      ],
      "metadata": {
        "id": "eOJWVsBICOeZ"
      }
    },
    {
      "cell_type": "code",
      "source": [
        "def is_perfect_number(number):\n",
        "    if number <= 0:\n",
        "        return False\n",
        "\n",
        "    divisor_sum = 0\n",
        "\n",
        "    for i in range(1, number):\n",
        "        if number % i == 0:\n",
        "            divisor_sum += i\n",
        "\n",
        "    return divisor_sum == number\n",
        "\n",
        "\n",
        "number = 28\n",
        "is_perfect = is_perfect_number(number)\n",
        "print(is_perfect)\n"
      ],
      "metadata": {
        "colab": {
          "base_uri": "https://localhost:8080/"
        },
        "id": "0ECsV7kECQT1",
        "outputId": "9d408598-3e2f-40a4-eb0b-a07444b76835"
      },
      "execution_count": 59,
      "outputs": [
        {
          "output_type": "stream",
          "name": "stdout",
          "text": [
            "True\n"
          ]
        }
      ]
    },
    {
      "cell_type": "markdown",
      "source": [
        "45. Write a Python program to remove all duplicates from a string.\n"
      ],
      "metadata": {
        "id": "T1SeOmE_Cl3Y"
      }
    },
    {
      "cell_type": "code",
      "source": [
        "def remove_duplicates(string):\n",
        "    # Create an empty set to store unique characters\n",
        "    unique_chars = set()\n",
        "\n",
        "    # Create a new string by iterating over each character in the input string\n",
        "    # and adding it to the set if it hasn't been seen before\n",
        "    new_string = \"\"\n",
        "    for char in string:\n",
        "        if char not in unique_chars:\n",
        "            new_string += char\n",
        "            unique_chars.add(char)\n",
        "\n",
        "    return new_string\n",
        "\n",
        "\n",
        "string = \"Hello, world!\"\n",
        "new_string = remove_duplicates(string)\n",
        "print(new_string)\n",
        "\n"
      ],
      "metadata": {
        "colab": {
          "base_uri": "https://localhost:8080/"
        },
        "id": "5CXUgLfBCi93",
        "outputId": "639a031a-841b-43b9-d6ff-539264cc10d6"
      },
      "execution_count": 61,
      "outputs": [
        {
          "output_type": "stream",
          "name": "stdout",
          "text": [
            "Helo, wrd!\n"
          ]
        }
      ]
    },
    {
      "cell_type": "markdown",
      "source": [
        "46. Implement a function to find the first missing positive"
      ],
      "metadata": {
        "id": "dza2RWhSC05-"
      }
    },
    {
      "cell_type": "code",
      "source": [
        "def find_first_missing_positive(nums):\n",
        "    n = len(nums)\n",
        "\n",
        "    # Move each positive number to its correct index if possible\n",
        "    for i in range(n):\n",
        "        while 1 <= nums[i] <= n and nums[nums[i] - 1] != nums[i]:\n",
        "            nums[nums[i] - 1], nums[i] = nums[i], nums[nums[i] - 1]\n",
        "\n",
        "    # Find the first index where the value is not correct\n",
        "    for i in range(n):\n",
        "        if nums[i] != i + 1:\n",
        "            return i + 1\n",
        "\n",
        "    # If all indices have correct values, return the next positive integer\n",
        "    return n + 1\n",
        "\n",
        "\n",
        "nums = [3, 4, -1, 1]\n",
        "first_missing = find_first_missing_positive(nums)\n",
        "print(first_missing)\n"
      ],
      "metadata": {
        "colab": {
          "base_uri": "https://localhost:8080/"
        },
        "id": "eywsuVhoCvus",
        "outputId": "8a1ae4b1-7ddc-4c4c-b1d0-293103fcdbf1"
      },
      "execution_count": 62,
      "outputs": [
        {
          "output_type": "stream",
          "name": "stdout",
          "text": [
            "2\n"
          ]
        }
      ]
    },
    {
      "cell_type": "code",
      "source": [],
      "metadata": {
        "id": "_fp3cOuEC9lA"
      },
      "execution_count": null,
      "outputs": []
    }
  ]
}