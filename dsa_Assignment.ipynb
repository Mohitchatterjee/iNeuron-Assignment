{
  "nbformat": 4,
  "nbformat_minor": 0,
  "metadata": {
    "colab": {
      "provenance": [],
      "authorship_tag": "ABX9TyOKgEKw5RfKBxG9wVGrd+wp",
      "include_colab_link": true
    },
    "kernelspec": {
      "name": "python3",
      "display_name": "Python 3"
    },
    "language_info": {
      "name": "python"
    }
  },
  "cells": [
    {
      "cell_type": "markdown",
      "metadata": {
        "id": "view-in-github",
        "colab_type": "text"
      },
      "source": [
        "<a href=\"https://colab.research.google.com/github/Mohitchatterjee/iNeuron-Assignment/blob/main/dsa_Assignment.ipynb\" target=\"_parent\"><img src=\"https://colab.research.google.com/assets/colab-badge.svg\" alt=\"Open In Colab\"/></a>"
      ]
    },
    {
      "cell_type": "markdown",
      "source": [
        "1 . Given three integer arrays arr1, arr2 and arr3 sorted in strictly increasing order, return a sorted array of only the integers that appeared in all three arrays.\n"
      ],
      "metadata": {
        "id": "RmBZtvViEMwW"
      }
    },
    {
      "cell_type": "code",
      "execution_count": 2,
      "metadata": {
        "colab": {
          "base_uri": "https://localhost:8080/"
        },
        "id": "qHQ0mt8OD-A4",
        "outputId": "c35f9294-dc1d-4ac4-c6ef-391e4bcbe548"
      },
      "outputs": [
        {
          "output_type": "stream",
          "name": "stdout",
          "text": [
            "[1, 5]\n"
          ]
        }
      ],
      "source": [
        "def common_elements(arr1, arr2, arr3):\n",
        "    common = []\n",
        "    i, j, k = 0, 0, 0\n",
        "\n",
        "    # Iterate through the arrays while there are elements in all of them\n",
        "    while i < len(arr1) and j < len(arr2) and k < len(arr3):\n",
        "        if arr1[i] == arr2[j] == arr3[k]:\n",
        "            common.append(arr1[i])\n",
        "            i += 1\n",
        "            j += 1\n",
        "            k += 1\n",
        "        elif arr1[i] < arr2[j]:\n",
        "            i += 1\n",
        "        elif arr2[j] < arr3[k]:\n",
        "            j += 1\n",
        "        else:\n",
        "            k += 1\n",
        "\n",
        "    return common\n",
        "\n",
        "\n",
        "arr1 = [1,2,3,4,5]\n",
        "arr2 = [1,2,5,7,9]\n",
        "arr3 = [1,3,4,5,8]\n",
        "result = common_elements(arr1, arr2, arr3)\n",
        "print(result)\n"
      ]
    },
    {
      "cell_type": "markdown",
      "source": [
        "<aside>\n",
        "💡 **Question 2**\n",
        "\n",
        "Given two **0-indexed** integer arrays nums1 and nums2, return *a list* answer *of size* 2 *where:*\n",
        "\n",
        "- answer[0] *is a list of all **distinct** integers in* nums1 *which are **not** present in* nums2*.*\n",
        "- answer[1] *is a list of all **distinct** integers in* nums2 *which are **not** present in* nums1.\n",
        "\n",
        "**Note** that the integers in the lists may be returned in **any** order.\n",
        "\n",
        "</aside>"
      ],
      "metadata": {
        "id": "ZAWMaZ_LEj-N"
      }
    },
    {
      "cell_type": "code",
      "source": [
        "def find_disjoint(nums1, nums2):\n",
        "    set_nums1 = set(nums1)\n",
        "    set_nums2 = set(nums2)\n",
        "\n",
        "    answer = [\n",
        "        list(set_nums1 - set_nums2),\n",
        "        list(set_nums2 - set_nums1)\n",
        "    ]\n",
        "\n",
        "    return answer\n",
        "\n",
        "nums1 = [1, 2, 3]\n",
        "nums2 = [2, 4, 6]\n",
        "result = find_disjoint(nums1, nums2)\n",
        "print(result)\n",
        "\n"
      ],
      "metadata": {
        "colab": {
          "base_uri": "https://localhost:8080/"
        },
        "id": "WqnMp2MDESaX",
        "outputId": "2099274b-adc0-4d19-d723-eadbcbe29de2"
      },
      "execution_count": 3,
      "outputs": [
        {
          "output_type": "stream",
          "name": "stdout",
          "text": [
            "[[1, 3], [4, 6]]\n"
          ]
        }
      ]
    },
    {
      "cell_type": "markdown",
      "source": [
        "<aside>\n",
        "💡 **Question 3**\n",
        "Given a 2D integer array matrix, return *the **transpose** of* matrix.\n",
        "\n",
        "The **transpose** of a matrix is the matrix flipped over its main diagonal, switching the matrix's row and column indices.\n",
        "\n",
        "</aside>"
      ],
      "metadata": {
        "id": "p3weuuleFI5_"
      }
    },
    {
      "cell_type": "code",
      "source": [
        "def transpose(matrix):\n",
        "    rows = len(matrix)\n",
        "    cols = len(matrix[0])\n",
        "\n",
        "    transposed = [[0 for _ in range(rows)] for _ in range(cols)]\n",
        "\n",
        "    for i in range(rows):\n",
        "        for j in range(cols):\n",
        "            transposed[j][i] = matrix[i][j]\n",
        "\n",
        "    return transposed\n",
        "\n",
        "matrix = [[1,2,3],[4,5,6],[7,8,9]]\n",
        "result = transpose(matrix)\n",
        "for row in result:\n",
        "    print(row)\n"
      ],
      "metadata": {
        "colab": {
          "base_uri": "https://localhost:8080/"
        },
        "id": "-ZYhyVU8FGaV",
        "outputId": "fcf09a5d-06b1-46f0-976a-24869c442121"
      },
      "execution_count": 5,
      "outputs": [
        {
          "output_type": "stream",
          "name": "stdout",
          "text": [
            "[1, 4, 7]\n",
            "[2, 5, 8]\n",
            "[3, 6, 9]\n"
          ]
        }
      ]
    },
    {
      "cell_type": "markdown",
      "source": [
        "Question 4\n",
        "Given an integer array nums of 2n integers, group these integers into n pairs (a1, b1), (a2, b2), ..., (an, bn) such that the sum of min(ai, bi) for all i is maximized. Return the maximized sum."
      ],
      "metadata": {
        "id": "nmpiLzV4F5Rh"
      }
    },
    {
      "cell_type": "code",
      "source": [
        "def array_pair_sum(nums):\n",
        "    nums.sort()\n",
        "    pair_sum = 0\n",
        "    for i in range(0, len(nums), 2):\n",
        "        pair_sum += nums[i]\n",
        "    return pair_sum\n",
        "\n",
        "\n",
        "nums = [1, 4, 3, 2]\n",
        "maximized_sum = array_pair_sum(nums)\n",
        "print(maximized_sum)\n"
      ],
      "metadata": {
        "colab": {
          "base_uri": "https://localhost:8080/"
        },
        "id": "9DI-BRJVFuze",
        "outputId": "17d844b5-045a-490f-9451-d1a224bb573a"
      },
      "execution_count": 6,
      "outputs": [
        {
          "output_type": "stream",
          "name": "stdout",
          "text": [
            "4\n"
          ]
        }
      ]
    },
    {
      "cell_type": "markdown",
      "source": [
        "<aside>\n",
        "💡 **Question 5**\n",
        "You have n coins and you want to build a staircase with these coins. The staircase consists of k rows where the ith row has exactly i coins. The last row of the staircase **may be** incomplete.\n",
        "\n",
        "Given the integer n, return *the number of **complete rows** of the staircase you will build*.\n",
        "\n",
        "</aside>"
      ],
      "metadata": {
        "id": "ao3EpD6fGJu9"
      }
    },
    {
      "cell_type": "code",
      "source": [
        "def arrange_coins(n):\n",
        "    complete_rows = 0\n",
        "    coins_needed = 1\n",
        "\n",
        "    while n >= coins_needed:\n",
        "        n -= coins_needed\n",
        "        coins_needed += 1\n",
        "        complete_rows += 1\n",
        "\n",
        "    return complete_rows\n",
        "\n",
        "\n",
        "n = 5\n",
        "complete_rows = arrange_coins(n)\n",
        "print(complete_rows)\n"
      ],
      "metadata": {
        "colab": {
          "base_uri": "https://localhost:8080/"
        },
        "id": "xfP-JehiGEUS",
        "outputId": "753bd285-c782-4eb4-8ba0-19dab598bdf1"
      },
      "execution_count": 7,
      "outputs": [
        {
          "output_type": "stream",
          "name": "stdout",
          "text": [
            "2\n"
          ]
        }
      ]
    },
    {
      "cell_type": "markdown",
      "source": [
        "Question 6\n",
        "Given an integer array nums sorted in non-decreasing order, return an array of the squares of each number sorted in non-decreasing order."
      ],
      "metadata": {
        "id": "MYu6D7IWGRxM"
      }
    },
    {
      "cell_type": "code",
      "source": [
        "def sorted_squares(nums):\n",
        "    n = len(nums)\n",
        "    result = [0] * n\n",
        "    left, right = 0, n - 1\n",
        "    idx = n - 1\n",
        "\n",
        "    while left <= right:\n",
        "        if abs(nums[left]) > abs(nums[right]):\n",
        "            result[idx] = nums[left] * nums[left]\n",
        "            left += 1\n",
        "        else:\n",
        "            result[idx] = nums[right] * nums[right]\n",
        "            right -= 1\n",
        "        idx -= 1\n",
        "\n",
        "    return result\n",
        "\n",
        "nums =  [-4,-1,0,3,10]\n",
        "squared_nums = sorted_squares(nums)\n",
        "print(squared_nums)\n"
      ],
      "metadata": {
        "colab": {
          "base_uri": "https://localhost:8080/"
        },
        "id": "z1pMbLycGPhl",
        "outputId": "249ba5cf-27d7-428b-f8d6-bb1a92db98bf"
      },
      "execution_count": 8,
      "outputs": [
        {
          "output_type": "stream",
          "name": "stdout",
          "text": [
            "[0, 1, 9, 16, 100]\n"
          ]
        }
      ]
    },
    {
      "cell_type": "markdown",
      "source": [
        "<aside>\n",
        "💡 **Question 7**\n",
        "You are given an m x n matrix M initialized with all 0's and an array of operations ops, where ops[i] = [ai, bi] means M[x][y] should be incremented by one for all 0 <= x < ai and 0 <= y < bi.\n",
        "\n",
        "Count and return *the number of maximum integers in the matrix after performing all the operations*\n",
        "\n",
        "</aside>"
      ],
      "metadata": {
        "id": "c1uRhWycGhVu"
      }
    },
    {
      "cell_type": "code",
      "source": [
        "def max_count(m, n, ops):\n",
        "    min_row = m\n",
        "    min_col = n\n",
        "\n",
        "    for op in ops:\n",
        "        min_row = min(min_row, op[0])\n",
        "        min_col = min(min_col, op[1])\n",
        "\n",
        "    return min_row * min_col\n",
        "\n",
        "M = [[0, 0, 0],\n",
        "     [0, 0, 0],\n",
        "     [0, 0, 0]]\n",
        "ops = [[2, 2], [3, 3]]\n",
        "count = max_count(3, 3, ops)\n",
        "print(count)\n"
      ],
      "metadata": {
        "colab": {
          "base_uri": "https://localhost:8080/"
        },
        "id": "zFl34uKFGcwF",
        "outputId": "93ea0f5f-4c83-4334-93b3-b7df20aa72c9"
      },
      "execution_count": 9,
      "outputs": [
        {
          "output_type": "stream",
          "name": "stdout",
          "text": [
            "4\n"
          ]
        }
      ]
    },
    {
      "cell_type": "markdown",
      "source": [
        "<aside>\n",
        "💡 **Question 8**\n",
        "\n",
        "Given the array nums consisting of 2n elements in the form [x1,x2,...,xn,y1,y2,...,yn].\n",
        "\n",
        "*Return the array in the form* [x1,y1,x2,y2,...,xn,yn].\n",
        "\n",
        "</aside>"
      ],
      "metadata": {
        "id": "mXCyjyDWG9ON"
      }
    },
    {
      "cell_type": "code",
      "source": [
        "def shuffle_array(nums, n):\n",
        "    shuffled = []\n",
        "    for i in range(n):\n",
        "        shuffled.append(nums[i])\n",
        "        shuffled.append(nums[i+n])\n",
        "    return shuffled\n",
        "\n",
        "nums = [2,5,1,3,4,7]\n",
        "n = 3\n",
        "result = shuffle_array(nums, n)\n",
        "print(result)\n",
        "\n"
      ],
      "metadata": {
        "colab": {
          "base_uri": "https://localhost:8080/"
        },
        "id": "NKvkl-5nG64Z",
        "outputId": "eddca8a9-660e-4ba0-e604-a8c4d02793b5"
      },
      "execution_count": 11,
      "outputs": [
        {
          "output_type": "stream",
          "name": "stdout",
          "text": [
            "[2, 3, 5, 4, 1, 7]\n"
          ]
        }
      ]
    },
    {
      "cell_type": "code",
      "source": [],
      "metadata": {
        "id": "JmXJV_JkHHrD"
      },
      "execution_count": null,
      "outputs": []
    }
  ]
}