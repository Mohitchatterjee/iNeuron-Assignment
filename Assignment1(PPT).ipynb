{
  "nbformat": 4,
  "nbformat_minor": 0,
  "metadata": {
    "colab": {
      "provenance": [],
      "authorship_tag": "ABX9TyOTsooOVta/63co9+p6OEJz",
      "include_colab_link": true
    },
    "kernelspec": {
      "name": "python3",
      "display_name": "Python 3"
    },
    "language_info": {
      "name": "python"
    }
  },
  "cells": [
    {
      "cell_type": "markdown",
      "metadata": {
        "id": "view-in-github",
        "colab_type": "text"
      },
      "source": [
        "<a href=\"https://colab.research.google.com/github/Mohitchatterjee/iNeuron-Assignment/blob/main/Assignment1(PPT).ipynb\" target=\"_parent\"><img src=\"https://colab.research.google.com/assets/colab-badge.svg\" alt=\"Open In Colab\"/></a>"
      ]
    },
    {
      "cell_type": "markdown",
      "source": [
        "#Mohit Chatterjee Assignment 1 (PPT)\n",
        "\n",
        "<aside>\n",
        "Q1. Given an array of integers nums and an integer target, return indices of the two numbers such that they add up to target.\n",
        "\n",
        "You may assume that each input would have exactly one solution, and you may not use the same element twice.\n",
        "\n",
        "You can return the answer in any order.\n",
        "\n",
        "**Example:**\n",
        "Input: nums = [2,7,11,15], target = 9\n",
        "Output0 [0,1]\n",
        "\n",
        "**Explanation:** Because nums[0] + nums[1] == 9, we return [0, 1]\n",
        "\n",
        "</aside>"
      ],
      "metadata": {
        "id": "MXR5Iwx0WJpb"
      }
    },
    {
      "cell_type": "code",
      "execution_count": 19,
      "metadata": {
        "id": "93qtkKJQWGvZ"
      },
      "outputs": [],
      "source": [
        "def targetIndices(nums,target):\n",
        "  for i in range(0,len(nums)-1):\n",
        "    temp = i+1\n",
        "    while temp < len(nums):\n",
        "      if nums[i]+nums[temp] == target:\n",
        "        return [i,temp]\n",
        "      temp+=1"
      ]
    },
    {
      "cell_type": "code",
      "source": [
        "print(targetIndices([2,7,11,15],9))\n",
        "print('Time Complexity O(n)')\n",
        "print(\"Space Complexity O(1)\")"
      ],
      "metadata": {
        "colab": {
          "base_uri": "https://localhost:8080/"
        },
        "id": "qxUEYEA0WJMr",
        "outputId": "f5ec953f-18f7-45ab-b283-0017080ae9b4"
      },
      "execution_count": 24,
      "outputs": [
        {
          "output_type": "stream",
          "name": "stdout",
          "text": [
            "[0, 1]\n",
            "Time Complexity O(n)\n",
            "Space Complexity O(1)\n"
          ]
        }
      ]
    },
    {
      "cell_type": "markdown",
      "source": [
        "<aside>\n",
        "💡Q2. Given an integer array nums and an integer val, remove all occurrences of val in nums in-place. The order of the elements may be changed. Then return the number of elements in nums which are not equal to val.\n",
        "\n",
        "Consider the number of elements in nums which are not equal to val be k, to get accepted, you need to do the following things:\n",
        "\n",
        "- Change the array nums such that the first k elements of nums contain the elements which are not equal to val. The remaining elements of nums are not important as well as the size of nums.\n",
        "- Return k.\n",
        "\n",
        "**Example :**\n",
        "Input: nums = [3,2,2,3], val = 3\n",
        "Output: 2, nums = [2,2,_*,_*]\n",
        "\n",
        "**Explanation:** Your function should return k = 2, with the first two elements of nums being 2. It does not matter what you leave beyond the returned k (hence they are underscores)\n",
        "\n",
        "</aside>"
      ],
      "metadata": {
        "id": "99M_AjpPaXbQ"
      }
    },
    {
      "cell_type": "code",
      "source": [
        "def removeOccurences(nums,val):\n",
        "  nums.sort()\n",
        "  res = [i for i in nums if i != val]\n",
        "  k = res[0]\n",
        "  return k,res"
      ],
      "metadata": {
        "id": "9CJwjf_1WJSi"
      },
      "execution_count": 121,
      "outputs": []
    },
    {
      "cell_type": "code",
      "source": [
        "print(removeOccurences([3,2,2,3,3],3))\n",
        "print('Time Complexity O(nlogn)')\n",
        "print(\"Space Complexity O(1)\")"
      ],
      "metadata": {
        "colab": {
          "base_uri": "https://localhost:8080/"
        },
        "id": "Gi10dd0GceH-",
        "outputId": "7d57c9fd-d1fa-4e66-ca78-a8788ef2d678"
      },
      "execution_count": 122,
      "outputs": [
        {
          "output_type": "stream",
          "name": "stdout",
          "text": [
            "(2, [2, 2])\n",
            "Time Complexity O(nlogn)\n",
            "Space Complexity O(1)\n"
          ]
        }
      ]
    },
    {
      "cell_type": "markdown",
      "source": [
        "<aside>\n",
        "Q3. Given a sorted array of distinct integers and a target value, return the index if the target is found. If not, return the index where it would be if it were inserted in order.\n",
        "\n",
        "You must write an algorithm with O(log n) runtime complexity.\n",
        "\n",
        "**Example 1:**\n",
        "Input: nums = [1,3,5,6], target = 5\n",
        "\n",
        "Output: 2\n",
        "\n",
        "</aside>"
      ],
      "metadata": {
        "id": "X_RZit4tsaNu"
      }
    },
    {
      "cell_type": "code",
      "source": [
        "def targetIndex(nums,target):\n",
        "    compareList = [i for i in range(nums[0],nums[len(nums)-1]+1)]\n",
        "    midPointer = (0+(len(nums)-1)//2)\n",
        "    leftPointer = 0\n",
        "    rightPointer = (len(nums)-1)\n",
        "\n",
        "    if nums[midPointer] == target : \n",
        "      return midPointer\n",
        "    for i in range(0,len(nums)-1):\n",
        "      if nums[midPointer] < target:\n",
        "        leftPointer = midPointer + 1\n",
        "        if nums[leftPointer] == target:\n",
        "          return leftPointer\n",
        "        else:\n",
        "          midPointer = (leftPointer+rightPointer)//2\n",
        "          if nums[midPointer] == target:\n",
        "            return midPointer\n",
        "          elif nums[midPointer] < target:\n",
        "            leftPointer = midPointer + 1\n",
        "            if nums[leftPointer] == target:\n",
        "              return leftPointer\n",
        "            elif nums[midPointer] == target:\n",
        "              return midPointer\n",
        "            else:\n",
        "              for i in compareList:\n",
        "                if target == compareList[i] :  return i\n",
        "        \n",
        "          else:\n",
        "            rightPointer = midPointer - 1\n",
        "            midPointer = (leftPointer+rightPointer)//2\n",
        "            if nums[rightPointer] == target:\n",
        "              return rightPointer\n",
        "            elif nums[midPointer] == target:\n",
        "              return midPointer\n",
        "            else:\n",
        "              for i in compareList:\n",
        "                if target == compareList[i] :  return i\n",
        "      elif nums[midPointer] > target:\n",
        "          rightPointer = midPointer - 1\n",
        "          midPointer = (leftPointer+rightPointer)//2\n",
        "          if nums[rightPointer] == target:\n",
        "            return rightPointer\n",
        "          elif nums[midPointer] == target:\n",
        "            return midPointer\n",
        "          else:\n",
        "              for i in range(0,len(compareList)):\n",
        "                if target == compareList[i] :  return i\n",
        "      \n"
      ],
      "metadata": {
        "id": "750zy_7AcvHw"
      },
      "execution_count": 183,
      "outputs": []
    },
    {
      "cell_type": "code",
      "source": [
        "print(targetIndex([1,3,5,6],5))"
      ],
      "metadata": {
        "colab": {
          "base_uri": "https://localhost:8080/"
        },
        "id": "2SLSSKcw2hai",
        "outputId": "a6500706-bdbd-4cb7-b829-3636acc57e7a"
      },
      "execution_count": 185,
      "outputs": [
        {
          "output_type": "stream",
          "name": "stdout",
          "text": [
            "[1, 2, 3, 4, 5, 6]\n",
            "2\n"
          ]
        }
      ]
    },
    {
      "cell_type": "code",
      "source": [],
      "metadata": {
        "id": "rvxvwEaa2tVD"
      },
      "execution_count": null,
      "outputs": []
    }
  ]
}