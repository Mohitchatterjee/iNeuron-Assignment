{
  "nbformat": 4,
  "nbformat_minor": 0,
  "metadata": {
    "colab": {
      "provenance": [],
      "authorship_tag": "ABX9TyOYlt/W8KVDgfqjtr8RoPlw",
      "include_colab_link": true
    },
    "kernelspec": {
      "name": "python3",
      "display_name": "Python 3"
    },
    "language_info": {
      "name": "python"
    }
  },
  "cells": [
    {
      "cell_type": "markdown",
      "metadata": {
        "id": "view-in-github",
        "colab_type": "text"
      },
      "source": [
        "<a href=\"https://colab.research.google.com/github/Mohitchatterjee/iNeuron-Assignment/blob/main/Assignment%202%20(PPT).ipynb\" target=\"_parent\"><img src=\"https://colab.research.google.com/assets/colab-badge.svg\" alt=\"Open In Colab\"/></a>"
      ]
    },
    {
      "cell_type": "markdown",
      "source": [
        "#Mohit Chatterjee Assignment 2 (PPT)\n",
        "\n",
        "<aside>\n",
        "Question 1. Given an integer array nums of 2n integers, group these integers into n pairs (a1, b1), (a2, b2),..., (an, bn) such that the sum of min(ai, bi) \n",
        "for all i is maximized. Return the maximized sum.\n",
        "\n",
        "**Example 1:**\n",
        "Input: nums = [1,4,3,2]\n",
        "Output: 4\n",
        "\n",
        "**Explanation:** All possible pairings (ignoring the ordering of elements) are:\n",
        "\n",
        "1. (1, 4), (2, 3) -> min(1, 4) + min(2, 3) = 1 + 2 = 3\n",
        "2. (1, 3), (2, 4) -> min(1, 3) + min(2, 4) = 1 + 2 = 3\n",
        "3. (1, 2), (3, 4) -> min(1, 2) + min(3, 4) = 1 + 3 = 4\n",
        "So the maximum possible sum is 4\n",
        "</aside>"
      ],
      "metadata": {
        "id": "-XKZzA-T_J-a"
      }
    },
    {
      "cell_type": "code",
      "source": [
        "def sumOfMins(nums):\n",
        "  return sum(sorted(nums)[::2])"
      ],
      "metadata": {
        "id": "BC8hsyrH_mDd"
      },
      "execution_count": 57,
      "outputs": []
    },
    {
      "cell_type": "code",
      "source": [
        "print(sumOfMins([1,4,3,2]))\n",
        "print('Time Complexity O(logn)')\n",
        "print('Space Complexity O(1)')"
      ],
      "metadata": {
        "colab": {
          "base_uri": "https://localhost:8080/"
        },
        "id": "C5YyWoNIIuoW",
        "outputId": "d960b0a3-3150-435a-edf7-bfa2d914e107"
      },
      "execution_count": 61,
      "outputs": [
        {
          "output_type": "stream",
          "name": "stdout",
          "text": [
            "4\n",
            "Time Complexity O(logn)\n",
            "Space Complexity O(1)\n"
          ]
        }
      ]
    },
    {
      "cell_type": "markdown",
      "source": [
        "Question 2. Alice has n candies, where the ith candy is of type candyType[i]. Alice noticed that she started to gain weight, so she visited a doctor. \n",
        "\n",
        "The doctor advised Alice to only eat n / 2 of the candies she has (n is always even). Alice likes her candies very much, and she wants to eat the maximum number of different types of candies while still following the doctor's advice. \n",
        "\n",
        "Given the integer array candyType of length n, return the maximum number of different types of candies she can eat if she only eats n / 2 of them.\n",
        "\n",
        "Example 1:\n",
        "Input: candyType = [1,1,2,2,3,3]\n",
        "Output: 3\n",
        "\n",
        "Explanation: Alice can only eat 6 / 2 = 3 candies. Since there are only 3 types, she can eat one of each type."
      ],
      "metadata": {
        "id": "d4xnn9PMYNTD"
      }
    },
    {
      "cell_type": "code",
      "source": [
        "def uniqueCandies(candies):\n",
        "  candies.sort()\n",
        "  uniqueCandies = set(candies)\n",
        "  return len(uniqueCandies)\n"
      ],
      "metadata": {
        "id": "cIP2y_j1CIRw"
      },
      "execution_count": 71,
      "outputs": []
    },
    {
      "cell_type": "code",
      "source": [
        "print(uniqueCandies([1,1,2,2,3,3]))\n",
        "print('Time Complexity O(logn)')\n",
        "print('Space Complexity O(1)')"
      ],
      "metadata": {
        "colab": {
          "base_uri": "https://localhost:8080/"
        },
        "id": "-jEkCx6Vaspk",
        "outputId": "baa7b443-5fb7-4b72-89fb-270ca6e5de10"
      },
      "execution_count": 73,
      "outputs": [
        {
          "output_type": "stream",
          "name": "stdout",
          "text": [
            "3\n",
            "Time Complexity O(logn)\n",
            "Space Complexity O(1)\n"
          ]
        }
      ]
    },
    {
      "cell_type": "markdown",
      "source": [
        "Question 3.\n",
        "We define a harmonious array as an array where the difference between its maximum value\n",
        "and its minimum value is exactly 1.\n",
        "\n",
        "Given an integer array nums, return the length of its longest harmonious subsequence\n",
        "among all its possible subsequences.\n",
        "\n",
        "A subsequence of an array is a sequence that can be derived from the array by deleting some or no elements without changing the order of the remaining elements.\n",
        "\n",
        "Example 1:\n",
        "Input: nums = [1,3,2,2,5,2,3,7]\n",
        "Output: 5\n",
        "\n",
        "Explanation: The longest harmonious subsequence is [3,2,2,2,3]."
      ],
      "metadata": {
        "id": "wrmY7UV7cDSe"
      }
    },
    {
      "cell_type": "code",
      "source": [
        "def longHarmonious(nums):\n",
        "    nums.sort()\n",
        "    l = r = 0\n",
        "    length = 0\n",
        "    while r < len(nums):\n",
        "        while nums[r] - nums[l] > 1:\n",
        "            l += 1\n",
        "\n",
        "        if nums[r] - nums[l] == 1:\n",
        "            length = max(length, r - l + 1)\n",
        "\n",
        "        r += 1\n",
        "    return length"
      ],
      "metadata": {
        "id": "UfyZcAAMaws_"
      },
      "execution_count": 76,
      "outputs": []
    },
    {
      "cell_type": "code",
      "source": [
        "print(longHarmonious([1,3,2,2,5,2,3,7]))\n",
        "print('Time Complexity O(n)')\n",
        "print('Space Complexity O(1)')"
      ],
      "metadata": {
        "colab": {
          "base_uri": "https://localhost:8080/"
        },
        "id": "2TYA2Hmaecxq",
        "outputId": "c18d84a8-d418-4d0c-9c61-b53d3646993d"
      },
      "execution_count": 78,
      "outputs": [
        {
          "output_type": "stream",
          "name": "stdout",
          "text": [
            "5\n",
            "Time Complexity O(n)\n",
            "Space Complexity O(1)\n"
          ]
        }
      ]
    },
    {
      "cell_type": "markdown",
      "source": [
        "Question 4.\n",
        "You have a long flowerbed in which some of the plots are planted, and some are not.\n",
        "However, flowers cannot be planted in adjacent plots.\n",
        "Given an integer array flowerbed containing 0's and 1's, where 0 means empty and 1 means not empty, and an integer n, return true if n new flowers can be planted in the flowerbed without violating the no-adjacent-flowers rule and false otherwise.\n",
        "\n",
        "Example 1:\n",
        "Input: flowerbed = [1,0,0,0,1], n = 1\n",
        "Output: true"
      ],
      "metadata": {
        "id": "EHv4T9Hdwbtt"
      }
    },
    {
      "cell_type": "code",
      "source": [
        "def isFlowerCanBePlanted(flowerbed,n):\n",
        "  onlyFlower = flowerbed[::2]\n",
        "  if onlyFlower.count(0) == n: return True\n",
        "  else:return False"
      ],
      "metadata": {
        "id": "BQzCVMjXwQN5"
      },
      "execution_count": 86,
      "outputs": []
    },
    {
      "cell_type": "code",
      "source": [
        "print(isFlowerCanBePlanted([1,0,0,0,1],1))\n",
        "print('Time Complexity O(n)')\n",
        "print('Space Complexity O(1)')"
      ],
      "metadata": {
        "colab": {
          "base_uri": "https://localhost:8080/"
        },
        "id": "dw-zoEisxS4S",
        "outputId": "324d11b2-1e15-420b-ee39-75efd3eed2f4"
      },
      "execution_count": 90,
      "outputs": [
        {
          "output_type": "stream",
          "name": "stdout",
          "text": [
            "True\n",
            "Time Complexity O(n)\n",
            "Space Complexity O(1)\n"
          ]
        }
      ]
    },
    {
      "cell_type": "markdown",
      "source": [
        "Question 5.\n",
        "Given an integer array nums, find three numbers whose product is maximum and return the maximum product.\n",
        "\n",
        "Example 1:\n",
        "Input: nums = [1,2,3]\n",
        "Output: 6"
      ],
      "metadata": {
        "id": "sk7YXab3zdJ4"
      }
    },
    {
      "cell_type": "code",
      "source": [
        "def maxProduct(nums):\n",
        "  nums.sort()\n",
        "  return nums[-3]*nums[-2]*nums[-1]"
      ],
      "metadata": {
        "id": "36m53kOYxYaw"
      },
      "execution_count": 92,
      "outputs": []
    },
    {
      "cell_type": "code",
      "source": [
        "print(maxProduct([1,2,3]))\n",
        "print('Time Complexity O(logn)')\n",
        "print('Space Complexity O(1)')"
      ],
      "metadata": {
        "colab": {
          "base_uri": "https://localhost:8080/"
        },
        "id": "l63P_A2z0rRW",
        "outputId": "4aa990e7-a37c-4af5-85fe-db71e46aa841"
      },
      "execution_count": 96,
      "outputs": [
        {
          "output_type": "stream",
          "name": "stdout",
          "text": [
            "6\n",
            "Time Complexity O(logn)\n",
            "Space Complexity O(1)\n"
          ]
        }
      ]
    },
    {
      "cell_type": "markdown",
      "source": [
        "Question 6.\n",
        "Given an array of integers nums which is sorted in ascending order, and an integer target,\n",
        "write a function to search target in nums. If target exists, then return its index. Otherwise,\n",
        "return -1.\n",
        "\n",
        "You must write an algorithm with O(log n) runtime complexity.\n",
        "\n",
        "Input: nums = [-1,0,3,5,9,12], target = 9\n",
        "Output: 4\n",
        "\n",
        "Explanation: 9 exists in nums and its index is 4"
      ],
      "metadata": {
        "id": "br-lrrLq1L8S"
      }
    },
    {
      "cell_type": "code",
      "source": [
        "def targetFinder(nums,target):\n",
        "  if target in nums:return nums.index(target)\n",
        "  else:return -1"
      ],
      "metadata": {
        "id": "le3mqkZC01xG"
      },
      "execution_count": 98,
      "outputs": []
    },
    {
      "cell_type": "code",
      "source": [
        "print(targetFinder([-1,0,3,5,9,12],9))\n",
        "print('Time Complexity O(logn)')\n",
        "print('Space Complexity O(1)')"
      ],
      "metadata": {
        "colab": {
          "base_uri": "https://localhost:8080/"
        },
        "id": "zktOOS0I3NZv",
        "outputId": "a19c2d07-7cf3-4597-a6e2-05c1c8bf253f"
      },
      "execution_count": 103,
      "outputs": [
        {
          "output_type": "stream",
          "name": "stdout",
          "text": [
            "4\n",
            "Time Complexity O(logn)\n",
            "Space Complexity O(1)\n"
          ]
        }
      ]
    },
    {
      "cell_type": "markdown",
      "source": [
        "Question 7.\n",
        "An array is monotonic if it is either monotone increasing or monotone decreasing.\n",
        "\n",
        "An array nums is monotone increasing if for all i <= j, nums[i] <= nums[j]. An array nums is\n",
        "monotone decreasing if for all i <= j, nums[i] >= nums[j].\n",
        "\n",
        "Given an integer array nums, return true if the given array is monotonic, or false otherwise.\n",
        "\n",
        "Example 1:\n",
        "Input: nums = [1,2,2,3]\n",
        "Output: true"
      ],
      "metadata": {
        "id": "rxTir4Qu6M_l"
      }
    },
    {
      "cell_type": "code",
      "source": [
        "def isMonotonicArray(nums):\n",
        "  for i in range(len(nums)-1):\n",
        "    if nums[i]>nums[i+1]:return False\n",
        "  return True"
      ],
      "metadata": {
        "id": "yBbbvAIr3bRw"
      },
      "execution_count": 110,
      "outputs": []
    },
    {
      "cell_type": "code",
      "source": [
        "print(isMonotonicArray([1,2,2,3]))\n",
        "print('Time Complexity O(n)')\n",
        "print('Space Complexity O(1)')"
      ],
      "metadata": {
        "colab": {
          "base_uri": "https://localhost:8080/"
        },
        "id": "SwMJT8UE61wc",
        "outputId": "1f6e6e85-6c58-4464-c2ba-45e2f2834e99"
      },
      "execution_count": 114,
      "outputs": [
        {
          "output_type": "stream",
          "name": "stdout",
          "text": [
            "True\n",
            "Time Complexity O(n)\n",
            "Space Complexity O(1)\n"
          ]
        }
      ]
    },
    {
      "cell_type": "markdown",
      "source": [
        "Question 8.\n",
        "You are given an integer array nums and an integer k.\n",
        "\n",
        "In one operation, you can choose any index i where 0 <= i < nums.length and change nums[i] to nums[i] + x where x is an integer from the range [-k, k]. You can apply this operation at most once for each index i.\n",
        "\n",
        "The score of nums is the difference between the maximum and minimum elements in nums.\n",
        "\n",
        "Return the minimum score of nums after applying the mentioned operation at most once for each index in it.\n",
        "\n",
        "Example 1:\n",
        "Input: nums = [1], k = 0\n",
        "Output: 0\n",
        "\n",
        "Explanation: The score is max(nums) - min(nums) = 1 - 1 = 0."
      ],
      "metadata": {
        "id": "s4UsmhUY78L_"
      }
    },
    {
      "cell_type": "code",
      "source": [
        "def minScore(nums,k):\n",
        "  nums.sort()\n",
        "  return max(nums)-min(nums)"
      ],
      "metadata": {
        "id": "Mv1iNAzb7igu"
      },
      "execution_count": 115,
      "outputs": []
    },
    {
      "cell_type": "code",
      "source": [
        "print(minScore([1],0))\n",
        "print('Time Complexity O(logn)')\n",
        "print('Space Complexity O(1)')"
      ],
      "metadata": {
        "colab": {
          "base_uri": "https://localhost:8080/"
        },
        "id": "BrKi6Rgl9Xye",
        "outputId": "83d33359-9060-47eb-b706-6edb548089ca"
      },
      "execution_count": 117,
      "outputs": [
        {
          "output_type": "stream",
          "name": "stdout",
          "text": [
            "0\n",
            "Time Complexity O(logn)\n",
            "Space Complexity O(1)\n"
          ]
        }
      ]
    },
    {
      "cell_type": "code",
      "source": [],
      "metadata": {
        "id": "-7544Cfo9fF2"
      },
      "execution_count": null,
      "outputs": []
    }
  ]
}