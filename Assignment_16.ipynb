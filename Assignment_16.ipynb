{
  "cells": [
    {
      "cell_type": "markdown",
      "id": "df944f86",
      "metadata": {
        "id": "df944f86"
      },
      "source": [
        "# Mohit Chatterjee\n",
        "#(mohitchatterjee160@gmail.com, 7999744064)\n",
        "# Assignment 16 Solutions"
      ]
    },
    {
      "cell_type": "markdown",
      "id": "8b2e208a",
      "metadata": {
        "id": "8b2e208a"
      },
      "source": [
        "#### 1. Create a list called years_list, starting with the year of your birth, and each year thereafter until the year of your fifth birthday. For example, if you were born in 1980. the list would be years_list = [1980, 1981, 1982, 1983, 1984, 1985]."
      ]
    },
    {
      "cell_type": "code",
      "execution_count": null,
      "id": "f98f2f79",
      "metadata": {
        "id": "f98f2f79",
        "outputId": "390f4c70-f057-4deb-c144-285c7adf7703"
      },
      "outputs": [
        {
          "name": "stdout",
          "output_type": "stream",
          "text": [
            "[1997, 1998, 1999, 2000, 2001, 2002]\n"
          ]
        }
      ],
      "source": [
        "years_list = [ele for ele in range(1997,1997+6)]\n",
        "print(years_list)"
      ]
    },
    {
      "cell_type": "markdown",
      "id": "53f11d18",
      "metadata": {
        "id": "53f11d18"
      },
      "source": [
        "#### 2. In which year in years_list was your third birthday? Remember, you were 0 years of age for your first year."
      ]
    },
    {
      "cell_type": "code",
      "execution_count": null,
      "id": "73ed754a",
      "metadata": {
        "id": "73ed754a",
        "outputId": "a315441f-fffe-4f55-91af-68aa25579682"
      },
      "outputs": [
        {
          "name": "stdout",
          "output_type": "stream",
          "text": [
            "2000\n"
          ]
        }
      ],
      "source": [
        "print(years_list[3])"
      ]
    },
    {
      "cell_type": "markdown",
      "id": "75fe5c14",
      "metadata": {
        "id": "75fe5c14"
      },
      "source": [
        "#### 3.In the years list, which year were you the oldest?"
      ]
    },
    {
      "cell_type": "code",
      "execution_count": null,
      "id": "dbf3bf0e",
      "metadata": {
        "id": "dbf3bf0e",
        "outputId": "39335854-fd6a-4c80-bd44-7586368c1155"
      },
      "outputs": [
        {
          "name": "stdout",
          "output_type": "stream",
          "text": [
            "2002\n"
          ]
        }
      ],
      "source": [
        "print(years_list[-1])"
      ]
    },
    {
      "cell_type": "markdown",
      "id": "547d3121",
      "metadata": {
        "id": "547d3121"
      },
      "source": [
        "#### 4. Make a list called things with these three strings as elements: \"mozzarella\", \"cinderella\", \"salmonella\"."
      ]
    },
    {
      "cell_type": "code",
      "execution_count": null,
      "id": "7d0e9971",
      "metadata": {
        "id": "7d0e9971",
        "outputId": "cd080051-729b-4125-e9ca-3c5dc6e862b1"
      },
      "outputs": [
        {
          "name": "stdout",
          "output_type": "stream",
          "text": [
            "['mozzarella', 'cinderella', 'salmonella']\n"
          ]
        }
      ],
      "source": [
        "things = [ele+'ella' for ele in ['mozzar','cinder','salmon']]\n",
        "print(things)"
      ]
    },
    {
      "cell_type": "markdown",
      "id": "343162ff",
      "metadata": {
        "id": "343162ff"
      },
      "source": [
        "#### 5. Capitalize the element in things that refers to a person and then print the list. Did it change the element in the list?"
      ]
    },
    {
      "cell_type": "code",
      "execution_count": null,
      "id": "2cb97cb0",
      "metadata": {
        "id": "2cb97cb0",
        "outputId": "cdb0d60c-2150-4e0a-9f3c-32495f2d2df0"
      },
      "outputs": [
        {
          "name": "stdout",
          "output_type": "stream",
          "text": [
            "['mozzarella', 'Cinderella', 'salmonella']\n"
          ]
        }
      ],
      "source": [
        "for ele in range(len(things)):\n",
        "    if things[ele] == 'cinderella':\n",
        "        things[ele] = things[ele].capitalize()\n",
        "print(things)"
      ]
    },
    {
      "cell_type": "markdown",
      "id": "1a3f12df",
      "metadata": {
        "id": "1a3f12df"
      },
      "source": [
        "#### 6. Make a surprise list with the elements \"Groucho,\" \"Chico,\" and \"Harpo.\""
      ]
    },
    {
      "cell_type": "code",
      "execution_count": null,
      "id": "2baf9583",
      "metadata": {
        "id": "2baf9583",
        "outputId": "863ec772-4b83-423c-a60d-a8444e016572"
      },
      "outputs": [
        {
          "name": "stdout",
          "output_type": "stream",
          "text": [
            "['Groucho', 'Chico', 'Harpo']\n"
          ]
        }
      ],
      "source": [
        "suprise_list = ['Groucho','Chico','Harpo']\n",
        "print(suprise_list)"
      ]
    },
    {
      "cell_type": "markdown",
      "id": "363d3992",
      "metadata": {
        "id": "363d3992"
      },
      "source": [
        "#### 7. Lowercase the last element of the surprise list, reverse it, and then capitalize it."
      ]
    },
    {
      "cell_type": "code",
      "execution_count": null,
      "id": "68e92414",
      "metadata": {
        "id": "68e92414",
        "outputId": "d1e4e90e-b11d-48ba-915e-e6d61ff1429c"
      },
      "outputs": [
        {
          "name": "stdout",
          "output_type": "stream",
          "text": [
            "Oprah\n"
          ]
        }
      ],
      "source": [
        "print(suprise_list[-1].lower()[::-1].capitalize())"
      ]
    },
    {
      "cell_type": "markdown",
      "id": "fca0656b",
      "metadata": {
        "id": "fca0656b"
      },
      "source": [
        "#### 8. Make an English-to-French dictionary called e2f and print it. Here are your starter words: dog is chien, cat is chat, and walrus is morse."
      ]
    },
    {
      "cell_type": "code",
      "execution_count": null,
      "id": "c44ff88e",
      "metadata": {
        "id": "c44ff88e",
        "outputId": "c81980e6-1571-4be0-c0a2-6d194dd39f29"
      },
      "outputs": [
        {
          "name": "stdout",
          "output_type": "stream",
          "text": [
            "{'dog': 'chien', 'cat': 'chat', 'walrus': 'morse'}\n"
          ]
        }
      ],
      "source": [
        "e2f = {'dog':'chien','cat':'chat','walrus':'morse'}\n",
        "print(e2f)"
      ]
    },
    {
      "cell_type": "markdown",
      "id": "30528203",
      "metadata": {
        "id": "30528203"
      },
      "source": [
        "#### 9. Write the French word for walrus in your three-word dictionary e2f."
      ]
    },
    {
      "cell_type": "code",
      "execution_count": null,
      "id": "2f33cb74",
      "metadata": {
        "id": "2f33cb74",
        "outputId": "89fd7bb1-2e7d-4533-a174-98d9e0bf73cf"
      },
      "outputs": [
        {
          "name": "stdout",
          "output_type": "stream",
          "text": [
            "morse\n"
          ]
        }
      ],
      "source": [
        "print(e2f.get('walrus'))"
      ]
    },
    {
      "cell_type": "markdown",
      "id": "cd6847c4",
      "metadata": {
        "id": "cd6847c4"
      },
      "source": [
        "#### 10. Make a French-to-English dictionary called f2e from e2f. Use the items method."
      ]
    },
    {
      "cell_type": "code",
      "execution_count": null,
      "id": "36bc927e",
      "metadata": {
        "id": "36bc927e",
        "outputId": "e84284b9-a5a1-4f35-cba7-e3c654c0c5dc"
      },
      "outputs": [
        {
          "name": "stdout",
          "output_type": "stream",
          "text": [
            "{'chien': 'dog', 'chat': 'cat', 'morse': 'walrus'}\n"
          ]
        }
      ],
      "source": [
        "f2e = dict([ele[::-1] for ele in e2f.items()])\n",
        "print(f2e)"
      ]
    },
    {
      "cell_type": "markdown",
      "id": "5b97492b",
      "metadata": {
        "id": "5b97492b"
      },
      "source": [
        "#### 11. Print the English version of the French word chien using f2e."
      ]
    },
    {
      "cell_type": "code",
      "execution_count": null,
      "id": "491998e7",
      "metadata": {
        "id": "491998e7",
        "outputId": "5c073d4b-101d-4316-b16e-90df03b4f975"
      },
      "outputs": [
        {
          "name": "stdout",
          "output_type": "stream",
          "text": [
            "dog\n"
          ]
        }
      ],
      "source": [
        "print(f2e.get('chien'))"
      ]
    },
    {
      "cell_type": "markdown",
      "id": "f23702c7",
      "metadata": {
        "id": "f23702c7"
      },
      "source": [
        "#### 12. Make and print a set of English words from the keys in e2f."
      ]
    },
    {
      "cell_type": "code",
      "execution_count": null,
      "id": "87105261",
      "metadata": {
        "id": "87105261",
        "outputId": "6e39f7fe-36df-4869-ef1d-5548e8d9bd04"
      },
      "outputs": [
        {
          "name": "stdout",
          "output_type": "stream",
          "text": [
            "['dog', 'cat', 'walrus']\n"
          ]
        }
      ],
      "source": [
        "print(list(e2f.keys()))"
      ]
    },
    {
      "cell_type": "markdown",
      "id": "4e256021",
      "metadata": {
        "id": "4e256021"
      },
      "source": [
        "#### 13. Make a multilevel dictionary called life. Use these strings for the topmost keys: 'animals', 'plants', and 'other'. Make the 'animals' key refer to another dictionary with the keys 'cats', 'octopi', and 'emus'. Make the 'cats' key refer to a list of strings with the values 'Henri', 'Grumpy', and 'Lucy'. Make all the other keys refer to empty dictionaries."
      ]
    },
    {
      "cell_type": "code",
      "execution_count": null,
      "id": "7f38dfaf",
      "metadata": {
        "id": "7f38dfaf",
        "outputId": "ee85dee2-ac1a-4b2e-e97f-d83520f7f681"
      },
      "outputs": [
        {
          "name": "stdout",
          "output_type": "stream",
          "text": [
            "{'animals': {'cats': ['Henri', 'Grumpy', 'Lucy'], 'octopi': {}, 'emus': {}}, 'plants': {}, 'other': {}}\n"
          ]
        }
      ],
      "source": [
        "life = {\n",
        "    'animals':{\n",
        "        'cats':['Henri','Grumpy','Lucy'],\n",
        "        'octopi':{},\n",
        "        'emus':{}\n",
        "    },\n",
        "    'plants':{},\n",
        "    'other':{}\n",
        "}\n",
        "print(life)"
      ]
    },
    {
      "cell_type": "markdown",
      "id": "3616f392",
      "metadata": {
        "id": "3616f392"
      },
      "source": [
        "#### 14. Print the top-level keys of life."
      ]
    },
    {
      "cell_type": "code",
      "execution_count": null,
      "id": "035ef2db",
      "metadata": {
        "id": "035ef2db",
        "outputId": "e30f7c93-7b0e-4ae8-a05c-49b9e6201580"
      },
      "outputs": [
        {
          "name": "stdout",
          "output_type": "stream",
          "text": [
            "['animals', 'plants', 'other']\n"
          ]
        }
      ],
      "source": [
        "print(list(life.keys()))"
      ]
    },
    {
      "cell_type": "markdown",
      "id": "e1d4ef45",
      "metadata": {
        "id": "e1d4ef45"
      },
      "source": [
        "#### 15. Print the keys for life['animals']."
      ]
    },
    {
      "cell_type": "code",
      "execution_count": null,
      "id": "b05d9f11",
      "metadata": {
        "id": "b05d9f11",
        "outputId": "bd661221-baf6-4416-ff47-c6708d31af85"
      },
      "outputs": [
        {
          "name": "stdout",
          "output_type": "stream",
          "text": [
            "['cats', 'octopi', 'emus']\n"
          ]
        }
      ],
      "source": [
        "print(list(life['animals'].keys()))"
      ]
    },
    {
      "cell_type": "markdown",
      "id": "8dfc03a8",
      "metadata": {
        "id": "8dfc03a8"
      },
      "source": [
        "#### 16. Print the values for life['animals']['cats']"
      ]
    },
    {
      "cell_type": "code",
      "execution_count": null,
      "id": "8a2b4b95",
      "metadata": {
        "id": "8a2b4b95",
        "outputId": "6db48671-07c2-456f-a2cc-1c7502ff82ba"
      },
      "outputs": [
        {
          "name": "stdout",
          "output_type": "stream",
          "text": [
            "['Henri', 'Grumpy', 'Lucy']\n"
          ]
        }
      ],
      "source": [
        "print(life['animals']['cats'])"
      ]
    }
  ],
  "metadata": {
    "kernelspec": {
      "display_name": "Python 3 (ipykernel)",
      "language": "python",
      "name": "python3"
    },
    "language_info": {
      "codemirror_mode": {
        "name": "ipython",
        "version": 3
      },
      "file_extension": ".py",
      "mimetype": "text/x-python",
      "name": "python",
      "nbconvert_exporter": "python",
      "pygments_lexer": "ipython3",
      "version": "3.8.8"
    },
    "colab": {
      "provenance": []
    }
  },
  "nbformat": 4,
  "nbformat_minor": 5
}