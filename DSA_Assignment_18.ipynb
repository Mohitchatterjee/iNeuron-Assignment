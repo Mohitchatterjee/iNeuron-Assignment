{
  "nbformat": 4,
  "nbformat_minor": 0,
  "metadata": {
    "colab": {
      "provenance": [],
      "authorship_tag": "ABX9TyMEnFvT/ET5i7iEFH4br9DR",
      "include_colab_link": true
    },
    "kernelspec": {
      "name": "python3",
      "display_name": "Python 3"
    },
    "language_info": {
      "name": "python"
    }
  },
  "cells": [
    {
      "cell_type": "markdown",
      "metadata": {
        "id": "view-in-github",
        "colab_type": "text"
      },
      "source": [
        "<a href=\"https://colab.research.google.com/github/Mohitchatterjee/iNeuron-Assignment/blob/main/DSA_Assignment_18.ipynb\" target=\"_parent\"><img src=\"https://colab.research.google.com/assets/colab-badge.svg\" alt=\"Open In Colab\"/></a>"
      ]
    },
    {
      "cell_type": "markdown",
      "source": [
        "<aside>\n",
        "💡 1. **Merge Intervals**\n",
        "\n",
        "Given an array of `intervals` where `intervals[i] = [starti, endi]`, merge all overlapping intervals, and return *an array of the non-overlapping intervals that cover all the intervals in the input*.\n",
        "\n",
        "</aside>"
      ],
      "metadata": {
        "id": "5juA7MEa88Rn"
      }
    },
    {
      "cell_type": "code",
      "source": [
        "def merge_intervals(intervals):\n",
        "    if not intervals:\n",
        "        return []\n",
        "\n",
        "    intervals.sort(key=lambda x: x[0])\n",
        "    result = [intervals[0]]\n",
        "\n",
        "    for interval in intervals[1:]:\n",
        "        if interval[0] <= result[-1][1]:\n",
        "            result[-1][1] = max(result[-1][1], interval[1])\n",
        "        else:\n",
        "            result.append(interval)\n",
        "\n",
        "    return result\n",
        "\n",
        "\n",
        "intervals = [[1,3],[2,6],[8,10],[15,18]]\n",
        "merged = merge_intervals(intervals)\n",
        "print(merged)"
      ],
      "metadata": {
        "colab": {
          "base_uri": "https://localhost:8080/"
        },
        "id": "S5RHLAEV87i3",
        "outputId": "77748264-bbe6-4fdf-bd95-bd19a1832b9e"
      },
      "execution_count": 1,
      "outputs": [
        {
          "output_type": "stream",
          "name": "stdout",
          "text": [
            "[[1, 6], [8, 10], [15, 18]]\n"
          ]
        }
      ]
    },
    {
      "cell_type": "markdown",
      "source": [
        "<aside>\n",
        "💡 2. **Sort Colors**\n",
        "\n",
        "Given an array `nums` with `n` objects colored red, white, or blue, sort them **[in-place](https://en.wikipedia.org/wiki/In-place_algorithm)** so that objects of the same color are adjacent, with the colors in the order red, white, and blue.\n",
        "\n",
        "We will use the integers `0`, `1`, and `2` to represent the color red, white, and blue, respectively.\n",
        "\n",
        "You must solve this problem without using the library's sort function.\n",
        "\n",
        "</aside>"
      ],
      "metadata": {
        "id": "mgjWdzBQ9MRW"
      }
    },
    {
      "cell_type": "code",
      "source": [
        "def sort_colors(nums):\n",
        "    low = 0\n",
        "    mid = 0\n",
        "    high = len(nums) - 1\n",
        "\n",
        "    while mid <= high:\n",
        "        if nums[mid] == 0:\n",
        "            nums[mid], nums[low] = nums[low], nums[mid]\n",
        "            low += 1\n",
        "            mid += 1\n",
        "        elif nums[mid] == 1:\n",
        "            mid += 1\n",
        "        else:\n",
        "            nums[mid], nums[high] = nums[high], nums[mid]\n",
        "            high -= 1\n",
        "\n",
        "    return nums\n",
        "\n",
        "\n",
        "nums = [2,0,2,1,1,0]\n",
        "sorted_colors = sort_colors(nums)\n",
        "print(sorted_colors)\n"
      ],
      "metadata": {
        "colab": {
          "base_uri": "https://localhost:8080/"
        },
        "id": "GXegsCpv9Kvz",
        "outputId": "4755473b-7a5e-43d0-a4fb-cad6d0d80f12"
      },
      "execution_count": 2,
      "outputs": [
        {
          "output_type": "stream",
          "name": "stdout",
          "text": [
            "[0, 0, 1, 1, 2, 2]\n"
          ]
        }
      ]
    },
    {
      "cell_type": "markdown",
      "source": [
        "<aside>\n",
        "💡 4. **Maximum Gap**\n",
        "\n",
        "Given an integer array `nums`, return *the maximum difference between two successive elements in its sorted form*. If the array contains less than two elements, return `0`.\n",
        "\n",
        "You must write an algorithm that runs in linear time and uses linear extra space.\n",
        "\n",
        "</aside>"
      ],
      "metadata": {
        "id": "75fW2hz7-ryH"
      }
    },
    {
      "cell_type": "code",
      "source": [
        "def maximum_gap(nums):\n",
        "    if len(nums) < 2:\n",
        "        return 0\n",
        "\n",
        "    # Find the maximum element in the array\n",
        "    max_num = max(nums)\n",
        "\n",
        "    # Perform radix sort\n",
        "    exp = 1\n",
        "    n = len(nums)\n",
        "    sorted_nums = nums[:]\n",
        "\n",
        "    while max_num // exp > 0:\n",
        "        count = [0] * 10\n",
        "\n",
        "        # Count the occurrences of each digit\n",
        "        for i in range(n):\n",
        "            digit = (nums[i] // exp) % 10\n",
        "            count[digit] += 1\n",
        "\n",
        "        # Compute the cumulative count\n",
        "        for i in range(1, 10):\n",
        "            count[i] += count[i - 1]\n",
        "\n",
        "        # Build the sorted array\n",
        "        for i in range(n - 1, -1, -1):\n",
        "            digit = (nums[i] // exp) % 10\n",
        "            sorted_nums[count[digit] - 1] = nums[i]\n",
        "            count[digit] -= 1\n",
        "\n",
        "        # Update the array for the next iteration\n",
        "        nums = sorted_nums[:]\n",
        "        exp *= 10\n",
        "\n",
        "    # Compute the maximum gap\n",
        "    max_gap = 0\n",
        "    for i in range(1, n):\n",
        "        max_gap = max(max_gap, nums[i] - nums[i - 1])\n",
        "\n",
        "    return max_gap\n",
        "\n",
        "\n",
        "\n",
        "print(maximum_gap(nums = [3,6,9,1]))"
      ],
      "metadata": {
        "colab": {
          "base_uri": "https://localhost:8080/"
        },
        "id": "7WnXBK_5-xGG",
        "outputId": "7fdc34e3-2cfe-44d7-e7a3-2091388e902c"
      },
      "execution_count": 3,
      "outputs": [
        {
          "output_type": "stream",
          "name": "stdout",
          "text": [
            "3\n"
          ]
        }
      ]
    },
    {
      "cell_type": "markdown",
      "source": [
        "<aside>\n",
        "💡 5. **Contains Duplicate**\n",
        "\n",
        "Given an integer array `nums`, return `true` if any value appears **at least twice** in the array, and return `false` if every element is distinct.\n",
        "\n",
        "</aside>"
      ],
      "metadata": {
        "id": "MbI89d0h_oQ_"
      }
    },
    {
      "cell_type": "code",
      "source": [
        "def contains_duplicate(nums):\n",
        "    seen = set()\n",
        "\n",
        "    for num in nums:\n",
        "        if num in seen:\n",
        "            return True\n",
        "        seen.add(num)\n",
        "\n",
        "    return False\n",
        "\n",
        "\n",
        "nums = [1,2,3,1]\n",
        "contains_dup = contains_duplicate(nums)\n",
        "print(contains_dup)\n",
        "\n"
      ],
      "metadata": {
        "colab": {
          "base_uri": "https://localhost:8080/"
        },
        "id": "MjoLY6N6_mfe",
        "outputId": "17bb69e1-07e9-4509-d8e8-c1f45bd224a7"
      },
      "execution_count": 4,
      "outputs": [
        {
          "output_type": "stream",
          "name": "stdout",
          "text": [
            "True\n"
          ]
        }
      ]
    },
    {
      "cell_type": "markdown",
      "source": [
        "<aside>\n",
        "💡 6. **Minimum Number of Arrows to Burst Balloons**\n",
        "\n",
        "There are some spherical balloons taped onto a flat wall that represents the XY-plane. The balloons are represented as a 2D integer array `points` where `points[i] = [xstart, xend]` denotes a balloon whose **horizontal diameter** stretches between `xstart` and `xend`. You do not know the exact y-coordinates of the balloons.\n",
        "\n",
        "Arrows can be shot up **directly vertically** (in the positive y-direction) from different points along the x-axis. A balloon with `xstart` and `xend` is **burst** by an arrow shot at `x` if `xstart <= x <= xend`. There is **no limit** to the number of arrows that can be shot. A shot arrow keeps traveling up infinitely, bursting any balloons in its path.\n",
        "\n",
        "Given the array `points`, return *the **minimum** number of arrows that must be shot to burst all balloons*.\n",
        "\n",
        "</aside>"
      ],
      "metadata": {
        "id": "dr7bLcBOADUa"
      }
    },
    {
      "cell_type": "code",
      "source": [
        "def find_min_arrows(points):\n",
        "    if not points:\n",
        "        return 0\n",
        "\n",
        "\n",
        "    points.sort(key=lambda x: x[1])\n",
        "\n",
        "    arrows = 1\n",
        "    prev_end = points[0][1]\n",
        "\n",
        "    for i in range(1, len(points)):\n",
        "        start, end = points[i]\n",
        "\n",
        "\n",
        "        if start > prev_end:\n",
        "            arrows += 1\n",
        "            prev_end = end\n",
        "\n",
        "    return arrows\n",
        "\n",
        "\n",
        "points = [[10, 16], [2, 8], [1, 6], [7, 12]]\n",
        "min_arrows = find_min_arrows(points)\n",
        "print(min_arrows)\n",
        "\n",
        "\n"
      ],
      "metadata": {
        "colab": {
          "base_uri": "https://localhost:8080/"
        },
        "id": "wQfb3Z8f_311",
        "outputId": "fcf13fc1-7bd2-4b06-e9b5-8cd4650f44ba"
      },
      "execution_count": 6,
      "outputs": [
        {
          "output_type": "stream",
          "name": "stdout",
          "text": [
            "2\n"
          ]
        }
      ]
    },
    {
      "cell_type": "markdown",
      "source": [
        "<aside>\n",
        "💡 7. **Longest Increasing Subsequence**\n",
        "\n",
        "Given an integer array `nums`, return *the length of the longest **strictly increasing***\n",
        "\n",
        "***subsequence***\n",
        "\n",
        "</aside>"
      ],
      "metadata": {
        "id": "tHrtKDz3AeRg"
      }
    },
    {
      "cell_type": "code",
      "source": [
        "def longest_increasing_subsequence(nums):\n",
        "    if not nums:\n",
        "        return 0\n",
        "\n",
        "    n = len(nums)\n",
        "    dp = [1] * n\n",
        "\n",
        "    for i in range(1, n):\n",
        "        for j in range(i):\n",
        "            if nums[i] > nums[j]:\n",
        "                dp[i] = max(dp[i], dp[j] + 1)\n",
        "\n",
        "    return max(dp)\n",
        "\n",
        "\n",
        "nums = [10,9,2,5,3,7,101,18]\n",
        "length = longest_increasing_subsequence(nums)\n",
        "print(length)"
      ],
      "metadata": {
        "colab": {
          "base_uri": "https://localhost:8080/"
        },
        "id": "iN6zbQm2ASEp",
        "outputId": "7139d9df-241b-49c1-c243-949330e06593"
      },
      "execution_count": 7,
      "outputs": [
        {
          "output_type": "stream",
          "name": "stdout",
          "text": [
            "4\n"
          ]
        }
      ]
    },
    {
      "cell_type": "markdown",
      "source": [
        "<aside>\n",
        "💡 8. **132 Pattern**\n",
        "\n",
        "Given an array of `n` integers `nums`, a **132 pattern** is a subsequence of three integers `nums[i]`, `nums[j]` and `nums[k]` such that `i < j < k` and `nums[i] < nums[k] < nums[j]`.\n",
        "\n",
        "Return `true` *if there is a **132 pattern** in* `nums`*, otherwise, return* `false`*.*\n",
        "\n",
        "</aside>"
      ],
      "metadata": {
        "id": "WokCAS97A4Fn"
      }
    },
    {
      "cell_type": "code",
      "source": [
        "def find132pattern(nums):\n",
        "    n = len(nums)\n",
        "    stack = []\n",
        "\n",
        "    max_k = float('-inf')\n",
        "\n",
        "    for i in range(n - 1, -1, -1):\n",
        "        if nums[i] < max_k:\n",
        "            return True\n",
        "        while stack and nums[i] > stack[-1]:\n",
        "            max_k = stack.pop()\n",
        "        stack.append(nums[i])\n",
        "\n",
        "    return False\n",
        "\n",
        "\n",
        "nums = [1, 2, 3, 4]\n",
        "pattern_found = find132pattern(nums)\n",
        "print(pattern_found)"
      ],
      "metadata": {
        "colab": {
          "base_uri": "https://localhost:8080/"
        },
        "id": "KUbd34v5A2mz",
        "outputId": "63d8acf0-fadb-4f54-9b1c-fe018fc1a8b3"
      },
      "execution_count": 8,
      "outputs": [
        {
          "output_type": "stream",
          "name": "stdout",
          "text": [
            "False\n"
          ]
        }
      ]
    },
    {
      "cell_type": "code",
      "source": [],
      "metadata": {
        "id": "ckHZnI7ACPOh"
      },
      "execution_count": null,
      "outputs": []
    }
  ]
}