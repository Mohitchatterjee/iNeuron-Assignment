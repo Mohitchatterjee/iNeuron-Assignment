{
  "nbformat": 4,
  "nbformat_minor": 0,
  "metadata": {
    "colab": {
      "provenance": [],
      "authorship_tag": "ABX9TyOVScPrgv7M1fWEiTwna/Yw",
      "include_colab_link": true
    },
    "kernelspec": {
      "name": "python3",
      "display_name": "Python 3"
    },
    "language_info": {
      "name": "python"
    }
  },
  "cells": [
    {
      "cell_type": "markdown",
      "metadata": {
        "id": "view-in-github",
        "colab_type": "text"
      },
      "source": [
        "<a href=\"https://colab.research.google.com/github/Mohitchatterjee/iNeuron-Assignment/blob/main/Assignment3%20(PPT).ipynb\" target=\"_parent\"><img src=\"https://colab.research.google.com/assets/colab-badge.svg\" alt=\"Open In Colab\"/></a>"
      ]
    },
    {
      "cell_type": "markdown",
      "source": [
        "#Mohit Chatterjee Assignment 3 (PPT)\n"
      ],
      "metadata": {
        "id": "qyyYLwOnxdFH"
      }
    },
    {
      "cell_type": "markdown",
      "source": [
        "Question 1\n",
        "Given an integer array nums of length n and an integer target, find three integers\n",
        "in nums such that the sum is closest to the target.\n",
        "Return the sum of the three integers.\n",
        "\n",
        "You may assume that each input would have exactly one solution.\n",
        "\n",
        "Example 1:\n",
        "Input: nums = [-1,2,1,-4], target = 1\n",
        "Output: 2\n",
        "\n",
        "Explanation: The sum that is closest to the target is 2. (-1 + 2 + 1 = 2)."
      ],
      "metadata": {
        "id": "5EhkRiPX0Oah"
      }
    },
    {
      "cell_type": "code",
      "source": [
        "def threeSumClosest(nums, target):\n",
        "    nums.sort()\n",
        "    n = len(nums)\n",
        "    closest = nums[0] + nums[1] + nums[n - 1]\n",
        "    for i in range(0, n - 2):\n",
        "        j = i + 1\n",
        "        k = n - 1\n",
        "        while j < k:\n",
        "            current_sum = nums[i] + nums[j] + nums[k]\n",
        "            if current_sum <= target:j += 1\n",
        "            else: k -= 1\n",
        "            if abs(closest - target) > abs(current_sum - target): closest = current_sum\n",
        "    return closest"
      ],
      "metadata": {
        "id": "lzCrDB8KyB8I"
      },
      "execution_count": null,
      "outputs": []
    },
    {
      "cell_type": "code",
      "source": [
        "print(threeSumClosest([-1,2,1,-4],1))\n",
        "print('Time Complexity O(n^2)')\n",
        "print(\"Space Complexity O(1)\")"
      ],
      "metadata": {
        "colab": {
          "base_uri": "https://localhost:8080/"
        },
        "id": "YfGocKqtySbm",
        "outputId": "46126aa1-5279-4345-8977-907545592986"
      },
      "execution_count": null,
      "outputs": [
        {
          "output_type": "stream",
          "name": "stdout",
          "text": [
            "2\n",
            "Time Complexity O(n^2)\n",
            "Space Complexity O(1)\n"
          ]
        }
      ]
    },
    {
      "cell_type": "markdown",
      "source": [
        "Question 2\n",
        "Given an array nums of n integers, return an array of all the unique quadruplets\n",
        "[nums[a], nums[b], nums[c], nums[d]] such that:\n",
        "           ● 0 <= a, b, c, d < n\n",
        "           ● a, b, c, and d are distinct.\n",
        "           ● nums[a] + nums[b] + nums[c] + nums[d] == target\n",
        "\n",
        "You may return the answer in any order.\n",
        "\n",
        "Example 1:\n",
        "Input: nums = [1,0,-1,0,-2,2], target = 0\n",
        "Output: [[-2,-1,1,2],[-2,0,0,2],[-1,0,0,1]]"
      ],
      "metadata": {
        "id": "n92Rw1vh0Ucn"
      }
    },
    {
      "cell_type": "code",
      "source": [
        "def fourSum(nums, target):\n",
        "    emptyList = list()\n",
        "    if nums is None or len(nums) < 4: return emptyList\n",
        "    nums.sort()\n",
        "   \n",
        "    n = len(nums)\n",
        "    \n",
        "    for i in range(0, n - 3):\n",
        "       \n",
        "        if i > 0 and nums[i] == nums[i - 1]:\n",
        "            continue\n",
        " \n",
        "        for j in range(i + 1, n - 2):\n",
        "            \n",
        "            if j != i + 1 and nums[j] == nums[j - 1]:\n",
        "                continue\n",
        "            \n",
        "            k = j + 1\n",
        "            l = n - 1\n",
        "            \n",
        "            while k < l:\n",
        "                current_sum = nums[i] + nums[j] + nums[k] + nums[l]\n",
        "                if current_sum < target:\n",
        "                    k += 1\n",
        "                elif current_sum > target:\n",
        "                    l -= 1\n",
        "                else:\n",
        "                    emptyList.append([nums[i], nums[j], nums[k], nums[l]])\n",
        "                    k += 1\n",
        "                    l -= 1\n",
        "                    while k < l and nums[k] == nums[k - 1]:\n",
        "                        k += 1\n",
        "                    while k < l and nums[l] == nums[l + 1]:\n",
        "                        l -= 1\n",
        "    return emptyList"
      ],
      "metadata": {
        "id": "ocgABXnZzKnN"
      },
      "execution_count": null,
      "outputs": []
    },
    {
      "cell_type": "code",
      "source": [
        "print(fourSum([1,0,-1,0,-2,2],0))\n",
        "print('Time Complexity O(nlogn)')\n",
        "print(\"Space Complexity O(1)\")"
      ],
      "metadata": {
        "colab": {
          "base_uri": "https://localhost:8080/"
        },
        "id": "S8ti9Bmg1NPq",
        "outputId": "6efc0859-1490-4dde-f525-fd35dc2ab0bd"
      },
      "execution_count": null,
      "outputs": [
        {
          "output_type": "stream",
          "name": "stdout",
          "text": [
            "[[-2, -1, 1, 2], [-2, 0, 0, 2], [-1, 0, 0, 1]]\n",
            "Time Complexity O(nlogn)\n",
            "Space Complexity O(1)\n"
          ]
        }
      ]
    },
    {
      "cell_type": "markdown",
      "source": [
        "<aside>Question 3\n",
        "A permutation of an array of integers is an arrangement of its members into a\n",
        "sequence or linear order.\n",
        "\n",
        "For example, for arr = [1,2,3], the following are all the permutations of arr:\n",
        "[1,2,3], [1,3,2], [2, 1, 3], [2, 3, 1], [3,1,2], [3,2,1].\n",
        "\n",
        "The next permutation of an array of integers is the next lexicographically greater\n",
        "permutation of its integer. More formally, if all the permutations of the array are\n",
        "sorted in one container according to their lexicographical order, then the next\n",
        "permutation of that array is the permutation that follows it in the sorted container.\n",
        "\n",
        "If such an arrangement is not possible, the array must be rearranged as the\n",
        "lowest possible order (i.e., sorted in ascending order).\n",
        "\n",
        "● For example, the next permutation of arr = [1,2,3] is [1,3,2].\n",
        "● Similarly, the next permutation of arr = [2,3,1] is [3,1,2].\n",
        "● While the next permutation of arr = [3,2,1] is [1,2,3] because [3,2,1] does not\n",
        "have a lexicographical larger rearrangement.\n",
        "\n",
        "Given an array of integers nums, find the next permutation of nums.\n",
        "The replacement must be in place and use only constant extra memory.\n",
        "\n",
        "**Example 1:**\n",
        "Input: nums = [1,2,3]\n",
        "Output: [1,3,2]\n",
        "\n",
        "</aside>"
      ],
      "metadata": {
        "id": "nXLwA4-Z1w_v"
      }
    },
    {
      "cell_type": "code",
      "source": [
        "def swapPositions(list, pos1, pos2):\n",
        "    list[pos1], list[pos2] = list[pos2], list[pos1]\n",
        "    return list\n",
        "def nextPermutation(arr):\n",
        "    n = len(arr)\n",
        "    i = 0\n",
        "    j = 0\n",
        "    for i in range(n-2, -1, -1):\n",
        "        if (arr[i] < arr[i + 1]):break\n",
        "    if (i < 0):\n",
        "        arr.reverse()\n",
        " \n",
        "    \n",
        "    else:       \n",
        "        for j in range(n-1, i, -1):\n",
        "            if (arr[j] > arr[i]):break\n",
        "\n",
        "        swapPositions(arr, i, j)\n",
        "        strt, end = i+1, len(arr)\n",
        "        arr[strt:end] = arr[strt:end][::-1]\n",
        "    return arr"
      ],
      "metadata": {
        "id": "3T67d3vh1bQa"
      },
      "execution_count": 55,
      "outputs": []
    },
    {
      "cell_type": "code",
      "source": [
        "print(nextPermutation([1,2,3]))\n",
        "print('Time Complexity O(n)')\n",
        "print(\"Space Complexity O(1)\")"
      ],
      "metadata": {
        "colab": {
          "base_uri": "https://localhost:8080/"
        },
        "id": "YDTiU8lQ2WK5",
        "outputId": "8b76dc1c-1c6f-497d-8b50-99c5f857cf84"
      },
      "execution_count": 56,
      "outputs": [
        {
          "output_type": "stream",
          "name": "stdout",
          "text": [
            "[1, 3, 2]\n",
            "Time Complexity O(n)\n",
            "Space Complexity O(1)\n"
          ]
        }
      ]
    },
    {
      "cell_type": "markdown",
      "source": [
        "Question 4\n",
        "Given a sorted array of distinct integers and a target value, return the index if the\n",
        "target is found. If not, return the index where it would be if it were inserted in\n",
        "order.\n",
        "\n",
        "You must write an algorithm with O(log n) runtime complexity.\n",
        "\n",
        "Example 1:\n",
        "Input: nums = [1,3,5,6], target = 5\n",
        "Output: 2"
      ],
      "metadata": {
        "id": "EMA08QTw3I-E"
      }
    },
    {
      "cell_type": "code",
      "source": [
        "def find_index(arr, K):\n",
        "    arr.sort()\n",
        "    for i in range(len(arr)):\n",
        "        if arr[i] == K:return i\n",
        "        elif arr[i] > K: return i\n",
        "    return len(arr)\n",
        "\n",
        "\n",
        "print(find_index([1,3,5,6], 5))\n",
        "print('Time Complexity O(logn)')\n",
        "print(\"Space Complexity O(1)\")"
      ],
      "metadata": {
        "colab": {
          "base_uri": "https://localhost:8080/"
        },
        "id": "-RNs3_e92bXm",
        "outputId": "affdbf0c-9cfb-4e92-80e7-e68dcd6b3832"
      },
      "execution_count": null,
      "outputs": [
        {
          "output_type": "stream",
          "name": "stdout",
          "text": [
            "2\n",
            "Time Complexity O(logn)\n",
            "Space Complexity O(1)\n"
          ]
        }
      ]
    },
    {
      "cell_type": "markdown",
      "source": [
        "<aside>\n",
        "Question 5 \n",
        "You are given a large integer represented as an integer array digits, where each\n",
        "digits[i] is the ith digit of the integer. The digits are ordered from most significant\n",
        "to least significant in left-to-right order. The large integer does not contain any\n",
        "leading 0's.\n",
        "\n",
        "Increment the large integer by one and return the resulting array of digits.\n",
        "\n",
        "**Example 1:**\n",
        "Input: digits = [1,2,3]\n",
        "Output: [1,2,4]\n",
        "\n",
        "**Explanation:** The array represents the integer 123.\n",
        "Incrementing by one gives 123 + 1 = 124.\n",
        "Thus, the result should be [1,2,4].\n",
        "\n",
        "</aside>"
      ],
      "metadata": {
        "id": "VGSyUoKj4aWK"
      }
    },
    {
      "cell_type": "code",
      "source": [
        "def incrementArr(digits):\n",
        "    index = len(digits) - 1\n",
        "    while (index >= 0 and digits[index] == 9):\n",
        "        digits[index] = 0\n",
        "        index -= 1\n",
        "    if (index < 0): digits.insert(0, 1)\n",
        "    else:digits[index]+=1\n",
        "\n",
        "    return digits"
      ],
      "metadata": {
        "id": "W5ZJ8kNB3nel"
      },
      "execution_count": null,
      "outputs": []
    },
    {
      "cell_type": "code",
      "source": [
        "print(incrementArr([1,2,3]))\n",
        "print('Time Complexity O(n)')\n",
        "print(\"Space Complexity O(1)\")"
      ],
      "metadata": {
        "colab": {
          "base_uri": "https://localhost:8080/"
        },
        "id": "5XKusw1D5N4e",
        "outputId": "6a6ead6f-9a0a-452e-fcf3-6fd25548de16"
      },
      "execution_count": null,
      "outputs": [
        {
          "output_type": "stream",
          "name": "stdout",
          "text": [
            "[1, 2, 4]\n",
            "Time Complexity O(n)\n",
            "Space Complexity O(1)\n"
          ]
        }
      ]
    },
    {
      "cell_type": "markdown",
      "source": [
        "Question 6\n",
        "Given a non-empty array of integers nums, every element appears twice except\n",
        "for one. Find that single one.\n",
        "\n",
        "You must implement a solution with a linear runtime complexity and use only\n",
        "constant extra space.\n",
        "\n",
        "Example 1:\n",
        "Input: nums = [2,2,1]\n",
        "Output: 1"
      ],
      "metadata": {
        "id": "UwLh-gcg6Eiw"
      }
    },
    {
      "cell_type": "code",
      "source": [
        "def singleNumber(nums):\n",
        "        dict = {} \n",
        "\n",
        "        for i in nums:\n",
        "            if i not in dict:  dict[i] = True  \n",
        "            else: dict[i] = False         \n",
        "        for key, val in dict.items():\n",
        "            if val == True: \n",
        "                return key  "
      ],
      "metadata": {
        "id": "bvjo-kQc5Tvx"
      },
      "execution_count": null,
      "outputs": []
    },
    {
      "cell_type": "code",
      "source": [
        "print(singleNumber([2,2,1]))\n",
        "print('Time Complexity O(n)')\n",
        "print(\"Space Complexity O(1)\")"
      ],
      "metadata": {
        "colab": {
          "base_uri": "https://localhost:8080/"
        },
        "id": "m_hpayIQ67nR",
        "outputId": "9deb4d64-afa9-45ba-d6a1-4db220031170"
      },
      "execution_count": null,
      "outputs": [
        {
          "output_type": "stream",
          "name": "stdout",
          "text": [
            "1\n",
            "Time Complexity O(n)\n",
            "Space Complexity O(1)\n"
          ]
        }
      ]
    },
    {
      "cell_type": "markdown",
      "source": [
        "Question 7\n",
        "You are given an inclusive range [lower, upper] and a sorted unique integer array\n",
        "nums, where all elements are within the inclusive range.\n",
        "\n",
        "A number x is considered missing if x is in the range [lower, upper] and x is not in\n",
        "nums.\n",
        "\n",
        "Return the shortest sorted list of ranges that exactly covers all the missing\n",
        "numbers. That is, no element of nums is included in any of the ranges, and each\n",
        "missing number is covered by one of the ranges.\n",
        "\n",
        "Example 1:\n",
        "Input: nums = [0,1,3,50,75], lower = 0, upper = 99\n",
        "Output: [[2,2],[4,49],[51,74],[76,99]]\n",
        "\n",
        "Explanation: The ranges are:\n",
        "[2,2]\n",
        "[4,49]\n",
        "[51,74]\n",
        "[76,99]v"
      ],
      "metadata": {
        "id": "AvMX9DqG7Ur1"
      }
    },
    {
      "cell_type": "code",
      "source": [
        "import itertools\n",
        "def findMissingRanges(nums, lower, upper):\n",
        "        def f(a, b):\n",
        "            return str(a) if a == b else f'{a}->{b}'\n",
        "\n",
        "        n = len(nums)\n",
        "        if n == 0:\n",
        "            return [f(lower, upper)]\n",
        "        ans = []\n",
        "        if nums[0] > lower:\n",
        "            ans.append(f(lower, nums[0] - 1))\n",
        "        for a, b in itertools.pairwise(nums):\n",
        "            if b - a > 1:\n",
        "                ans.append(f(a + 1, b - 1))\n",
        "        if nums[-1] < upper:\n",
        "            ans.append(f(nums[-1] + 1, upper))\n",
        "        return ans\n"
      ],
      "metadata": {
        "id": "UAztKDXi7G_-"
      },
      "execution_count": 42,
      "outputs": []
    },
    {
      "cell_type": "code",
      "source": [
        "print(findMissingRanges([0,1,3,50,75],0,99))\n",
        "print('Time Complexity O(n)')\n",
        "print(\"Space Complexity O(1)\")"
      ],
      "metadata": {
        "colab": {
          "base_uri": "https://localhost:8080/"
        },
        "id": "4G9n8Qbt780Y",
        "outputId": "15d92684-efdd-4a40-b037-aec0c5474899"
      },
      "execution_count": 44,
      "outputs": [
        {
          "output_type": "stream",
          "name": "stdout",
          "text": [
            "['2', '4->49', '51->74', '76->99']\n",
            "Time Complexity O(n)\n",
            "Space Complexity O(1)\n"
          ]
        }
      ]
    },
    {
      "cell_type": "markdown",
      "source": [
        "Question 8\n",
        "Given an array of meeting time intervals where intervals[i] = [starti, endi],\n",
        "determine if a person could attend all meetings.\n",
        "\n",
        "Example 1:\n",
        "Input: intervals = [[0,30],[5,10],[15,20]]\n",
        "Output: false"
      ],
      "metadata": {
        "id": "FGpdgcvR-eCT"
      }
    },
    {
      "cell_type": "code",
      "source": [
        "def isMeetingsTime(intervals):\n",
        "    intervals.sort(key=lambda x: x[0]) \n",
        "    n = len(intervals)\n",
        "    for i in range(1, n):\n",
        "        if intervals[i][0] < intervals[i-1][1]:\n",
        "            return False  \n",
        "    return True"
      ],
      "metadata": {
        "id": "8GcoP_Ix8LRC"
      },
      "execution_count": 49,
      "outputs": []
    },
    {
      "cell_type": "code",
      "source": [
        "print(isMeetingsTime([[0,30],[5,10],[15,20]]))\n",
        "print('Time Complexity O(n)')\n",
        "print(\"Space Complexity O(1)\")"
      ],
      "metadata": {
        "colab": {
          "base_uri": "https://localhost:8080/"
        },
        "id": "pZDi01ky-9mc",
        "outputId": "a85e547e-35aa-458d-bff2-d11a15fc458d"
      },
      "execution_count": 51,
      "outputs": [
        {
          "output_type": "stream",
          "name": "stdout",
          "text": [
            "False\n",
            "Time Complexity O(n)\n",
            "Space Complexity O(1)\n"
          ]
        }
      ]
    },
    {
      "cell_type": "code",
      "source": [],
      "metadata": {
        "id": "kcO9Y3r1_B6I"
      },
      "execution_count": null,
      "outputs": []
    }
  ]
}